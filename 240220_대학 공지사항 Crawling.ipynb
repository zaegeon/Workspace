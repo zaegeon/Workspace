{
 "cells": [
  {
   "cell_type": "markdown",
   "id": "18c0cd77-dfc2-42d9-94bb-836ac37ea003",
   "metadata": {},
   "source": [
    "# Imports"
   ]
  },
  {
   "cell_type": "code",
   "execution_count": 162,
   "id": "db380473-91fb-42d5-a399-345c4ff9f337",
   "metadata": {},
   "outputs": [],
   "source": [
    "import requests\n",
    "from bs4 import BeautifulSoup\n",
    "import urllib3\n",
    "import datetime\n",
    "import os\n",
    "import numpy as np\n",
    "import pandas as pd\n",
    "# pip install openpyxl\n",
    "import openpyxl"
   ]
  },
  {
   "cell_type": "code",
   "execution_count": 163,
   "id": "ed877fc1-8167-4986-a940-23eb8f1f984f",
   "metadata": {},
   "outputs": [],
   "source": [
    "# 경고 무시\n",
    "import warnings\n",
    "warnings.filterwarnings('ignore')"
   ]
  },
  {
   "cell_type": "markdown",
   "id": "25430bcf-18b1-454f-a4f3-8d5fa89b2fd3",
   "metadata": {},
   "source": [
    "# Excel File Settings"
   ]
  },
  {
   "cell_type": "code",
   "execution_count": null,
   "id": "d841f270-1d5d-49e2-89ae-48360af6f885",
   "metadata": {},
   "outputs": [],
   "source": [
    "# 1차 대학 Excel File\n",
    "excel_file = openpyxl.Workbook()\n",
    "excel_sheet = excel_file.active\n",
    "excel_sheet.append(['대학명', '정시 공지 링크', '수집일시', '전체공지_1', '업로드일', '전체공지_2', '업로드일', '정시공지_1', '업로드일', '정시공지_2', '업로드일'])"
   ]
  },
  {
   "cell_type": "code",
   "execution_count": 164,
   "id": "c69bcc45-a0f2-4d33-b739-e5c5db831baa",
   "metadata": {},
   "outputs": [],
   "source": [
    "# 2차 대학 Excel File\n",
    "excel_file2 = openpyxl.Workbook()\n",
    "excel_sheet2 = excel_file2.active\n",
    "excel_sheet2.append(['대학명', '정시 공지 링크', '수집일시', '전체공지_1', '업로드일', '전체공지_2', '업로드일', '정시공지_1', '업로드일', '정시공지_2', '업로드일'])"
   ]
  },
  {
   "cell_type": "markdown",
   "id": "706702d2-fecd-4d7e-94da-31e62dc1fb46",
   "metadata": {},
   "source": [
    "# Selenium\n",
    "\n",
    "- XPATH 사용 시 : index가 자주 바뀌는 곳, 동적 페이지, URL이 바뀌지 않는 케이스 등 크롤링 변수가 어느 정도 방어됨\n",
    "- XPATH 결과 Error → EC(expected_conditions)로 시간 조건을 걸어주면 해결됨"
   ]
  },
  {
   "cell_type": "code",
   "execution_count": 165,
   "id": "869c841d-2f59-4e7b-a9f2-7e8cc0300f50",
   "metadata": {},
   "outputs": [],
   "source": [
    "# pip install selenium"
   ]
  },
  {
   "cell_type": "code",
   "execution_count": 166,
   "id": "cda1331f-f01e-4626-94b9-64dcadee2d66",
   "metadata": {},
   "outputs": [],
   "source": [
    "# pip install tqdm"
   ]
  },
  {
   "cell_type": "code",
   "execution_count": 167,
   "id": "2a7930a0-de00-465c-85b7-beb8ba8e88b1",
   "metadata": {},
   "outputs": [],
   "source": [
    "# 페이지 로딩 대기 코드\n",
    "\n",
    "from selenium.webdriver.support.ui import WebDriverWait\n",
    "from selenium.webdriver.support import expected_conditions as EC"
   ]
  },
  {
   "cell_type": "markdown",
   "id": "5f8c0f42-8e88-495b-a9da-3e23612a6502",
   "metadata": {},
   "source": [
    "## Imports - selenium"
   ]
  },
  {
   "cell_type": "code",
   "execution_count": 168,
   "id": "cfca40a6-8c5a-49af-bac5-0802bf50c8ce",
   "metadata": {},
   "outputs": [],
   "source": [
    "import selenium\n",
    "from selenium import webdriver\n",
    "from selenium.webdriver.common.keys import Keys\n",
    "import time\n",
    "from urllib import parse\n",
    "from selenium.webdriver.common.by import By\n",
    "from selenium.webdriver.chrome.options import Options\n",
    "from selenium.webdriver.chrome.service import Service\n",
    "from selenium.webdriver.support.ui import Select\n",
    "from webdriver_manager.chrome import ChromeDriverManager\n",
    "import random as rd\n",
    "from tqdm.notebook import tqdm\n",
    "from urllib.parse import quote_plus"
   ]
  },
  {
   "cell_type": "code",
   "execution_count": 169,
   "id": "20a99bc6-d471-4d0b-8108-d13e57535306",
   "metadata": {},
   "outputs": [],
   "source": [
    "options = webdriver.ChromeOptions()\n",
    "options.add_argument('headless')\n",
    "options.add_argument('no-sandbox')\n",
    "options.add_argument('window-size=1920x1080')\n",
    "options.add_argument('disable-gpu')\n",
    "options.add_argument('lang=ko_KR')\n",
    "options.add_argument('user-agent=Mozilla/5.0 (Macintosh; Intel Mac OS X 10_12_6) AppleWebKit/537.36 (KHTML, like Gecko) Chrome/61.0.3163.100 Safari/537.36')"
   ]
  },
  {
   "cell_type": "code",
   "execution_count": 170,
   "id": "23a1fc51-6cde-4ab5-a4af-75190c534c30",
   "metadata": {},
   "outputs": [],
   "source": [
    "service = Service(executable_path=ChromeDriverManager().install())"
   ]
  },
  {
   "cell_type": "code",
   "execution_count": 171,
   "id": "d2d2f601-fa6a-49f9-9da7-41a39a54bd16",
   "metadata": {},
   "outputs": [],
   "source": [
    "driver = webdriver.Chrome(service=service, options=options)"
   ]
  },
  {
   "cell_type": "markdown",
   "id": "5b3beba3-28b2-4f61-9498-adc6b4d6482e",
   "metadata": {},
   "source": [
    "# 대학 공지사항 Crawling"
   ]
  },
  {
   "cell_type": "markdown",
   "id": "8ee8fb86-fe70-4c94-8a8a-3b4cdcad62ff",
   "metadata": {
    "jp-MarkdownHeadingCollapsed": true
   },
   "source": [
    "## 1차 주요대학"
   ]
  },
  {
   "cell_type": "markdown",
   "id": "43c474de-f773-4b4a-a35d-5711d38cab19",
   "metadata": {},
   "source": [
    "### 서울대"
   ]
  },
  {
   "cell_type": "code",
   "execution_count": 64,
   "id": "0e9b6048-b87f-4206-a50e-71f9a7bce70a",
   "metadata": {},
   "outputs": [
    {
     "name": "stdout",
     "output_type": "stream",
     "text": [
      "['서울대', 'https://admission.snu.ac.kr/undergraduate/notice', datetime.datetime(2024, 3, 4, 17, 11, 30, 518710), '2024학년도 정시모집 3차(최종) 충원합격자 선발현황', datetime.date(2024, 2, 20), '2024학년도 정시모집 3차(최종) 충원합격자 발표 및 등록금 고지서 출력', datetime.date(2024, 2, 20), '2024학년도 정시모집 2차 충원합격자 선발현황', datetime.date(2024, 2, 16), '2024학년도 정시모집 1차 충원합격자 선발현황', datetime.date(2024, 2, 14)]\n"
     ]
    }
   ],
   "source": [
    "univ_nm = '서울대'\n",
    "url1 = 'https://admission.snu.ac.kr/undergraduate/notice'\n",
    "url2 = 'https://admission.snu.ac.kr/undergraduate/notice'\n",
    "\n",
    "driver.get(url1)\n",
    "soup1 = BeautifulSoup(driver.page_source, 'html.parser')\n",
    "title1 = soup1.find('span', class_='txt').get_text().strip()\n",
    "date1 = soup1.find('td', class_='col-date').get_text().strip()\n",
    "date1 = datetime.date(int(date1[0:4]), int(date1[5:7]), int(date1[8:10]))\n",
    "\n",
    "title2 = soup1.find_all('span', class_='txt')[1].get_text().strip()\n",
    "date2 = soup1.find_all('td', class_='col-date')[1].get_text().strip()\n",
    "date2 = datetime.date(int(date2[0:4]), int(date2[5:7]), int(date2[8:10]))\n",
    "\n",
    "driver.get(url2)\n",
    "soup2 = BeautifulSoup(driver.page_source, 'html.parser')\n",
    "title3 = soup2.find_all('span', class_='txt')[2].get_text().strip()\n",
    "date3 = soup2.find_all('td', class_='col-date')[2].get_text().strip()\n",
    "date3 = datetime.date(int(date3[0:4]), int(date3[5:7]), int(date3[8:10]))\n",
    "\n",
    "title4 = soup2.find_all('span', class_='txt')[3].get_text().strip()\n",
    "date4 = soup2.find_all('td', class_='col-date')[3].get_text().strip()\n",
    "date4 = datetime.date(int(date4[0:4]), int(date4[5:7]), int(date4[8:10]))\n",
    "\n",
    "print([univ_nm, url2, datetime.datetime.now(), title1, date1, title2, date2, title3, date3, title4, date4])\n",
    "excel_sheet.append([univ_nm, url2, datetime.datetime.now(), title1, date1, title2, date2, title3, date3, title4, date4])"
   ]
  },
  {
   "cell_type": "markdown",
   "id": "e3ea2f68-aa51-4991-b3ae-19ce9d1699bc",
   "metadata": {},
   "source": [
    "### KAIST"
   ]
  },
  {
   "cell_type": "code",
   "execution_count": 65,
   "id": "b5f23ae7-1ce0-4c69-ac62-7e912a38392f",
   "metadata": {},
   "outputs": [
    {
     "name": "stdout",
     "output_type": "stream",
     "text": [
      "['KAIST', 'https://admission.kaist.ac.kr/undergraduate/notice/sub03', datetime.datetime(2024, 3, 4, 17, 11, 34, 590625), '2024학년도 수능우수자전형 (추가)합격자 조회', datetime.date(2024, 2, 6), \"2024학년도 '최종합격자 추가서류 제출' 안내\", datetime.date(2024, 2, 5), '2024학년도 수시 외국고전형 온라인리포팅 안내', datetime.date(2024, 1, 2), \"KAIST '3+4 TUBE 프로그램' 소개!\", datetime.date(2023, 12, 12)]\n"
     ]
    }
   ],
   "source": [
    "univ_nm = 'KAIST'\n",
    "url1 = 'https://admission.kaist.ac.kr/undergraduate/notice/sub03'\n",
    "url2 = 'https://admission.kaist.ac.kr/undergraduate/notice/sub03'\n",
    "\n",
    "driver.get(url1)\n",
    "title1 = WebDriverWait(driver, 5).until(\n",
    "    EC.visibility_of_element_located((By.XPATH, '/html/body/div/div/section/div/div[2]/main/form[1]/div[2]/div/ul[2]/li[1]/div[2]/a'))).text\n",
    "date1 = WebDriverWait(driver, 5).until(\n",
    "    EC.visibility_of_element_located((By.XPATH, '/html/body/div/div/section/div/div[2]/main/form[1]/div[2]/div/ul[2]/li[1]/div[3]'))).text\n",
    "date1 = datetime.date(int(date1[0:4]), int(date1[5:7]), int(date1[8:10]))\n",
    "\n",
    "title2 = WebDriverWait(driver, 5).until(\n",
    "    EC.visibility_of_element_located((By.XPATH, '/html/body/div/div/section/div/div[2]/main/form[1]/div[2]/div/ul[2]/li[2]/div[2]/a'))).text\n",
    "date2 = WebDriverWait(driver, 5).until(\n",
    "    EC.visibility_of_element_located((By.XPATH, '/html/body/div/div/section/div/div[2]/main/form[1]/div[2]/div/ul[2]/li[2]/div[3]'))).text\n",
    "date2 = datetime.date(int(date2[0:4]), int(date2[5:7]), int(date2[8:10]))\n",
    "\n",
    "driver.get(url2)\n",
    "title3 = WebDriverWait(driver, 5).until(\n",
    "    EC.visibility_of_element_located((By.XPATH, '/html/body/div/div/section/div/div[2]/main/form[1]/div[2]/div/ul[2]/li[3]/div[2]/a'))).text\n",
    "date3 = WebDriverWait(driver, 5).until(\n",
    "    EC.visibility_of_element_located((By.XPATH, '/html/body/div/div/section/div/div[2]/main/form[1]/div[2]/div/ul[2]/li[3]/div[3]'))).text\n",
    "date3 = datetime.date(int(date3[0:4]), int(date3[5:7]), int(date3[8:10]))\n",
    "\n",
    "title4 = WebDriverWait(driver, 5).until(\n",
    "    EC.visibility_of_element_located((By.XPATH, '/html/body/div/div/section/div/div[2]/main/form[1]/div[2]/div/ul[2]/li[4]/div[2]/a'))).text\n",
    "date4 = WebDriverWait(driver, 5).until(\n",
    "    EC.visibility_of_element_located((By.XPATH, '/html/body/div/div/section/div/div[2]/main/form[1]/div[2]/div/ul[2]/li[4]/div[3]'))).text\n",
    "date4 = datetime.date(int(date4[0:4]), int(date4[5:7]), int(date4[8:10]))\n",
    "\n",
    "print([univ_nm, url2, datetime.datetime.now(), title1, date1, title2, date2, title3, date3, title4, date4])\n",
    "excel_sheet.append([univ_nm, url2, datetime.datetime.now(), title1, date1, title2, date2, title3, date3, title4, date4])"
   ]
  },
  {
   "cell_type": "markdown",
   "id": "48d14243-c35a-4817-9051-17a374abb057",
   "metadata": {},
   "source": [
    "### 연세대(서울)"
   ]
  },
  {
   "cell_type": "code",
   "execution_count": 66,
   "id": "1dadde68-a615-4b6b-983a-04e7ed6f5b6b",
   "metadata": {},
   "outputs": [
    {
     "name": "stdout",
     "output_type": "stream",
     "text": [
      "['연세대(서울)', 'https://admission.yonsei.ac.kr/seoul/admission/html/counsel/notice.asp?s_type=TYPE2', datetime.datetime(2024, 3, 4, 17, 11, 36, 290704), '[편입학] 2024학년도 편입학전형 일반편입학 추가합격자 통계', datetime.date(2024, 2, 13), '[편입학] 2024학년도 편입학전형 등록금 환불 신청 안내', datetime.date(2024, 2, 7), '[정시모집] 2024학년도 정시모집 3차 추가합격자 통계', datetime.date(2024, 2, 16), '[정시모집] 2024학년도 정시모집 2차 추가합격자 통계', datetime.date(2024, 2, 15)]\n"
     ]
    }
   ],
   "source": [
    "univ_nm = '연세대(서울)'\n",
    "url1 = 'https://admission.yonsei.ac.kr/seoul/admission/html/counsel/notice.asp'\n",
    "url2 = 'https://admission.yonsei.ac.kr/seoul/admission/html/counsel/notice.asp?s_type=TYPE2'\n",
    "\n",
    "driver.get(url1)\n",
    "soup1 = BeautifulSoup(driver.page_source, 'html.parser')\n",
    "title1 = soup1.find('span', class_='tit').get_text().strip()\n",
    "date1 = soup1.find('span', class_='date').get_text().strip()[5:15]\n",
    "date1 = datetime.date(int(date1[0:4]), int(date1[5:7]), int(date1[8:10]))\n",
    "\n",
    "title2 = soup1.find_all('span', class_='tit')[1].get_text().strip()\n",
    "date2 = soup1.find_all('span', class_='date')[1].get_text().strip()[5:15]\n",
    "date2 = datetime.date(int(date2[0:4]), int(date2[5:7]), int(date2[8:10]))\n",
    "\n",
    "driver.get(url2)\n",
    "soup2 = BeautifulSoup(driver.page_source, 'html.parser')\n",
    "title3 = soup2.find('span', class_='tit').get_text().strip()\n",
    "date3 = soup2.find('span', class_='date').get_text().strip()[5:15]\n",
    "date3 = datetime.date(int(date3[0:4]), int(date3[5:7]), int(date3[8:10]))\n",
    "\n",
    "title4 = soup2.find_all('span', class_='tit')[1].get_text().strip()\n",
    "date4 = soup2.find_all('span', class_='date')[1].get_text().strip()[5:15]\n",
    "date4 = datetime.date(int(date4[0:4]), int(date4[5:7]), int(date4[8:10]))\n",
    "\n",
    "print([univ_nm, url2, datetime.datetime.now(), title1, date1, title2, date2, title3, date3, title4, date4])\n",
    "excel_sheet.append([univ_nm, url2, datetime.datetime.now(), title1, date1, title2, date2, title3, date3, title4, date4])"
   ]
  },
  {
   "cell_type": "markdown",
   "id": "2037acd5-91f6-4966-a111-302e433c35c6",
   "metadata": {},
   "source": [
    "### 고려대(안암)"
   ]
  },
  {
   "cell_type": "code",
   "execution_count": 67,
   "id": "317d9318-83a6-4787-bbcc-72b225c7cd68",
   "metadata": {},
   "outputs": [
    {
     "name": "stdout",
     "output_type": "stream",
     "text": [
      "['고려대(안암)', 'https://oku.korea.ac.kr/oku/cms/FR_CON/index.do?MENU_ID=750&CONTENTS_NO=4', datetime.datetime(2024, 3, 4, 17, 11, 38, 796781), '2024학년도 전교육과정해외이수자(후기) 특별전형 모집요강', datetime.date(2024, 1, 29), '2025학년도 고려대학교 입학전형시행계획(2023.12.수정)', datetime.date(2023, 4, 28), '2024학년도 정시모집 대학수학능력시험 변환점수 및 점수산출 안내', datetime.date(2023, 12, 22), '2024학년도 정시모집요강(수시 이월 인원 반영)', datetime.date(2023, 9, 1)]\n"
     ]
    }
   ],
   "source": [
    "univ_nm = '고려대(안암)'\n",
    "url1 = 'https://oku.korea.ac.kr/oku/cms/FR_CON/index.do?MENU_ID=750&CONTENTS_NO=1'\n",
    "url2 = 'https://oku.korea.ac.kr/oku/cms/FR_CON/index.do?MENU_ID=750&CONTENTS_NO=4'\n",
    "\n",
    "driver.get(url1)\n",
    "title1 = WebDriverWait(driver, 5).until(\n",
    "    EC.visibility_of_element_located((By.XPATH, '/html/body/div[6]/div[3]/article/div/table/tbody/tr[1]/td[3]/a'))).text\n",
    "date1 = WebDriverWait(driver, 5).until(\n",
    "    EC.visibility_of_element_located((By.XPATH, '/html/body/div[6]/div[3]/article/div/table/tbody/tr[1]/td[6]/span'))).text\n",
    "date1 = datetime.date(int(date1[0:4]), int(date1[5:7]), int(date1[8:10]))\n",
    "\n",
    "title2 = WebDriverWait(driver, 5).until(\n",
    "    EC.visibility_of_element_located((By.XPATH, '/html/body/div[6]/div[3]/article/div/table/tbody/tr[2]/td[3]/a'))).text\n",
    "date2 = WebDriverWait(driver, 5).until(\n",
    "    EC.visibility_of_element_located((By.XPATH, '/html/body/div[6]/div[3]/article/div/table/tbody/tr[2]/td[6]/span'))).text\n",
    "date2 = datetime.date(int(date2[0:4]), int(date2[5:7]), int(date2[8:10]))\n",
    "\n",
    "driver.get(url2)\n",
    "title3 = WebDriverWait(driver, 5).until(\n",
    "    EC.visibility_of_element_located((By.XPATH, '/html/body/div[6]/div[3]/article/div/table/tbody/tr[1]/td[3]/a'))).text\n",
    "date3 = WebDriverWait(driver, 5).until(\n",
    "    EC.visibility_of_element_located((By.XPATH, '/html/body/div[6]/div[3]/article/div/table/tbody/tr[1]/td[6]/span'))).text\n",
    "date3 = datetime.date(int(date3[0:4]), int(date3[5:7]), int(date3[8:10]))\n",
    "\n",
    "title4 = WebDriverWait(driver, 5).until(\n",
    "    EC.visibility_of_element_located((By.XPATH, '/html/body/div[6]/div[3]/article/div/table/tbody/tr[2]/td[3]/a'))).text\n",
    "date4 = WebDriverWait(driver, 5).until(\n",
    "    EC.visibility_of_element_located((By.XPATH, '/html/body/div[6]/div[3]/article/div/table/tbody/tr[2]/td[6]/span'))).text\n",
    "date4 = datetime.date(int(date4[0:4]), int(date4[5:7]), int(date4[8:10]))\n",
    "\n",
    "print([univ_nm, url2, datetime.datetime.now(), title1, date1, title2, date2, title3, date3, title4, date4])\n",
    "excel_sheet.append([univ_nm, url2, datetime.datetime.now(), title1, date1, title2, date2, title3, date3, title4, date4])"
   ]
  },
  {
   "cell_type": "markdown",
   "id": "b80a7269-3c32-49b6-9815-182b756df226",
   "metadata": {},
   "source": [
    "### 한양대(서울)"
   ]
  },
  {
   "cell_type": "code",
   "execution_count": 68,
   "id": "6182a1d3-15e4-4ebd-b0c0-335031e10443",
   "metadata": {},
   "outputs": [
    {
     "name": "stdout",
     "output_type": "stream",
     "text": [
      "['한양대(서울)', 'https://go.hanyang.ac.kr/web/notice/notice_list.do?m_type=JEONGSI', datetime.datetime(2024, 3, 4, 17, 11, 39, 683477), '2024학년도 신입학 정시모집 추가합격자 선발 현황(4차)', datetime.date(2024, 2, 14), '2024학년도 편입학 최종합격자 등록 안내 및 미등록 충원계획', datetime.date(2024, 2, 5), '2024학년도 신입학 정시모집 추가합격자 선발 현황(4차)', datetime.date(2024, 2, 14), '2024학년도 신입학 최종합격자 등록 안내(수시, 정시) 및 정시 미등록 충원계획', datetime.date(2024, 2, 2)]\n"
     ]
    }
   ],
   "source": [
    "univ_nm = '한양대(서울)'\n",
    "url1 = 'https://go.hanyang.ac.kr/web/notice/notice_list.do?m_type=IPSI'\n",
    "url2 = 'https://go.hanyang.ac.kr/web/notice/notice_list.do?m_type=JEONGSI'\n",
    "\n",
    "driver.get(url1)\n",
    "soup1 = BeautifulSoup(driver.page_source, 'html.parser')\n",
    "title1 = soup1.find_all('strong')[3].get_text().strip()\n",
    "date1 = soup1.find_all('em')[7].get_text().strip()\n",
    "date1 = datetime.date(int(date1[0:4]), int(date1[5:7]), int(date1[8:10]))\n",
    "\n",
    "title2 = soup1.find_all('strong')[4].get_text().strip()\n",
    "date2 = soup1.find_all('em')[9].get_text().strip()\n",
    "date2 = datetime.date(int(date2[0:4]), int(date2[5:7]), int(date2[8:10]))\n",
    "\n",
    "driver.get(url2)\n",
    "soup2 = BeautifulSoup(driver.page_source, 'html.parser')\n",
    "title3 = soup2.find_all('strong')[3].get_text().strip()\n",
    "date3 = soup2.find_all('em')[7].get_text().strip()\n",
    "date3 = datetime.date(int(date3[0:4]), int(date3[5:7]), int(date3[8:10]))\n",
    "\n",
    "title4 = soup2.find_all('strong')[4].get_text().strip()\n",
    "date4 = soup2.find_all('em')[9].get_text().strip()\n",
    "date4 = datetime.date(int(date4[0:4]), int(date4[5:7]), int(date4[8:10]))\n",
    "\n",
    "print([univ_nm, url2, datetime.datetime.now(), title1, date1, title2, date2, title3, date3, title4, date4])\n",
    "excel_sheet.append([univ_nm, url2, datetime.datetime.now(), title1, date1, title2, date2, title3, date3, title4, date4])"
   ]
  },
  {
   "cell_type": "markdown",
   "id": "bfa44601-0303-4041-9679-a4d63c7d4e5d",
   "metadata": {},
   "source": [
    "### 성균관대"
   ]
  },
  {
   "cell_type": "code",
   "execution_count": 69,
   "id": "a414ce44-8229-469a-85dd-01eabc6e960b",
   "metadata": {},
   "outputs": [
    {
     "name": "stdout",
     "output_type": "stream",
     "text": [
      "['성균관대', 'https://admission.skku.edu/admission/html/regular/notice.html', datetime.datetime(2024, 3, 4, 17, 11, 40, 378874), '2025학년도 전형계획 입시설명회 개최 안내 NEW', datetime.date(2024, 3, 4), '2024학년도 정시모집 최종합격자 조회 NEW', datetime.date(2024, 2, 21), '2024학년도 정시모집 최종합격자 조회 NEW', datetime.date(2024, 2, 21), '2024학년도 정시모집 등록포기 및 등록금 환불 신청 안내 NEW', datetime.date(2024, 2, 7)]\n"
     ]
    }
   ],
   "source": [
    "univ_nm = '성균관대'\n",
    "url1 = 'https://admission.skku.edu/admission/html/ipsi/notice.html'\n",
    "url2 = 'https://admission.skku.edu/admission/html/regular/notice.html'\n",
    "\n",
    "driver.get(url1)\n",
    "soup1 = BeautifulSoup(driver.page_source, 'html.parser')\n",
    "title1 = soup1.find('div', 'subject').find('p').get_text().strip()\n",
    "date1 = soup1.find('div', 'reg').find('span').get_text()[6:]\n",
    "date1 = datetime.date(int(date1[0:4]), int(date1[5:7]), int(date1[8:10]))\n",
    "\n",
    "title2 = soup1.find_all('div', 'subject')[1].find('p').get_text().strip()\n",
    "date2 = soup1.find_all('div', 'reg')[1].find('span').get_text()[6:]\n",
    "date2 = datetime.date(int(date2[0:4]), int(date2[5:7]), int(date2[8:10]))\n",
    "\n",
    "driver.get(url2)\n",
    "soup2 = BeautifulSoup(driver.page_source, 'html.parser')\n",
    "title3 = soup2.find('div', 'subject').find('p').get_text().strip()\n",
    "date3 = soup2.find('div', 'reg').find('span').get_text()[6:]\n",
    "date3 = datetime.date(int(date3[0:4]), int(date3[5:7]), int(date3[8:10]))\n",
    "\n",
    "title4 = soup2.find_all('div', 'subject')[1].find('p').get_text().strip()\n",
    "date4 = soup2.find_all('div', 'reg')[1].find('span').get_text()[6:]\n",
    "date4 = datetime.date(int(date4[0:4]), int(date4[5:7]), int(date4[8:10]))\n",
    "\n",
    "print([univ_nm, url2, datetime.datetime.now(), title1, date1, title2, date2, title3, date3, title4, date4])\n",
    "excel_sheet.append([univ_nm, url2, datetime.datetime.now(), title1, date1, title2, date2, title3, date3, title4, date4])"
   ]
  },
  {
   "cell_type": "markdown",
   "id": "5824fc2b-bad1-4c83-afcc-9e6fadd49644",
   "metadata": {},
   "source": [
    "### 서강대"
   ]
  },
  {
   "cell_type": "code",
   "execution_count": 70,
   "id": "bebe4ead-a7c6-48f8-9fac-47ad2a9e50c6",
   "metadata": {},
   "outputs": [
    {
     "name": "stdout",
     "output_type": "stream",
     "text": [
      "['서강대', 'https://admission.sogang.ac.kr/enter/html/regular/notice.asp', datetime.datetime(2024, 3, 4, 17, 11, 41, 176780), '2024학년도 학부 신입생 안내사항', datetime.date(2024, 2, 6), '신입생 교외 오리엔테이션비 미납자 별도 신청 안내', datetime.date(2024, 2, 7), '2024학년도 학부 신입생 안내사항', datetime.date(2024, 2, 6), '신입생 교외 오리엔테이션비 미납자 별도 신청 안내', datetime.date(2024, 2, 7)]\n"
     ]
    }
   ],
   "source": [
    "univ_nm = '서강대'\n",
    "url1 = 'https://admission.sogang.ac.kr/enter/html/counsel/notice.asp'\n",
    "url2 = 'https://admission.sogang.ac.kr/enter/html/regular/notice.asp'\n",
    "\n",
    "driver.get(url1)\n",
    "soup1 = BeautifulSoup(driver.page_source, 'html.parser')\n",
    "title1 = soup1.find('div', 'subJect').find('p').get_text().strip()\n",
    "date1 = soup1.find('p', 'date').get_text().strip()[6:]\n",
    "date1 = datetime.date(int(date1[0:4]), int(date1[5:7]), int(date1[8:10]))\n",
    "\n",
    "title2 = soup1.find_all('div', 'subJect')[1].find('p').get_text().strip()\n",
    "date2 = soup1.find_all('p', 'date')[1].get_text().strip()[6:]\n",
    "date2 = datetime.date(int(date2[0:4]), int(date2[5:7]), int(date2[8:10]))\n",
    "\n",
    "driver.get(url2)\n",
    "soup2 = BeautifulSoup(driver.page_source, 'html.parser')\n",
    "title3 = soup2.find('div', 'subJect').find('p').get_text().strip()\n",
    "date3 = soup2.find('p', 'date').get_text().strip()[6:]\n",
    "date3 = datetime.date(int(date3[0:4]), int(date3[5:7]), int(date3[8:10]))\n",
    "\n",
    "title4 = soup2.find_all('div', 'subJect')[1].find('p').get_text().strip()\n",
    "date4 = soup2.find_all('p', 'date')[1].get_text().strip()[6:]\n",
    "date4 = datetime.date(int(date4[0:4]), int(date4[5:7]), int(date4[8:10]))\n",
    "\n",
    "print([univ_nm, url2, datetime.datetime.now(), title1, date1, title2, date2, title3, date3, title4, date4])\n",
    "excel_sheet.append([univ_nm, url2, datetime.datetime.now(), title1, date1, title2, date2, title3, date3, title4, date4])"
   ]
  },
  {
   "cell_type": "markdown",
   "id": "e6d149cf-f773-436e-b669-6bb193292852",
   "metadata": {},
   "source": [
    "### 중앙대"
   ]
  },
  {
   "cell_type": "code",
   "execution_count": 71,
   "id": "68d9dee6-7c42-49d5-ad33-3e371bb6bfae",
   "metadata": {},
   "outputs": [
    {
     "name": "stdout",
     "output_type": "stream",
     "text": [
      "['중앙대', 'http://admission.cau.ac.kr/submenu.do?menuurl=cMg03HbxUyKL%2BcPPOc4Hog%3D%3D&categoryid=2', datetime.datetime(2024, 3, 4, 17, 11, 42, 441944), \"'25학년도 대학입학전형시행계획 공고\", datetime.date(2023, 4, 28), \"'24학년도 추가 모집요강 공지(2024. 2. 23.(금) 10:00 기준)\", datetime.date(2024, 2, 22), \"'24학년도 추가 모집요강 공지(2024. 2. 23.(금) 10:00 기준)\", datetime.date(2024, 2, 22), \"'24 정시 등록금 고지서 조회\", datetime.date(2024, 2, 6)]\n"
     ]
    }
   ],
   "source": [
    "univ_nm = '중앙대'\n",
    "url1 = 'http://admission.cau.ac.kr/submenu.do?menuurl=cMg03HbxUyKL%2bcPPOc4Hog%3d%3d&'\n",
    "url2 = 'http://admission.cau.ac.kr/submenu.do?menuurl=cMg03HbxUyKL%2BcPPOc4Hog%3D%3D&categoryid=2'\n",
    "\n",
    "driver.get(url1)\n",
    "soup1 = BeautifulSoup(driver.page_source, 'html.parser')\n",
    "title1 = soup1.find('p', 'bbsTitle').get_text().strip()\n",
    "date1 = soup1.find_all('div', 'dateHit')[1].find('span', 'date').get_text().strip()[-10:]\n",
    "date1 = datetime.date(int(date1[0:4]), int(date1[5:7]), int(date1[8:10]))\n",
    "\n",
    "title2 = soup1.find_all('p', 'bbsTitle')[1].get_text().strip()\n",
    "date2 = soup1.find_all('div', 'dateHit')[2].find('span', 'date').get_text().strip()[-10:]\n",
    "date2 = datetime.date(int(date2[0:4]), int(date2[5:7]), int(date2[8:10]))\n",
    "\n",
    "driver.get(url2)\n",
    "soup2 = BeautifulSoup(driver.page_source, 'html.parser')\n",
    "title3 = soup2.find('p', 'bbsTitle').get_text().strip()\n",
    "date3 = soup2.find_all('div', 'dateHit')[1].find('span', 'date').get_text().strip()[-10:]\n",
    "date3 = datetime.date(int(date3[0:4]), int(date3[5:7]), int(date3[8:10]))\n",
    "\n",
    "title4 = soup2.find_all('p', 'bbsTitle')[1].get_text().strip()\n",
    "date4 = soup2.find_all('div', 'dateHit')[2].find('span', 'date').get_text().strip()[-10:]\n",
    "date4 = datetime.date(int(date4[0:4]), int(date4[5:7]), int(date4[8:10]))\n",
    "\n",
    "print([univ_nm, url2, datetime.datetime.now(), title1, date1, title2, date2, title3, date3, title4, date4])\n",
    "excel_sheet.append([univ_nm, url2, datetime.datetime.now(), title1, date1, title2, date2, title3, date3, title4, date4])"
   ]
  },
  {
   "cell_type": "markdown",
   "id": "0d1a4ed8-75c8-4a82-b2dc-12dc782e018e",
   "metadata": {},
   "source": [
    "### DGIST"
   ]
  },
  {
   "cell_type": "code",
   "execution_count": 72,
   "id": "d9f546d6-bce3-43ad-a48a-3fdd9d17350c",
   "metadata": {},
   "outputs": [
    {
     "name": "stdout",
     "output_type": "stream",
     "text": [
      "['DGIST', 'https://www.dgist.ac.kr/bbs/BBSMSTR_000000000057/list.do', datetime.datetime(2024, 3, 4, 17, 11, 44, 178492), '2025학년도 및 2026학년도 학부 입학전형 시행 계획 안내', datetime.date(2024, 2, 14), '[고교생대상] DGIST 셀프 캠퍼스 투어 안내 (★인증샷 이벤트)', datetime.date(2024, 2, 6), '2024학년도 학부 정시모집 충원 2차 이후 합격자 발표 안내', datetime.date(2024, 2, 19), '2025학년도 및 2026학년도 학부 입학전형 시행 계획 안내', datetime.date(2024, 2, 14)]\n"
     ]
    }
   ],
   "source": [
    "# @@ url 변경 (0304)\n",
    "\n",
    "univ_nm = 'DGIST'\n",
    "url1 = 'https://www.dgist.ac.kr/bbs/BBSMSTR_000000000057/list.do'\n",
    "url2 = 'https://www.dgist.ac.kr/bbs/BBSMSTR_000000000057/list.do'\n",
    "\n",
    "driver.get(url1)\n",
    "title1 = driver.find_element(By.XPATH, '/html/body/div[5]/div/div/div[2]/div/form[2]/div[4]/table/tbody/tr[1]/td[2]/button/div/strong').text\n",
    "date1 =  driver.find_element(By.XPATH, '/html/body/div[5]/div/div/div[2]/div/form[2]/div[4]/table/tbody/tr[1]/td[5]').text\n",
    "date1 = datetime.date(int(date1[0:4]), int(date1[5:7]), int(date1[8:10]))\n",
    "\n",
    "title2 = driver.find_element(By.XPATH, '/html/body/div[5]/div/div/div[2]/div/form[2]/div[4]/table/tbody/tr[2]/td[2]/button/div/strong').text\n",
    "date2 = driver.find_element(By.XPATH, '/html/body/div[5]/div/div/div[2]/div/form[2]/div[4]/table/tbody/tr[2]/td[5]').text\n",
    "date2 = datetime.date(int(date2[0:4]), int(date2[5:7]), int(date2[8:10]))\n",
    "\n",
    "driver.get(url2)\n",
    "title3 = driver.find_element(By.XPATH, '/html/body/div[5]/div/div/div[2]/div/form[2]/div[4]/table/tbody/tr[3]/td[2]/button/div/strong').text\n",
    "date3 = driver.find_element(By.XPATH, '/html/body/div[5]/div/div/div[2]/div/form[2]/div[4]/table/tbody/tr[3]/td[5]').text\n",
    "date3 = datetime.date(int(date3[0:4]), int(date3[5:7]), int(date3[8:10]))\n",
    "\n",
    "title4 = driver.find_element(By.XPATH, '/html/body/div[5]/div/div/div[2]/div/form[2]/div[4]/table/tbody/tr[4]/td[2]/button/div/strong').text\n",
    "date4 = driver.find_element(By.XPATH, '/html/body/div[5]/div/div/div[2]/div/form[2]/div[4]/table/tbody/tr[4]/td[5]').text\n",
    "date4 = datetime.date(int(date4[0:4]), int(date4[5:7]), int(date4[8:10]))\n",
    "\n",
    "print([univ_nm, url2, datetime.datetime.now(), title1, date1, title2, date2, title3, date3, title4, date4])\n",
    "excel_sheet.append([univ_nm, url2, datetime.datetime.now(), title1, date1, title2, date2, title3, date3, title4, date4])"
   ]
  },
  {
   "cell_type": "markdown",
   "id": "bd8457fb-e785-4821-9114-ab4a3f48f50c",
   "metadata": {},
   "source": [
    "### GIST"
   ]
  },
  {
   "cell_type": "code",
   "execution_count": 73,
   "id": "997a380a-392c-4865-84bf-01a3c775c18c",
   "metadata": {},
   "outputs": [
    {
     "name": "stdout",
     "output_type": "stream",
     "text": [
      "['GIST', 'https://www.gist.ac.kr/uadm/html/sub03/0301.html', datetime.datetime(2024, 3, 4, 17, 11, 44, 826790), '2024학년도 GIST 정시모집 충원합격자 발표 및 등록 일정 안내', datetime.date(2024, 2, 13), '2024학년도 신입생 공동AP(Advanced Placement) 학점인정 신청 안내(2.13.~16.)', datetime.date(2024, 2, 8), '2024학년도 GIST 정시모집 합격자 발표 및 등록 안내', datetime.date(2024, 2, 2), '2024학년도 지스트 정시모집 최종 경쟁률 안내', datetime.date(2024, 1, 8)]\n"
     ]
    }
   ],
   "source": [
    "univ_nm = 'GIST'\n",
    "url1 = 'https://www.gist.ac.kr/uadm/html/sub03/0301.html'\n",
    "url2 = 'https://www.gist.ac.kr/uadm/html/sub03/0301.html'\n",
    "\n",
    "driver.get(url1)\n",
    "soup1 = BeautifulSoup(driver.page_source, 'html.parser')\n",
    "title1 = soup1.find('td', class_='title').get_text().strip()\n",
    "date1 =  soup1.find('td', 'reg_date').get_text().strip()\n",
    "date1 = datetime.date(int(date1[0:4]), int(date1[5:7]), int(date1[8:10]))\n",
    "\n",
    "title2 = soup1.find_all('td', class_='title')[1].get_text().strip()\n",
    "date2 = soup1.find_all('td', 'reg_date')[1].get_text().strip()\n",
    "date2 = datetime.date(int(date2[0:4]), int(date2[5:7]), int(date2[8:10]))\n",
    "\n",
    "driver.get(url2)\n",
    "soup2 = BeautifulSoup(driver.page_source, 'html.parser')\n",
    "title3 = soup2.find_all('td', class_='title')[2].get_text().strip()\n",
    "date3 = soup2.find_all('td', 'reg_date')[2].get_text().strip()\n",
    "date3 = datetime.date(int(date3[0:4]), int(date3[5:7]), int(date3[8:10]))\n",
    "\n",
    "title4 = soup2.find_all('td', class_='title')[3].get_text().strip()\n",
    "date4 = soup2.find_all('td', 'reg_date')[3].get_text().strip()\n",
    "date4 = datetime.date(int(date4[0:4]), int(date4[5:7]), int(date4[8:10]))\n",
    "\n",
    "print([univ_nm, url2, datetime.datetime.now(), title1, date1, title2, date2, title3, date3, title4, date4])\n",
    "excel_sheet.append([univ_nm, url2, datetime.datetime.now(), title1, date1, title2, date2, title3, date3, title4, date4])"
   ]
  },
  {
   "cell_type": "markdown",
   "id": "8b4642ce-a3ca-47d9-8b11-1ab2e0b31a95",
   "metadata": {},
   "source": [
    "### UNIST"
   ]
  },
  {
   "cell_type": "code",
   "execution_count": 74,
   "id": "fa67d4ed-1d69-47b7-8289-edffacead357",
   "metadata": {},
   "outputs": [
    {
     "name": "stdout",
     "output_type": "stream",
     "text": [
      "['UNIST', 'https://adm-u.unist.ac.kr/category/info/notice/', datetime.datetime(2024, 3, 4, 17, 11, 46, 604649), '[2024 정시모집] 충원 마감 안내', datetime.date(2024, 2, 20), '[2024 정시모집] 충원합격자 발표 일정 안내', datetime.date(2024, 2, 13), '[2024 정시모집] 합격자 조회, 예치금 납입 확인, 등록포기 등 안내', datetime.date(2024, 2, 6), '[2024 수시모집] 해외고, 지역인재 및 고른기회(농어촌) 등록자 추가 제출 서류 안내', datetime.date(2024, 1, 18)]\n"
     ]
    }
   ],
   "source": [
    "univ_nm = 'UNIST'\n",
    "url1 = 'https://adm-u.unist.ac.kr/category/info/notice/'\n",
    "url2 = 'https://adm-u.unist.ac.kr/category/info/notice/'\n",
    "\n",
    "driver.get(url1)\n",
    "soup1 = BeautifulSoup(driver.page_source, 'html.parser')\n",
    "title1 = soup1.find('td', class_='title').get_text().strip()[:-12]\n",
    "date1 =  soup1.find('div', 'meta').find('span','date').get_text().strip()\n",
    "date1 = datetime.date(int(date1[0:4]), int(date1[5:7]), int(date1[8:10]))\n",
    "\n",
    "title2 = soup1.find_all('td', class_='title')[1].get_text().strip()[:-12]\n",
    "date2 = soup1.find_all('div', 'meta')[2].find('span','date').get_text().strip()\n",
    "date2 = datetime.date(int(date2[0:4]), int(date2[5:7]), int(date2[8:10]))\n",
    "\n",
    "driver.get(url2)\n",
    "soup2 = BeautifulSoup(driver.page_source, 'html.parser')\n",
    "title3 = soup2.find_all('td', class_='title')[2].get_text().strip()[:-12]\n",
    "date3 = soup2.find_all('div', 'meta')[4].find('span','date').get_text().strip()\n",
    "date3 = datetime.date(int(date3[0:4]), int(date3[5:7]), int(date3[8:10]))\n",
    "\n",
    "title4 = soup2.find_all('td', class_='title')[3].get_text().strip()[:-12]\n",
    "date4 = soup2.find_all('div', 'meta')[6].find('span','date').get_text().strip()\n",
    "date4 = datetime.date(int(date4[0:4]), int(date4[5:7]), int(date4[8:10]))\n",
    "\n",
    "print([univ_nm, url2, datetime.datetime.now(), title1, date1, title2, date2, title3, date3, title4, date4])\n",
    "excel_sheet.append([univ_nm, url2, datetime.datetime.now(), title1, date1, title2, date2, title3, date3, title4, date4])"
   ]
  },
  {
   "cell_type": "markdown",
   "id": "e033be38-af90-4075-a320-9293142ca3c0",
   "metadata": {},
   "source": [
    "### 서울교대"
   ]
  },
  {
   "cell_type": "code",
   "execution_count": 75,
   "id": "afa386da-2e4a-4f12-8924-6d15b34e4a05",
   "metadata": {},
   "outputs": [
    {
     "name": "stdout",
     "output_type": "stream",
     "text": [
      "['서울교대', 'https://admission.snue.ac.kr/admission/na/ntt/selectNttList.do?mi=3376&bbsId=3073', datetime.datetime(2024, 3, 4, 17, 11, 51, 842630), '2024학년도 입학관련 확인서 출력 및 심화과정 배정 결과 확인 안내', datetime.date(2024, 2, 22), '2024학년도 정시모집 추가합격자 발표 종료 안내', datetime.date(2024, 2, 20), '2024학년도 정시 입학전형 3차 추가합격자 발표 및 등록 유의사항 안내', datetime.date(2024, 2, 20), '2024학년도 정시 입학전형 2차 추가합격자 발표 및 등록 유의사항 안내', datetime.date(2024, 2, 17)]\n"
     ]
    }
   ],
   "source": [
    "univ_nm = '서울교대'\n",
    "url1 = 'https://admission.snue.ac.kr/admission/na/ntt/selectNttList.do?mi=3376&bbsId=3073'\n",
    "url2 = 'https://admission.snue.ac.kr/admission/na/ntt/selectNttList.do?mi=3376&bbsId=3073'\n",
    "\n",
    "driver.get(url1)\n",
    "soup1 = BeautifulSoup(driver.page_source, 'html.parser')\n",
    "title1 = soup1.find('td', class_='ta_l').get_text().strip()\n",
    "date1 =  soup1.find_all('td')[3].get_text()\n",
    "date1 = datetime.date(int(date1[0:4]), int(date1[5:7]), int(date1[8:10]))\n",
    "\n",
    "title2 = soup1.find_all('td', class_='ta_l')[1].get_text().strip()\n",
    "date2 = soup1.find_all('td')[8].get_text()\n",
    "date2 = datetime.date(int(date2[0:4]), int(date2[5:7]), int(date2[8:10]))\n",
    "\n",
    "driver.get(url2)\n",
    "soup2 = BeautifulSoup(driver.page_source, 'html.parser')\n",
    "title3 = soup2.find_all('td', class_='ta_l')[2].get_text().strip()\n",
    "date3 = soup2.find_all('td')[13].get_text()\n",
    "date3 = datetime.date(int(date3[0:4]), int(date3[5:7]), int(date3[8:10]))\n",
    "\n",
    "title4 = soup2.find_all('td', class_='ta_l')[3].get_text().strip()\n",
    "date4 = soup2.find_all('td')[18].get_text()\n",
    "date4 = datetime.date(int(date4[0:4]), int(date4[5:7]), int(date4[8:10]))\n",
    "\n",
    "print([univ_nm, url2, datetime.datetime.now(), title1, date1, title2, date2, title3, date3, title4, date4])\n",
    "excel_sheet.append([univ_nm, url2, datetime.datetime.now(), title1, date1, title2, date2, title3, date3, title4, date4])"
   ]
  },
  {
   "cell_type": "markdown",
   "id": "c2d00b1a-0090-4632-8b81-161494969732",
   "metadata": {},
   "source": [
    "### 이화여대"
   ]
  },
  {
   "cell_type": "code",
   "execution_count": 76,
   "id": "0ea7f59a-4b5c-43ac-8503-59a579cff32e",
   "metadata": {},
   "outputs": [
    {
     "name": "stdout",
     "output_type": "stream",
     "text": [
      "['이화여대', 'https://admission.ewha.ac.kr/admission/html/regular/notice.asp', datetime.datetime(2024, 3, 4, 17, 11, 52, 746016), '2024년 MBK 장학생 선발 안내', datetime.date(2024, 1, 2), '2024학년도 편입학전형 모집요강', datetime.date(2023, 12, 1), '', '', '', '']\n"
     ]
    }
   ],
   "source": [
    "# @@ 0304 기준 공지사항 글 X / 주석처리\n",
    "\n",
    "univ_nm = '이화여대'\n",
    "url1 = 'http://admission.ewha.ac.kr/admission/html/ewharo/notice.asp'\n",
    "url2 = 'https://admission.ewha.ac.kr/admission/html/regular/notice.asp'\n",
    "\n",
    "driver.get(url1)\n",
    "soup1 = BeautifulSoup(driver.page_source, 'html.parser')\n",
    "title1 = soup1.find('p', 'title').get_text().strip()\n",
    "date1 =  soup1.find('span', 'date').get_text().strip()\n",
    "date1 = datetime.date(int(date1[0:4]), int(date1[5:7]), int(date1[8:10]))\n",
    "\n",
    "title2 = soup1.find_all('p', 'title')[1].get_text().strip()\n",
    "date2 =  soup1.find_all('span', 'date')[1].get_text().strip()\n",
    "date2 = datetime.date(int(date2[0:4]), int(date2[5:7]), int(date2[8:10]))\n",
    "\n",
    "driver.get(url2)\n",
    "# soup2 = BeautifulSoup(driver.page_source, 'html.parser')\n",
    "# title3 = soup2.find('p', 'title').get_text().strip()\n",
    "# date3 = soup2.find('span', 'date').get_text().strip()\n",
    "# date3 = datetime.date(int(date3[0:4]), int(date3[5:7]), int(date3[8:10]))\n",
    "\n",
    "# title4 = soup2.find_all('p', 'title')[1].get_text().strip()\n",
    "# date4 = soup2.find_all('span', 'date')[1].get_text().strip()\n",
    "# date4 = datetime.date(int(date4[0:4]), int(date4[5:7]), int(date4[8:10]))\n",
    "\n",
    "title3 = ''\n",
    "date3 = ''\n",
    "title4 = ''\n",
    "date4 = ''\n",
    "print([univ_nm, url2, datetime.datetime.now(), title1, date1, title2, date2, title3, date3, title4, date4])\n",
    "excel_sheet.append([univ_nm, url2, datetime.datetime.now(), title1, date1, title2, date2, title3, date3, title4, date4])"
   ]
  },
  {
   "cell_type": "markdown",
   "id": "9243cafe-cda7-4913-8a7a-50f199ae96e9",
   "metadata": {},
   "source": [
    "### 경인교대"
   ]
  },
  {
   "cell_type": "code",
   "execution_count": 77,
   "id": "ba389c17-de97-4357-9a71-01f21cf6ce78",
   "metadata": {},
   "outputs": [
    {
     "name": "stdout",
     "output_type": "stream",
     "text": [
      "['경인교대', 'https://ipsi.ginue.ac.kr/ipsi/CMS/Board/Board.do?mCode=MN028&searchCategory=c003', datetime.datetime(2024, 3, 4, 17, 11, 54, 691582), '2024학년도 정시모집 3차 충원합격 현황 안내', datetime.date(2024, 2, 19), '2024학년도 정시모집 2차 충원합격 현황 안내', datetime.date(2024, 2, 15), '2024학년도 정시모집 3차 충원합격 현황 안내', datetime.date(2024, 2, 19), '2024학년도 정시모집 2차 충원합격 현황 안내', datetime.date(2024, 2, 15)]\n"
     ]
    }
   ],
   "source": [
    "univ_nm = '경인교대'\n",
    "url1 = 'https://ipsi.ginue.ac.kr/ipsi/CMS/Board/Board.do?mCode=MN028'\n",
    "url2 = 'https://ipsi.ginue.ac.kr/ipsi/CMS/Board/Board.do?mCode=MN028&searchCategory=c003'\n",
    "\n",
    "driver.get(url1)\n",
    "soup1 = BeautifulSoup(driver.page_source, 'html.parser')\n",
    "title1 = soup1.find('p', 'stitle').get_text().strip()\n",
    "date1 = soup1.find('td', 'date').get_text().strip()\n",
    "date1 = datetime.date(int(date1[0:4]), int(date1[5:7]), int(date1[8:10]))\n",
    "\n",
    "title2 = soup1.find_all('p', 'stitle')[1].get_text().strip()\n",
    "date2 = soup1.find_all('td', 'date')[1].get_text().strip()\n",
    "date2 = datetime.date(int(date2[0:4]), int(date2[5:7]), int(date2[8:10]))\n",
    "\n",
    "driver.get(url2)\n",
    "soup2 = BeautifulSoup(driver.page_source, 'html.parser')\n",
    "title3 = soup2.find('p', 'stitle').get_text().strip()\n",
    "date3 = soup2.find('td', 'date').get_text().strip()\n",
    "date3 = datetime.date(int(date3[0:4]), int(date3[5:7]), int(date3[8:10]))\n",
    "\n",
    "title4 = soup2.find_all('p', 'stitle')[1].get_text().strip()\n",
    "date4 = soup2.find_all('td', 'date')[1].get_text().strip()\n",
    "date4 = datetime.date(int(date4[0:4]), int(date4[5:7]), int(date4[8:10]))\n",
    "\n",
    "print([univ_nm, url2, datetime.datetime.now(), title1, date1, title2, date2, title3, date3, title4, date4])\n",
    "excel_sheet.append([univ_nm, url2, datetime.datetime.now(), title1, date1, title2, date2, title3, date3, title4, date4])"
   ]
  },
  {
   "cell_type": "markdown",
   "id": "1c6d8f33-251e-4dba-bb8a-d8addf54809e",
   "metadata": {},
   "source": [
    "### 경희대"
   ]
  },
  {
   "cell_type": "code",
   "execution_count": 78,
   "id": "31b33bec-7541-4279-89b1-a603ecbd6175",
   "metadata": {},
   "outputs": [
    {
     "name": "stdout",
     "output_type": "stream",
     "text": [
      "['경희대', 'https://iphak.khu.ac.kr/submenu.do?menuurl=rOjsbGuR5i0fqsax24xcPQ%3d%3d&', datetime.datetime(2024, 3, 4, 17, 11, 55, 699673), '2024학년도 정시모집 최종 모집인원 안내', datetime.date(2024, 1, 2), '2024학년도 전기 일반대학원 정원내 신입학 추가모집요강', datetime.date(2023, 12, 28), '2024학년도 정시모집 최종 모집인원 안내', datetime.date(2024, 1, 2), '2024학년도 정시모집 기회균형전형-특성화고교졸업자 기준학과 안내', datetime.date(2023, 11, 16)]\n"
     ]
    }
   ],
   "source": [
    "univ_nm = '경희대'\n",
    "url1 = 'https://iphak.khu.ac.kr/submenu.do?menuurl=wvOt10B5et6zMa%2fM59G%2bxQ%3d%3d&'\n",
    "url2 = 'https://iphak.khu.ac.kr/submenu.do?menuurl=rOjsbGuR5i0fqsax24xcPQ%3d%3d&'\n",
    "\n",
    "driver.get(url1)\n",
    "soup1 = BeautifulSoup(driver.page_source, 'html.parser')\n",
    "title1 = soup1.find('p', 'bbsTitle').get_text().strip()\n",
    "date1 = soup1.find_all('span', 'date')[1].get_text().strip()\n",
    "date1 = datetime.date(int(date1[0:4]), int(date1[5:7]), int(date1[8:10]))\n",
    "\n",
    "title2 = soup1.find_all('p', 'bbsTitle')[1].get_text().strip()\n",
    "date2 = soup1.find_all('span', 'date')[2].get_text().strip()\n",
    "date2 = datetime.date(int(date2[0:4]), int(date2[5:7]), int(date2[8:10]))\n",
    "\n",
    "driver.get(url2)\n",
    "soup2 = BeautifulSoup(driver.page_source, 'html.parser')\n",
    "title3 = soup2.find('p', 'bbsTitle').get_text().strip()\n",
    "date3 = soup2.find_all('span', 'date')[1].get_text().strip()\n",
    "date3 = datetime.date(int(date3[0:4]), int(date3[5:7]), int(date3[8:10]))\n",
    "\n",
    "title4 = soup2.find_all('p', 'bbsTitle')[1].get_text().strip()\n",
    "date4 = soup2.find_all('span', 'date')[2].get_text().strip()\n",
    "date4 = datetime.date(int(date4[0:4]), int(date4[5:7]), int(date4[8:10]))\n",
    "\n",
    "print([univ_nm, url2, datetime.datetime.now(), title1, date1, title2, date2, title3, date3, title4, date4])\n",
    "excel_sheet.append([univ_nm, url2, datetime.datetime.now(), title1, date1, title2, date2, title3, date3, title4, date4])"
   ]
  },
  {
   "cell_type": "markdown",
   "id": "8370df14-1713-405d-8204-0581e73dcb88",
   "metadata": {},
   "source": [
    "### 서울시립대"
   ]
  },
  {
   "cell_type": "code",
   "execution_count": 79,
   "id": "9a18efb4-b24b-4692-a3e5-ed1492209693",
   "metadata": {},
   "outputs": [
    {
     "name": "stdout",
     "output_type": "stream",
     "text": [
      "['서울시립대', 'https://admission.uos.ac.kr/admission/noticeBoard/list.do?list_id=OB1&epTicket=LOG', datetime.datetime(2024, 3, 4, 17, 11, 56, 762640), '2024학년도 고교별 합격자 조회 안내', datetime.date(2023, 11, 20), '2024학년도 신입학 합격자 등록금 납부 및 포기(환불) 안내', datetime.date(2024, 2, 6), '2024학년도 서울시립대학교 추가모집 공고', datetime.date(2024, 2, 22), '2024학년도 농어촌학생특별전형 합격자 최종 서류 제출 안내', datetime.date(2024, 2, 14)]\n"
     ]
    }
   ],
   "source": [
    "univ_nm = '서울시립대'\n",
    "url1 = 'https://admission.uos.ac.kr/admission/noticeBoard/list.do?list_id=OB1&epTicket=LOG'\n",
    "url2 = 'https://admission.uos.ac.kr/admission/noticeBoard/list.do?list_id=OB1&epTicket=LOG'\n",
    "\n",
    "driver.get(url1)\n",
    "soup1 = BeautifulSoup(driver.page_source, 'html.parser')\n",
    "title1 = soup1.find('ul', 'listType').find('a').get_text().strip()\n",
    "date1 = soup1.find('li', 'mhide').get_text().strip()\n",
    "date1 = datetime.date(int(date1[0:4]), int(date1[5:7]), int(date1[8:10]))\n",
    "\n",
    "title2 = soup1.find('ul', 'listType').find_all('a')[1].get_text().strip()\n",
    "date2 = soup1.find_all('li', 'mhide')[1].get_text().strip()\n",
    "date2 = datetime.date(int(date2[0:4]), int(date2[5:7]), int(date2[8:10]))\n",
    "\n",
    "driver.get(url2)\n",
    "soup2 = BeautifulSoup(driver.page_source, 'html.parser')\n",
    "title3 = soup2.find('ul', 'listType').find_all('a')[2].get_text().strip()\n",
    "date3 = soup2.find_all('li', 'mhide')[2].get_text().strip()\n",
    "date3 = datetime.date(int(date3[0:4]), int(date3[5:7]), int(date3[8:10]))\n",
    "\n",
    "title4 = soup2.find('ul', 'listType').find_all('a')[3].get_text().strip()\n",
    "date4 = soup2.find_all('li', 'mhide')[3].get_text().strip()\n",
    "date4 = datetime.date(int(date4[0:4]), int(date4[5:7]), int(date4[8:10]))\n",
    "\n",
    "print([univ_nm, url2, datetime.datetime.now(), title1, date1, title2, date2, title3, date3, title4, date4])\n",
    "excel_sheet.append([univ_nm, url2, datetime.datetime.now(), title1, date1, title2, date2, title3, date3, title4, date4])"
   ]
  },
  {
   "cell_type": "markdown",
   "id": "246dfd7b-7859-4132-add7-6bbc1e2dc731",
   "metadata": {},
   "source": [
    "### 대구교대"
   ]
  },
  {
   "cell_type": "code",
   "execution_count": 80,
   "id": "956e6124-cb7a-4393-8c1b-e7e5d328c29f",
   "metadata": {},
   "outputs": [
    {
     "name": "stdout",
     "output_type": "stream",
     "text": [
      "['대구교대', 'https://admission.dnue.ac.kr/ipsi/CMS/Board/Board.do?mCode=MN029', datetime.datetime(2024, 3, 4, 17, 11, 58, 992853), '2025학년도 대학입학전형 시행계획 공지', datetime.date(2023, 4, 26), '2024학년도 정시모집 최종 예비순위 안내', datetime.date(2024, 2, 20), '2024학년도 신입생 심화과정 신청 페이지 안내', datetime.date(2024, 2, 19), '2024학년도 수시모집 합격자 등록금 고지서 조회 페이지 안내', datetime.date(2024, 2, 6)]\n"
     ]
    }
   ],
   "source": [
    "# @@ XPATH 변경 확인 필요\n",
    "\n",
    "univ_nm = '대구교대'\n",
    "url1 = 'https://admission.dnue.ac.kr/ipsi/CMS/Board/Board.do?mCode=MN029'\n",
    "url2 = 'https://admission.dnue.ac.kr/ipsi/CMS/Board/Board.do?mCode=MN029'\n",
    "\n",
    "driver.get(url1)\n",
    "title1 =  driver.find_element(By.XPATH, '/html/body/div[2]/article/div[2]/div/div[2]/div/div[2]/table/tbody/tr[1]/td[2]/p/span').text\n",
    "date1 = driver.find_element(By.XPATH, '/html/body/div[2]/article/div[2]/div/div[2]/div/div[2]/table/tbody/tr[1]/td[4]').text\n",
    "date1 = datetime.date(int(date1[0:4]), int(date1[5:7]), int(date1[8:10]))\n",
    "\n",
    "title2 = driver.find_element(By.XPATH, '/html/body/div[2]/article/div[2]/div/div[2]/div/div[2]/table/tbody/tr[2]/td[2]/p/a').text\n",
    "date2 = driver.find_element(By.XPATH, '/html/body/div[2]/article/div[2]/div/div[2]/div/div[2]/table/tbody/tr[2]/td[4]').text\n",
    "date2 = datetime.date(int(date2[0:4]), int(date2[5:7]), int(date2[8:10]))\n",
    "\n",
    "driver.get(url2)\n",
    "title3 = driver.find_element(By.XPATH, '/html/body/div[2]/article/div[2]/div/div[2]/div/div[2]/table/tbody/tr[3]/td[2]/p/a').text\n",
    "date3 = driver.find_element(By.XPATH, '/html/body/div[2]/article/div[2]/div/div[2]/div/div[2]/table/tbody/tr[3]/td[4]').text\n",
    "date3 = datetime.date(int(date3[0:4]), int(date3[5:7]), int(date3[8:10]))\n",
    "\n",
    "title4 = driver.find_element(By.XPATH, '/html/body/div[2]/article/div[2]/div/div[2]/div/div[2]/table/tbody/tr[4]/td[2]/p/a').text\n",
    "date4 = driver.find_element(By.XPATH, '/html/body/div[2]/article/div[2]/div/div[2]/div/div[2]/table/tbody/tr[4]/td[4]').text\n",
    "date4 = datetime.date(int(date4[0:4]), int(date4[5:7]), int(date4[8:10]))\n",
    "\n",
    "print([univ_nm, url2, datetime.datetime.now(), title1, date1, title2, date2, title3, date3, title4, date4])\n",
    "excel_sheet.append([univ_nm, url2, datetime.datetime.now(), title1, date1, title2, date2, title3, date3, title4, date4])"
   ]
  },
  {
   "cell_type": "markdown",
   "id": "9f3ddd50-4968-40c6-aebd-e792c96ca9b5",
   "metadata": {},
   "source": [
    "### 부산교대"
   ]
  },
  {
   "cell_type": "code",
   "execution_count": 81,
   "id": "5e0d007b-83e5-4669-811f-098dbc194e39",
   "metadata": {},
   "outputs": [
    {
     "name": "stdout",
     "output_type": "stream",
     "text": [
      "['부산교대', 'https://enter.bnue.ac.kr/Home/BBSList.mbz?action=MAPP_1807160347&schCategorycode=CTG_18071600031', datetime.datetime(2024, 3, 4, 17, 12, 0, 833218), '2024학년도 정시모집 3차 추가합격자 등록금 납부안내 및 유의사항', datetime.date(2024, 2, 19), '2024학년도 정시모집 3차 추가합격자 발표일 안내 [2. 19.(월) 오전 10시 예정]', datetime.date(2024, 2, 16), '2019학년도 정시전형에 대한 개선사항 접수 창구 운영', datetime.date(2019, 1, 18), '2019학년도 정시전형에 대한 개선사항 접수 창구 운영', datetime.date(2018, 2, 20)]\n"
     ]
    }
   ],
   "source": [
    "univ_nm = '부산교대'\n",
    "url1 = 'https://enter.bnue.ac.kr/Home/BBSList.mbz?action=MAPP_1807160344'\n",
    "url2 = 'https://enter.bnue.ac.kr/Home/BBSList.mbz?action=MAPP_1807160347&schCategorycode=CTG_18071600031'\n",
    "\n",
    "driver.get(url1)\n",
    "soup1 = BeautifulSoup(driver.page_source, 'html.parser')\n",
    "title1 = soup1.find('td', 'board-list-title').get_text().strip()\n",
    "date1 = soup1.find('td', 'txt-center pc_view').get_text().strip()\n",
    "date1 = datetime.date(int(date1[0:4]), int(date1[5:7]), int(date1[8:10]))\n",
    "\n",
    "title2 = soup1.find_all('td', 'board-list-title')[1].get_text().strip()\n",
    "date2 = soup1.find_all('td', 'txt-center pc_view')[2].get_text().strip()\n",
    "date2 = datetime.date(int(date2[0:4]), int(date2[5:7]), int(date2[8:10]))\n",
    "\n",
    "driver.get(url2)\n",
    "soup2 = BeautifulSoup(driver.page_source, 'html.parser')\n",
    "title3 = soup2.find('td', 'board-list-title').get_text().strip()\n",
    "date3 = soup2.find('td', 'txt-center pc_view').get_text().strip()\n",
    "date3 = datetime.date(int(date3[0:4]), int(date3[5:7]), int(date3[8:10]))\n",
    "\n",
    "title4 = soup2.find('td', 'board-list-title').get_text().strip()\n",
    "date4 = soup2.find_all('td', 'txt-center pc_view')[2].get_text().strip()\n",
    "date4 = datetime.date(int(date4[0:4]), int(date4[5:7]), int(date4[8:10]))\n",
    "\n",
    "print([univ_nm, url2, datetime.datetime.now(), title1, date1, title2, date2, title3, date3, title4, date4])\n",
    "excel_sheet.append([univ_nm, url2, datetime.datetime.now(), title1, date1, title2, date2, title3, date3, title4, date4])"
   ]
  },
  {
   "cell_type": "markdown",
   "id": "bf268584-ec1b-49c7-9e9b-19b6692fa52b",
   "metadata": {},
   "source": [
    "### 광주교대"
   ]
  },
  {
   "cell_type": "code",
   "execution_count": 82,
   "id": "63d937a1-71ee-49d4-87be-47ad975872b8",
   "metadata": {},
   "outputs": [
    {
     "name": "stdout",
     "output_type": "stream",
     "text": [
      "['광주교대', 'https://entrance.gnue.ac.kr/planweb/board/list.9is?contentUid=4a9f18ab7591d6de017592138b3200be&boardUid=4a9f18ab75bfe2b00175ceb5ac2b02bd&contentUid=4a9f18ab7591d6de017592138b3200be', datetime.datetime(2024, 3, 4, 17, 12, 2, 607068), '2024학년도 정시모집 4차 충원합격자 안내', datetime.date(2024, 2, 19), '2024학년도 정시모집 3차 충원합격자 안내', datetime.date(2024, 2, 16), '2024학년도 정시모집 2차 충원합격자 안내', datetime.date(2024, 2, 15), '2024학년도 정시모집 1차 충원합격자 안내', datetime.date(2024, 2, 14)]\n"
     ]
    }
   ],
   "source": [
    "# @@ title2 - 숫자처리 변경 주의\n",
    "univ_nm = '광주교대'\n",
    "url1 = 'https://entrance.gnue.ac.kr/planweb/board/list.9is?contentUid=4a9f18ab7591d6de017592138b3200be&boardUid=4a9f18ab75bfe2b00175ceb5ac2b02bd&contentUid=4a9f18ab7591d6de017592138b3200be'\n",
    "url2 = 'https://entrance.gnue.ac.kr/planweb/board/list.9is?contentUid=4a9f18ab7591d6de017592138b3200be&boardUid=4a9f18ab75bfe2b00175ceb5ac2b02bd&contentUid=4a9f18ab7591d6de017592138b3200be'\n",
    "\n",
    "driver.get(url1)\n",
    "soup1 = BeautifulSoup(driver.page_source, 'html.parser')\n",
    "title1 = soup1.find('td', 'title').find('a').get_text().strip()\n",
    "date1 = soup1.find('td', 'date').get_text().strip()\n",
    "date1 = datetime.date(int(date1[0:4]), int(date1[5:7]), int(date1[8:10]))\n",
    "\n",
    "title2 = soup1.find_all('td', 'title')[1].find('a')['title'][:-7]\n",
    "date2 = soup1.find_all('td', 'date')[1].get_text().strip()\n",
    "date2 = datetime.date(int(date2[0:4]), int(date2[5:7]), int(date2[8:10]))\n",
    "\n",
    "driver.get(url2)\n",
    "soup2 = BeautifulSoup(driver.page_source, 'html.parser')\n",
    "title3 = soup2.find_all('td', 'title')[2].find('a')['title'][:-7]\n",
    "date3 = soup2.find_all('td', 'date')[2].get_text().strip()\n",
    "date3 = datetime.date(int(date3[0:4]), int(date3[5:7]), int(date3[8:10]))\n",
    "\n",
    "title4 = soup2.find_all('td', 'title')[3].find('a')['title'][:-7]\n",
    "date4 = soup2.find_all('td', 'date')[3].get_text().strip()\n",
    "date4 = datetime.date(int(date4[0:4]), int(date4[5:7]), int(date4[8:10]))\n",
    "\n",
    "print([univ_nm, url2, datetime.datetime.now(), title1, date1, title2, date2, title3, date3, title4, date4])\n",
    "excel_sheet.append([univ_nm, url2, datetime.datetime.now(), title1, date1, title2, date2, title3, date3, title4, date4])"
   ]
  },
  {
   "cell_type": "markdown",
   "id": "42a9576d-5998-4901-bd74-072269b264a3",
   "metadata": {},
   "source": [
    "### 건국대(서울)"
   ]
  },
  {
   "cell_type": "code",
   "execution_count": 83,
   "id": "aebd99ac-02be-4492-8715-d7fa254a6171",
   "metadata": {},
   "outputs": [
    {
     "name": "stdout",
     "output_type": "stream",
     "text": [
      "['건국대(서울)', 'https://enter.konkuk.ac.kr/submenu.do?menuurl=miPMzZuRMGxzpDoeA1nFTg%3D%3D&categoryid=10', datetime.datetime(2024, 3, 4, 17, 12, 4, 607372), '2024학년도 대학수학능력시험 탐구영역 변환표준점수표 안내', datetime.date(2024, 2, 22), '2024학년도 신입학 최종 합격자 및 등록금 영수증 확인', datetime.date(2024, 2, 15), '2024학년도 정시모집 최종 모집인원 안내', datetime.date(2024, 1, 2), '2024학년도 대학수학능력시험 탐구영역 변환표준점수표 안내', datetime.date(2023, 12, 12)]\n"
     ]
    }
   ],
   "source": [
    "univ_nm = '건국대(서울)'\n",
    "url1 = 'https://enter.konkuk.ac.kr/submenu.do?menuurl=miPMzZuRMGxzpDoeA1nFTg%3D%3D&categoryid=0'\n",
    "url2 = 'https://enter.konkuk.ac.kr/submenu.do?menuurl=miPMzZuRMGxzpDoeA1nFTg%3D%3D&categoryid=10'\n",
    "\n",
    "driver.get(url1)\n",
    "soup1 = BeautifulSoup(driver.page_source, 'html.parser')\n",
    "title1 = soup1.find('text').get_text().strip()\n",
    "date1 = soup1.find('div', 'dateHit').find('span').get_text().strip()\n",
    "date1 = datetime.date(int(date1[0:4]), int(date1[5:7]), int(date1[8:10]))\n",
    "\n",
    "title2 = soup1.find_all('text')[1].get_text().strip()\n",
    "date2 = soup1.find_all('div', 'dateHit')[1].find('span').get_text().strip()\n",
    "date2 = datetime.date(int(date2[0:4]), int(date2[5:7]), int(date2[8:10]))\n",
    "\n",
    "driver.get(url2)\n",
    "soup2 = BeautifulSoup(driver.page_source, 'html.parser')\n",
    "title3 = soup2.find('text').get_text().strip()\n",
    "date3 = soup2.find('div', 'dateHit').find('span').get_text().strip()\n",
    "date3 = datetime.date(int(date3[0:4]), int(date3[5:7]), int(date3[8:10]))\n",
    "\n",
    "title4 = soup2.find_all('text')[1].get_text().strip()\n",
    "date4 = soup2.find_all('div', 'dateHit')[1].find('span').get_text().strip()\n",
    "date4 = datetime.date(int(date4[0:4]), int(date4[5:7]), int(date4[8:10]))\n",
    "\n",
    "print([univ_nm, url2, datetime.datetime.now(), title1, date1, title2, date2, title3, date3, title4, date4])\n",
    "excel_sheet.append([univ_nm, url2, datetime.datetime.now(), title1, date1, title2, date2, title3, date3, title4, date4])"
   ]
  },
  {
   "cell_type": "markdown",
   "id": "fa6515ef-6453-4665-ae01-38817c94131d",
   "metadata": {},
   "source": [
    "### 공주교대"
   ]
  },
  {
   "cell_type": "code",
   "execution_count": 84,
   "id": "eb586357-c307-45df-8af8-a8ff65ec1af7",
   "metadata": {},
   "outputs": [
    {
     "name": "stdout",
     "output_type": "stream",
     "text": [
      "['공주교대', 'https://www.gjue.ac.kr/ipsi/article/BBSMSTR_000000000011', datetime.datetime(2024, 3, 4, 17, 12, 5, 783538), '2024학년도 정시모집 모집인원 공지(수시모집 이월 인원 포함)', datetime.date(2024, 1, 2), '2024학년도 정시모집 2차 추가합격 예비 순번 안내', datetime.date(2024, 2, 15), '2024학년도 정시모집 1차추가합격 예비 순번 안내', datetime.date(2024, 2, 14), '2024학년도 수시모집 입학등록자 등록금 납부 관련 안내사항 공지', datetime.date(2024, 2, 5)]\n"
     ]
    }
   ],
   "source": [
    "univ_nm = '공주교대'\n",
    "url1 = 'https://www.gjue.ac.kr/ipsi/article/BBSMSTR_000000000011'\n",
    "url2 = 'https://www.gjue.ac.kr/ipsi/article/BBSMSTR_000000000011'\n",
    "\n",
    "driver.get(url1)\n",
    "soup1 = BeautifulSoup(driver.page_source, 'html.parser')\n",
    "title1 = soup1.find('p', 'subject align_left').get_text().strip()\n",
    "date1 = soup1.find('p', 'date').get_text().strip()\n",
    "date1 = datetime.date(int(date1[0:4]), int(date1[5:7]), int(date1[8:10]))\n",
    "\n",
    "title2 = soup1.find_all('p', 'subject align_left')[1].get_text().strip()\n",
    "date2 = soup1.find_all('p', 'date')[1].get_text().strip()\n",
    "date2 = datetime.date(int(date2[0:4]), int(date2[5:7]), int(date2[8:10]))\n",
    "\n",
    "driver.get(url2)\n",
    "soup2 = BeautifulSoup(driver.page_source, 'html.parser')\n",
    "title3 = soup2.find_all('p', 'subject align_left')[2].get_text().strip()\n",
    "date3 = soup2.find_all('p', 'date')[2].get_text().strip()\n",
    "date3 = datetime.date(int(date3[0:4]), int(date3[5:7]), int(date3[8:10]))\n",
    "\n",
    "title4 = soup2.find_all('p', 'subject align_left')[3].get_text().strip()\n",
    "date4 = soup2.find_all('p', 'date')[3].get_text().strip()\n",
    "date4 = datetime.date(int(date4[0:4]), int(date4[5:7]), int(date4[8:10]))\n",
    "\n",
    "print([univ_nm, url2, datetime.datetime.now(), title1, date1, title2, date2, title3, date3, title4, date4])\n",
    "excel_sheet.append([univ_nm, url2, datetime.datetime.now(), title1, date1, title2, date2, title3, date3, title4, date4])"
   ]
  },
  {
   "cell_type": "markdown",
   "id": "f383afd8-f128-43cc-9437-bfa63aa91d44",
   "metadata": {},
   "source": [
    "### 한국교원대"
   ]
  },
  {
   "cell_type": "code",
   "execution_count": 85,
   "id": "7650b94c-c1de-47dd-876d-e898c8f957f2",
   "metadata": {},
   "outputs": [
    {
     "name": "stdout",
     "output_type": "stream",
     "text": [
      "['한국교원대', 'https://ent.knue.ac.kr/notice1.brd?shell=/index.shell:120', datetime.datetime(2024, 3, 4, 17, 12, 7, 75971), '2024학년도 추가모집 최종 충원합격자 안내사항', datetime.date(2024, 2, 28), '2024학년도 정시모집 수험생 웹서비스 로그인 링크 안내', datetime.date(2024, 2, 21), '2024학년도 신입생 수시 합격자 등록금 납부 안내', datetime.date(2024, 2, 2), '2024학년도 추가모집 최종 충원합격자 안내사항', datetime.date(2024, 2, 28)]\n"
     ]
    }
   ],
   "source": [
    "univ_nm = '한국교원대'\n",
    "url1 = 'https://ent.knue.ac.kr/notice1.brd?shell=/index.shell:120'\n",
    "url2 = 'https://ent.knue.ac.kr/notice1.brd?shell=/index.shell:120'\n",
    "\n",
    "driver.get(url1)\n",
    "title1 = driver.find_element(By.XPATH, '/html/body/div/div[1]/div[3]/div[2]/div/div/form/table[2]/tbody/tr[1]/td[3]/a')\n",
    "title1 = title1.text\n",
    "date1 = driver.find_element(By.XPATH, '/html/body/div/div[1]/div[3]/div[2]/div/div/form/table[2]/tbody/tr[1]/td[4]')\n",
    "date1 = date1.text\n",
    "date1 = datetime.date(2000+int(date1[0:2]), int(date1[3:5]), int(date1[6:8]))\n",
    "\n",
    "title2 = driver.find_element(By.XPATH, '/html/body/div/div[1]/div[3]/div[2]/div/div/form/table[2]/tbody/tr[2]/td[3]/a')\n",
    "title2 = title2.text\n",
    "date2 = driver.find_element(By.XPATH, '/html/body/div/div[1]/div[3]/div[2]/div/div/form/table[2]/tbody/tr[2]/td[4]')\n",
    "date2 = date2.text\n",
    "date2 = datetime.date(2000+int(date2[0:2]), int(date2[3:5]), int(date2[6:8]))\n",
    "\n",
    "driver.get(url2)\n",
    "title3 = driver.find_element(By.XPATH, '/html/body/div/div[1]/div[3]/div[2]/div/div/form/table[2]/tbody/tr[3]/td[3]/a')\n",
    "title3 = title3.text\n",
    "date3 = driver.find_element(By.XPATH, '/html/body/div/div[1]/div[3]/div[2]/div/div/form/table[2]/tbody/tr[3]/td[4]')\n",
    "date3 = date3.text\n",
    "date3 = datetime.date(2000+int(date3[0:2]), int(date3[3:5]), int(date3[6:8]))\n",
    "\n",
    "title4 = driver.find_element(By.XPATH, '/html/body/div/div[1]/div[3]/div[2]/div/div/form/table[2]/tbody/tr[4]/td[3]/a')\n",
    "title4 = title4.text\n",
    "date4 = driver.find_element(By.XPATH, '/html/body/div/div[1]/div[3]/div[2]/div/div/form/table[2]/tbody/tr[4]/td[4]')\n",
    "date4 = date4.text\n",
    "date4 = datetime.date(2000+int(date4[0:2]), int(date4[3:5]), int(date4[6:8]))\n",
    "\n",
    "print([univ_nm, url2, datetime.datetime.now(), title1, date1, title2, date2, title3, date3, title4, date4])\n",
    "excel_sheet.append([univ_nm, url2, datetime.datetime.now(), title1, date1, title2, date2, title3, date3, title4, date4])"
   ]
  },
  {
   "cell_type": "markdown",
   "id": "ae30e620-5560-4970-98df-035d97dbc227",
   "metadata": {},
   "source": [
    "### 춘천교대"
   ]
  },
  {
   "cell_type": "code",
   "execution_count": 86,
   "id": "dca35276-9380-4ed9-b61f-70dfcbef26fd",
   "metadata": {},
   "outputs": [
    {
     "name": "stdout",
     "output_type": "stream",
     "text": [
      "['춘천교대', 'https://enter.cnue.ac.kr/enter/communication/notice.do', datetime.datetime(2024, 3, 4, 17, 12, 7, 949915), '2023년 당시 고3이었던 신입학자 최종 서류 제출(3.22.까지)', datetime.date(2024, 2, 22), '2024학년도 정시모집 합격자 발표 현황(2024.2.20.18:00)최종', datetime.date(2024, 2, 13), '신입학 등록금 납부 확인 방법', datetime.date(2024, 2, 7), '2024학년도 신입학 일정 안내', datetime.date(2024, 1, 29)]\n"
     ]
    }
   ],
   "source": [
    "# @@ 3/4 XPATH 사용으로 변경 확인 필요\n",
    "\n",
    "univ_nm = '춘천교대'\n",
    "url1 = 'https://enter.cnue.ac.kr/enter/communication/notice.do'\n",
    "url2 = 'https://enter.cnue.ac.kr/enter/communication/notice.do'\n",
    "\n",
    "driver.get(url1)\n",
    "title1 = driver.find_element(By.XPATH, '/html/body/div/div/div[4]/div[3]/div/div/div[2]/table/tbody/tr[1]/td[2]/div/a').text\n",
    "date1 = driver.find_element(By.XPATH, '/html/body/div/div/div[4]/div[3]/div/div/div[2]/table/tbody/tr[1]/td[4]').text\n",
    "date1 = datetime.date(2000+int(date1[0:2]), int(date1[3:5]), int(date1[6:8]))\n",
    "\n",
    "title2 = driver.find_element(By.XPATH, '/html/body/div/div/div[4]/div[3]/div/div/div[2]/table/tbody/tr[2]/td[2]/div/a').text\n",
    "date2 = driver.find_element(By.XPATH, '/html/body/div/div/div[4]/div[3]/div/div/div[2]/table/tbody/tr[2]/td[4]').text\n",
    "date2 = datetime.date(2000+int(date2[0:2]), int(date2[3:5]), int(date2[6:8]))\n",
    "\n",
    "driver.get(url2)\n",
    "title3 = driver.find_element(By.XPATH, '/html/body/div/div/div[4]/div[3]/div/div/div[2]/table/tbody/tr[3]/td[2]/div/a').text\n",
    "date3 = driver.find_element(By.XPATH, '/html/body/div/div/div[4]/div[3]/div/div/div[2]/table/tbody/tr[3]/td[4]').text\n",
    "date3 = datetime.date(2000+int(date3[0:2]), int(date3[3:5]), int(date3[6:8]))\n",
    "\n",
    "title4 = driver.find_element(By.XPATH, '/html/body/div/div/div[4]/div[3]/div/div/div[2]/table/tbody/tr[4]/td[2]/div/a').text\n",
    "date4 = driver.find_element(By.XPATH, '/html/body/div/div/div[4]/div[3]/div/div/div[2]/table/tbody/tr[4]/td[4]').text\n",
    "date4 = datetime.date(2000+int(date4[0:2]), int(date4[3:5]), int(date4[6:8]))\n",
    "\n",
    "print([univ_nm, url2, datetime.datetime.now(), title1, date1, title2, date2, title3, date3, title4, date4])\n",
    "excel_sheet.append([univ_nm, url2, datetime.datetime.now(), title1, date1, title2, date2, title3, date3, title4, date4])"
   ]
  },
  {
   "cell_type": "markdown",
   "id": "d5f8bc74-39ef-4f37-86e3-9448010d624b",
   "metadata": {},
   "source": [
    "### 진주교대"
   ]
  },
  {
   "cell_type": "code",
   "execution_count": 88,
   "id": "c9050fb1-73ff-431c-82f8-2620ee24b9b8",
   "metadata": {},
   "outputs": [
    {
     "name": "stdout",
     "output_type": "stream",
     "text": [
      "['진주교대', 'https://www.cue.ac.kr/enter/CMS/Board/Board.do?mCode=MN026', datetime.datetime(2024, 3, 4, 17, 15, 52, 720710), '2024학년도 정시모집「나」군 4차 추가합격자 공고', datetime.date(2024, 2, 20), '2024학년도 정시모집「나」군 3차 추가합격자 공고', datetime.date(2024, 2, 19), '2024학년도 정시모집「나」군 2차 추가합격자 공고', datetime.date(2024, 2, 16), '2024학년도 정시모집「나」군 1차 추가합격자 공고', datetime.date(2024, 2, 14)]\n"
     ]
    }
   ],
   "source": [
    "# @@ XPATH로 변경\n",
    "\n",
    "univ_nm = '진주교대'\n",
    "url1 = 'https://www.cue.ac.kr/enter/CMS/Board/Board.do?mCode=MN026'\n",
    "url2 = 'https://www.cue.ac.kr/enter/CMS/Board/Board.do?mCode=MN026'\n",
    "\n",
    "driver.get(url1)\n",
    "title1 = driver.find_element(By.XPATH, '/html/body/div[3]/article/div[2]/div[2]/div[2]/div/div[2]/table/tbody/tr[1]/td[3]/p/a').text\n",
    "date1 = driver.find_element(By.XPATH, '/html/body/div[3]/article/div[2]/div[2]/div[2]/div/div[2]/table/tbody/tr[1]/td[5]').text\n",
    "date1 = datetime.date(int(date1[0:4]), int(date1[5:7]), int(date1[8:10]))\n",
    "\n",
    "title2 = driver.find_element(By.XPATH, '/html/body/div[3]/article/div[2]/div[2]/div[2]/div/div[2]/table/tbody/tr[2]/td[3]/p/a').text\n",
    "date2 = driver.find_element(By.XPATH, '/html/body/div[3]/article/div[2]/div[2]/div[2]/div/div[2]/table/tbody/tr[2]/td[5]').text\n",
    "date2 = datetime.date(int(date2[0:4]), int(date2[5:7]), int(date2[8:10]))\n",
    "\n",
    "driver.get(url2)\n",
    "title3 = driver.find_element(By.XPATH, '/html/body/div[3]/article/div[2]/div[2]/div[2]/div/div[2]/table/tbody/tr[3]/td[3]/p/a').text\n",
    "date3 = driver.find_element(By.XPATH, '/html/body/div[3]/article/div[2]/div[2]/div[2]/div/div[2]/table/tbody/tr[3]/td[5]').text\n",
    "date3 = datetime.date(int(date3[0:4]), int(date3[5:7]), int(date3[8:10]))\n",
    "\n",
    "title4 = driver.find_element(By.XPATH, '/html/body/div[3]/article/div[2]/div[2]/div[2]/div/div[2]/table/tbody/tr[4]/td[3]/p/a').text\n",
    "date4 = driver.find_element(By.XPATH, '/html/body/div[3]/article/div[2]/div[2]/div[2]/div/div[2]/table/tbody/tr[4]/td[5]').text\n",
    "date4 = datetime.date(int(date4[0:4]), int(date4[5:7]), int(date4[8:10]))\n",
    "\n",
    "print([univ_nm, url2, datetime.datetime.now(), title1, date1, title2, date2, title3, date3, title4, date4])\n",
    "excel_sheet.append([univ_nm, url2, datetime.datetime.now(), title1, date1, title2, date2, title3, date3, title4, date4])"
   ]
  },
  {
   "cell_type": "markdown",
   "id": "c4d80d1d-67be-4425-aa5f-8549fef79d1a",
   "metadata": {},
   "source": [
    "### 전주교대"
   ]
  },
  {
   "cell_type": "code",
   "execution_count": 89,
   "id": "ebbc23cd-a062-4b7c-8eb3-fd5d3660c8b8",
   "metadata": {},
   "outputs": [
    {
     "name": "stdout",
     "output_type": "stream",
     "text": [
      "['전주교대', 'https://www.jnue.kr/portal/enter/bbs/list.do?menuId=M0008000100000000', datetime.datetime(2024, 3, 4, 17, 16, 3, 74791), '2024학년도 정시모집 합격 포기 안내', datetime.date(2024, 2, 12), '2024학년도 정시모집 신입생 합격자 발표', datetime.date(2024, 2, 6), '2024학년도 정시모집 1단계 합격자 면접고사 조별 조회 및 수험표 출력 안내', datetime.date(2024, 1, 18), '2024학년도 정시모집 1단계 합격자 발표 안내', datetime.date(2024, 1, 15)]\n"
     ]
    }
   ],
   "source": [
    "univ_nm = '전주교대'\n",
    "url1 = 'https://www.jnue.kr/portal/enter/bbs/list.do?menuId=M0008000100000000'\n",
    "url2 = 'https://www.jnue.kr/portal/enter/bbs/list.do?menuId=M0008000100000000'\n",
    "\n",
    "driver.get(url1)\n",
    "title1 = WebDriverWait(driver, 5).until(\n",
    "    EC.visibility_of_element_located((By.XPATH, '/html/body/div/div[5]/div[2]/div[2]/div[2]/div[4]/table/tbody/tr[1]/td[2]/a'))).text\n",
    "date1 = WebDriverWait(driver, 5).until(\n",
    "    EC.visibility_of_element_located((By.XPATH, '/html/body/div/div[5]/div[2]/div[2]/div[2]/div[4]/table/tbody/tr[1]/td[4]'))).text\n",
    "date1 = datetime.date(int(date1[0:4]), int(date1[5:7]), int(date1[8:10]))\n",
    "\n",
    "title2 = WebDriverWait(driver, 5).until(\n",
    "    EC.visibility_of_element_located((By.XPATH, '/html/body/div/div[5]/div[2]/div[2]/div[2]/div[4]/table/tbody/tr[2]/td[2]/a'))).text\n",
    "date2 = WebDriverWait(driver, 5).until(\n",
    "    EC.visibility_of_element_located((By.XPATH, '/html/body/div/div[5]/div[2]/div[2]/div[2]/div[4]/table/tbody/tr[2]/td[4]'))).text\n",
    "date2 = datetime.date(int(date2[0:4]), int(date2[5:7]), int(date2[8:10]))\n",
    "\n",
    "driver.get(url2)\n",
    "title3 = WebDriverWait(driver, 5).until(\n",
    "    EC.visibility_of_element_located((By.XPATH, '/html/body/div/div[5]/div[2]/div[2]/div[2]/div[4]/table/tbody/tr[3]/td[2]/a'))).text\n",
    "date3 = WebDriverWait(driver, 5).until(\n",
    "    EC.visibility_of_element_located((By.XPATH, '/html/body/div/div[5]/div[2]/div[2]/div[2]/div[4]/table/tbody/tr[3]/td[4]'))).text\n",
    "date3 = datetime.date(int(date3[0:4]), int(date3[5:7]), int(date3[8:10]))\n",
    "\n",
    "title4 = WebDriverWait(driver, 5).until(\n",
    "    EC.visibility_of_element_located((By.XPATH, '/html/body/div/div[5]/div[2]/div[2]/div[2]/div[4]/table/tbody/tr[4]/td[2]/a'))).text\n",
    "date4 = WebDriverWait(driver, 5).until(\n",
    "    EC.visibility_of_element_located((By.XPATH, '/html/body/div/div[5]/div[2]/div[2]/div[2]/div[4]/table/tbody/tr[4]/td[4]'))).text\n",
    "date4 = datetime.date(int(date4[0:4]), int(date4[5:7]), int(date4[8:10]))\n",
    "\n",
    "print([univ_nm, url2, datetime.datetime.now(), title1, date1, title2, date2, title3, date3, title4, date4])\n",
    "excel_sheet.append([univ_nm, url2, datetime.datetime.now(), title1, date1, title2, date2, title3, date3, title4, date4])"
   ]
  },
  {
   "cell_type": "markdown",
   "id": "9374612f-8501-47e7-927c-b35d59f1fe48",
   "metadata": {},
   "source": [
    "### 청주교대"
   ]
  },
  {
   "cell_type": "code",
   "execution_count": 90,
   "id": "3910b6cb-57f0-4802-8ca7-fa45f1d01ca3",
   "metadata": {},
   "outputs": [
    {
     "name": "stdout",
     "output_type": "stream",
     "text": [
      "['청주교대', 'https://www.cje.ac.kr/ipsi/web/board/brdList.do?menu_cd=000008', datetime.datetime(2024, 3, 4, 17, 16, 5, 268471), '2024학년도 정시모집 신입생 모집요강 변경 안내(모집인원 변경)', datetime.date(2024, 1, 2), '2025학년도 대학입학전형 시행계획 안내', datetime.date(2023, 4, 27), '2024학년도 신입생 졸업증명서 및 농어촌학생 관련 서류 제출 안내', datetime.date(2024, 2, 26), '2024학년도 신입생 심화과정 및 학번 공지', datetime.date(2024, 2, 23)]\n"
     ]
    }
   ],
   "source": [
    "univ_nm = '청주교대'\n",
    "url1 = 'https://www.cje.ac.kr/ipsi/web/board/brdList.do?menu_cd=000008'\n",
    "url2 = 'https://www.cje.ac.kr/ipsi/web/board/brdList.do?menu_cd=000008'\n",
    "\n",
    "driver.get(url1)\n",
    "title1 = WebDriverWait(driver, 5).until(\n",
    "    EC.visibility_of_element_located((By.XPATH, '/html/body/div[2]/div[4]/div[2]/div/div[2]/div/table/tbody/tr[1]/td[2]/span/a'))).text\n",
    "date1 = WebDriverWait(driver, 5).until(\n",
    "    EC.visibility_of_element_located((By.XPATH, '/html/body/div[2]/div[4]/div[2]/div/div[2]/div/table/tbody/tr[1]/td[4]/span'))).text\n",
    "date1 = datetime.date(int(date1[0:4]), int(date1[5:7]), int(date1[8:10]))\n",
    "\n",
    "title2 = WebDriverWait(driver, 5).until(\n",
    "    EC.visibility_of_element_located((By.XPATH, '/html/body/div[2]/div[4]/div[2]/div/div[2]/div/table/tbody/tr[2]/td[2]/span/a'))).text\n",
    "date2 = WebDriverWait(driver, 5).until(\n",
    "    EC.visibility_of_element_located((By.XPATH, '/html/body/div[2]/div[4]/div[2]/div/div[2]/div/table/tbody/tr[2]/td[4]/span'))).text\n",
    "date2 = datetime.date(int(date2[0:4]), int(date2[5:7]), int(date2[8:10]))\n",
    "\n",
    "driver.get(url2)\n",
    "title3 = WebDriverWait(driver, 5).until(\n",
    "    EC.visibility_of_element_located((By.XPATH, '/html/body/div[2]/div[4]/div[2]/div/div[2]/div/table/tbody/tr[3]/td[2]/span/a'))).text\n",
    "date3 = WebDriverWait(driver, 5).until(\n",
    "    EC.visibility_of_element_located((By.XPATH, '/html/body/div[2]/div[4]/div[2]/div/div[2]/div/table/tbody/tr[3]/td[4]/span'))).text\n",
    "date3 = datetime.date(int(date3[0:4]), int(date3[5:7]), int(date3[8:10]))\n",
    "\n",
    "title4 = WebDriverWait(driver, 5).until(\n",
    "    EC.visibility_of_element_located((By.XPATH, '/html/body/div[2]/div[4]/div[2]/div/div[2]/div/table/tbody/tr[4]/td[2]/span/a'))).text\n",
    "date4 = WebDriverWait(driver, 5).until(\n",
    "    EC.visibility_of_element_located((By.XPATH, '/html/body/div[2]/div[4]/div[2]/div/div[2]/div/table/tbody/tr[4]/td[4]/span'))).text\n",
    "date4 = datetime.date(int(date4[0:4]), int(date4[5:7]), int(date4[8:10]))\n",
    "\n",
    "print([univ_nm, url2, datetime.datetime.now(), title1, date1, title2, date2, title3, date3, title4, date4])\n",
    "excel_sheet.append([univ_nm, url2, datetime.datetime.now(), title1, date1, title2, date2, title3, date3, title4, date4])"
   ]
  },
  {
   "cell_type": "markdown",
   "id": "261a31a4-ae95-4874-aa3c-4a9050186ef5",
   "metadata": {},
   "source": [
    "### 홍익대"
   ]
  },
  {
   "cell_type": "code",
   "execution_count": 91,
   "id": "f2bb192e-6d81-4b3f-8ebb-2610bb80fef2",
   "metadata": {},
   "outputs": [
    {
     "name": "stdout",
     "output_type": "stream",
     "text": [
      "['홍익대', 'https://admission.hongik.ac.kr/board/notice', datetime.datetime(2024, 3, 4, 17, 16, 7, 354822), '본교 입학관리본부 홈페이지 개편 관련 안내(2024.3.1일 기준)', datetime.date(2024, 2, 29), '2024학년도 편입생 안내문', datetime.date(2024, 2, 7), '2024학년도 신입생 안내문', datetime.date(2024, 2, 5), '2024학년도 추가모집 기숙사 및 수강신청 관련 안내(서울/세종)', datetime.date(2024, 2, 27)]\n"
     ]
    }
   ],
   "source": [
    "# @@ 홈페이지 개편 예정 (3월 중순)\n",
    "\n",
    "univ_nm = '홍익대'\n",
    "url1 = 'https://admission.hongik.ac.kr/board/notice'\n",
    "url2 = 'https://admission.hongik.ac.kr/board/notice'\n",
    "\n",
    "driver.get(url1)\n",
    "title1 = driver.find_element(By.XPATH, '/html/body/div[3]/div[2]/div[3]/table/tbody/tr[1]/td[2]/a').text\n",
    "date1 = driver.find_element(By.XPATH, '/html/body/div[3]/div[2]/div[3]/table/tbody/tr[1]/td[4]').text\n",
    "date1 = datetime.date(int(date1[0:4]), int(date1[5:7]), int(date1[8:10]))\n",
    "\n",
    "title2 = driver.find_element(By.XPATH, '/html/body/div[3]/div[2]/div[3]/table/tbody/tr[2]/td[2]/a').text\n",
    "date2 = driver.find_element(By.XPATH, '/html/body/div[3]/div[2]/div[3]/table/tbody/tr[2]/td[4]').text\n",
    "date2 = datetime.date(int(date2[0:4]), int(date2[5:7]), int(date2[8:10]))\n",
    "\n",
    "driver.get(url2)\n",
    "title3 = driver.find_element(By.XPATH, '/html/body/div[3]/div[2]/div[3]/table/tbody/tr[3]/td[2]/a').text\n",
    "date3 = driver.find_element(By.XPATH, '/html/body/div[3]/div[2]/div[3]/table/tbody/tr[3]/td[4]').text\n",
    "date3 = datetime.date(int(date3[0:4]), int(date3[5:7]), int(date3[8:10]))\n",
    "\n",
    "title4 = driver.find_element(By.XPATH, '/html/body/div[3]/div[2]/div[3]/table/tbody/tr[4]/td[2]/a').text\n",
    "date4 = driver.find_element(By.XPATH, '/html/body/div[3]/div[2]/div[3]/table/tbody/tr[4]/td[4]').text\n",
    "date4 = datetime.date(int(date4[0:4]), int(date4[5:7]), int(date4[8:10]))\n",
    "\n",
    "print([univ_nm, url2, datetime.datetime.now(), title1, date1, title2, date2, title3, date3, title4, date4])\n",
    "excel_sheet.append([univ_nm, url2, datetime.datetime.now(), title1, date1, title2, date2, title3, date3, title4, date4])"
   ]
  },
  {
   "cell_type": "markdown",
   "id": "0a011846-8c41-4389-9d74-0d599373bc60",
   "metadata": {},
   "source": [
    "### 동국대(서울)"
   ]
  },
  {
   "cell_type": "code",
   "execution_count": 92,
   "id": "4bf8600c-be82-4c87-8317-66603ed69334",
   "metadata": {},
   "outputs": [
    {
     "name": "stdout",
     "output_type": "stream",
     "text": [
      "['동국대(서울)', 'https://ipsi.dongguk.edu/admission/html/regular/notice.asp', datetime.datetime(2024, 3, 4, 17, 16, 9, 102532), '2024학년도 신/편입학모집 최종합격자 확인', datetime.date(2024, 2, 7), '※[필독]2024학년도 신/편입학 합격자 대상 입학 장학금 관련 안내', datetime.date(2024, 1, 31), '2024학년도 정시모집 수능 탐구영역 변환표준점수표 안내', datetime.date(2023, 12, 13), '', '']\n"
     ]
    }
   ],
   "source": [
    "# @@ date에 XPATH 사용 / 변경확인 필요 / title4, date4 주석 처리 (0304)\n",
    "\n",
    "univ_nm = '동국대(서울)'\n",
    "url1 = 'https://ipsi.dongguk.edu/admission/html/counsel/notice.asp'\n",
    "url2 = 'https://ipsi.dongguk.edu/admission/html/regular/notice.asp'\n",
    "\n",
    "driver.get(url1)\n",
    "soup1 = BeautifulSoup(driver.page_source, 'html.parser')\n",
    "title1 = driver.find_element(By.XPATH, '/html/body/div[3]/div/div[2]/table/tbody/tr[1]/td[2]/dl/dt/a/span').text\n",
    "date1 = driver.find_element(By.XPATH, '/html/body/div[3]/div/div[2]/table/tbody/tr[1]/td[2]/dl/dd[2]').text[6:]\n",
    "date1 = datetime.date(int(date1[0:4]), int(date1[5:7]), int(date1[8:10]))\n",
    "\n",
    "title2 = driver.find_element(By.XPATH, '/html/body/div[3]/div/div[2]/table/tbody/tr[2]/td[2]/dl/dt/a/span').text\n",
    "date2 = driver.find_element(By.XPATH, '/html/body/div[3]/div/div[2]/table/tbody/tr[2]/td[2]/dl/dd[2]').text[6:]\n",
    "date2 = datetime.date(int(date2[0:4]), int(date2[5:7]), int(date2[8:10]))\n",
    "\n",
    "driver.get(url2)\n",
    "soup2 = BeautifulSoup(driver.page_source, 'html.parser')\n",
    "title3 = driver.find_element(By.XPATH, '/html/body/div[3]/div/div[2]/table/tbody/tr[1]/td[2]/dl/dt/a/span').text\n",
    "date3 = driver.find_element(By.XPATH, '/html/body/div[3]/div/div[2]/table/tbody/tr[1]/td[2]/dl/dd[1]').text[6:]\n",
    "date3 = datetime.date(int(date3[0:4]), int(date3[5:7]), int(date3[8:10]))\n",
    "\n",
    "#title4 = driver.find_element(By.XPATH, '/html/body/div[3]/div/div[2]/table/tbody/tr[2]/td[2]/dl/dt/a/span').text\n",
    "#date4 = driver.find_element(By.XPATH, '/html/body/div[3]/div/div[2]/table/tbody/tr[2]/td[2]/dl/dd[1]').text[6:]\n",
    "#date4 = datetime.date(int(date4[0:4]), int(date4[5:7]), int(date4[8:10]))\n",
    "title4 = ''\n",
    "date4 = ''\n",
    "print([univ_nm, url2, datetime.datetime.now(), title1, date1, title2, date2, title3, date3, title4, date4])\n",
    "excel_sheet.append([univ_nm, url2, datetime.datetime.now(), title1, date1, title2, date2, title3, date3, title4, date4])"
   ]
  },
  {
   "cell_type": "markdown",
   "id": "5cb9a65a-77db-4589-8ea5-aa85edb9983d",
   "metadata": {},
   "source": [
    "### 아주대"
   ]
  },
  {
   "cell_type": "code",
   "execution_count": 93,
   "id": "c4d5470c-f4fb-4676-8e25-3b831a104cb8",
   "metadata": {},
   "outputs": [
    {
     "name": "stdout",
     "output_type": "stream",
     "text": [
      "['아주대', 'https://www.iajou.ac.kr/notice/?m_type=JEONGSI', datetime.datetime(2024, 3, 4, 17, 16, 9, 839395), '2024학년도 추가모집 신입생 학번 확인 및 통합ID, 학생증 신청 안내', datetime.date(2024, 3, 1), '2024학년도 추가모집 충원합격자 발표 및 유의사항 안내', datetime.date(2024, 2, 29), '2024학년도 정시 모집인원 변경 안내(수시 미충원 이월 반영)', datetime.date(2024, 1, 1), '2024학년도 정시모집 환산점수 계산기', datetime.date(2023, 12, 29)]\n"
     ]
    }
   ],
   "source": [
    "# @@ \n",
    "\n",
    "univ_nm = '아주대'\n",
    "url1 = 'https://www.iajou.ac.kr/notice/'\n",
    "url2 = 'https://www.iajou.ac.kr/notice/?m_type=JEONGSI'\n",
    "\n",
    "driver.get(url1)\n",
    "title1 = driver.find_element(By.XPATH, '/html/body/div/div[2]/section/div[2]/table/tbody/tr[1]/td[2]/div/a/p').text\n",
    "date1 = driver.find_element(By.XPATH, '/html/body/div/div[2]/section/div[2]/table/tbody/tr[1]/td[3]/ul/li[2]/span').text\n",
    "date1 = datetime.date(int(date1[0:4]), int(date1[5:7]), int(date1[8:10]))\n",
    "\n",
    "title2 = driver.find_element(By.XPATH, '/html/body/div/div[2]/section/div[2]/table/tbody/tr[2]/td[2]/div/a/p').text\n",
    "date2 = driver.find_element(By.XPATH, '/html/body/div/div[2]/section/div[2]/table/tbody/tr[2]/td[3]/ul/li[2]/span').text\n",
    "date2 = datetime.date(int(date2[0:4]), int(date2[5:7]), int(date2[8:10]))\n",
    "\n",
    "driver.get(url2)\n",
    "title3 = driver.find_element(By.XPATH, '/html/body/div/div[2]/section/div[2]/table/tbody/tr[1]/td[2]/div/a/p').text\n",
    "date3 = driver.find_element(By.XPATH, '/html/body/div/div[2]/section/div[2]/table/tbody/tr[1]/td[3]/ul/li[2]/span').text\n",
    "date3 = datetime.date(int(date3[0:4]), int(date3[5:7]), int(date3[8:10]))\n",
    "\n",
    "title4 = driver.find_element(By.XPATH, '/html/body/div/div[2]/section/div[2]/table/tbody/tr[2]/td[2]/div/a/p').text\n",
    "date4 = driver.find_element(By.XPATH, '/html/body/div/div[2]/section/div[2]/table/tbody/tr[2]/td[3]/ul/li[2]/span').text\n",
    "date4 = datetime.date(int(date4[0:4]), int(date4[5:7]), int(date4[8:10]))\n",
    "\n",
    "print([univ_nm, url2, datetime.datetime.now(), title1, date1, title2, date2, title3, date3, title4, date4])\n",
    "excel_sheet.append([univ_nm, url2, datetime.datetime.now(), title1, date1, title2, date2, title3, date3, title4, date4])"
   ]
  },
  {
   "cell_type": "markdown",
   "id": "45c71219-ec2f-4ba8-bdc1-75c70a847b20",
   "metadata": {},
   "source": [
    "### 인하대"
   ]
  },
  {
   "cell_type": "code",
   "execution_count": 94,
   "id": "774332b4-8bc2-4735-89a3-1bad35c80eb6",
   "metadata": {},
   "outputs": [
    {
     "name": "stdout",
     "output_type": "stream",
     "text": [
      "['인하대', 'https://admission.inha.ac.kr/cms/FR_CON/index.do?MENU_ID=240&CONTENTS_NO=6', datetime.datetime(2024, 3, 4, 17, 16, 11, 569575), '[통합] 2024학년도 신편입학 등록금 납부 영수증 인쇄', datetime.date(2024, 3, 4), '[수시] 2024학년도 수시(재외국민 포함) 등록금 고지서 출력 및 납부확인', datetime.date(2024, 2, 14), '[통합] 2024학년도 신편입학 등록금 납부 영수증 인쇄', datetime.date(2024, 3, 4), '[통합] 2024학년도 학부 입학식 안내(2024.02.29.)', datetime.date(2024, 2, 14)]\n"
     ]
    }
   ],
   "source": [
    "univ_nm = '인하대'\n",
    "url1 = 'https://admission.inha.ac.kr/cms/FR_CON/index.do?MENU_ID=240&CONTENTS_NO=1'\n",
    "url2 = 'https://admission.inha.ac.kr/cms/FR_CON/index.do?MENU_ID=240&CONTENTS_NO=6'\n",
    "\n",
    "driver.get(url1)\n",
    "soup1 = BeautifulSoup(driver.page_source, 'html.parser')\n",
    "title1 = WebDriverWait(driver, 5).until(\n",
    "    EC.visibility_of_element_located((By.XPATH, '/html/body/div[6]/div[2]/article/div[3]/div[2]/ul/li[1]/div[1]/a'))).text\n",
    "date1 = soup1.find('div', 'txtInfo').get_text().strip()\n",
    "date1 = datetime.date(int(date1[0:4]), int(date1[5:7]), int(date1[8:10]))\n",
    "\n",
    "title2 = WebDriverWait(driver, 5).until(\n",
    "    EC.visibility_of_element_located((By.XPATH, '/html/body/div[6]/div[2]/article/div[3]/div[2]/ul/li[2]/div[1]/a'))).text\n",
    "date2 = soup1.find_all('div', 'txtInfo')[1].get_text().strip()\n",
    "date2 = datetime.date(int(date2[0:4]), int(date2[5:7]), int(date2[8:10]))\n",
    "\n",
    "driver.get(url2)\n",
    "soup2 = BeautifulSoup(driver.page_source, 'html.parser')\n",
    "title3 = WebDriverWait(driver, 5).until(\n",
    "    EC.visibility_of_element_located((By.XPATH, '/html/body/div[6]/div[2]/article/div[3]/div[2]/ul/li[1]/div[1]/a'))).text\n",
    "date3 = soup2.find('div', 'txtInfo').get_text().strip()\n",
    "date3 = datetime.date(int(date3[0:4]), int(date3[5:7]), int(date3[8:10]))\n",
    "\n",
    "title4 = WebDriverWait(driver, 5).until(\n",
    "    EC.visibility_of_element_located((By.XPATH, '/html/body/div[6]/div[2]/article/div[3]/div[2]/ul/li[2]/div[1]/a'))).text\n",
    "date4 = soup2.find_all('div', 'txtInfo')[1].get_text().strip()\n",
    "date4 = datetime.date(int(date4[0:4]), int(date4[5:7]), int(date4[8:10]))\n",
    "\n",
    "print([univ_nm, url2, datetime.datetime.now(), title1, date1, title2, date2, title3, date3, title4, date4])\n",
    "excel_sheet.append([univ_nm, url2, datetime.datetime.now(), title1, date1, title2, date2, title3, date3, title4, date4])"
   ]
  },
  {
   "cell_type": "markdown",
   "id": "2006ed3e-96ab-4e58-a6ed-ca8d159f034c",
   "metadata": {},
   "source": [
    "### 숙명여대"
   ]
  },
  {
   "cell_type": "code",
   "execution_count": 95,
   "id": "d02b72bf-c403-4839-9539-0d2e700ca7eb",
   "metadata": {},
   "outputs": [
    {
     "name": "stdout",
     "output_type": "stream",
     "text": [
      "['숙명여대', 'https://admission.sookmyung.ac.kr/admission/html/counsel/notice.asp?p_board_id=BBS0004&p_site_type=MAM0001&s_board_category=BBS0403&p_board_idx=&p_mode=&page=1&s_search_type=board_title&s_search_text=', datetime.datetime(2024, 3, 4, 17, 16, 12, 126185), '2025학년도 대학입학전형시행계획 안내', datetime.date(2023, 8, 17), '2024학년도 대입전형 안내 영상', datetime.date(2023, 7, 7), '2024학년도 정시모집 최종모집인원 안내', datetime.date(2023, 12, 29), '2024학년도 정시모집 모집요강', datetime.date(2023, 9, 1)]\n"
     ]
    }
   ],
   "source": [
    "univ_nm = '숙명여대'\n",
    "url1 = 'https://admission.sookmyung.ac.kr/admission/html/counsel/notice.asp'\n",
    "url2 = 'https://admission.sookmyung.ac.kr/admission/html/counsel/notice.asp?p_board_id=BBS0004&p_site_type=MAM0001&s_board_category=BBS0403&p_board_idx=&p_mode=&page=1&s_search_type=board_title&s_search_text='\n",
    "\n",
    "driver.get(url1)\n",
    "soup1 = BeautifulSoup(driver.page_source, 'html.parser')\n",
    "title1 = soup1.find('span', 'subject').get_text().strip()\n",
    "date1 = soup1.find('span', 'regdate').get_text().strip()[-10:]\n",
    "date1 = datetime.date(int(date1[0:4]), int(date1[5:7]), int(date1[8:10]))\n",
    "\n",
    "title2 = soup1.find_all('span', 'subject')[1].get_text().strip()\n",
    "date2 = soup1.find_all('span', 'regdate')[1].get_text().strip()[-10:]\n",
    "date2 = datetime.date(int(date2[0:4]), int(date2[5:7]), int(date2[8:10]))\n",
    "\n",
    "driver.get(url2)\n",
    "soup2 = BeautifulSoup(driver.page_source, 'html.parser')\n",
    "title3 = soup2.find('span', 'subject').get_text().strip()\n",
    "date3 = soup2.find('span', 'regdate').get_text().strip()[-10:]\n",
    "date3 = datetime.date(int(date3[0:4]), int(date3[5:7]), int(date3[8:10]))\n",
    "\n",
    "title4 = soup2.find_all('span', 'subject')[1].get_text().strip()\n",
    "date4 = soup2.find_all('span', 'regdate')[1].get_text().strip()[-10:]\n",
    "date4 = datetime.date(int(date4[0:4]), int(date4[5:7]), int(date4[8:10]))\n",
    "\n",
    "print([univ_nm, url2, datetime.datetime.now(), title1, date1, title2, date2, title3, date3, title4, date4])\n",
    "excel_sheet.append([univ_nm, url2, datetime.datetime.now(), title1, date1, title2, date2, title3, date3, title4, date4])"
   ]
  },
  {
   "cell_type": "markdown",
   "id": "75ba8b6f-5ac0-48bc-a332-af2b604be1af",
   "metadata": {},
   "source": [
    "### 부산대"
   ]
  },
  {
   "cell_type": "code",
   "execution_count": 96,
   "id": "9f0d9828-ff2e-4819-a75e-6e632ff6a30b",
   "metadata": {},
   "outputs": [
    {
     "name": "stdout",
     "output_type": "stream",
     "text": [
      "['부산대', 'https://go.pusan.ac.kr/college_2016/pages/index.asp?p=50&b=B_1_1&bn=&m=list&nPage=1&ct=2&con_cate_02=&f=ALL&s=', datetime.datetime(2024, 3, 4, 17, 16, 13, 357738), '2024학년도 대학입학전형 추가모집 충원 합격자 유의사항', datetime.date(2024, 2, 29), '2024학년도 대학입학전형 추가모집 요강 공고', datetime.date(2024, 2, 23), '2024학년도 대학입학전형 추가모집 충원 합격자 유의사항', datetime.date(2024, 2, 29), '2024학년도 대학입학전형 추가모집 요강 공고', datetime.date(2024, 2, 23)]\n"
     ]
    }
   ],
   "source": [
    "univ_nm = '부산대'\n",
    "url1 = 'https://go.pusan.ac.kr/college_2016/pages/index.asp?p=50&b=B_1_1'\n",
    "url2 = 'https://go.pusan.ac.kr/college_2016/pages/index.asp?p=50&b=B_1_1&bn=&m=list&nPage=1&ct=2&con_cate_02=&f=ALL&s='\n",
    "\n",
    "driver.get(url1)\n",
    "soup1 = BeautifulSoup(driver.page_source, 'html.parser')\n",
    "title1 = soup1.find('span', 'wh33 tl').find('a').get_text().strip()\n",
    "date1 = soup1.find('span', 'wh33 tl').find('span').get_text().strip()[-10:]\n",
    "date1 = datetime.date(int(date1[0:4]), int(date1[5:7]), int(date1[8:10]))\n",
    "\n",
    "title2 = soup1.find_all('span', 'wh33 tl')[1].find('a').get_text().strip()\n",
    "date2 = soup1.find_all('span', 'wh33 tl')[1].find('span').get_text().strip()[-10:]\n",
    "date2 = datetime.date(int(date2[0:4]), int(date2[5:7]), int(date2[8:10]))\n",
    "\n",
    "driver.get(url2)\n",
    "soup2 = BeautifulSoup(driver.page_source, 'html.parser')\n",
    "title3 = soup2.find('span', 'wh33 tl').find('a').get_text().strip()\n",
    "date3 = soup2.find('span', 'wh33 tl').find('span').get_text().strip()[-10:]\n",
    "date3 = datetime.date(int(date3[0:4]), int(date3[5:7]), int(date3[8:10]))\n",
    "\n",
    "title4 = soup2.find_all('span', 'wh33 tl')[1].find('a').get_text().strip()\n",
    "date4 = soup2.find_all('span', 'wh33 tl')[1].find('span').get_text().strip()[-10:]\n",
    "date4 = datetime.date(int(date4[0:4]), int(date4[5:7]), int(date4[8:10]))\n",
    "\n",
    "print([univ_nm, url2, datetime.datetime.now(), title1, date1, title2, date2, title3, date3, title4, date4])\n",
    "excel_sheet.append([univ_nm, url2, datetime.datetime.now(), title1, date1, title2, date2, title3, date3, title4, date4])"
   ]
  },
  {
   "cell_type": "markdown",
   "id": "164c9eeb-5071-4d5f-ad1b-f3efaab14a09",
   "metadata": {},
   "source": [
    "### 경북대"
   ]
  },
  {
   "cell_type": "code",
   "execution_count": 97,
   "id": "d15a3d44-b4a2-4859-8b1f-267c4ec1ff01",
   "metadata": {},
   "outputs": [
    {
     "name": "stdout",
     "output_type": "stream",
     "text": [
      "['경북대', 'https://ipsi1.knu.ac.kr/notice/?m_type=JEONGSI', datetime.datetime(2024, 3, 4, 17, 16, 14, 282702), '공통 경북대학교 학생부종합 지역인재 학교장추천전형 입학처 입장문', datetime.date(2023, 11, 2), '공통 [논술] 2024학년도 논술(AAT) 자연계열 출제범위 안내', datetime.date(2023, 9, 13), '정시 2024학년도 정시모집 최종합격자(최초~4차 충원) 조회', datetime.date(2024, 2, 22), '정시 2022학년도 정시모집 변환표준점수표 공고', datetime.date(2021, 12, 22)]\n"
     ]
    }
   ],
   "source": [
    "# @@ date에 XPATH 사용 / 변경확인 필요 / 첨부파일 없으면 li[1], 첨부파일 있으면 li[2]\n",
    "\n",
    "univ_nm = '경북대'\n",
    "url1 = 'https://ipsi1.knu.ac.kr/notice/'\n",
    "url2 = 'https://ipsi1.knu.ac.kr/notice/?m_type=JEONGSI'\n",
    "\n",
    "driver.get(url1)\n",
    "soup1 = BeautifulSoup(driver.page_source, 'html.parser')\n",
    "title1 = soup1.find('div', 'table-txt').get_text().strip()\n",
    "date1 = driver.find_element(By.XPATH, '/html/body/div/div[1]/section/div[2]/div/table/tbody/tr[1]/td[3]/ul/li[1]/span').text\n",
    "date1 = datetime.date(int(date1[0:4]), int(date1[5:7]), int(date1[8:10]))\n",
    "\n",
    "title2 = soup1.find_all('div', 'table-txt')[1].get_text().strip()\n",
    "date2 = driver.find_element(By.XPATH, '/html/body/div/div[1]/section/div[2]/div/table/tbody/tr[2]/td[3]/ul/li[2]/span').text\n",
    "date2 = datetime.date(int(date2[0:4]), int(date2[5:7]), int(date2[8:10]))\n",
    "\n",
    "driver.get(url2)\n",
    "soup2 = BeautifulSoup(driver.page_source, 'html.parser')\n",
    "title3 = soup2.find('div', 'table-txt').get_text().strip()\n",
    "date3 = driver.find_element(By.XPATH, '/html/body/div/div[1]/section/div[2]/div/table/tbody/tr[1]/td[3]/ul/li[1]/span').text\n",
    "date3 = datetime.date(int(date3[0:4]), int(date3[5:7]), int(date3[8:10]))\n",
    "\n",
    "title4 = soup2.find_all('div', 'table-txt')[1].get_text().strip()\n",
    "date4 = driver.find_element(By.XPATH, '/html/body/div/div[1]/section/div[2]/div/table/tbody/tr[2]/td[3]/ul/li[2]/span').text\n",
    "date4 = datetime.date(int(date4[0:4]), int(date4[5:7]), int(date4[8:10]))\n",
    "\n",
    "print([univ_nm, url2, datetime.datetime.now(), title1, date1, title2, date2, title3, date3, title4, date4])\n",
    "excel_sheet.append([univ_nm, url2, datetime.datetime.now(), title1, date1, title2, date2, title3, date3, title4, date4])"
   ]
  },
  {
   "cell_type": "markdown",
   "id": "89288478-2e2c-4f6c-8029-628eead7ea6b",
   "metadata": {},
   "source": [
    "### 국민대"
   ]
  },
  {
   "cell_type": "code",
   "execution_count": 98,
   "id": "d6721d45-a05f-49a1-bce9-332ae9f578ff",
   "metadata": {},
   "outputs": [
    {
     "name": "stdout",
     "output_type": "stream",
     "text": [
      "['국민대', 'https://admission.kookmin.ac.kr/helper/notice.php?category=onschedule', datetime.datetime(2024, 3, 4, 17, 16, 15, 562847), '2024학년도 신입학 추가모집 인원공지_7차', datetime.date(2024, 2, 22), '2024학년도 학부 신입생 등록금 안내', datetime.date(2024, 1, 9), '2024학년도 신입학 추가모집 인원공지_7차', datetime.date(2024, 2, 22), '2024학년도 학부 신입생 등록금 안내', datetime.date(2024, 1, 9)]\n"
     ]
    }
   ],
   "source": [
    "univ_nm = '국민대'\n",
    "url1 = 'https://admission.kookmin.ac.kr/helper/notice.php'\n",
    "url2 = 'https://admission.kookmin.ac.kr/helper/notice.php?category=onschedule'\n",
    "\n",
    "driver.get(url1)\n",
    "soup1 = BeautifulSoup(driver.page_source, 'html.parser')\n",
    "title1 = soup1.find('td', 'ta_l').find('a').get_text().strip()\n",
    "date1 = soup1.find('span', 'date').get_text().strip()[-10:]\n",
    "date1 = datetime.date(int(date1[0:4]), int(date1[5:7]), int(date1[8:10]))\n",
    "\n",
    "title2 = soup1.find_all('td', 'ta_l')[1].find('a').get_text().strip()\n",
    "date2 = soup1.find_all('span', 'date')[1].get_text().strip()[-10:]\n",
    "date2 = datetime.date(int(date2[0:4]), int(date2[5:7]), int(date2[8:10]))\n",
    "\n",
    "driver.get(url2)\n",
    "soup2 = BeautifulSoup(driver.page_source, 'html.parser')\n",
    "title3 = soup2.find('td', 'ta_l').find('a').get_text().strip()\n",
    "date3 = soup2.find('span', 'date').get_text().strip()[-10:]\n",
    "date3 = datetime.date(int(date3[0:4]), int(date3[5:7]), int(date3[8:10]))\n",
    "\n",
    "title4 = soup2.find_all('td', 'ta_l')[1].find('a').get_text().strip()\n",
    "date4 = soup2.find_all('span', 'date')[1].get_text().strip()[-10:]\n",
    "date4 = datetime.date(int(date4[0:4]), int(date4[5:7]), int(date4[8:10]))\n",
    "\n",
    "print([univ_nm, url2, datetime.datetime.now(), title1, date1, title2, date2, title3, date3, title4, date4])\n",
    "excel_sheet.append([univ_nm, url2, datetime.datetime.now(), title1, date1, title2, date2, title3, date3, title4, date4])"
   ]
  },
  {
   "cell_type": "markdown",
   "id": "6dc281df-12a0-443c-b90a-6a20ecec2165",
   "metadata": {},
   "source": [
    "### 숭실대"
   ]
  },
  {
   "cell_type": "code",
   "execution_count": 101,
   "id": "b613ce1a-de7e-4a27-bb56-8b2c13781cda",
   "metadata": {},
   "outputs": [
    {
     "name": "stdout",
     "output_type": "stream",
     "text": [
      "['숭실대', 'https://iphak.ssu.ac.kr/board/notice_list.asp?page=1&flag=2&page_no=10__', datetime.datetime(2024, 3, 4, 17, 18, 28, 883509), '[공통] 2024학년도 입학 축하 슈키트(SSU-Kit), 안내자료 발송 및 현장수령 안내', datetime.date(2024, 2, 26), '[재외국민] 2024학년도 재외국민 특별전형 최종 제출서류 도착 확인', datetime.date(2024, 2, 19), '[정시] 2024학년도 정시 탐구 백분위 변환표준점수 안내', datetime.date(2023, 12, 18), '', '']\n"
     ]
    }
   ],
   "source": [
    "# @@ 변경확인 필요 / 공지글 1개이므로 title4, date4 주석처리 (0304)\n",
    "\n",
    "univ_nm = '숭실대'\n",
    "url1 = 'https://iphak.ssu.ac.kr/board/notice_list.asp?page=1&page_no=10__'\n",
    "url2 = 'https://iphak.ssu.ac.kr/board/notice_list.asp?page=1&flag=2&page_no=10__'\n",
    "\n",
    "driver.get(url1)\n",
    "title1 = driver.find_element(By.XPATH, '/html/body/div/section/div/div[3]/ul/li[2]/div[2]/div/a').text\n",
    "date1 = driver.find_element(By.XPATH, '/html/body/div/section/div/div[3]/ul/li[2]/div[3]').text\n",
    "date1 = datetime.date(int(date1[0:4]), int(date1[5:7]), int(date1[8:10]))\n",
    "\n",
    "title2 = driver.find_element(By.XPATH, '/html/body/div/section/div/div[3]/ul/li[3]/div[2]/div/a').text\n",
    "date2 = driver.find_element(By.XPATH, '/html/body/div/section/div/div[3]/ul/li[3]/div[3]').text\n",
    "date2 = datetime.date(int(date2[0:4]), int(date2[5:7]), int(date2[8:10]))\n",
    "\n",
    "driver.get(url2)\n",
    "title3 = driver.find_element(By.XPATH, '/html/body/div/section/div/div[3]/ul/li[2]/div[2]/div/a').text\n",
    "date3 = driver.find_element(By.XPATH, '/html/body/div/section/div/div[3]/ul/li[2]/div[3]').text\n",
    "date3 = datetime.date(int(date3[0:4]), int(date3[5:7]), int(date3[8:10]))\n",
    "\n",
    "#title4 = driver.find_element(By.XPATH, '/html/body/div/section/div/div[3]/ul/li[3]/div[2]/div/a').text\n",
    "#date4 = driver.find_element(By.XPATH, '/html/body/div/section/div/div[3]/ul/li[3]/div[3]').text\n",
    "#date4 = datetime.date(int(date4[0:4]), int(date4[5:7]), int(date4[8:10]))\n",
    "title4 = ''\n",
    "date4 = ''\n",
    "\n",
    "print([univ_nm, url2, datetime.datetime.now(), title1, date1, title2, date2, title3, date3, title4, date4])\n",
    "excel_sheet.append([univ_nm, url2, datetime.datetime.now(), title1, date1, title2, date2, title3, date3, title4, date4])"
   ]
  },
  {
   "cell_type": "markdown",
   "id": "415b787d-bb69-438c-8fb1-e6e4c70b38f9",
   "metadata": {},
   "source": [
    "### 한양대(에리카)"
   ]
  },
  {
   "cell_type": "code",
   "execution_count": 102,
   "id": "1c362f5a-250a-47e1-9a87-33f8ccdb8c7f",
   "metadata": {},
   "outputs": [
    {
     "name": "stdout",
     "output_type": "stream",
     "text": [
      "['한양대(에리카)', 'http://goerica.hanyang.ac.kr/enter/html/counsel/notice.asp?s_cate=', datetime.datetime(2024, 3, 4, 17, 18, 34, 782538), '2025학년도 ERICA 신입학 전형계획 주요사항(재외국민 포함)', datetime.date(2023, 11, 9), '2024학년도 수시 재능우수자(체육일반) 실기고사 수험생 유의사항 안내', datetime.date(2023, 11, 1), '2024학년도 정시 가군 디자인대학 실기고사 주제 변경 안내', datetime.date(2023, 4, 7), '2023학년도 정시 무용예술학과 실기고사 수험생 유의사항 안내', datetime.date(2023, 1, 6)]\n"
     ]
    }
   ],
   "source": [
    "# @@ 동적페이지(정시 공지사항) 이용으로 XPATH 사용\n",
    "\n",
    "univ_nm = '한양대(에리카)'\n",
    "url1 = 'http://goerica.hanyang.ac.kr/enter/html/counsel/notice.asp?s_cate='\n",
    "url2 = 'http://goerica.hanyang.ac.kr/enter/html/counsel/notice.asp?s_cate='\n",
    "\n",
    "driver.get(url1)\n",
    "soup1 = BeautifulSoup(driver.page_source, 'html.parser')\n",
    "title1 = soup1.find('div', 'text').find_all('span')[1].get_text().strip()\n",
    "date1 = soup1.find('div', 'text').find('p').get_text().strip()[6:16]\n",
    "date1 = datetime.date(int(date1[0:4]), int(date1[5:7]), int(date1[8:10]))\n",
    "\n",
    "title2 = soup1.find_all('div', 'text')[1].find_all('span')[1].get_text().strip()\n",
    "date2 = soup1.find_all('div', 'text')[1].find('p').get_text().strip()[6:16]\n",
    "date2 = datetime.date(int(date2[0:4]), int(date2[5:7]), int(date2[8:10]))\n",
    "\n",
    "driver.get(url2)\n",
    "driver.find_element(By.XPATH, '/html/body/div[3]/div[2]/div[2]/ul[1]/li[3]/a').click()\n",
    "title3 = driver.find_element(By.XPATH, '/html/body/div[3]/div[2]/div[2]/table/tbody/tr[1]/td/div[2]/a/span[2]').text\n",
    "date3 = driver.find_element(By.XPATH, '/html/body/div[3]/div[2]/div[2]/table/tbody/tr[1]/td/div[2]/p').text[6:16]\n",
    "date3 = datetime.date(int(date3[0:4]), int(date3[5:7]), int(date3[8:10]))\n",
    "\n",
    "title4 = driver.find_element(By.XPATH, '/html/body/div[3]/div[2]/div[2]/table/tbody/tr[2]/td/div[2]/a/span[2]').text\n",
    "date4 = driver.find_element(By.XPATH, '/html/body/div[3]/div[2]/div[2]/table/tbody/tr[2]/td/div[2]/p').text[6:16]\n",
    "date4 = datetime.date(int(date4[0:4]), int(date4[5:7]), int(date4[8:10]))\n",
    "\n",
    "print([univ_nm, url2, datetime.datetime.now(), title1, date1, title2, date2, title3, date3, title4, date4])\n",
    "excel_sheet.append([univ_nm, url2, datetime.datetime.now(), title1, date1, title2, date2, title3, date3, title4, date4])"
   ]
  },
  {
   "cell_type": "markdown",
   "id": "18fa42d2-8b3a-4924-b654-f944b2d4274d",
   "metadata": {},
   "source": [
    "### 성신여대"
   ]
  },
  {
   "cell_type": "code",
   "execution_count": 103,
   "id": "04aff119-26c9-44fd-9287-204af423b4e5",
   "metadata": {},
   "outputs": [
    {
     "name": "stdout",
     "output_type": "stream",
     "text": [
      "['성신여대', 'https://ipsi.sungshin.ac.kr/guide/dataroom.htm?bbsid=notice&ctg_cd=jungsi', datetime.datetime(2024, 3, 4, 17, 18, 35, 672353), '2024학년도 신입학 추가모집 충원 합격자 예비번호 현황(20240229_최종...', datetime.date(2024, 2, 27), '2024학년도 추가모집 합격자 발표 및 등록금 고지서(영수증) 조회', datetime.date(2024, 2, 26), '2024학년도 신입학 추가모집 충원 합격자 예비번호 현황(20240229_최종...', datetime.date(2024, 2, 27), '2024학년도 추가모집 합격자 발표 및 등록금 고지서(영수증) 조회', datetime.date(2024, 2, 26)]\n"
     ]
    }
   ],
   "source": [
    "univ_nm = '성신여대'\n",
    "url1 = 'https://ipsi.sungshin.ac.kr/guide/dataroom.htm?bbsid=notice&ctg_cd=all'\n",
    "url2 = 'https://ipsi.sungshin.ac.kr/guide/dataroom.htm?bbsid=notice&ctg_cd=jungsi'\n",
    "\n",
    "driver.get(url1)\n",
    "soup1 = BeautifulSoup(driver.page_source, 'html.parser')\n",
    "title1 = soup1.find('td', 'ta_l').find('a').get_text().strip()\n",
    "date1 = soup1.find('span', 'txt').get_text()[6:16]\n",
    "date1 = datetime.date(int(date1[0:4]), int(date1[5:7]), int(date1[8:10]))\n",
    "\n",
    "title2 = soup1.find_all('td', 'ta_l')[1].find('a').get_text().strip()\n",
    "date2 = soup1.find_all('span', 'txt')[1].get_text()[6:16]\n",
    "date2 = datetime.date(int(date2[0:4]), int(date2[5:7]), int(date2[8:10]))\n",
    "\n",
    "driver.get(url2)\n",
    "soup2 = BeautifulSoup(driver.page_source, 'html.parser')\n",
    "title3 = soup2.find('td', 'ta_l').find('a').get_text().strip()\n",
    "date3 = soup2.find('span', 'txt').get_text().strip()[6:16]\n",
    "date3 = datetime.date(int(date3[0:4]), int(date3[5:7]), int(date3[8:10]))\n",
    "\n",
    "title4 = soup2.find_all('td', 'ta_l')[1].find('a').get_text().strip()\n",
    "date4 = soup2.find_all('span', 'txt')[1].get_text().strip()[6:16]\n",
    "date4 = datetime.date(int(date4[0:4]), int(date4[5:7]), int(date4[8:10]))\n",
    "\n",
    "print([univ_nm, url2, datetime.datetime.now(), title1, date1, title2, date2, title3, date3, title4, date4])\n",
    "excel_sheet.append([univ_nm, url2, datetime.datetime.now(), title1, date1, title2, date2, title3, date3, title4, date4])"
   ]
  },
  {
   "cell_type": "markdown",
   "id": "013d7298-a650-4cbc-b234-1b46122135e1",
   "metadata": {},
   "source": [
    "### 서울과학기술대"
   ]
  },
  {
   "cell_type": "code",
   "execution_count": 104,
   "id": "0ce37a9a-26bf-42e4-bc1d-0eada308fafc",
   "metadata": {},
   "outputs": [
    {
     "name": "stdout",
     "output_type": "stream",
     "text": [
      "['서울과학기술대', 'https://admission.seoultech.ac.kr/cms/FR_CON/index.do?MENU_ID=380&CONTENTS_NO=5', datetime.datetime(2024, 3, 4, 17, 18, 37, 665955), '2024학년도 신입학(수시·정시) 교사용 합격자 발표 안내', datetime.date(2024, 2, 24), '2025학년도 신입학 대학입학전형 시행계획 공개', datetime.date(2023, 4, 28), '2024학년도 신입학 추가모집 2차(최종) 추가합격자 등록금 납부 안내', datetime.date(2024, 2, 29), '2024학년도 신입학 추가모집 1차 추가합격자 발표 및 등록금 납부 안내', datetime.date(2024, 2, 28)]\n"
     ]
    }
   ],
   "source": [
    "univ_nm = '서울과학기술대'\n",
    "url1 = 'https://admission.seoultech.ac.kr/cms/FR_CON/index.do?MENU_ID=380'\n",
    "url2 = 'https://admission.seoultech.ac.kr/cms/FR_CON/index.do?MENU_ID=380&CONTENTS_NO=5'\n",
    "\n",
    "driver.get(url1)\n",
    "title1 = WebDriverWait(driver, 5).until(\n",
    "    EC.visibility_of_element_located((By.XPATH, '/html/body/div[5]/div[2]/article/div[2]/div[2]/ul/li[1]/div[1]/a'))).text\n",
    "date1 = WebDriverWait(driver, 5).until(\n",
    "    EC.visibility_of_element_located((By.XPATH, '/html/body/div[5]/div[2]/article/div[2]/div[2]/ul/li[1]/div[3]/span[1]'))).text\n",
    "date1 = datetime.date(int(date1[0:4]), int(date1[5:7]), int(date1[8:10]))\n",
    "\n",
    "title2 = WebDriverWait(driver, 5).until(\n",
    "    EC.visibility_of_element_located((By.XPATH, '/html/body/div[5]/div[2]/article/div[2]/div[2]/ul/li[2]/div[1]/a'))).text\n",
    "date2 = WebDriverWait(driver, 5).until(\n",
    "    EC.visibility_of_element_located((By.XPATH, '/html/body/div[5]/div[2]/article/div[2]/div[2]/ul/li[2]/div[3]/span[1]'))).text\n",
    "date2 = datetime.date(int(date2[0:4]), int(date2[5:7]), int(date2[8:10]))\n",
    "\n",
    "driver.get(url2)\n",
    "title3 = WebDriverWait(driver, 5).until(\n",
    "    EC.visibility_of_element_located((By.XPATH, '/html/body/div[5]/div[2]/article/div[2]/div[2]/ul/li[1]/div[1]/a'))).text\n",
    "date3 = WebDriverWait(driver, 5).until(\n",
    "    EC.visibility_of_element_located((By.XPATH, '/html/body/div[5]/div[2]/article/div[2]/div[2]/ul/li[1]/div[3]/span[1]'))).text\n",
    "date3 = datetime.date(int(date3[0:4]), int(date3[5:7]), int(date3[8:10]))\n",
    "\n",
    "title4 = WebDriverWait(driver, 5).until(\n",
    "    EC.visibility_of_element_located((By.XPATH, '/html/body/div[5]/div[2]/article/div[2]/div[2]/ul/li[2]/div[1]/a'))).text\n",
    "date4 = WebDriverWait(driver, 5).until(\n",
    "    EC.visibility_of_element_located((By.XPATH, '/html/body/div[5]/div[2]/article/div[2]/div[2]/ul/li[2]/div[3]/span[1]'))).text\n",
    "date4 = datetime.date(int(date4[0:4]), int(date4[5:7]), int(date4[8:10]))\n",
    "\n",
    "print([univ_nm, url2, datetime.datetime.now(), title1, date1, title2, date2, title3, date3, title4, date4])\n",
    "excel_sheet.append([univ_nm, url2, datetime.datetime.now(), title1, date1, title2, date2, title3, date3, title4, date4])"
   ]
  },
  {
   "cell_type": "markdown",
   "id": "33011988-2a7f-4b32-8686-246187badc54",
   "metadata": {},
   "source": [
    "### 단국대(죽전)"
   ]
  },
  {
   "cell_type": "code",
   "execution_count": 105,
   "id": "0e584a7f-ed98-4889-99f0-858f013a9de4",
   "metadata": {},
   "outputs": [
    {
     "name": "stdout",
     "output_type": "stream",
     "text": [
      "['단국대(죽전)', 'https://ipsi.dankook.ac.kr/jukjeon/notice/list.html?bbsid=juk_info&ctg_cd=03&PHPSESSID=cc4e78746b542a770328a1a8a5540cb4', datetime.datetime(2024, 3, 4, 17, 18, 38, 528723), '2024학년도 신입생 추가모집 요강 및 원서접수 안내(2024.02.24 14시50분 기준)', datetime.date(2024, 2, 21), '2024학년도 편입학모집 국가보훈대상자 증빙자료 업로드 및 제출 안내', datetime.date(2024, 2, 5), '2024학년도 신입생 등록금 납부 안내 / 등록안내문 <정시 최종 충원합격>', datetime.date(2024, 2, 5), '2024학년도 정시모집 충원합격자 발표 및 등록일정 안내(죽전/천안 공통)', datetime.date(2024, 1, 23)]\n"
     ]
    }
   ],
   "source": [
    "univ_nm = '단국대(죽전)'\n",
    "url1 = 'https://ipsi.dankook.ac.kr/jukjeon/notice/list.html?bbsid=juk_info&ctg_cd='\n",
    "url2 = 'https://ipsi.dankook.ac.kr/jukjeon/notice/list.html?bbsid=juk_info&ctg_cd=03&PHPSESSID=cc4e78746b542a770328a1a8a5540cb4'\n",
    "\n",
    "driver.get(url1)\n",
    "soup1 = BeautifulSoup(driver.page_source, 'html.parser')\n",
    "title1 = soup1.find('td', 'ta_l').find('a').get_text().strip()\n",
    "date1 = soup1.find('span', 'date').get_text()[6:16]\n",
    "date1 = datetime.date(int(date1[0:4]), int(date1[5:7]), int(date1[8:10]))\n",
    "\n",
    "title2 = soup1.find_all('td', 'ta_l')[1].find('a').get_text().strip()\n",
    "date2 = soup1.find_all('span', 'date')[1].get_text()[6:16]\n",
    "date2 = datetime.date(int(date2[0:4]), int(date2[5:7]), int(date2[8:10]))\n",
    "\n",
    "driver.get(url2)\n",
    "soup2 = BeautifulSoup(driver.page_source, 'html.parser')\n",
    "title3 = soup2.find('td', 'ta_l').find('a').get_text().strip()\n",
    "date3 = soup2.find('span', 'date').get_text().strip()[6:16]\n",
    "date3 = datetime.date(int(date3[0:4]), int(date3[5:7]), int(date3[8:10]))\n",
    "\n",
    "title4 = soup2.find_all('td', 'ta_l')[1].find('a').get_text().strip()\n",
    "date4 = soup2.find_all('span', 'date')[1].get_text().strip()[6:16]\n",
    "date4 = datetime.date(int(date4[0:4]), int(date4[5:7]), int(date4[8:10]))\n",
    "\n",
    "print([univ_nm, url2, datetime.datetime.now(), title1, date1, title2, date2, title3, date3, title4, date4])\n",
    "excel_sheet.append([univ_nm, url2, datetime.datetime.now(), title1, date1, title2, date2, title3, date3, title4, date4])"
   ]
  },
  {
   "cell_type": "markdown",
   "id": "b9965f0b-7821-4894-9638-198945f37791",
   "metadata": {},
   "source": [
    "### 단국대(천안)"
   ]
  },
  {
   "cell_type": "code",
   "execution_count": 106,
   "id": "05de3970-4b68-4705-b62f-eb84ce8e2d23",
   "metadata": {},
   "outputs": [
    {
     "name": "stdout",
     "output_type": "stream",
     "text": [
      "['단국대(천안)', 'https://ipsi.dankook.ac.kr/cheonan/notice/list.html?bbsid=che_info&ctg_cd=03&PHPSESSID=cc4e78746b542a770328a1a8a5540cb4', datetime.datetime(2024, 3, 4, 17, 18, 39, 37186), '2024학년도 신입학 추가모집 최종 충원합격자 발표', datetime.date(2024, 2, 29), '2024학년도 신입학 추가모집 1차 충원합격자 발표', datetime.date(2024, 2, 28), '2024학년도 정시모집 최종 충원합격자 발표', datetime.date(2024, 2, 20), '2024학년도 천안캠퍼스 정시 모집인원(수시 이월인원 포함) 공지[2024. 2. 20. 기준]', datetime.date(2024, 2, 20)]\n"
     ]
    }
   ],
   "source": [
    "univ_nm = '단국대(천안)'\n",
    "url1 = 'https://ipsi.dankook.ac.kr/cheonan/notice/list.html?bbsid=che_info&ctg_cd='\n",
    "url2 = 'https://ipsi.dankook.ac.kr/cheonan/notice/list.html?bbsid=che_info&ctg_cd=03&PHPSESSID=cc4e78746b542a770328a1a8a5540cb4'\n",
    "\n",
    "driver.get(url1)\n",
    "soup1 = BeautifulSoup(driver.page_source, 'html.parser')\n",
    "title1 = soup1.find('td', 'ta_l').find('a').get_text().strip()\n",
    "date1 = soup1.find('span', 'date').get_text()[6:16]\n",
    "date1 = datetime.date(int(date1[0:4]), int(date1[5:7]), int(date1[8:10]))\n",
    "\n",
    "title2 = soup1.find_all('td', 'ta_l')[1].find('a').get_text().strip()\n",
    "date2 = soup1.find_all('span', 'date')[1].get_text()[6:16]\n",
    "date2 = datetime.date(int(date2[0:4]), int(date2[5:7]), int(date2[8:10]))\n",
    "\n",
    "driver.get(url2)\n",
    "soup2 = BeautifulSoup(driver.page_source, 'html.parser')\n",
    "title3 = soup2.find('td', 'ta_l').find('a').get_text().strip()\n",
    "date3 = soup2.find('span', 'date').get_text().strip()[6:16]\n",
    "date3 = datetime.date(int(date3[0:4]), int(date3[5:7]), int(date3[8:10]))\n",
    "\n",
    "title4 = soup2.find_all('td', 'ta_l')[1].find('a').get_text().strip()\n",
    "date4 = soup2.find_all('span', 'date')[1].get_text().strip()[6:16]\n",
    "date4 = datetime.date(int(date4[0:4]), int(date4[5:7]), int(date4[8:10]))\n",
    "\n",
    "print([univ_nm, url2, datetime.datetime.now(), title1, date1, title2, date2, title3, date3, title4, date4])\n",
    "excel_sheet.append([univ_nm, url2, datetime.datetime.now(), title1, date1, title2, date2, title3, date3, title4, date4])"
   ]
  },
  {
   "cell_type": "markdown",
   "id": "7199bcad-8161-42d1-9165-66909aa2538f",
   "metadata": {},
   "source": [
    "### 세종대"
   ]
  },
  {
   "cell_type": "code",
   "execution_count": 107,
   "id": "09cc5cf7-c059-4151-b529-f5fe9035105c",
   "metadata": {},
   "outputs": [
    {
     "name": "stdout",
     "output_type": "stream",
     "text": [
      "['세종대', 'https://ipsi.sejong.ac.kr/sub_page/sub2/0106_list.asp?tab1=2&B_CODE=BOARD_1455878015&B_CATEGORY=2', datetime.datetime(2024, 3, 4, 17, 18, 40, 247159), '홍보대사 「누리아리 17기」 모집 안내', datetime.date(2024, 3, 4), '2024학년도 추가모집 최종합격자 안내 (합격증 및 등록금 영수증 출력)', datetime.date(2024, 2, 29), '2024학년도 정시모집 최종합격자 안내 (합격증 및 등록금 영수증 출력)', datetime.date(2024, 2, 21), '2024학년도 정시모집 추가합격자(4차-최종) 조회 및 등록금 납부 안내', datetime.date(2024, 2, 20)]\n"
     ]
    }
   ],
   "source": [
    "univ_nm = '세종대'\n",
    "url1 = 'https://ipsi.sejong.ac.kr/sub_page/sub2/0106_list.asp?tab1=2&B_CODE=BOARD_1455878015&B_CATEGORY=0'\n",
    "url2 = 'https://ipsi.sejong.ac.kr/sub_page/sub2/0106_list.asp?tab1=2&B_CODE=BOARD_1455878015&B_CATEGORY=2'\n",
    "\n",
    "driver.get(url1)\n",
    "soup1 = BeautifulSoup(driver.page_source, 'html.parser')\n",
    "title1 = soup1.find('div', 'summary').find('a').get_text().strip()\n",
    "date1 = soup1.find_all('dd')[1].find('span').get_text()[-10:]\n",
    "date1 = datetime.date(int(date1[0:4]), int(date1[5:7]), int(date1[8:10]))\n",
    "\n",
    "title2 = soup1.find_all('div', 'summary')[1].find('a').get_text().strip()\n",
    "date2 = soup1.find_all('dd')[2].find('span').get_text()[-10:]\n",
    "date2 = datetime.date(int(date2[0:4]), int(date2[5:7]), int(date2[8:10]))\n",
    "\n",
    "driver.get(url2)\n",
    "soup2 = BeautifulSoup(driver.page_source, 'html.parser')\n",
    "title3 = soup2.find('div', 'summary').find('a').get_text().strip()\n",
    "date3 = soup2.find_all('dd')[1].find('span').get_text()[-10:]\n",
    "date3 = datetime.date(int(date3[0:4]), int(date3[5:7]), int(date3[8:10]))\n",
    "\n",
    "title4 = soup2.find_all('div', 'summary')[1].find('a').get_text().strip()\n",
    "date4 = soup2.find_all('dd')[2].find('span').get_text()[-10:]\n",
    "date4 = datetime.date(int(date4[0:4]), int(date4[5:7]), int(date4[8:10]))\n",
    "\n",
    "print([univ_nm, url2, datetime.datetime.now(), title1, date1, title2, date2, title3, date3, title4, date4])\n",
    "excel_sheet.append([univ_nm, url2, datetime.datetime.now(), title1, date1, title2, date2, title3, date3, title4, date4])"
   ]
  },
  {
   "cell_type": "markdown",
   "id": "c1dc27da-fc7f-42ff-ae30-554a99a03212",
   "metadata": {},
   "source": [
    "### 광운대"
   ]
  },
  {
   "cell_type": "code",
   "execution_count": 108,
   "id": "64936413-e120-470f-a385-132f44bd0f0b",
   "metadata": {},
   "outputs": [
    {
     "name": "stdout",
     "output_type": "stream",
     "text": [
      "['광운대', 'https://iphak.kw.ac.kr/help/notice_list.php?m_type=JEONGSI', datetime.datetime(2024, 3, 4, 17, 18, 40, 901498), '2024학년도 추가모집 합격자 조회 및 등록금 고지서 출력 안내', datetime.date(2024, 2, 29), '2024학년도 신입학 추가모집 안내', datetime.date(2024, 2, 22), '2024학년도 추가모집 합격자 조회 및 등록금 고지서 출력 안내', datetime.date(2024, 2, 29), '2024학년도 신입학 추가모집 안내', datetime.date(2024, 2, 22)]\n"
     ]
    }
   ],
   "source": [
    "univ_nm = '광운대'\n",
    "url1 = 'https://iphak.kw.ac.kr/help/notice_list.php'\n",
    "url2 = 'https://iphak.kw.ac.kr/help/notice_list.php?m_type=JEONGSI'\n",
    "\n",
    "driver.get(url1)\n",
    "soup1 = BeautifulSoup(driver.page_source, 'html.parser')\n",
    "title1 = soup1.find('p', 'title').get_text().strip()[12:]\n",
    "date1 = soup1.find('span', 'date').get_text().strip()\n",
    "date1 = datetime.date(int(date1[0:4]), int(date1[5:7]), int(date1[8:10]))\n",
    "\n",
    "title2 = soup1.find_all('p', 'title')[1].get_text().strip()[12:]\n",
    "date2 = soup1.find_all('span', 'date')[1].get_text().strip()\n",
    "date2 = datetime.date(int(date2[0:4]), int(date2[5:7]), int(date2[8:10]))\n",
    "\n",
    "driver.get(url2)\n",
    "soup2 = BeautifulSoup(driver.page_source, 'html.parser')\n",
    "title3 = soup2.find('p', 'title').get_text().strip()[12:]\n",
    "date3 = soup2.find('span', 'date').get_text().strip()\n",
    "date3 = datetime.date(int(date3[0:4]), int(date3[5:7]), int(date3[8:10]))\n",
    "\n",
    "title4 = soup2.find_all('p', 'title')[1].get_text().strip()[12:]\n",
    "date4 = soup2.find_all('span', 'date')[1].get_text().strip()\n",
    "date4 = datetime.date(int(date4[0:4]), int(date4[5:7]), int(date4[8:10]))\n",
    "\n",
    "print([univ_nm, url2, datetime.datetime.now(), title1, date1, title2, date2, title3, date3, title4, date4])\n",
    "excel_sheet.append([univ_nm, url2, datetime.datetime.now(), title1, date1, title2, date2, title3, date3, title4, date4])"
   ]
  },
  {
   "cell_type": "markdown",
   "id": "428e533f-aaea-46b3-8065-079cc29b99a1",
   "metadata": {},
   "source": [
    "### 명지대"
   ]
  },
  {
   "cell_type": "code",
   "execution_count": 109,
   "id": "18977715-2bc8-4bb6-b09a-fb77391de2d1",
   "metadata": {},
   "outputs": [
    {
     "name": "stdout",
     "output_type": "stream",
     "text": [
      "['명지대', 'https://iphak.mju.ac.kr/pages/?p=30&b=B_1_1&cate=%EC%A0%95%EC%8B%9C', datetime.datetime(2024, 3, 4, 17, 18, 42, 374018), '2024학년도 신입학(추가모집) 합격자 안내사항 파일', datetime.date(2024, 2, 26), '2024학년도 추가 모집요강 공지 파일', datetime.date(2024, 2, 22), '2024학년도 신입학(추가모집) 합격자 안내사항 파일', datetime.date(2024, 2, 26), '2024학년도 추가 모집요강 공지 파일', datetime.date(2024, 2, 22)]\n"
     ]
    }
   ],
   "source": [
    "univ_nm = '명지대'\n",
    "url1 = 'https://iphak.mju.ac.kr/pages/?p=30&b=B_1_1'\n",
    "url2 = 'https://iphak.mju.ac.kr/pages/?p=30&b=B_1_1&cate=%EC%A0%95%EC%8B%9C'\n",
    "\n",
    "driver.get(url1)\n",
    "soup1 = BeautifulSoup(driver.page_source, 'html.parser')\n",
    "title1 = soup1.find('td', 'ttl').get_text().strip()\n",
    "date1 = soup1.find('td', 'date').get_text().strip()\n",
    "date1 = datetime.date(int(date1[0:4]), int(date1[5:7]), int(date1[8:10]))\n",
    "\n",
    "title2 = soup1.find_all('td', 'ttl')[1].get_text().strip()\n",
    "date2 = soup1.find_all('td', 'date')[1].get_text().strip()\n",
    "date2 = datetime.date(int(date2[0:4]), int(date2[5:7]), int(date2[8:10]))\n",
    "\n",
    "driver.get(url2)\n",
    "soup2 = BeautifulSoup(driver.page_source, 'html.parser')\n",
    "title3 = soup2.find('td', 'ttl').get_text().strip()\n",
    "date3 = soup2.find('td', 'date').get_text().strip()\n",
    "date3 = datetime.date(int(date3[0:4]), int(date3[5:7]), int(date3[8:10]))\n",
    "\n",
    "title4 = soup2.find_all('td', 'ttl')[1].get_text().strip()\n",
    "date4 = soup2.find_all('td', 'date')[1].get_text().strip()\n",
    "date4 = datetime.date(int(date4[0:4]), int(date4[5:7]), int(date4[8:10]))\n",
    "\n",
    "print([univ_nm, url2, datetime.datetime.now(), title1, date1, title2, date2, title3, date3, title4, date4])\n",
    "excel_sheet.append([univ_nm, url2, datetime.datetime.now(), title1, date1, title2, date2, title3, date3, title4, date4])"
   ]
  },
  {
   "cell_type": "markdown",
   "id": "85f8763f-c21b-4508-afc5-e54811f999a1",
   "metadata": {},
   "source": [
    "### 상명대(서울)"
   ]
  },
  {
   "cell_type": "code",
   "execution_count": 110,
   "id": "a8353c45-9979-4ff8-bc71-b951f4e32a47",
   "metadata": {},
   "outputs": [
    {
     "name": "stdout",
     "output_type": "stream",
     "text": [
      "['상명대(서울)', 'https://admission.smu.ac.kr/_seoul/board/bbs.html?bbsid=seoul_notice&ctg_cd=jungsi', datetime.datetime(2024, 3, 4, 17, 18, 42, 840314), '2024학년도 신입생 2차 추가모집요강', datetime.date(2024, 2, 27), '2024학년도 추가모집 모집단위 및 모집인원', datetime.date(2024, 2, 22), '2024학년도 신입생 2차 추가모집요강', datetime.date(2024, 2, 27), '2024학년도 추가모집 모집단위 및 모집인원', datetime.date(2024, 2, 22)]\n"
     ]
    }
   ],
   "source": [
    "univ_nm = '상명대(서울)'\n",
    "url1 = 'https://admission.smu.ac.kr/_seoul/board/bbs.html?bbsid=seoul_notice&ctg_cd='\n",
    "url2 = 'https://admission.smu.ac.kr/_seoul/board/bbs.html?bbsid=seoul_notice&ctg_cd=jungsi'\n",
    "\n",
    "driver.get(url1)\n",
    "title1 = driver.find_element(By.XPATH, '/html/body/div/div[4]/div[1]/div[3]/div[1]/span[4]/a/b').text\n",
    "date1 = driver.find_element(By.XPATH, '/html/body/div/div[4]/div[1]/div[3]/div[1]/span[4]/div/span[2]').text\n",
    "date1 = datetime.date(int(date1[0:4]), int(date1[5:7]), int(date1[8:10]))\n",
    "\n",
    "title2 = driver.find_element(By.XPATH, '/html/body/div/div[4]/div[1]/div[3]/div[2]/span[4]/a/b').text\n",
    "date2 = driver.find_element(By.XPATH, '/html/body/div/div[4]/div[1]/div[3]/div[2]/span[4]/div/span[2]').text\n",
    "date2 = datetime.date(int(date2[0:4]), int(date2[5:7]), int(date2[8:10]))\n",
    "\n",
    "driver.get(url2)\n",
    "title3 = driver.find_element(By.XPATH, '/html/body/div/div[4]/div[1]/div[3]/div[1]/span[4]/a/b').text\n",
    "date3 = driver.find_element(By.XPATH, '/html/body/div/div[4]/div[1]/div[3]/div[1]/span[4]/div/span[2]').text\n",
    "date3 = datetime.date(int(date3[0:4]), int(date3[5:7]), int(date3[8:10]))\n",
    "\n",
    "title4 = driver.find_element(By.XPATH, '/html/body/div/div[4]/div[1]/div[3]/div[2]/span[4]/a/b').text\n",
    "date4 = driver.find_element(By.XPATH, '/html/body/div/div[4]/div[1]/div[3]/div[2]/span[4]/div/span[2]').text\n",
    "date4 = datetime.date(int(date4[0:4]), int(date4[5:7]), int(date4[8:10]))\n",
    "\n",
    "print([univ_nm, url2, datetime.datetime.now(), title1, date1, title2, date2, title3, date3, title4, date4])\n",
    "excel_sheet.append([univ_nm, url2, datetime.datetime.now(), title1, date1, title2, date2, title3, date3, title4, date4])"
   ]
  },
  {
   "cell_type": "markdown",
   "id": "c17d0436-7fd3-4dd9-a3c7-816019d4426f",
   "metadata": {},
   "source": [
    "### 한국외대"
   ]
  },
  {
   "cell_type": "code",
   "execution_count": 111,
   "id": "020c8674-e315-45a0-aeea-780dd9632b20",
   "metadata": {},
   "outputs": [
    {
     "name": "stdout",
     "output_type": "stream",
     "text": [
      "['한국외대', 'https://adms.hufs.ac.kr/cms/FrCon/index.do?MENU_ID=380&CONTENTS_NO=2', datetime.datetime(2024, 3, 4, 17, 18, 44, 189297), '2024학년도 추가모집 신입생 안내사항', datetime.date(2024, 2, 27), '2024학년도 신편입생 학번 조회 안내 (추가모집 신입생 포함)', datetime.date(2024, 2, 22), '2024학년도 추가모집 신입생 안내사항', datetime.date(2024, 2, 27), '2024학년도 정시모집 수능 탐구영역 자체 변환표준점수표 안내', datetime.date(2023, 12, 19)]\n"
     ]
    }
   ],
   "source": [
    "univ_nm = '한국외대'\n",
    "url1 = 'https://adms.hufs.ac.kr/cms/FrCon/index.do?MENU_ID=380'\n",
    "url2 = 'https://adms.hufs.ac.kr/cms/FrCon/index.do?MENU_ID=380&CONTENTS_NO=2'\n",
    "\n",
    "driver.get(url1)\n",
    "title1 = driver.find_element(By.XPATH, '/html/body/div[5]/div[2]/article/div[2]/div[2]/ul/li[1]/div[1]/a').text\n",
    "date1 = driver.find_element(By.XPATH, '/html/body/div[5]/div[2]/article/div[2]/div[2]/ul/li[1]/div[3]/span[1]').text\n",
    "date1 = datetime.date(int(date1[0:4]), int(date1[5:7]), int(date1[8:10]))\n",
    "\n",
    "title2 = driver.find_element(By.XPATH, '/html/body/div[5]/div[2]/article/div[2]/div[2]/ul/li[2]/div[1]/a').text\n",
    "date2 = driver.find_element(By.XPATH, '/html/body/div[5]/div[2]/article/div[2]/div[2]/ul/li[2]/div[3]/span[1]').text\n",
    "date2 = datetime.date(int(date2[0:4]), int(date2[5:7]), int(date2[8:10]))\n",
    "\n",
    "driver.get(url2)\n",
    "title3 = driver.find_element(By.XPATH, '/html/body/div[5]/div[2]/article/div[2]/div[2]/ul/li[1]/div[1]/a').text\n",
    "date3 = driver.find_element(By.XPATH, '/html/body/div[5]/div[2]/article/div[2]/div[2]/ul/li[1]/div[3]/span[1]').text\n",
    "date3 = datetime.date(int(date3[0:4]), int(date3[5:7]), int(date3[8:10]))\n",
    "\n",
    "title4 = driver.find_element(By.XPATH, '/html/body/div[5]/div[2]/article/div[2]/div[2]/ul/li[2]/div[1]/a').text\n",
    "date4 = driver.find_element(By.XPATH, '/html/body/div[5]/div[2]/article/div[2]/div[2]/ul/li[2]/div[3]/span[1]').text\n",
    "date4 = datetime.date(int(date4[0:4]), int(date4[5:7]), int(date4[8:10]))\n",
    "\n",
    "print([univ_nm, url2, datetime.datetime.now(), title1, date1, title2, date2, title3, date3, title4, date4])\n",
    "excel_sheet.append([univ_nm, url2, datetime.datetime.now(), title1, date1, title2, date2, title3, date3, title4, date4])"
   ]
  },
  {
   "cell_type": "markdown",
   "id": "3249ec8b-2daf-4b92-a52b-3565e014db96",
   "metadata": {},
   "source": [
    "### 전남대"
   ]
  },
  {
   "cell_type": "code",
   "execution_count": 112,
   "id": "5b71e9b5-1b3e-4c03-ac80-d9d50cb7988b",
   "metadata": {},
   "outputs": [
    {
     "name": "stdout",
     "output_type": "stream",
     "text": [
      "['전남대', 'https://admission.jnu.ac.kr/WebApp/web/HOM/COM/Board/board.aspx?boardID=393&cate=1566', datetime.datetime(2024, 3, 4, 17, 18, 46, 95780), '[공통]\\xa0(변경 7차: 2024.2.26.)2024학년도 신입생 추가모집요강 공고', datetime.date(2024, 2, 22), '[공통]\\xa02024학년도 학부 신입생 등록금 납부 영수증 출력', datetime.date(2024, 2, 14), '[정시모집]\\xa0(변경: 2024.1.5.) 2024학년도 정시모집 모집인원 변경 공고(수시 이월인원 반영)', datetime.date(2023, 12, 29), '[정시모집]\\xa02024학년도 전남대학교 정시모집요강 공고(2023.07.12.)', datetime.date(2023, 7, 12)]\n"
     ]
    }
   ],
   "source": [
    "univ_nm = '전남대'\n",
    "url1 = 'https://admission.jnu.ac.kr/WebApp/web/HOM/COM/Board/board.aspx?boardID=393&cate=1563'\n",
    "url2 = 'https://admission.jnu.ac.kr/WebApp/web/HOM/COM/Board/board.aspx?boardID=393&cate=1566'\n",
    "\n",
    "driver.get(url1)\n",
    "soup1 = BeautifulSoup(driver.page_source, 'html.parser')\n",
    "title1 = soup1.find('td', 'title').get_text().strip()\n",
    "date1 = soup1.find_all('td', 'under')[1].get_text().strip()\n",
    "date1 = datetime.date(int(date1[0:4]), int(date1[5:7]), int(date1[8:10]))\n",
    "\n",
    "title2 = soup1.find_all('td', 'title')[1].get_text().strip()\n",
    "date2 = soup1.find_all('td', 'under')[4].get_text().strip()\n",
    "date2 = datetime.date(int(date2[0:4]), int(date2[5:7]), int(date2[8:10]))\n",
    "\n",
    "driver.get(url2)\n",
    "soup2 = BeautifulSoup(driver.page_source, 'html.parser')\n",
    "title3 = soup2.find('td', 'title').get_text().strip()\n",
    "date3 = soup2.find_all('td', 'under')[1].get_text().strip()\n",
    "date3 = datetime.date(int(date3[0:4]), int(date3[5:7]), int(date3[8:10]))\n",
    "\n",
    "title4 = soup2.find_all('td', 'title')[1].get_text().strip()\n",
    "date4 = soup2.find_all('td', 'under')[4].get_text().strip()\n",
    "date4 = datetime.date(int(date4[0:4]), int(date4[5:7]), int(date4[8:10]))\n",
    "\n",
    "print([univ_nm, url2, datetime.datetime.now(), title1, date1, title2, date2, title3, date3, title4, date4])\n",
    "excel_sheet.append([univ_nm, url2, datetime.datetime.now(), title1, date1, title2, date2, title3, date3, title4, date4])"
   ]
  },
  {
   "cell_type": "markdown",
   "id": "b3b0bf8a-794e-4a44-afd0-605ea0814ca7",
   "metadata": {},
   "source": [
    "### 가천대"
   ]
  },
  {
   "cell_type": "code",
   "execution_count": 113,
   "id": "2b71f8ad-6b07-4dd1-94ea-6699ee42cc36",
   "metadata": {},
   "outputs": [
    {
     "name": "stdout",
     "output_type": "stream",
     "text": [
      "['가천대', 'https://admission.gachon.ac.kr/admission/html/counsel/notice.asp', datetime.datetime(2024, 3, 4, 17, 18, 47, 122772), '2024학년도 2차 추가모집요강', datetime.date(2024, 2, 26), '2024학년도 2차 추가모집 원서접수', datetime.date(2024, 2, 26), '2024학년도 정시 모집요강', datetime.date(2023, 8, 28), '2024학년도 정시 등록 및 추가합격자 발표 일정 안내', datetime.date(2024, 2, 2)]\n"
     ]
    }
   ],
   "source": [
    "# @@ 동적페이지(정시 공지사항) 이용으로 XPATH 사용\n",
    "# [공지] 표시 붙으면 index 변경 필요하므로 변경 확인할 것\n",
    "\n",
    "univ_nm = '가천대'\n",
    "url1 = 'https://admission.gachon.ac.kr/admission/html/counsel/notice.asp'\n",
    "url2 = 'https://admission.gachon.ac.kr/admission/html/counsel/notice.asp'\n",
    "\n",
    "driver.get(url1)\n",
    "soup1 = BeautifulSoup(driver.page_source, 'html.parser')\n",
    "title1 = driver.find_element(By.XPATH, '/html/body/div[3]/div/div[2]/ul[2]/li[1]/a/span[2]').text\n",
    "date1 = driver.find_element(By.XPATH, '/html/body/div[3]/div/div[2]/ul[2]/li[1]/p[2]').text\n",
    "date1 = datetime.date(int(date1[0:4]), int(date1[5:7]), int(date1[8:10]))\n",
    "\n",
    "title2 = driver.find_element(By.XPATH, '/html/body/div[3]/div/div[2]/ul[2]/li[2]/a/span[2]').text\n",
    "date2 = driver.find_element(By.XPATH, '/html/body/div[3]/div/div[2]/ul[2]/li[2]/p[2]').text\n",
    "date2 = datetime.date(int(date2[0:4]), int(date2[5:7]), int(date2[8:10]))\n",
    "\n",
    "driver.get(url2)\n",
    "driver.find_element(By.XPATH, '/html/body/div[3]/div/div[2]/ul[1]/li[4]/a').click()\n",
    "title3 = driver.find_element(By.XPATH, '/html/body/div[3]/div/div[2]/ul[2]/li[1]/a/span[2]').text\n",
    "date3 = driver.find_element(By.XPATH, '/html/body/div[3]/div/div[2]/ul[2]/li[1]/p[2]').text\n",
    "date3 = datetime.date(int(date3[0:4]), int(date3[5:7]), int(date3[8:10]))\n",
    "\n",
    "title4 = driver.find_element(By.XPATH, '/html/body/div[3]/div/div[2]/ul[2]/li[2]/a/span').text\n",
    "date4 = driver.find_element(By.XPATH, '/html/body/div[3]/div/div[2]/ul[2]/li[2]/p[2]').text\n",
    "date4 = datetime.date(int(date4[0:4]), int(date4[5:7]), int(date4[8:10]))\n",
    "\n",
    "print([univ_nm, url2, datetime.datetime.now(), title1, date1, title2, date2, title3, date3, title4, date4])\n",
    "excel_sheet.append([univ_nm, url2, datetime.datetime.now(), title1, date1, title2, date2, title3, date3, title4, date4])"
   ]
  },
  {
   "cell_type": "markdown",
   "id": "374de83d-8ecc-4d67-9394-11a35daccd36",
   "metadata": {},
   "source": [
    "### 한성대"
   ]
  },
  {
   "cell_type": "code",
   "execution_count": 114,
   "id": "da06703a-bef4-4d35-b578-463b4b29583f",
   "metadata": {},
   "outputs": [
    {
     "name": "stdout",
     "output_type": "stream",
     "text": [
      "['한성대', 'https://enter.hansung.ac.kr/?m1=menu01%25&m2=sub01%25&board=regular%2Fnotice%25', datetime.datetime(2024, 3, 4, 17, 18, 48, 196763), '2024 추가모집 등록/환불', datetime.date(2024, 2, 29), '2024학년도 추가모집 원서접수', datetime.date(2024, 2, 22), '2024 추가모집 등록/환불', datetime.date(2024, 2, 29), '2024학년도 추가모집 원서접수', datetime.date(2024, 2, 22)]\n"
     ]
    }
   ],
   "source": [
    "univ_nm = '한성대'\n",
    "url1 = 'https://enter.hansung.ac.kr/?m1=menu07%25&m2=sub04%25&board=entrance_helper%2Fnotice%25'\n",
    "url2 = 'https://enter.hansung.ac.kr/?m1=menu01%25&m2=sub01%25&board=regular%2Fnotice%25'\n",
    "\n",
    "driver.get(url1)\n",
    "title1 = driver.find_element(By.XPATH, '/html/body/div[1]/div[1]/div[2]/div[1]/div/div/div[6]/div/div/div/table/tbody/tr[1]/td[3]').text\n",
    "date1 = driver.find_element(By.XPATH, '/html/body/div[1]/div[1]/div[2]/div[1]/div/div/div[6]/div/div/div/table/tbody/tr[1]/td[4]').text\n",
    "date1 = datetime.date(int(date1[0:4]), int(date1[5:7]), int(date1[8:10]))\n",
    "\n",
    "title2 = driver.find_element(By.XPATH, '/html/body/div[1]/div[1]/div[2]/div[1]/div/div/div[6]/div/div/div/table/tbody/tr[2]/td[3]').text\n",
    "date2 = driver.find_element(By.XPATH, '/html/body/div[1]/div[1]/div[2]/div[1]/div/div/div[6]/div/div/div/table/tbody/tr[2]/td[4]').text\n",
    "date2 = datetime.date(int(date2[0:4]), int(date2[5:7]), int(date2[8:10]))\n",
    "\n",
    "driver.get(url2)\n",
    "title3 = driver.find_element(By.XPATH, '/html/body/div[1]/div[1]/div[2]/div[1]/div/div/div[6]/div/div/div/table/tbody/tr[1]/td[3]').text\n",
    "date3 = driver.find_element(By.XPATH, '/html/body/div[1]/div[1]/div[2]/div[1]/div/div/div[6]/div/div/div/table/tbody/tr[1]/td[4]').text\n",
    "date3 = datetime.date(int(date3[0:4]), int(date3[5:7]), int(date3[8:10]))\n",
    "\n",
    "title4 = driver.find_element(By.XPATH, '/html/body/div[1]/div[1]/div[2]/div[1]/div/div/div[6]/div/div/div/table/tbody/tr[2]/td[3]').text\n",
    "date4 = driver.find_element(By.XPATH, '/html/body/div[1]/div[1]/div[2]/div[1]/div/div/div[6]/div/div/div/table/tbody/tr[2]/td[4]').text\n",
    "date4 = datetime.date(int(date4[0:4]), int(date4[5:7]), int(date4[8:10]))\n",
    "\n",
    "print([univ_nm, url2, datetime.datetime.now(), title1, date1, title2, date2, title3, date3, title4, date4])\n",
    "excel_sheet.append([univ_nm, url2, datetime.datetime.now(), title1, date1, title2, date2, title3, date3, title4, date4])"
   ]
  },
  {
   "cell_type": "markdown",
   "id": "5a46c2df-d4b8-4429-9c80-a05dad2bc44b",
   "metadata": {},
   "source": [
    "### 가톨릭대"
   ]
  },
  {
   "cell_type": "code",
   "execution_count": 115,
   "id": "3eab0d6f-cc3f-4464-8aba-baa9e995c2cf",
   "metadata": {},
   "outputs": [
    {
     "name": "stdout",
     "output_type": "stream",
     "text": [
      "['가톨릭대', 'https://ipsi.catholic.ac.kr/submenu.do?menuurl=fpotGuatDnhsqjCnl16KOw%3D%3D&categoryid=2', datetime.datetime(2024, 3, 4, 17, 18, 49, 274697), '[입학팀] 기관동아리 날아가대 신입단원(24기) 모집', datetime.date(2024, 3, 4), '2024학년도 추가모집 합격자 등록금 납부 확인', datetime.date(2024, 2, 28), '2024학년도 추가모집 합격자 등록금 납부 확인', datetime.date(2024, 2, 28), '2024학년도 정시모집 합격자 등록금 납부 확인', datetime.date(2024, 2, 21)]\n"
     ]
    }
   ],
   "source": [
    "univ_nm = '가톨릭대'\n",
    "url1 = 'https://ipsi.catholic.ac.kr/submenu.do?menuurl=fpotGuatDnhsqjCnl16KOw%3D%3D&categoryid=0'\n",
    "url2 = 'https://ipsi.catholic.ac.kr/submenu.do?menuurl=fpotGuatDnhsqjCnl16KOw%3D%3D&categoryid=2'\n",
    "\n",
    "driver.get(url1)\n",
    "title1 = driver.find_element(By.XPATH, '/html/body/section/article/div/div[2]/ul/li[1]/a').text\n",
    "date1 = driver.find_element(By.XPATH, '/html/body/section/article/div/div[2]/ul/li[1]/div/span[2]').text\n",
    "date1 = datetime.date(int(date1[0:4]), int(date1[5:7]), int(date1[8:10]))\n",
    "\n",
    "title2 = driver.find_element(By.XPATH, '/html/body/section/article/div/div[2]/ul/li[2]/a').text\n",
    "date2 = driver.find_element(By.XPATH, '/html/body/section/article/div/div[2]/ul/li[2]/div/span[2]').text\n",
    "date2 = datetime.date(int(date2[0:4]), int(date2[5:7]), int(date2[8:10]))\n",
    "\n",
    "driver.get(url2)\n",
    "title3 = driver.find_element(By.XPATH, '/html/body/section/article/div/div[2]/ul/li[1]/a').text\n",
    "date3 = driver.find_element(By.XPATH, '/html/body/section/article/div/div[2]/ul/li[1]/div/span[2]').text\n",
    "date3 = datetime.date(int(date3[0:4]), int(date3[5:7]), int(date3[8:10]))\n",
    "\n",
    "title4 = driver.find_element(By.XPATH, '/html/body/section/article/div/div[2]/ul/li[2]/a').text\n",
    "date4 = driver.find_element(By.XPATH, '/html/body/section/article/div/div[2]/ul/li[2]/div/span[2]').text\n",
    "date4 = datetime.date(int(date4[0:4]), int(date4[5:7]), int(date4[8:10]))\n",
    "\n",
    "print([univ_nm, url2, datetime.datetime.now(), title1, date1, title2, date2, title3, date3, title4, date4])\n",
    "excel_sheet.append([univ_nm, url2, datetime.datetime.now(), title1, date1, title2, date2, title3, date3, title4, date4])"
   ]
  },
  {
   "cell_type": "markdown",
   "id": "ce60e87c-07ff-4611-bca9-f42b44bf1481",
   "metadata": {},
   "source": [
    "## 1차 대학 엑셀 파일 저장"
   ]
  },
  {
   "cell_type": "code",
   "execution_count": 116,
   "id": "67c01d9d-70a7-4bcb-a306-b6d80eac6659",
   "metadata": {},
   "outputs": [],
   "source": [
    "excel_file.save('대학공지(1차)_' + datetime.datetime.now().strftime('%Y-%m-%d_%H;%M') + '.xlsx')"
   ]
  },
  {
   "cell_type": "markdown",
   "id": "f338e0be-1e2f-42e0-a657-478a1ee9dcfd",
   "metadata": {},
   "source": [
    "## 2차대학"
   ]
  },
  {
   "cell_type": "markdown",
   "id": "aa4175f8-5f35-4fa3-bb61-a94eddad54d7",
   "metadata": {},
   "source": [
    "### 연세대(미래)"
   ]
  },
  {
   "cell_type": "code",
   "execution_count": 172,
   "id": "f5669ca2-649c-4b30-8e92-c9a5abe957a5",
   "metadata": {},
   "outputs": [
    {
     "name": "stdout",
     "output_type": "stream",
     "text": [
      "['연세대(미래)', 'https://admission.yonsei.ac.kr/mirae/admission/html/counsel/notice.asp?s_type=TYPE2', datetime.datetime(2024, 3, 4, 17, 33, 31, 11216), '[정시모집] 2024학년도 학부 신입생 추가모집 합격자 안내사항', datetime.date(2024, 2, 26), '[정시모집] 2024학년도 추가모집 등록금 환불신청 안내', datetime.date(2024, 2, 26), '[정시모집] 2024학년도 학부 신입생 추가모집 합격자 안내사항', datetime.date(2024, 2, 26), '[정시모집] 2024학년도 추가모집 등록금 환불신청 안내', datetime.date(2024, 2, 21)]\n"
     ]
    }
   ],
   "source": [
    "univ_nm = '연세대(미래)'\n",
    "url1 = 'https://admission.yonsei.ac.kr/mirae/admission/html/counsel/notice.asp'\n",
    "url2 = 'https://admission.yonsei.ac.kr/mirae/admission/html/counsel/notice.asp?s_type=TYPE2'\n",
    "\n",
    "driver.get(url1)\n",
    "soup1 = BeautifulSoup(driver.page_source, 'html.parser')\n",
    "title1 = soup1.find('span', 'tit').get_text().strip()\n",
    "date1 = soup1.find('span', 'date').get_text().strip()[5:15]\n",
    "date1 = datetime.date(int(date1[0:4]), int(date1[5:7]), int(date1[8:10]))\n",
    "\n",
    "title2 = soup1.find_all('span', 'tit')[1].get_text().strip()\n",
    "date2 = soup1.find_all('span', 'date')[1].get_text().strip()[5:15]\n",
    "date2 = datetime.date(int(date2[0:4]), int(date2[5:7]), int(date2[8:10]))\n",
    "\n",
    "driver.get(url2)\n",
    "soup2 = BeautifulSoup(driver.page_source, 'html.parser')\n",
    "title3 = soup2.find('span', 'tit').get_text().strip()\n",
    "date3 = soup2.find('span', 'date').get_text().strip()[5:15]\n",
    "date3 = datetime.date(int(date3[0:4]), int(date3[5:7]), int(date3[8:10]))\n",
    "\n",
    "title4 = soup2.find_all('span', 'tit')[1].get_text().strip()\n",
    "date4 = soup2.find_all('span', 'date')[4].get_text().strip()[5:15]\n",
    "date4 = datetime.date(int(date4[0:4]), int(date4[5:7]), int(date4[8:10]))\n",
    "\n",
    "print([univ_nm, url2, datetime.datetime.now(), title1, date1, title2, date2, title3, date3, title4, date4])\n",
    "excel_sheet2.append([univ_nm, url2, datetime.datetime.now(), title1, date1, title2, date2, title3, date3, title4, date4])"
   ]
  },
  {
   "cell_type": "markdown",
   "id": "a01d559d-b811-4e59-8a9b-64a9dea5b809",
   "metadata": {},
   "source": [
    "### 전북대"
   ]
  },
  {
   "cell_type": "code",
   "execution_count": 173,
   "id": "c2ea1e23-d64b-4726-ad66-a30d4cdfa3e9",
   "metadata": {},
   "outputs": [
    {
     "name": "stdout",
     "output_type": "stream",
     "text": [
      "['전북대', 'https://enter.jbnu.ac.kr/submenu.do?menuurl=fpotGuatDnhsqjCnl16KOw%3D%3D&categoryid=2', datetime.datetime(2024, 3, 4, 17, 33, 33, 234298), '2024학년도 수시모집 [농어촌학생 전형, 지역인재 전형] 최종 등록자 추가 제출 서류 안내', datetime.date(2024, 2, 8), '2024학년도 재외국민 특별전형 등록금 납부 안내', datetime.date(2024, 2, 6), '2024학년도 정시모집 합격자 유의사항', datetime.date(2024, 1, 30), '전북대학교 2023학년도 입시 결과(정시)', datetime.date(2023, 4, 6)]\n"
     ]
    }
   ],
   "source": [
    "univ_nm = '전북대'\n",
    "url1 = 'https://enter.jbnu.ac.kr/submenu.do?menuurl=fpotGuatDnhsqjCnl16KOw%3D%3D&categoryid=0'\n",
    "url2 = 'https://enter.jbnu.ac.kr/submenu.do?menuurl=fpotGuatDnhsqjCnl16KOw%3D%3D&categoryid=2'\n",
    "\n",
    "driver.get(url1)\n",
    "soup1 = BeautifulSoup(driver.page_source, 'html.parser')\n",
    "title1 = soup1.find('ul', 'td b_notice clfix').find('a').get_text().strip()\n",
    "date1 = soup1.find('li', 'td5 block_pc').get_text().strip()\n",
    "date1 = datetime.date(int(date1[0:4]), int(date1[5:7]), int(date1[8:10]))\n",
    "\n",
    "title2 = soup1.find_all('ul', 'td b_notice clfix')[1].find('a').get_text().strip()\n",
    "date2 = soup1.find_all('li', 'td5 block_pc')[1].get_text().strip()\n",
    "date2 = datetime.date(int(date2[0:4]), int(date2[5:7]), int(date2[8:10]))\n",
    "\n",
    "driver.get(url2)\n",
    "soup2 = BeautifulSoup(driver.page_source, 'html.parser')\n",
    "title3 = soup2.find('ul', 'td b_notice clfix').find('a').get_text().strip()\n",
    "date3 =  soup2.find('li', 'td5 block_pc').get_text().strip()\n",
    "date3 = datetime.date(int(date3[0:4]), int(date3[5:7]), int(date3[8:10]))\n",
    "\n",
    "title4 = soup2.find_all('ul', 'td b_notice clfix')[1].find('a').get_text().strip()\n",
    "date4 = soup2.find_all('li', 'td5 block_pc')[1].get_text().strip()\n",
    "date4 = datetime.date(int(date4[0:4]), int(date4[5:7]), int(date4[8:10]))\n",
    "\n",
    "print([univ_nm, url2, datetime.datetime.now(), title1, date1, title2, date2, title3, date3, title4, date4])\n",
    "excel_sheet2.append([univ_nm, url2, datetime.datetime.now(), title1, date1, title2, date2, title3, date3, title4, date4])"
   ]
  },
  {
   "cell_type": "markdown",
   "id": "65661480-eb10-4bf9-87fa-19dd02a37b24",
   "metadata": {},
   "source": [
    "### 고려대(세종)"
   ]
  },
  {
   "cell_type": "code",
   "execution_count": 174,
   "id": "02e47854-f666-467f-9c8f-75501cb17045",
   "metadata": {},
   "outputs": [
    {
     "name": "stdout",
     "output_type": "stream",
     "text": [
      "['고려대(세종)', 'https://oku.korea.ac.kr/sejong/cms/FR_CON/index.do?MENU_ID=570&CONTENTS_NO=7', datetime.datetime(2024, 3, 4, 17, 33, 35, 311478), '2024학년도 추가모집 추가합격자 발표 및 등록 안내', datetime.date(2024, 2, 26), '2024학년도 추가모집 등록포기(환불) 신청 안내', datetime.date(2024, 2, 26), '2024학년도 정시모집 등록포기(환불) 신청 안내', datetime.date(2024, 2, 13), '2024학년도 정시모집 최종합격자 등록금 납부 안내', datetime.date(2024, 2, 7)]\n"
     ]
    }
   ],
   "source": [
    "univ_nm = '고려대(세종)'\n",
    "url1 = 'https://oku.korea.ac.kr/sejong/cms/FR_CON/index.do?MENU_ID=570'\n",
    "url2 = 'https://oku.korea.ac.kr/sejong/cms/FR_CON/index.do?MENU_ID=570&CONTENTS_NO=7'\n",
    "\n",
    "driver.get(url1)\n",
    "soup1 = BeautifulSoup(driver.page_source, 'html.parser')\n",
    "title1 = WebDriverWait(driver, 5).until(\n",
    "    EC.visibility_of_element_located((By.XPATH, '/html/body/div[6]/div[3]/article/div/table/tbody/tr[1]/td[3]/a'))).text\n",
    "date1 = WebDriverWait(driver, 5).until(\n",
    "    EC.visibility_of_element_located((By.XPATH, '/html/body/div[6]/div[3]/article/div/table/tbody/tr[1]/td[6]'))).text\n",
    "date1 = datetime.date(int(date1[0:4]), int(date1[5:7]), int(date1[8:10]))\n",
    "\n",
    "title2 = WebDriverWait(driver, 5).until(\n",
    "    EC.visibility_of_element_located((By.XPATH, '/html/body/div[6]/div[3]/article/div/table/tbody/tr[2]/td[3]/a'))).text\n",
    "date2 = WebDriverWait(driver, 5).until(\n",
    "    EC.visibility_of_element_located((By.XPATH, '/html/body/div[6]/div[3]/article/div/table/tbody/tr[2]/td[6]'))).text\n",
    "date2 = datetime.date(int(date2[0:4]), int(date2[5:7]), int(date2[8:10]))\n",
    "\n",
    "driver.get(url2)\n",
    "title3 = WebDriverWait(driver, 5).until(\n",
    "    EC.visibility_of_element_located((By.XPATH, '/html/body/div[6]/div[3]/article/div/table/tbody/tr[1]/td[3]/a'))).text\n",
    "date3 = WebDriverWait(driver, 5).until(\n",
    "    EC.visibility_of_element_located((By.XPATH, '/html/body/div[6]/div[3]/article/div/table/tbody/tr[1]/td[6]'))).text\n",
    "date3 = datetime.date(int(date3[0:4]), int(date3[5:7]), int(date3[8:10]))\n",
    "\n",
    "title4 = WebDriverWait(driver, 5).until(\n",
    "    EC.visibility_of_element_located((By.XPATH, '/html/body/div[6]/div[3]/article/div/table/tbody/tr[2]/td[3]/a'))).text\n",
    "date4 = WebDriverWait(driver, 5).until(\n",
    "    EC.visibility_of_element_located((By.XPATH, '/html/body/div[6]/div[3]/article/div/table/tbody/tr[2]/td[6]'))).text\n",
    "date4 = datetime.date(int(date4[0:4]), int(date4[5:7]), int(date4[8:10]))\n",
    "\n",
    "print([univ_nm, url2, datetime.datetime.now(), title1, date1, title2, date2, title3, date3, title4, date4])\n",
    "excel_sheet2.append([univ_nm, url2, datetime.datetime.now(), title1, date1, title2, date2, title3, date3, title4, date4])"
   ]
  },
  {
   "cell_type": "markdown",
   "id": "7675857d-5493-41e9-9b7d-42a95e5887bc",
   "metadata": {},
   "source": [
    "### 제주대"
   ]
  },
  {
   "cell_type": "code",
   "execution_count": 175,
   "id": "a75940d0-596d-40a3-bb07-65ec72212ff0",
   "metadata": {},
   "outputs": [
    {
     "name": "stdout",
     "output_type": "stream",
     "text": [
      "['제주대', 'https://ibsi.jejunu.ac.kr/?m1=board%25&menu=10%25&type=notice%25', datetime.datetime(2024, 3, 4, 17, 33, 37, 124236), '2021~2023학년도 학부 신입생 입학전형 결과', datetime.date(2023, 5, 25), '2024학년도 추가모집 회피배제 시스템검증 및 재검증 결과 공고', datetime.date(2024, 2, 28), '2024학년도 제1학기 시간제등록생 모집요강 공고', datetime.date(2024, 2, 2), '2024학년도 정시모집 회피배제 시스템검증 및 재검증 결과 공고', datetime.date(2024, 1, 26)]\n"
     ]
    }
   ],
   "source": [
    "univ_nm = '제주대'\n",
    "url1 = 'https://ibsi.jejunu.ac.kr/?m1=board%25&menu=10%25&type=notice%25'\n",
    "url2 = 'https://ibsi.jejunu.ac.kr/?m1=board%25&menu=10%25&type=notice%25'\n",
    "\n",
    "driver.get(url1)\n",
    "title1 = WebDriverWait(driver, 5).until(\n",
    "    EC.visibility_of_element_located((By.XPATH, '/html/body/div/div[6]/div/div/div[3]/div/table/tbody/tr[1]/td[2]'))).text\n",
    "date1 = WebDriverWait(driver, 5).until(\n",
    "    EC.visibility_of_element_located((By.XPATH, '/html/body/div/div[6]/div/div/div[3]/div/table/tbody/tr[1]/td[3]'))).text\n",
    "date1 = datetime.date(int(date1[0:4]), int(date1[5:7]), int(date1[8:10]))\n",
    "\n",
    "title2 = WebDriverWait(driver, 5).until(\n",
    "    EC.visibility_of_element_located((By.XPATH, '/html/body/div/div[6]/div/div/div[3]/div/table/tbody/tr[2]/td[2]'))).text\n",
    "date2 = WebDriverWait(driver, 5).until(\n",
    "    EC.visibility_of_element_located((By.XPATH, '/html/body/div/div[6]/div/div/div[3]/div/table/tbody/tr[2]/td[3]'))).text\n",
    "date2 = datetime.date(int(date2[0:4]), int(date2[5:7]), int(date2[8:10]))\n",
    "\n",
    "driver.get(url2)\n",
    "title3 = WebDriverWait(driver, 5).until(\n",
    "    EC.visibility_of_element_located((By.XPATH, '/html/body/div/div[6]/div/div/div[3]/div/table/tbody/tr[3]/td[2]'))).text\n",
    "date3 = WebDriverWait(driver, 5).until(\n",
    "    EC.visibility_of_element_located((By.XPATH, '/html/body/div/div[6]/div/div/div[3]/div/table/tbody/tr[3]/td[3]'))).text\n",
    "date3 = datetime.date(int(date3[0:4]), int(date3[5:7]), int(date3[8:10]))\n",
    "\n",
    "title4 = WebDriverWait(driver, 5).until(\n",
    "    EC.visibility_of_element_located((By.XPATH, '/html/body/div/div[6]/div/div/div[3]/div/table/tbody/tr[4]/td[2]'))).text\n",
    "date4 = WebDriverWait(driver, 5).until(\n",
    "    EC.visibility_of_element_located((By.XPATH, '/html/body/div/div[6]/div/div/div[3]/div/table/tbody/tr[4]/td[3]'))).text\n",
    "date4 = datetime.date(int(date4[0:4]), int(date4[5:7]), int(date4[8:10]))\n",
    "\n",
    "print([univ_nm, url2, datetime.datetime.now(), title1, date1, title2, date2, title3, date3, title4, date4])\n",
    "excel_sheet2.append([univ_nm, url2, datetime.datetime.now(), title1, date1, title2, date2, title3, date3, title4, date4])"
   ]
  },
  {
   "cell_type": "markdown",
   "id": "9da649fb-5538-4452-9211-838069ff73bf",
   "metadata": {},
   "source": [
    "### 경상국립대"
   ]
  },
  {
   "cell_type": "code",
   "execution_count": 176,
   "id": "0613d70e-3793-4ca6-9deb-0a22102903f1",
   "metadata": {},
   "outputs": [
    {
     "name": "stdout",
     "output_type": "stream",
     "text": [
      "['경상국립대', 'https://www.gnu.ac.kr/new/na/ntt/selectNttList.do?mi=4948&bbsId=1944', datetime.datetime(2024, 3, 4, 17, 33, 38, 163324), '2024학년도 수시모집 합격자 유의사항', datetime.date(2023, 12, 14), '2024학년도 수시모집 고교별 합격자 조회', datetime.date(2023, 12, 14), '2024학년도 추가모집 최종 충원 합격자 조회(최초-3차, 240229)', datetime.date(2024, 2, 29), '2024학년도 신입생 『3차 추가모집』 원서접수 안내', datetime.date(2024, 2, 28)]\n"
     ]
    }
   ],
   "source": [
    "univ_nm = '경상국립대'\n",
    "url1 = 'https://www.gnu.ac.kr/new/na/ntt/selectNttList.do?mi=4984&bbsId=1957'\n",
    "url2 = 'https://www.gnu.ac.kr/new/na/ntt/selectNttList.do?mi=4948&bbsId=1944'\n",
    "\n",
    "driver.get(url1)\n",
    "soup1 = BeautifulSoup(driver.page_source, 'html.parser')\n",
    "title1 = soup1.find('td', 'ta_l').get_text().strip()\n",
    "date1 = soup1.find_all('td')[3].get_text().strip()\n",
    "date1 = datetime.date(int(date1[0:4]), int(date1[5:7]), int(date1[8:10]))\n",
    "\n",
    "title2 = soup1.find_all('td', 'ta_l')[1].get_text().strip()\n",
    "date2 = soup1.find_all('td')[7].get_text().strip()\n",
    "date2 = datetime.date(int(date2[0:4]), int(date2[5:7]), int(date2[8:10]))\n",
    "\n",
    "driver.get(url2)\n",
    "soup2 = BeautifulSoup(driver.page_source, 'html.parser')\n",
    "title3 = soup2.find('td', 'ta_l').get_text().strip()\n",
    "date3 =  soup2.find_all('td')[3].get_text().strip()\n",
    "date3 = datetime.date(int(date3[0:4]), int(date3[5:7]), int(date3[8:10]))\n",
    "\n",
    "title4 = soup2.find_all('td', 'ta_l')[1].get_text().strip()\n",
    "date4 = soup2.find_all('td')[7].get_text().strip()\n",
    "date4 = datetime.date(int(date4[0:4]), int(date4[5:7]), int(date4[8:10]))\n",
    "\n",
    "print([univ_nm, url2, datetime.datetime.now(), title1, date1, title2, date2, title3, date3, title4, date4])\n",
    "excel_sheet2.append([univ_nm, url2, datetime.datetime.now(), title1, date1, title2, date2, title3, date3, title4, date4])"
   ]
  },
  {
   "cell_type": "markdown",
   "id": "4a49b514-96f0-4c4d-8dd5-2f8f300889f9",
   "metadata": {},
   "source": [
    "### 강원대"
   ]
  },
  {
   "cell_type": "code",
   "execution_count": 178,
   "id": "83cfc1ad-7f7f-4796-b3ae-913a84e925d8",
   "metadata": {},
   "outputs": [
    {
     "name": "stdout",
     "output_type": "stream",
     "text": [
      "['강원대', 'https://wwwn.kangwon.ac.kr/admission/selectBbsNttList.do?bbsNo=373&key=2137&searchCtgry=%EC%A0%95%EC%8B%9C&', datetime.datetime(2024, 3, 4, 17, 35, 43, 711785), '2024학년도 2차 추가모집 최초 합격자 조회（등록 포기 신청 안내）（전화 개별 발표후 합격자는 바로 조회 가능）', datetime.date(2024, 2, 29), '2024학년도 추가모집 충원3차 합격자 조회（등록 포기 신청 안내）（전화 개별 발표후 합격자는 바로 조회 가능）', datetime.date(2024, 2, 29), '2024학년도 2차 추가모집 최초 합격자 조회（등록 포기 신청 안내）（전화 개별 발표후 합격자는 바로 조회 가능）', datetime.date(2024, 2, 29), '2024학년도 추가모집 충원3차 합격자 조회（등록 포기 신청 안내）（전화 개별 발표후 합격자는 바로 조회 가능）', datetime.date(2024, 2, 29)]\n"
     ]
    }
   ],
   "source": [
    "# @@\n",
    "\n",
    "univ_nm = '강원대'\n",
    "url1 = 'https://wwwn.kangwon.ac.kr/admission/selectBbsNttList.do?bbsNo=373&key=2150&'\n",
    "url2 = 'https://wwwn.kangwon.ac.kr/admission/selectBbsNttList.do?bbsNo=373&key=2137&searchCtgry=%EC%A0%95%EC%8B%9C&'\n",
    "\n",
    "driver.get(url1)\n",
    "title1 = driver.find_element(By.XPATH, '/html/body/div[2]/div[4]/div/main/article/div/div/table/tbody/tr[1]/td[3]/a').text\n",
    "date1 = driver.find_element(By.XPATH, '/html/body/div[2]/div[4]/div/main/article/div/div/table/tbody/tr[1]/td[5]').text\n",
    "date1 = datetime.date(int(date1[0:4]), int(date1[5:7]), int(date1[8:10]))\n",
    "\n",
    "title2 = driver.find_element(By.XPATH, '/html/body/div[2]/div[4]/div/main/article/div/div/table/tbody/tr[2]/td[3]').text\n",
    "date2 = driver.find_element(By.XPATH, '/html/body/div[2]/div[4]/div/main/article/div/div/table/tbody/tr[2]/td[5]').text\n",
    "date2 = datetime.date(int(date2[0:4]), int(date2[5:7]), int(date2[8:10]))\n",
    "\n",
    "driver.get(url2)\n",
    "title3 = driver.find_element(By.XPATH, '/html/body/div[2]/div[4]/div/main/article/div/div/table/tbody/tr[1]/td[3]/a').text\n",
    "date3 = driver.find_element(By.XPATH, '/html/body/div[2]/div[4]/div/main/article/div/div/table/tbody/tr[1]/td[5]').text\n",
    "date3 = datetime.date(int(date3[0:4]), int(date3[5:7]), int(date3[8:10]))\n",
    "\n",
    "title4 = driver.find_element(By.XPATH, '/html/body/div[2]/div[4]/div/main/article/div/div/table/tbody/tr[2]/td[3]').text\n",
    "date4 = driver.find_element(By.XPATH, '/html/body/div[2]/div[4]/div/main/article/div/div/table/tbody/tr[2]/td[5]').text\n",
    "date4 = datetime.date(int(date4[0:4]), int(date4[5:7]), int(date4[8:10]))\n",
    "\n",
    "print([univ_nm, url2, datetime.datetime.now(), title1, date1, title2, date2, title3, date3, title4, date4])\n",
    "excel_sheet2.append([univ_nm, url2, datetime.datetime.now(), title1, date1, title2, date2, title3, date3, title4, date4])"
   ]
  },
  {
   "cell_type": "markdown",
   "id": "8d4d8da0-11a1-4889-94cc-9f6097f6e441",
   "metadata": {},
   "source": [
    "### 국립강릉원주대"
   ]
  },
  {
   "cell_type": "code",
   "execution_count": 179,
   "id": "8989f971-5e20-4faf-aa74-4a810012de7e",
   "metadata": {},
   "outputs": [
    {
     "name": "stdout",
     "output_type": "stream",
     "text": [
      "['국립강릉원주대', 'https://iphak.gwnu.ac.kr/iphak/7635/subview.do?enc=Zm5jdDF8QEB8JTJGYmJzJTJGaXBoYWslMkYxNjA2JTJGYXJ0Y2xMaXN0LmRvJTNGYmJzQ2xTZXElM0QxMjIlMjZiYnNPcGVuV3JkU2VxJTNEJTI2aXNWaWV3TWluZSUzRGZhbHNlJTI2c3JjaENvbHVtbiUzRCUyNnNyY2hXcmQlM0QlMjY%3D', datetime.datetime(2024, 3, 4, 17, 35, 47, 342338), '2024학년도 국립강릉원주대학교 신입학 추가모집 발표 종료 안내', datetime.date(2024, 2, 29), '2025학년도 대학입학전형 시행계획 변경 공고', datetime.date(2024, 2, 29), '2024학년도 정시모집 충원합격자 발표 및 ', datetime.date(2024, 2, 13), '', datetime.date(2024, 2, 7)]\n"
     ]
    }
   ],
   "source": [
    "univ_nm = '국립강릉원주대'\n",
    "url1 = 'https://iphak.gwnu.ac.kr/iphak/7635/subview.do'\n",
    "url2 = 'https://iphak.gwnu.ac.kr/iphak/7635/subview.do?enc=Zm5jdDF8QEB8JTJGYmJzJTJGaXBoYWslMkYxNjA2JTJGYXJ0Y2xMaXN0LmRvJTNGYmJzQ2xTZXElM0QxMjIlMjZiYnNPcGVuV3JkU2VxJTNEJTI2aXNWaWV3TWluZSUzRGZhbHNlJTI2c3JjaENvbHVtbiUzRCUyNnNyY2hXcmQlM0QlMjY%3D'\n",
    "\n",
    "driver.get(url1)\n",
    "soup1 = BeautifulSoup(driver.page_source, 'html.parser')\n",
    "title1 = soup1.find('td', '_artclTdTitle').get_text().strip()[:-25]\n",
    "date1 = soup1.find('td', '_artclTdRdate').get_text().strip()\n",
    "date1 = datetime.date(int(date1[0:4]), int(date1[5:7]), int(date1[8:10]))\n",
    "\n",
    "title2 = soup1.find_all('td', '_artclTdTitle')[1].get_text().strip()[:-25]\n",
    "date2 = soup1.find_all('td', '_artclTdRdate')[1].get_text().strip()\n",
    "date2 = datetime.date(int(date2[0:4]), int(date2[5:7]), int(date2[8:10]))\n",
    "\n",
    "driver.get(url2)\n",
    "soup2 = BeautifulSoup(driver.page_source, 'html.parser')\n",
    "title3 = soup2.find('td', '_artclTdTitle').get_text().strip()[:-25]\n",
    "date3 =  soup2.find('td', '_artclTdRdate').get_text().strip()\n",
    "date3 = datetime.date(int(date3[0:4]), int(date3[5:7]), int(date3[8:10]))\n",
    "\n",
    "title4 = soup2.find_all('td', '_artclTdTitle')[1].get_text().strip()[:-25]\n",
    "date4 = soup2.find_all('td', '_artclTdRdate')[1].get_text().strip()\n",
    "date4 = datetime.date(int(date4[0:4]), int(date4[5:7]), int(date4[8:10]))\n",
    "\n",
    "print([univ_nm, url2, datetime.datetime.now(), title1, date1, title2, date2, title3, date3, title4, date4])\n",
    "excel_sheet2.append([univ_nm, url2, datetime.datetime.now(), title1, date1, title2, date2, title3, date3, title4, date4])"
   ]
  },
  {
   "cell_type": "markdown",
   "id": "215b6217-7e05-4342-8268-176dd8c27cec",
   "metadata": {},
   "source": [
    "### 동국대(와이즈)"
   ]
  },
  {
   "cell_type": "code",
   "execution_count": 180,
   "id": "6cfca235-7a17-4ca2-84ca-a3bfcb9017db",
   "metadata": {},
   "outputs": [
    {
     "name": "stdout",
     "output_type": "stream",
     "text": [
      "['동국대(와이즈)', 'https://ipsi.dongguk.ac.kr/article/notice/list', datetime.datetime(2024, 3, 4, 17, 35, 50, 312149), '2024학년도 신입학 추가모집(4차) 합격자 발표', datetime.date(2024, 2, 29), '2024학년도 신입학 추가모집(3차) 합격자 발표', datetime.date(2024, 2, 29), '2024학년도 신입학 추가모집(2차) 충원5차 합격자 발표 안내', datetime.date(2024, 2, 27), '2024학년도 신입학 추가모집(1차) 충원12차 합격자 발표 안내', datetime.date(2024, 2, 27)]\n"
     ]
    }
   ],
   "source": [
    "univ_nm = '동국대(와이즈)'\n",
    "url1 = 'https://ipsi.dongguk.ac.kr/article/notice/list'\n",
    "url2 = 'https://ipsi.dongguk.ac.kr/article/notice/list'\n",
    "\n",
    "driver.get(url1)\n",
    "title1 = driver.find_element(By.XPATH, '/html/body/div[1]/div[7]/div[2]/div[2]/div[2]/table/tbody[1]/tr[1]/td[2]/a').text\n",
    "date1 = driver.find_element(By.XPATH, '/html/body/div[1]/div[7]/div[2]/div[2]/div[2]/table/tbody[1]/tr[1]/td[5]').text\n",
    "date1 = datetime.date(int(date1[0:4]), int(date1[5:7]), int(date1[8:10]))\n",
    "\n",
    "title2 = driver.find_element(By.XPATH, '/html/body/div[1]/div[7]/div[2]/div[2]/div[2]/table/tbody[1]/tr[2]/td[2]/a').text\n",
    "date2 = driver.find_element(By.XPATH, '/html/body/div[1]/div[7]/div[2]/div[2]/div[2]/table/tbody[1]/tr[2]/td[5]').text\n",
    "date2 = datetime.date(int(date2[0:4]), int(date2[5:7]), int(date2[8:10]))\n",
    "\n",
    "driver.get(url2)\n",
    "title3 = driver.find_element(By.XPATH, '/html/body/div[1]/div[7]/div[2]/div[2]/div[2]/table/tbody[1]/tr[3]/td[2]/a').text\n",
    "date3 = driver.find_element(By.XPATH, '/html/body/div[1]/div[7]/div[2]/div[2]/div[2]/table/tbody[1]/tr[3]/td[5]').text\n",
    "date3 = datetime.date(int(date3[0:4]), int(date3[5:7]), int(date3[8:10]))\n",
    "\n",
    "title4 = driver.find_element(By.XPATH, '/html/body/div[1]/div[7]/div[2]/div[2]/div[2]/table/tbody[1]/tr[4]/td[2]/a').text\n",
    "date4 = driver.find_element(By.XPATH, '/html/body/div[1]/div[7]/div[2]/div[2]/div[2]/table/tbody[1]/tr[4]/td[5]').text\n",
    "date4 = datetime.date(int(date4[0:4]), int(date4[5:7]), int(date4[8:10]))\n",
    "\n",
    "print([univ_nm, url2, datetime.datetime.now(), title1, date1, title2, date2, title3, date3, title4, date4])\n",
    "excel_sheet2.append([univ_nm, url2, datetime.datetime.now(), title1, date1, title2, date2, title3, date3, title4, date4])"
   ]
  },
  {
   "cell_type": "markdown",
   "id": "e4feb1d6-8b00-424b-b616-4f6b9f755621",
   "metadata": {},
   "source": [
    "### 국립목포대"
   ]
  },
  {
   "cell_type": "code",
   "execution_count": 181,
   "id": "a14042a5-34ca-4ecc-928a-e8a1139a9082",
   "metadata": {},
   "outputs": [
    {
     "name": "stdout",
     "output_type": "stream",
     "text": [
      "['국립목포대', 'https://www.mokpo.ac.kr/ipsi/796/subview.do', datetime.datetime(2024, 3, 4, 17, 35, 52, 51571), '2024학년도 신입생 추가모집요강 공고(3차) \\n\\t\\t\\t\\t\\t\\t\\t\\t\\t\\t\\t\\n새글', datetime.date(2024, 2, 29), '2024학년도 신입생 추가모집요강 공고(2차) \\n\\t\\t\\t\\t\\t\\t\\t\\t\\t\\t\\t\\n새글', datetime.date(2024, 2, 27), '2024학년도 신입생 정시모집 충원합격자 발표 및 등록 일정 안내', datetime.date(2024, 2, 5), '2024학년도 정시모집 미래라이프대학 면접고사 안내', datetime.date(2024, 1, 22)]\n"
     ]
    }
   ],
   "source": [
    "# @@ XPATH로 변경필요할듯\n",
    "\n",
    "univ_nm = '국립목포대'\n",
    "url1 = 'https://www.mokpo.ac.kr/ipsi/854/subview.do'\n",
    "url2 = 'https://www.mokpo.ac.kr/ipsi/796/subview.do'\n",
    "\n",
    "driver.get(url1)\n",
    "soup1 = BeautifulSoup(driver.page_source, 'html.parser')\n",
    "title1 = soup1.find('td', 'td-subject').get_text().strip()\n",
    "date1 = soup1.find('td', 'td-date').get_text().strip()\n",
    "date1 = datetime.date(int(date1[0:4]), int(date1[5:7]), int(date1[8:10]))\n",
    "\n",
    "title2 = soup1.find_all('td', 'td-subject')[1].get_text().strip()\n",
    "date2 = soup1.find_all('td', 'td-date')[1].get_text().strip()\n",
    "date2 = datetime.date(int(date2[0:4]), int(date2[5:7]), int(date2[8:10]))\n",
    "\n",
    "driver.get(url2)\n",
    "soup2 = BeautifulSoup(driver.page_source, 'html.parser')\n",
    "title3 = soup2.find('td', 'td-subject').get_text().strip()\n",
    "date3 =  soup2.find('td', 'td-date').get_text().strip()\n",
    "date3 = datetime.date(int(date3[0:4]), int(date3[5:7]), int(date3[8:10]))\n",
    "\n",
    "title4 = soup2.find_all('td', 'td-subject')[1].get_text().strip()\n",
    "date4 = soup2.find_all('td', 'td-date')[1].get_text().strip()\n",
    "date4 = datetime.date(int(date4[0:4]), int(date4[5:7]), int(date4[8:10]))\n",
    "\n",
    "print([univ_nm, url2, datetime.datetime.now(), title1, date1, title2, date2, title3, date3, title4, date4])\n",
    "excel_sheet2.append([univ_nm, url2, datetime.datetime.now(), title1, date1, title2, date2, title3, date3, title4, date4])"
   ]
  },
  {
   "cell_type": "markdown",
   "id": "bfc6e8a0-e33f-44f4-a6ac-39119fab99fc",
   "metadata": {},
   "source": [
    "### 덕성여대"
   ]
  },
  {
   "cell_type": "code",
   "execution_count": 182,
   "id": "034a5239-7fcf-4bd8-a1aa-b673b3fd5090",
   "metadata": {},
   "outputs": [
    {
     "name": "stdout",
     "output_type": "stream",
     "text": [
      "['덕성여대', 'https://enter.duksung.ac.kr/notice/?m_type=JEONGSI', datetime.datetime(2024, 3, 4, 17, 35, 53, 187516), '2024학년도 추가모집 충원 2차(최종) 합격자 발표(전화 발표 완료)', datetime.date(2024, 2, 29), '2024학년도 추가모집 충원 1차 합격자 발표(전화 발표 완료)', datetime.date(2024, 2, 29), '2024학년도 추가모집 충원 2차(최종) 합격자 발표(전화 발표 완료)', datetime.date(2024, 2, 29), '2024학년도 추가모집 충원 1차 합격자 발표(전화 발표 완료)', datetime.date(2024, 2, 29)]\n"
     ]
    }
   ],
   "source": [
    "univ_nm = '덕성여대'\n",
    "url1 = 'https://enter.duksung.ac.kr/notice/'\n",
    "url2 = 'https://enter.duksung.ac.kr/notice/?m_type=JEONGSI'\n",
    "\n",
    "driver.get(url1)\n",
    "soup1 = BeautifulSoup(driver.page_source, 'html.parser')\n",
    "title1 = soup1.find('p', 'posts-subject').get_text().strip()\n",
    "date1 = soup1.find('span', 'data-item date').find('span', 'body').get_text().strip()\n",
    "date1 = datetime.date(int(date1[0:4]), int(date1[5:7]), int(date1[8:10]))\n",
    "\n",
    "title2 = soup1.find_all('p', 'posts-subject')[1].get_text().strip()\n",
    "date2 = soup1.find_all('span', 'data-item date')[1].find('span', 'body').get_text().strip()\n",
    "date2 = datetime.date(int(date2[0:4]), int(date2[5:7]), int(date2[8:10]))\n",
    "\n",
    "driver.get(url2)\n",
    "soup2 = BeautifulSoup(driver.page_source, 'html.parser')\n",
    "title3 = soup2.find('p', 'posts-subject').get_text().strip()\n",
    "date3 =  soup2.find('span', 'data-item date').find('span', 'body').get_text().strip()\n",
    "date3 = datetime.date(int(date3[0:4]), int(date3[5:7]), int(date3[8:10]))\n",
    "\n",
    "title4 = soup2.find_all('p', 'posts-subject')[1].get_text().strip()\n",
    "date4 = soup2.find_all('span', 'data-item date')[1].find('span', 'body').get_text().strip()\n",
    "date4 = datetime.date(int(date4[0:4]), int(date4[5:7]), int(date4[8:10]))\n",
    "\n",
    "print([univ_nm, url2, datetime.datetime.now(), title1, date1, title2, date2, title3, date3, title4, date4])\n",
    "excel_sheet2.append([univ_nm, url2, datetime.datetime.now(), title1, date1, title2, date2, title3, date3, title4, date4])"
   ]
  },
  {
   "cell_type": "markdown",
   "id": "1338f07d-f319-46f3-8d8b-d18620b078de",
   "metadata": {},
   "source": [
    "### 차의과학대"
   ]
  },
  {
   "cell_type": "code",
   "execution_count": 183,
   "id": "08d2db03-e3a9-4de8-8271-dd6109d44e87",
   "metadata": {},
   "outputs": [
    {
     "name": "stdout",
     "output_type": "stream",
     "text": [
      "['차의과학대', 'https://admission.cha.ac.kr/%ec%a0%95%ec%8b%9c%eb%aa%a8%ec%a7%91/%ec%a0%95%ec%8b%9c-%ea%b3%b5%ec%a7%80%ec%82%ac%ed%95%ad/', datetime.datetime(2024, 3, 4, 17, 35, 58, 221873), '2024학년도 신입학 모집 등록자 학번 조회 안내', datetime.date(2024, 2, 23), '2024 보건의료특성화 설명회 및 진로 상담', datetime.date(2023, 8, 21), '2024학년도 대학 정시모집 충원합격자 발표 안내 (최종 충원 현황 포함)', datetime.date(2024, 2, 9), '2024학년도 대학 정시모집 등록포기 및 등록금 환불 신청 안내', datetime.date(2024, 2, 9)]\n"
     ]
    }
   ],
   "source": [
    "univ_nm = '차의과학대'\n",
    "url1 = 'https://admission.cha.ac.kr/%ec%9e%85%ec%8b%9c%eb%8f%84%ec%9a%b0%eb%af%b8/%ed%86%b5%ed%95%a9-%ea%b3%b5%ec%a7%80%ec%82%ac%ed%95%ad/'\n",
    "url2 = 'https://admission.cha.ac.kr/%ec%a0%95%ec%8b%9c%eb%aa%a8%ec%a7%91/%ec%a0%95%ec%8b%9c-%ea%b3%b5%ec%a7%80%ec%82%ac%ed%95%ad/'\n",
    "\n",
    "driver.get(url1)\n",
    "soup1 = BeautifulSoup(driver.page_source, 'html.parser')\n",
    "title1 = soup1.find('div', 'kboard-default-cut-strings').get_text().strip()\n",
    "date1 = soup1.find_all('td', 'kboard-list-date')[1].get_text().strip()\n",
    "date1 = datetime.date(int(date1[0:4]), int(date1[5:7]), int(date1[8:10]))\n",
    "\n",
    "title2 = soup1.find_all('div', 'kboard-default-cut-strings')[1].get_text().strip()\n",
    "date2 = soup1.find_all('td', 'kboard-list-date')[2].get_text().strip()\n",
    "date2 = datetime.date(int(date2[0:4]), int(date2[5:7]), int(date2[8:10]))\n",
    "\n",
    "driver.get(url2)\n",
    "soup2 = BeautifulSoup(driver.page_source, 'html.parser')\n",
    "title3 = soup2.find('div', 'kboard-default-cut-strings').get_text().strip()\n",
    "date3 =  soup2.find_all('td', 'kboard-list-date')[1].get_text().strip()\n",
    "date3 = datetime.date(int(date3[0:4]), int(date3[5:7]), int(date3[8:10]))\n",
    "\n",
    "title4 = soup2.find_all('div', 'kboard-default-cut-strings')[1].get_text().strip()\n",
    "date4 = soup2.find_all('td', 'kboard-list-date')[2].get_text().strip()\n",
    "date4 = datetime.date(int(date4[0:4]), int(date4[5:7]), int(date4[8:10]))\n",
    "\n",
    "print([univ_nm, url2, datetime.datetime.now(), title1, date1, title2, date2, title3, date3, title4, date4])\n",
    "excel_sheet2.append([univ_nm, url2, datetime.datetime.now(), title1, date1, title2, date2, title3, date3, title4, date4])"
   ]
  },
  {
   "cell_type": "markdown",
   "id": "a0be5984-8d5b-4db2-bf9b-5117c13ba1ea",
   "metadata": {},
   "source": [
    "### 한림대"
   ]
  },
  {
   "cell_type": "code",
   "execution_count": 184,
   "id": "cf6b6e1c-5ccc-471f-86fe-0384c859155a",
   "metadata": {},
   "outputs": [
    {
     "name": "stdout",
     "output_type": "stream",
     "text": [
      "['한림대', 'https://admission.hallym.ac.kr/admission/information/notice.html?category=10308', datetime.datetime(2024, 3, 4, 17, 35, 59, 416860), '2024학년도 신·편입생 학생증카드(ID카드) 신청 및 모바일ID카드 발급 안내', datetime.date(2024, 2, 25), '2024학년도 입학식 안내', datetime.date(2024, 2, 23), '2024학년도 정시 추가모집 모집요강 및 모집인원 공지', datetime.date(2024, 2, 22), '(정시합격생 대상) 2024학년도 한림대학교 신입생 온라인 영어 분반고사 안내', datetime.date(2024, 2, 6)]\n"
     ]
    }
   ],
   "source": [
    "univ_nm = '한림대'\n",
    "url1 = 'https://admission.hallym.ac.kr/admission/information/notice.html'\n",
    "url2 = 'https://admission.hallym.ac.kr/admission/information/notice.html?category=10308'\n",
    "\n",
    "driver.get(url1)\n",
    "title1 = driver.find_element(By.XPATH, '/html/body/div/div/div[2]/div/div[2]/div[2]/div[2]/div/ul/li[1]/span[3]/span[3]/a').text\n",
    "date1 = driver.find_element(By.XPATH, '/html/body/div/div/div[2]/div/div[2]/div[2]/div[2]/div/ul/li[1]/span[5]/span[2]').text\n",
    "date1 = datetime.date(int(date1[0:4]), int(date1[5:7]), int(date1[8:10]))\n",
    "\n",
    "title2 = driver.find_element(By.XPATH, '/html/body/div/div/div[2]/div/div[2]/div[2]/div[2]/div/ul/li[2]/span[3]/span[3]/a').text\n",
    "date2 = driver.find_element(By.XPATH, '/html/body/div/div/div[2]/div/div[2]/div[2]/div[2]/div/ul/li[2]/span[5]/span[2]').text\n",
    "date2 = datetime.date(int(date2[0:4]), int(date2[5:7]), int(date2[8:10]))\n",
    "\n",
    "driver.get(url2)\n",
    "title3 = driver.find_element(By.XPATH, '/html/body/div/div/div[2]/div/div[2]/div[2]/div[2]/div/ul/li[1]/span[3]/span[3]/a').text\n",
    "date3 = driver.find_element(By.XPATH, '/html/body/div/div/div[2]/div/div[2]/div[2]/div[2]/div/ul/li[1]/span[5]/span[2]').text\n",
    "date3 = datetime.date(int(date3[0:4]), int(date3[5:7]), int(date3[8:10]))\n",
    "\n",
    "title4 = driver.find_element(By.XPATH, '/html/body/div/div/div[2]/div/div[2]/div[2]/div[2]/div/ul/li[2]/span[3]/span[3]/a').text\n",
    "date4 = driver.find_element(By.XPATH, '/html/body/div/div/div[2]/div/div[2]/div[2]/div[2]/div/ul/li[2]/span[5]/span[2]').text\n",
    "date4 = datetime.date(int(date4[0:4]), int(date4[5:7]), int(date4[8:10]))\n",
    "\n",
    "print([univ_nm, url2, datetime.datetime.now(), title1, date1, title2, date2, title3, date3, title4, date4])\n",
    "excel_sheet2.append([univ_nm, url2, datetime.datetime.now(), title1, date1, title2, date2, title3, date3, title4, date4])"
   ]
  },
  {
   "cell_type": "markdown",
   "id": "24c93b5d-9ac0-46dd-a474-7ae36053fe6e",
   "metadata": {},
   "source": [
    "### 영남대"
   ]
  },
  {
   "cell_type": "code",
   "execution_count": 185,
   "id": "ba59b2f2-7f1a-4878-89ea-ee75e672f205",
   "metadata": {},
   "outputs": [
    {
     "name": "stdout",
     "output_type": "stream",
     "text": [
      "['영남대', 'https://enter.yu.ac.kr/page/board/doumi_notice.htm?ctg_cd=jungsi', datetime.datetime(2024, 3, 4, 17, 36, 0, 423383), '2024학년도 추가모집 모집인원(2.27.(화) 10:20 기준)', datetime.date(2024, 2, 22), '2024학년도 추가모집요강', datetime.date(2024, 2, 22), '2024학년도 추가모집 모집인원(2.27.(화) 10:20 기준)', datetime.date(2024, 2, 22), '2024학년도 추가모집요강', datetime.date(2024, 2, 22)]\n"
     ]
    }
   ],
   "source": [
    "univ_nm = '영남대'\n",
    "url1 = 'https://enter.yu.ac.kr/page/board/doumi_notice.htm'\n",
    "url2 = 'https://enter.yu.ac.kr/page/board/doumi_notice.htm?ctg_cd=jungsi'\n",
    "\n",
    "driver.get(url1)\n",
    "soup1 = BeautifulSoup(driver.page_source, 'html.parser')\n",
    "title1 = soup1.find('td', 'title left').get_text().strip()\n",
    "date1 = soup1.find('td', 'date').get_text().strip()\n",
    "date1 = datetime.date(int(date1[0:4]), int(date1[5:7]), int(date1[8:10]))\n",
    "\n",
    "title2 = soup1.find_all('td', 'title left')[1].get_text().strip()\n",
    "date2 = soup1.find_all('td', 'date')[1].get_text().strip()\n",
    "date2 = datetime.date(int(date2[0:4]), int(date2[5:7]), int(date2[8:10]))\n",
    "\n",
    "driver.get(url2)\n",
    "soup2 = BeautifulSoup(driver.page_source, 'html.parser')\n",
    "title3 = soup2.find('td', 'title left').get_text().strip()\n",
    "date3 =  soup2.find('td', 'date').get_text().strip()\n",
    "date3 = datetime.date(int(date3[0:4]), int(date3[5:7]), int(date3[8:10]))\n",
    "\n",
    "title4 = soup2.find_all('td', 'title left')[1].get_text().strip()\n",
    "date4 = soup2.find_all('td', 'date')[1].get_text().strip()\n",
    "date4 = datetime.date(int(date4[0:4]), int(date4[5:7]), int(date4[8:10]))\n",
    "\n",
    "print([univ_nm, url2, datetime.datetime.now(), title1, date1, title2, date2, title3, date3, title4, date4])\n",
    "excel_sheet2.append([univ_nm, url2, datetime.datetime.now(), title1, date1, title2, date2, title3, date3, title4, date4])"
   ]
  },
  {
   "cell_type": "markdown",
   "id": "bf3bb01f-e01a-42c3-8316-85c4029d6070",
   "metadata": {},
   "source": [
    "### 건양대"
   ]
  },
  {
   "cell_type": "code",
   "execution_count": 186,
   "id": "1ed2e042-5c23-47ee-af59-b75d787b8937",
   "metadata": {},
   "outputs": [
    {
     "name": "stdout",
     "output_type": "stream",
     "text": [
      "['건양대', 'https://ipsi.konyang.ac.kr/cop/bbs/BBSMSTR_000000000615/selectBoardList.do', datetime.datetime(2024, 3, 4, 17, 36, 3, 159200), '2024학년도 추가모집(3차) 모집요강 탑재 안내(2024.02.29) 이월반영 7차변동', datetime.date(2024, 2, 29), '2024학년도 추가모집(3차) 모집요강 탑재 안내(2024.02.29) 이월반영 6차변동', datetime.date(2024, 2, 29), '2024학년도 추가모집(3차) 모집요강 탑재 안내(2024.02.29) 이월반영 5차변동', datetime.date(2024, 2, 29), '2024학년도 추가모집(3차) 모집요강 탑재 안내(2024.02.29) 이월반영 4차변동', datetime.date(2024, 2, 29)]\n"
     ]
    }
   ],
   "source": [
    "# @@ 변경\n",
    "\n",
    "univ_nm = '건양대'\n",
    "url1 = 'https://ipsi.konyang.ac.kr/cop/bbs/BBSMSTR_000000000615/selectBoardList.do'\n",
    "url2 = 'https://ipsi.konyang.ac.kr/cop/bbs/BBSMSTR_000000000615/selectBoardList.do'\n",
    "\n",
    "driver.get(url1)\n",
    "soup1 = BeautifulSoup(driver.page_source, 'html.parser')\n",
    "title1 = driver.find_element(By.XPATH, '/html/body/div[4]/div[2]/div/div/div/div/section/div[2]/table/tbody/tr[1]/td[3]/div/span[1]/a/b').text\n",
    "date1 = driver.find_element(By.XPATH, '/html/body/div[4]/div[2]/div/div/div/div/section/div[2]/table/tbody/tr[1]/td[5]').text\n",
    "date1 = datetime.date(int(date1[0:4]), int(date1[5:7]), int(date1[8:10]))\n",
    "\n",
    "title2 = driver.find_element(By.XPATH, '/html/body/div[4]/div[2]/div/div/div/div/section/div[2]/table/tbody/tr[2]/td[3]/div/span[1]/a/b').text\n",
    "date2 = driver.find_element(By.XPATH, '/html/body/div[4]/div[2]/div/div/div/div/section/div[2]/table/tbody/tr[2]/td[5]').text\n",
    "date2 = datetime.date(int(date2[0:4]), int(date2[5:7]), int(date2[8:10]))\n",
    "\n",
    "driver.get(url2)\n",
    "title3 = driver.find_element(By.XPATH, '/html/body/div[4]/div[2]/div/div/div/div/section/div[2]/table/tbody/tr[3]/td[3]/div/span[1]/a/b').text\n",
    "date3 = driver.find_element(By.XPATH, '/html/body/div[4]/div[2]/div/div/div/div/section/div[2]/table/tbody/tr[3]/td[5]').text\n",
    "date3 = datetime.date(int(date3[0:4]), int(date3[5:7]), int(date3[8:10]))\n",
    "\n",
    "title4 = driver.find_element(By.XPATH, '/html/body/div[4]/div[2]/div/div/div/div/section/div[2]/table/tbody/tr[4]/td[3]/div/span[1]/a/b').text\n",
    "date4 = driver.find_element(By.XPATH, '/html/body/div[4]/div[2]/div/div/div/div/section/div[2]/table/tbody/tr[4]/td[5]').text\n",
    "date4 = datetime.date(int(date4[0:4]), int(date4[5:7]), int(date4[8:10]))\n",
    "\n",
    "print([univ_nm, url2, datetime.datetime.now(), title1, date1, title2, date2, title3, date3, title4, date4])\n",
    "excel_sheet2.append([univ_nm, url2, datetime.datetime.now(), title1, date1, title2, date2, title3, date3, title4, date4])"
   ]
  },
  {
   "cell_type": "markdown",
   "id": "165331f0-a06b-4dea-ab95-a4b9ff2355c1",
   "metadata": {},
   "source": [
    "### 조선대"
   ]
  },
  {
   "cell_type": "code",
   "execution_count": 187,
   "id": "46e0f9c0-4ec3-45cf-a323-e6becca25b66",
   "metadata": {},
   "outputs": [
    {
     "name": "stdout",
     "output_type": "stream",
     "text": [
      "['조선대', 'https://i.chosun.ac.kr/Contents/A000000109', datetime.datetime(2024, 3, 4, 17, 36, 5, 650462), '[공통]2024학년도 신입학 2차추가모집 모집요강 공지', datetime.date(2024, 2, 27), '[편입]2024학년도 조선대학교 편입학 합격증명서 및 등록금영수증 출력', datetime.date(2024, 2, 16), '[정시]2024학년도 정시모집 모집인원 변경 공고', datetime.date(2023, 12, 29), '[정시]2024학년도 정시모집요강 공고', datetime.date(2023, 8, 24)]\n"
     ]
    }
   ],
   "source": [
    "univ_nm = '조선대'\n",
    "url1 = 'https://i.chosun.ac.kr/Contents/A000000122'\n",
    "url2 = 'https://i.chosun.ac.kr/Contents/A000000109'\n",
    "\n",
    "driver.get(url1)\n",
    "title1 = WebDriverWait(driver, 5).until(\n",
    "    EC.visibility_of_element_located((By.XPATH, '/html/body/div[3]/section/div[2]/ul/li[1]/a'))).text\n",
    "date1 = WebDriverWait(driver, 5).until(\n",
    "    EC.visibility_of_element_located((By.XPATH, '/html/body/div[3]/section/div[2]/ul/li[1]/div/span[1]'))).text[6:16]\n",
    "date1 = datetime.date(int(date1[0:4]), int(date1[5:7]), int(date1[8:10]))\n",
    "\n",
    "title2 = WebDriverWait(driver, 5).until(\n",
    "    EC.visibility_of_element_located((By.XPATH, '/html/body/div[3]/section/div[2]/ul/li[2]/a'))).text\n",
    "date2 = WebDriverWait(driver, 5).until(\n",
    "    EC.visibility_of_element_located((By.XPATH, '/html/body/div[3]/section/div[2]/ul/li[2]/div/span[1]'))).text[6:16]\n",
    "date2 = datetime.date(int(date2[0:4]), int(date2[5:7]), int(date2[8:10]))\n",
    "\n",
    "driver.get(url2)\n",
    "title3 = WebDriverWait(driver, 5).until(\n",
    "    EC.visibility_of_element_located((By.XPATH, '/html/body/div[3]/section/div[2]/ul/li[1]/a'))).text\n",
    "date3 = WebDriverWait(driver, 5).until(\n",
    "    EC.visibility_of_element_located((By.XPATH, '/html/body/div[3]/section/div[2]/ul/li[1]/div/span[1]'))).text[6:16]\n",
    "date3 = datetime.date(int(date3[0:4]), int(date3[5:7]), int(date3[8:10]))\n",
    "\n",
    "title4 = WebDriverWait(driver, 5).until(\n",
    "    EC.visibility_of_element_located((By.XPATH, '/html/body/div[3]/section/div[2]/ul/li[2]/a'))).text\n",
    "date4 = WebDriverWait(driver, 5).until(\n",
    "    EC.visibility_of_element_located((By.XPATH, '/html/body/div[3]/section/div[2]/ul/li[2]/div/span[1]'))).text[6:16]\n",
    "date4 = datetime.date(int(date4[0:4]), int(date4[5:7]), int(date4[8:10]))\n",
    "\n",
    "print([univ_nm, url2, datetime.datetime.now(), title1, date1, title2, date2, title3, date3, title4, date4])\n",
    "excel_sheet2.append([univ_nm, url2, datetime.datetime.now(), title1, date1, title2, date2, title3, date3, title4, date4])"
   ]
  },
  {
   "cell_type": "markdown",
   "id": "e874119e-ff39-42dc-82b8-eea8006723a0",
   "metadata": {},
   "source": [
    "### 원광대"
   ]
  },
  {
   "cell_type": "code",
   "execution_count": 188,
   "id": "b5c9cf7a-21c2-4bb5-8554-ab855f830e3f",
   "metadata": {},
   "outputs": [
    {
     "name": "stdout",
     "output_type": "stream",
     "text": [
      "['원광대', 'https://ipsi.wku.ac.kr/submenu.do?menuurl=iRpJZN81uYxYKEjgpdzo4Q%3D%3D&categoryid=6', datetime.datetime(2024, 3, 4, 17, 36, 6, 336982), '2024학년도 추가모집 합격증서 및 등록금 납부영수증 출력', datetime.date(2024, 2, 28), '2024학년도 정시모집 합격증서 및 등록금 납부영수증 출력', datetime.date(2024, 2, 21), '2024학년도 추가모집 합격증서 및 등록금 납부영수증 출력', datetime.date(2024, 2, 28), '2024학년도 정시모집 합격증서 및 등록금 납부영수증 출력', datetime.date(2024, 2, 21)]\n"
     ]
    }
   ],
   "source": [
    "univ_nm = '원광대'\n",
    "url1 = 'https://ipsi.wku.ac.kr/submenu.do?menuurl=iRpJZN81uYxYKEjgpdzo4Q%3d%3d&'\n",
    "url2 = 'https://ipsi.wku.ac.kr/submenu.do?menuurl=iRpJZN81uYxYKEjgpdzo4Q%3D%3D&categoryid=6'\n",
    "\n",
    "driver.get(url1)\n",
    "soup1 = BeautifulSoup(driver.page_source, 'html.parser')\n",
    "title1 = soup1.find('div', 'td-tit__inner').get_text().strip()\n",
    "date1 = soup1.find_all('td')[4].get_text().strip()\n",
    "date1 = datetime.date(int(date1[0:4]), int(date1[5:7]), int(date1[8:10]))\n",
    "\n",
    "title2 = soup1.find_all('div', 'td-tit__inner')[1].get_text().strip()\n",
    "date2 = soup1.find_all('td')[10].get_text().strip()\n",
    "date2 = datetime.date(int(date2[0:4]), int(date2[5:7]), int(date2[8:10]))\n",
    "\n",
    "driver.get(url2)\n",
    "soup2 = BeautifulSoup(driver.page_source, 'html.parser')\n",
    "title3 = soup2.find('div', 'td-tit__inner').get_text().strip()\n",
    "date3 =  soup2.find_all('td')[4].get_text().strip()\n",
    "date3 = datetime.date(int(date3[0:4]), int(date3[5:7]), int(date3[8:10]))\n",
    "\n",
    "title4 = soup2.find_all('div', 'td-tit__inner')[1].get_text().strip()\n",
    "date4 = soup2.find_all('td')[10].get_text().strip()\n",
    "date4 = datetime.date(int(date4[0:4]), int(date4[5:7]), int(date4[8:10]))\n",
    "\n",
    "print([univ_nm, url2, datetime.datetime.now(), title1, date1, title2, date2, title3, date3, title4, date4])\n",
    "excel_sheet2.append([univ_nm, url2, datetime.datetime.now(), title1, date1, title2, date2, title3, date3, title4, date4])"
   ]
  },
  {
   "cell_type": "markdown",
   "id": "022ec872-d0e6-47d3-af9d-20d1801ef1f9",
   "metadata": {},
   "source": [
    "### 경성대"
   ]
  },
  {
   "cell_type": "code",
   "execution_count": 189,
   "id": "21a1c01a-e03d-4652-b728-6b410354e7ee",
   "metadata": {},
   "outputs": [
    {
     "name": "stdout",
     "output_type": "stream",
     "text": [
      "['경성대', 'https://kscms.ks.ac.kr/ipsi/CMS/Board/Board.do?mCode=MN071&searchCategory=c003', datetime.datetime(2024, 3, 4, 17, 36, 9, 950685), '2024학년도 농어촌 전형, 지역인재 관련 전형 최종등록자 추가 제출 서류 안내', datetime.date(2024, 1, 31), '2024학년도 정시모집 실기특별전형 고사장 및 수험생 유의사항 안내', datetime.date(2024, 1, 18), '2024학년도 정시모집 실기특별전형 고사장 및 수험생 유의사항 안내', datetime.date(2024, 1, 18), '2024학년도 정시 모집요강 최종본(이월반영)', datetime.date(2023, 12, 29)]\n"
     ]
    }
   ],
   "source": [
    "univ_nm = '경성대'\n",
    "url1 = 'https://kscms.ks.ac.kr/ipsi/CMS/Board/Board.do?mCode=MN071'\n",
    "url2 = 'https://kscms.ks.ac.kr/ipsi/CMS/Board/Board.do?mCode=MN071&searchCategory=c003'\n",
    "\n",
    "driver.get(url1)\n",
    "title1 = driver.find_element(By.XPATH, '/html/body/div[2]/article/div[2]/div[3]/div[2]/div/div[2]/table/tbody/tr[1]/td[2]/p/a').text\n",
    "date1 = driver.find_element(By.XPATH, '/html/body/div[2]/article/div[2]/div[3]/div[2]/div/div[2]/table/tbody/tr[1]/td[4]').text\n",
    "date1 = datetime.date(int(date1[0:4]), int(date1[5:7]), int(date1[8:10]))\n",
    "\n",
    "title2 = driver.find_element(By.XPATH, '/html/body/div[2]/article/div[2]/div[3]/div[2]/div/div[2]/table/tbody/tr[2]/td[2]/p/a').text\n",
    "date2 = driver.find_element(By.XPATH, '/html/body/div[2]/article/div[2]/div[3]/div[2]/div/div[2]/table/tbody/tr[2]/td[4]').text\n",
    "date2 = datetime.date(int(date2[0:4]), int(date2[5:7]), int(date2[8:10]))\n",
    "\n",
    "driver.get(url2)\n",
    "title3 = driver.find_element(By.XPATH, '/html/body/div[2]/article/div[2]/div[3]/div[2]/div/div[2]/table/tbody/tr[1]/td[2]/p/a').text\n",
    "date3 = driver.find_element(By.XPATH, '/html/body/div[2]/article/div[2]/div[3]/div[2]/div/div[2]/table/tbody/tr[1]/td[4]').text\n",
    "date3 = datetime.date(int(date3[0:4]), int(date3[5:7]), int(date3[8:10]))\n",
    "\n",
    "title4 = driver.find_element(By.XPATH, '/html/body/div[2]/article/div[2]/div[3]/div[2]/div/div[2]/table/tbody/tr[2]/td[2]/p/a').text\n",
    "date4 = driver.find_element(By.XPATH, '/html/body/div[2]/article/div[2]/div[3]/div[2]/div/div[2]/table/tbody/tr[2]/td[4]').text\n",
    "date4 = datetime.date(int(date4[0:4]), int(date4[5:7]), int(date4[8:10]))\n",
    "\n",
    "print([univ_nm, url2, datetime.datetime.now(), title1, date1, title2, date2, title3, date3, title4, date4])\n",
    "excel_sheet2.append([univ_nm, url2, datetime.datetime.now(), title1, date1, title2, date2, title3, date3, title4, date4])"
   ]
  },
  {
   "cell_type": "markdown",
   "id": "41a1670d-f670-4db4-ae5a-2f93f939e4a5",
   "metadata": {},
   "source": [
    "### 충남대"
   ]
  },
  {
   "cell_type": "code",
   "execution_count": 190,
   "id": "aa18abc1-55b8-48e4-b56a-8d3f5105ac4f",
   "metadata": {},
   "outputs": [
    {
     "name": "stdout",
     "output_type": "stream",
     "text": [
      "['충남대', 'https://ipsi.cnu.ac.kr/_prog/_board/?code=notice_faculty&site_dvs_cd=uadm&menu_dvs_cd=0201&post_dvs_cd=02', datetime.datetime(2024, 3, 4, 17, 36, 10, 933456), '[등록금 납부] 신입생(수시모집, 정시모집-최초, 재외국민) 등록금 납부 안내', datetime.date(2024, 2, 8), '[최종 합격자] 학생증 카드발급 방법 및 일정 변경 안내', datetime.date(2024, 1, 31), '[추가모집_최종] 2024학년도 추가모집 최종 충원 합격자 발표 및 합격자 유의사항 안내', datetime.date(2024, 2, 29), '[추가모집_등록포기] 2024학년도 추가모집 등록포기 안내', datetime.date(2024, 2, 28)]\n"
     ]
    }
   ],
   "source": [
    "univ_nm = '충남대'\n",
    "url1 = 'https://ipsi.cnu.ac.kr/_prog/_board/?code=notice_faculty&post_dvs_cd=01&site_dvs_cd=uadm&menu_dvs_cd=0101'\n",
    "url2 = 'https://ipsi.cnu.ac.kr/_prog/_board/?code=notice_faculty&site_dvs_cd=uadm&menu_dvs_cd=0201&post_dvs_cd=02'\n",
    "\n",
    "driver.get(url1)\n",
    "soup1 = BeautifulSoup(driver.page_source, 'html.parser')\n",
    "title1 = soup1.find('td', 'title').get_text().strip()\n",
    "date1 = soup1.find('td', 'date').get_text().strip()\n",
    "date1 = datetime.date(int(date1[0:4]), int(date1[5:7]), int(date1[8:10]))\n",
    "\n",
    "title2 = soup1.find_all('td', 'title')[1].get_text().strip()\n",
    "date2 = soup1.find_all('td', 'date')[1].get_text().strip()\n",
    "date2 = datetime.date(int(date2[0:4]), int(date2[5:7]), int(date2[8:10]))\n",
    "\n",
    "driver.get(url2)\n",
    "soup2 = BeautifulSoup(driver.page_source, 'html.parser')\n",
    "title3 = soup2.find('td', 'title').get_text().strip()\n",
    "date3 =  soup2.find('td', 'date').get_text().strip()\n",
    "date3 = datetime.date(int(date3[0:4]), int(date3[5:7]), int(date3[8:10]))\n",
    "\n",
    "title4 = soup2.find_all('td', 'title')[1].get_text().strip()\n",
    "date4 = soup2.find_all('td', 'date')[1].get_text().strip()\n",
    "date4 = datetime.date(int(date4[0:4]), int(date4[5:7]), int(date4[8:10]))\n",
    "\n",
    "print([univ_nm, url2, datetime.datetime.now(), title1, date1, title2, date2, title3, date3, title4, date4])\n",
    "excel_sheet2.append([univ_nm, url2, datetime.datetime.now(), title1, date1, title2, date2, title3, date3, title4, date4])"
   ]
  },
  {
   "cell_type": "markdown",
   "id": "937b4373-09c1-4680-bffe-d5721623b680",
   "metadata": {},
   "source": [
    "### 충북대"
   ]
  },
  {
   "cell_type": "code",
   "execution_count": 191,
   "id": "579ab130-1f1c-4efc-bb24-c229ca5393f4",
   "metadata": {},
   "outputs": [
    {
     "name": "stdout",
     "output_type": "stream",
     "text": [
      "['충북대', 'https://ipsi.chungbuk.ac.kr/kor/bbs/BBSMSTR_000000000013/lst.do', datetime.datetime(2024, 3, 4, 17, 36, 12, 861647), '2024학년도 대학 추가모집(2차) 합격자 발표', datetime.date(2024, 2, 29), '2024학년도 대학 추가모집(1차) 충원합격자(3차, 최종) 발표', datetime.date(2024, 2, 29), '2024학년도 대학 추가모집(2차) 합격자 발표', datetime.date(2024, 2, 29), '2024학년도 대학 추가모집(1차) 충원합격자(3차, 최종) 발표', datetime.date(2024, 2, 29)]\n"
     ]
    }
   ],
   "source": [
    "univ_nm = '충북대'\n",
    "url1 = 'https://ipsi.chungbuk.ac.kr/kor/bbs/BBSMSTR_000000000051/lst.do'\n",
    "url2 = 'https://ipsi.chungbuk.ac.kr/kor/bbs/BBSMSTR_000000000013/lst.do'\n",
    "\n",
    "driver.get(url1)\n",
    "title1 = driver.find_element(By.XPATH, '/html/body/div[3]/div[5]/div[2]/div[2]/div[4]/ul/li[2]/div/a/strong').text\n",
    "date1 = driver.find_element(By.XPATH, '/html/body/div[3]/div[5]/div[2]/div[2]/div[4]/ul/li[2]/p[3]').text\n",
    "date1 = datetime.date(int(date1[0:4]), int(date1[5:7]), int(date1[8:10]))\n",
    "\n",
    "title2 = driver.find_element(By.XPATH, '/html/body/div[3]/div[5]/div[2]/div[2]/div[4]/ul/li[3]/div/a/strong').text\n",
    "date2 = driver.find_element(By.XPATH, '/html/body/div[3]/div[5]/div[2]/div[2]/div[4]/ul/li[3]/p[3]').text\n",
    "date2 = datetime.date(int(date2[0:4]), int(date2[5:7]), int(date2[8:10]))\n",
    "\n",
    "driver.get(url2)\n",
    "title3 = driver.find_element(By.XPATH, '/html/body/div[3]/div[5]/div[2]/div[2]/div[3]/ul/li[2]/div/a/strong').text\n",
    "date3 = driver.find_element(By.XPATH, '/html/body/div[3]/div[5]/div[2]/div[2]/div[3]/ul/li[2]/p[3]').text\n",
    "date3 = datetime.date(int(date3[0:4]), int(date3[5:7]), int(date3[8:10]))\n",
    "\n",
    "title4 = driver.find_element(By.XPATH, '/html/body/div[3]/div[5]/div[2]/div[2]/div[3]/ul/li[3]/div/a/strong').text\n",
    "date4 = driver.find_element(By.XPATH, '/html/body/div[3]/div[5]/div[2]/div[2]/div[3]/ul/li[3]/p[3]').text\n",
    "date4 = datetime.date(int(date4[0:4]), int(date4[5:7]), int(date4[8:10]))\n",
    "\n",
    "print([univ_nm, url2, datetime.datetime.now(), title1, date1, title2, date2, title3, date3, title4, date4])\n",
    "excel_sheet2.append([univ_nm, url2, datetime.datetime.now(), title1, date1, title2, date2, title3, date3, title4, date4])"
   ]
  },
  {
   "cell_type": "markdown",
   "id": "8ce40b9e-c341-4aea-a48e-0ee3efe71b94",
   "metadata": {},
   "source": [
    "### 건국대(글로컬)"
   ]
  },
  {
   "cell_type": "code",
   "execution_count": 192,
   "id": "9ff903ac-439a-4ace-ac09-54746cad908a",
   "metadata": {},
   "outputs": [
    {
     "name": "stdout",
     "output_type": "stream",
     "text": [
      "['건국대(글로컬)', 'https://enter.kku.ac.kr/notice/?m_type=JEONGSI', datetime.datetime(2024, 3, 4, 17, 36, 13, 736329), '2024학년도 신입학 추가모집 3차(최종) 추가합격자 발표', datetime.date(2024, 2, 29), '2024학년도 신입학 추가모집(2차) 원서접수', datetime.date(2024, 2, 26), '2024학년도 신입학 추가모집 3차(최종) 추가합격자 발표', datetime.date(2024, 2, 29), '2024학년도 신입학 추가모집(2차) 원서접수', datetime.date(2024, 2, 26)]\n"
     ]
    }
   ],
   "source": [
    "univ_nm = '건국대(글로컬)'\n",
    "url1 = 'https://enter.kku.ac.kr/notice/'\n",
    "url2 = 'https://enter.kku.ac.kr/notice/?m_type=JEONGSI'\n",
    "\n",
    "driver.get(url1)\n",
    "soup1 = BeautifulSoup(driver.page_source, 'html.parser')\n",
    "title1 = soup1.find('a', 'item__title').get_text().strip()\n",
    "date1 = soup1.find('div', 'item__date').get_text().strip()\n",
    "date1 = datetime.date(int(date1[0:4]), int(date1[5:7]), int(date1[8:10]))\n",
    "\n",
    "title2 = soup1.find_all('a', 'item__title')[1].get_text().strip()\n",
    "date2 = soup1.find_all('div', 'item__date')[1].get_text().strip()\n",
    "date2 = datetime.date(int(date2[0:4]), int(date2[5:7]), int(date2[8:10]))\n",
    "\n",
    "driver.get(url2)\n",
    "soup2 = BeautifulSoup(driver.page_source, 'html.parser')\n",
    "title3 = soup2.find('a', 'item__title').get_text().strip()\n",
    "date3 =  soup2.find('div', 'item__date').get_text().strip()\n",
    "date3 = datetime.date(int(date3[0:4]), int(date3[5:7]), int(date3[8:10]))\n",
    "\n",
    "title4 = soup2.find_all('a', 'item__title')[1].get_text().strip()\n",
    "date4 = soup2.find_all('div', 'item__date')[1].get_text().strip()\n",
    "date4 = datetime.date(int(date4[0:4]), int(date4[5:7]), int(date4[8:10]))\n",
    "\n",
    "print([univ_nm, url2, datetime.datetime.now(), title1, date1, title2, date2, title3, date3, title4, date4])\n",
    "excel_sheet2.append([univ_nm, url2, datetime.datetime.now(), title1, date1, title2, date2, title3, date3, title4, date4])"
   ]
  },
  {
   "cell_type": "markdown",
   "id": "9458dbaf-c3e1-429b-a78c-6e9e1700807f",
   "metadata": {},
   "source": [
    "### 국립순천대"
   ]
  },
  {
   "cell_type": "code",
   "execution_count": 193,
   "id": "c1d7d048-869c-4de0-8412-99ef17fc0f9a",
   "metadata": {},
   "outputs": [
    {
     "name": "stdout",
     "output_type": "stream",
     "text": [
      "['국립순천대', 'https://www.scnu.ac.kr/iphak/na/ntt/selectNttList.do?mi=1676&bbsId=1213', datetime.datetime(2024, 3, 4, 17, 36, 14, 572334), '2024학년도 대입전형(수시,정시,추가모집(1~4차) 등록포기(환불) 신청 안내', datetime.date(2024, 2, 29), '2024학년도 신입생 추가모집 4차 (개별 통보) 완료', datetime.date(2024, 2, 29), '2024학년도 추가모집 4차 모집요강 공고', datetime.date(2024, 2, 29), '2024학년도 신입생 추가모집 3차 등록 포기 안내', datetime.date(2024, 2, 29)]\n"
     ]
    }
   ],
   "source": [
    "univ_nm = '국립순천대'\n",
    "url1 = 'https://www.scnu.ac.kr/iphak/na/ntt/selectNttList.do?mi=1676&bbsId=1213'\n",
    "url2 = 'https://www.scnu.ac.kr/iphak/na/ntt/selectNttList.do?mi=1676&bbsId=1213'\n",
    "\n",
    "driver.get(url1)\n",
    "title1 = driver.find_element(By.XPATH, '/html/body/div[2]/div[3]/div/section/div[2]/div[5]/table/tbody/tr[1]/td[2]/a').text\n",
    "date1 = driver.find_element(By.XPATH, '/html/body/div[2]/div[3]/div/section/div[2]/div[5]/table/tbody/tr[1]/td[4]').text\n",
    "date1 = datetime.date(int(date1[0:4]), int(date1[5:7]), int(date1[8:10]))\n",
    "\n",
    "title2 = driver.find_element(By.XPATH, '/html/body/div[2]/div[3]/div/section/div[2]/div[5]/table/tbody/tr[2]/td[2]/a').text\n",
    "date2 = driver.find_element(By.XPATH, '/html/body/div[2]/div[3]/div/section/div[2]/div[5]/table/tbody/tr[2]/td[4]').text\n",
    "date2 = datetime.date(int(date2[0:4]), int(date2[5:7]), int(date2[8:10]))\n",
    "\n",
    "driver.get(url2)\n",
    "title3 = driver.find_element(By.XPATH, '/html/body/div[2]/div[3]/div/section/div[2]/div[5]/table/tbody/tr[3]/td[2]/a').text\n",
    "date3 = driver.find_element(By.XPATH, '/html/body/div[2]/div[3]/div/section/div[2]/div[5]/table/tbody/tr[3]/td[4]').text\n",
    "date3 = datetime.date(int(date3[0:4]), int(date3[5:7]), int(date3[8:10]))\n",
    "\n",
    "title4 = driver.find_element(By.XPATH, '/html/body/div[2]/div[3]/div/section/div[2]/div[5]/table/tbody/tr[4]/td[2]/a').text\n",
    "date4 = driver.find_element(By.XPATH, '/html/body/div[2]/div[3]/div/section/div[2]/div[5]/table/tbody/tr[4]/td[4]').text\n",
    "date4 = datetime.date(int(date4[0:4]), int(date4[5:7]), int(date4[8:10]))\n",
    "\n",
    "print([univ_nm, url2, datetime.datetime.now(), title1, date1, title2, date2, title3, date3, title4, date4])\n",
    "excel_sheet2.append([univ_nm, url2, datetime.datetime.now(), title1, date1, title2, date2, title3, date3, title4, date4])"
   ]
  },
  {
   "cell_type": "markdown",
   "id": "70035d84-249e-4b1b-8fc2-53484f8b03a4",
   "metadata": {},
   "source": [
    "### 동덕여대\n",
    "\n",
    "- 크롤링 불가능"
   ]
  },
  {
   "cell_type": "code",
   "execution_count": 194,
   "id": "28085610-0cbc-440c-9157-acb34050cced",
   "metadata": {},
   "outputs": [],
   "source": [
    "univ_nm = '동덕여대'\n",
    "url1 = 'https://ipsi.dongduk.ac.kr/web/index.do'\n",
    "url2 = 'https://ipsi.dongduk.ac.kr/web/index.do'\n",
    "\n",
    "excel_sheet2.append([univ_nm, url2, datetime.datetime.now()])"
   ]
  },
  {
   "cell_type": "markdown",
   "id": "d5a897d3-0522-44a0-9ef9-c5268254acc2",
   "metadata": {},
   "source": [
    "### 삼육대"
   ]
  },
  {
   "cell_type": "code",
   "execution_count": 195,
   "id": "d82223a4-57c7-48fa-acbc-74904d89f8b2",
   "metadata": {},
   "outputs": [
    {
     "name": "stdout",
     "output_type": "stream",
     "text": [
      "['삼육대', 'http://ipsi.syu.ac.kr/2016_syu/pages/index.asp?p=29&b=B_1_1&cate=%C1%A4%BD%C3', datetime.datetime(2024, 3, 4, 17, 36, 15, 647375), '[전체] 신편입학 등록금 영수증 출력 안내 ', datetime.date(2024, 2, 29), '[전체] 2024학년도 추가모집 2차 추가모집 안내 ', datetime.date(2024, 2, 29), '[정시] 2024학년도 정시모집 인원(수시 미충원 인원 포함) ', datetime.date(2024, 1, 2), '[정시] 2024학년도 삼육대학교 정시모집요강 ', datetime.date(2023, 8, 31)]\n"
     ]
    }
   ],
   "source": [
    "univ_nm = '삼육대'\n",
    "url1 = 'http://ipsi.syu.ac.kr/2016_syu/pages/index.asp?p=29&b=B_1_1'\n",
    "url2 = 'http://ipsi.syu.ac.kr/2016_syu/pages/index.asp?p=29&b=B_1_1&cate=%C1%A4%BD%C3'\n",
    "\n",
    "driver.get(url1)\n",
    "title1 = driver.find_element(By.XPATH, '/html/body/section/section/section/div[2]/div[1]/section[1]/ul/li[1]/a/ul/li[2]/dl/dt').text\n",
    "date1 = driver.find_element(By.XPATH, '/html/body/section/section/section/div[2]/div[1]/section[1]/ul/li[1]/a/ul/li[2]/dl/dd/span[1]').text[6:]\n",
    "date1 = datetime.date(int(date1[0:4]), int(date1[5:7]), int(date1[8:10]))\n",
    "\n",
    "title2 = driver.find_element(By.XPATH, '/html/body/section/section/section/div[2]/div[1]/section[1]/ul/li[2]/a/ul/li[2]/dl/dt').text\n",
    "date2 = driver.find_element(By.XPATH, '/html/body/section/section/section/div[2]/div[1]/section[1]/ul/li[2]/a/ul/li[2]/dl/dd/span[1]').text[6:]\n",
    "date2 = datetime.date(int(date2[0:4]), int(date2[5:7]), int(date2[8:10]))\n",
    "\n",
    "driver.get(url2)\n",
    "title3 = driver.find_element(By.XPATH, '/html/body/section/section/section/div[2]/div[1]/section[1]/ul/li[1]/a/ul/li[2]/dl/dt').text\n",
    "date3 = driver.find_element(By.XPATH, '/html/body/section/section/section/div[2]/div[1]/section[1]/ul/li[1]/a/ul/li[2]/dl/dd/span[1]').text[6:]\n",
    "date3 = datetime.date(int(date3[0:4]), int(date3[5:7]), int(date3[8:10]))\n",
    "\n",
    "title4 = driver.find_element(By.XPATH, '/html/body/section/section/section/div[2]/div[1]/section[1]/ul/li[2]/a/ul/li[2]/dl/dt').text\n",
    "date4 = driver.find_element(By.XPATH, '/html/body/section/section/section/div[2]/div[1]/section[1]/ul/li[2]/a/ul/li[2]/dl/dd/span[1]').text[6:]\n",
    "date4 = datetime.date(int(date4[0:4]), int(date4[5:7]), int(date4[8:10]))\n",
    "\n",
    "print([univ_nm, url2, datetime.datetime.now(), title1, date1, title2, date2, title3, date3, title4, date4])\n",
    "excel_sheet2.append([univ_nm, url2, datetime.datetime.now(), title1, date1, title2, date2, title3, date3, title4, date4])"
   ]
  },
  {
   "cell_type": "markdown",
   "id": "ee9684fd-e509-4f3f-87aa-500d303ab95b",
   "metadata": {},
   "source": [
    "### 동아대"
   ]
  },
  {
   "cell_type": "code",
   "execution_count": 196,
   "id": "a200068b-0b1f-49c5-85f6-c54c954e1c2b",
   "metadata": {},
   "outputs": [
    {
     "name": "stdout",
     "output_type": "stream",
     "text": [
      "['동아대', 'https://ent.donga.ac.kr/admission/html/counsel/notice.asp', datetime.datetime(2024, 3, 4, 17, 36, 16, 815220), '제29기 홍보대사 모집 안내', datetime.date(2024, 1, 22), '2025학년도 대학입학전형 시행계획', datetime.date(2023, 4, 26), '2024학년도 정시모집 합격자 발표 및 등록·등록 포기(환불) 안내', datetime.date(2024, 1, 19), '2024학년도 정시모집 음악학과 실기고사 안내', datetime.date(2024, 1, 17)]\n"
     ]
    }
   ],
   "source": [
    "# @@ 동적페이지(정시 공지사항) 이용으로 XPATH 사용\n",
    "\n",
    "univ_nm = '동아대'\n",
    "url1 = 'https://ent.donga.ac.kr/admission/html/counsel/notice.asp'\n",
    "url2 = 'https://ent.donga.ac.kr/admission/html/counsel/notice.asp'\n",
    "\n",
    "driver.get(url1)\n",
    "title1 = WebDriverWait(driver, 5).until(\n",
    "    EC.visibility_of_element_located((By.XPATH, '/html/body/div[3]/div/div[2]/table/tbody/tr[1]/td/a/span[3]'))).text\n",
    "date1 = WebDriverWait(driver, 5).until(\n",
    "    EC.visibility_of_element_located((By.XPATH, '/html/body/div[3]/div/div[2]/table/tbody/tr[1]/td/p'))).text[6:16]\n",
    "date1 = datetime.date(int(date1[0:4]), int(date1[5:7]), int(date1[8:10]))\n",
    "\n",
    "title2 = WebDriverWait(driver, 5).until(\n",
    "    EC.visibility_of_element_located((By.XPATH, '/html/body/div[3]/div/div[2]/table/tbody/tr[2]/td/a/span[3]'))).text\n",
    "date2 = WebDriverWait(driver, 5).until(\n",
    "    EC.visibility_of_element_located((By.XPATH, '/html/body/div[3]/div/div[2]/table/tbody/tr[2]/td/p'))).text[6:16]\n",
    "date2 = datetime.date(int(date2[0:4]), int(date2[5:7]), int(date2[8:10]))\n",
    "\n",
    "driver.get(url2)\n",
    "driver.find_element(By.XPATH, '/html/body/div[3]/div/div[2]/ul/li[3]/a').click()\n",
    "title3 = WebDriverWait(driver, 5).until(\n",
    "    EC.visibility_of_element_located((By.XPATH, '/html/body/div[3]/div/div[2]/table/tbody/tr[1]/td/a/span[2]'))).text\n",
    "date3 = WebDriverWait(driver, 5).until(\n",
    "    EC.visibility_of_element_located((By.XPATH, '/html/body/div[3]/div/div[2]/table/tbody/tr[1]/td/p'))).text[6:16]\n",
    "date3 = datetime.date(int(date3[0:4]), int(date3[5:7]), int(date3[8:10]))\n",
    "\n",
    "title4 = WebDriverWait(driver, 5).until(\n",
    "    EC.visibility_of_element_located((By.XPATH, '/html/body/div[3]/div/div[2]/table/tbody/tr[2]/td/a/span[2]'))).text\n",
    "date4 = WebDriverWait(driver, 5).until(\n",
    "    EC.visibility_of_element_located((By.XPATH, '/html/body/div[3]/div/div[2]/table/tbody/tr[2]/td/p'))).text[6:16]\n",
    "date4 = datetime.date(int(date4[0:4]), int(date4[5:7]), int(date4[8:10]))\n",
    "\n",
    "print([univ_nm, url2, datetime.datetime.now(), title1, date1, title2, date2, title3, date3, title4, date4])\n",
    "excel_sheet2.append([univ_nm, url2, datetime.datetime.now(), title1, date1, title2, date2, title3, date3, title4, date4])"
   ]
  },
  {
   "cell_type": "markdown",
   "id": "79c49c0d-b298-44b2-a13e-2e8a4d743d4d",
   "metadata": {},
   "source": [
    "### 을지대"
   ]
  },
  {
   "cell_type": "code",
   "execution_count": 197,
   "id": "42ee7143-f4d2-4267-96a2-130f49710e55",
   "metadata": {},
   "outputs": [
    {
     "name": "stdout",
     "output_type": "stream",
     "text": [
      "['을지대', 'https://admission.eulji.ac.kr/?menuno=7189', datetime.datetime(2024, 3, 4, 17, 36, 17, 978305), '2024학년도 2차 추가모집 합격자 발표 및 등록금 납부 안내[최종발표완료]', datetime.date(2024, 2, 28), '2024학년도 추가모집 합격자 발표 및 등록금 납부 안내[최종발표완료]', datetime.date(2024, 2, 27), '2024학년도 2차 추가모집 합격자 발표 및 등록금 납부 안내[최종발표완료]', datetime.date(2024, 2, 28), '2024학년도 추가모집 합격자 발표 및 등록금 납부 안내[최종발표완료]', datetime.date(2024, 2, 27)]\n"
     ]
    }
   ],
   "source": [
    "univ_nm = '을지대'\n",
    "url1 = 'https://admission.eulji.ac.kr/?menuno=2750'\n",
    "url2 = 'https://admission.eulji.ac.kr/?menuno=7189'\n",
    "\n",
    "driver.get(url1)\n",
    "soup1 = BeautifulSoup(driver.page_source, 'html.parser')\n",
    "title1 = soup1.find('td', 'subject').get_text().strip()\n",
    "date1 = soup1.find_all('td')[4].get_text().strip()\n",
    "date1 = datetime.date(int(date1[0:4]), int(date1[5:7]), int(date1[8:10]))\n",
    "\n",
    "title2 = soup1.find_all('td', 'subject')[1].get_text().strip()\n",
    "date2 = soup1.find_all('td')[10].get_text().strip()\n",
    "date2 = datetime.date(int(date2[0:4]), int(date2[5:7]), int(date2[8:10]))\n",
    "\n",
    "driver.get(url2)\n",
    "soup2 = BeautifulSoup(driver.page_source, 'html.parser')\n",
    "title3 = soup2.find('td', 'subject').get_text().strip()\n",
    "date3 =  soup2.find_all('td')[4].get_text().strip()\n",
    "date3 = datetime.date(int(date3[0:4]), int(date3[5:7]), int(date3[8:10]))\n",
    "\n",
    "title4 = soup2.find_all('td', 'subject')[1].get_text().strip()\n",
    "date4 = soup2.find_all('td')[10].get_text().strip()\n",
    "date4 = datetime.date(int(date4[0:4]), int(date4[5:7]), int(date4[8:10]))\n",
    "\n",
    "print([univ_nm, url2, datetime.datetime.now(), title1, date1, title2, date2, title3, date3, title4, date4])\n",
    "excel_sheet2.append([univ_nm, url2, datetime.datetime.now(), title1, date1, title2, date2, title3, date3, title4, date4])"
   ]
  },
  {
   "cell_type": "markdown",
   "id": "ff87df0e-63ca-402d-8366-2fb5c3a863ed",
   "metadata": {},
   "source": [
    "### 울산대"
   ]
  },
  {
   "cell_type": "code",
   "execution_count": 198,
   "id": "d1f8e886-81a0-4c19-8bd3-73a57a541fb3",
   "metadata": {},
   "outputs": [
    {
     "name": "stdout",
     "output_type": "stream",
     "text": [
      "['울산대', 'https://iphak.ulsan.ac.kr/iphak/CMS/Board/Board.do?mCode=MN047', datetime.datetime(2024, 3, 4, 17, 36, 20, 156646), '2024학년도 신입학 추가모집 8차 충원합격자 발표 및 안내', datetime.date(2024, 2, 29), '2024학년도 신입학 추가모집 7차 충원합격자 발표 및 안내', datetime.date(2024, 2, 29), '2024학년도 신입학 추가모집 6차 충원합격자 발표 및 안내', datetime.date(2024, 2, 29), '2024학년도 신입학 추가모집 5차 충원합격자 발표 및 안내', datetime.date(2024, 2, 28)]\n"
     ]
    }
   ],
   "source": [
    "univ_nm = '울산대'\n",
    "url1 = 'https://iphak.ulsan.ac.kr/iphak/CMS/Board/Board.do?mCode=MN047'\n",
    "url2 = 'https://iphak.ulsan.ac.kr/iphak/CMS/Board/Board.do?mCode=MN047'\n",
    "\n",
    "driver.get(url1)\n",
    "soup1 = BeautifulSoup(driver.page_source, 'html.parser')\n",
    "title1 = soup1.find('p', 'stitle').get_text().strip()\n",
    "date1 = soup1.find('td', 'date').get_text().strip()\n",
    "date1 = datetime.date(int(date1[0:4]), int(date1[5:7]), int(date1[8:10]))\n",
    "\n",
    "title2 = soup1.find_all('p', 'stitle')[1].get_text().strip()\n",
    "date2 = soup1.find_all('td', 'date')[1].get_text().strip()\n",
    "date2 = datetime.date(int(date2[0:4]), int(date2[5:7]), int(date2[8:10]))\n",
    "\n",
    "driver.get(url2)\n",
    "soup2 = BeautifulSoup(driver.page_source, 'html.parser')\n",
    "title3 = soup2.find_all('p', 'stitle')[2].get_text().strip()\n",
    "date3 =  soup2.find_all('td', 'date')[2].get_text().strip()\n",
    "date3 = datetime.date(int(date3[0:4]), int(date3[5:7]), int(date3[8:10]))\n",
    "\n",
    "title4 = soup2.find_all('p', 'stitle')[3].get_text().strip()\n",
    "date4 = soup2.find_all('td', 'date')[3].get_text().strip()\n",
    "date4 = datetime.date(int(date4[0:4]), int(date4[5:7]), int(date4[8:10]))\n",
    "\n",
    "print([univ_nm, url2, datetime.datetime.now(), title1, date1, title2, date2, title3, date3, title4, date4])\n",
    "excel_sheet2.append([univ_nm, url2, datetime.datetime.now(), title1, date1, title2, date2, title3, date3, title4, date4])"
   ]
  },
  {
   "cell_type": "markdown",
   "id": "0b326105-fc42-4ac2-ba76-2accc59f54fc",
   "metadata": {},
   "source": [
    "### 순천향대"
   ]
  },
  {
   "cell_type": "code",
   "execution_count": 199,
   "id": "0e5cf208-9165-4c3e-9c91-6385ca1088d1",
   "metadata": {},
   "outputs": [
    {
     "name": "stdout",
     "output_type": "stream",
     "text": [
      "['순천향대', 'https://ipsi.sch.ac.kr/submenu.do?menuurl=9i3Q8ftvjoljsz2ty%2Fiqfg%3D%3D&categoryid=176', datetime.datetime(2024, 3, 4, 17, 36, 21, 174638), '(재외국민) 2025학년도 대학입학전형 시행계획', datetime.date(2024, 1, 8), '', '', '', '', '', '']\n"
     ]
    }
   ],
   "source": [
    "# @@ 2.22 기준 공지사항 글 1개밖에 없으므로 주석처리\n",
    "\n",
    "univ_nm = '순천향대'\n",
    "url1 = 'https://ipsi.sch.ac.kr/submenu.do?menuurl=9i3Q8ftvjoljsz2ty%2fiqfg%3d%3d&'\n",
    "url2 = 'https://ipsi.sch.ac.kr/submenu.do?menuurl=9i3Q8ftvjoljsz2ty%2Fiqfg%3D%3D&categoryid=176'\n",
    "\n",
    "driver.get(url1)\n",
    "title1 = driver.find_element(By.XPATH, '/html/body/div/section/div/div[2]/article/div[1]/div/div[2]/fieldset/div[2]/table/tbody/tr/td[2]/a/span[1]').text\n",
    "date1 = driver.find_element(By.XPATH, '/html/body/div/section/div/div[2]/article/div[1]/div/div[2]/fieldset/div[2]/table/tbody/tr/td[4]').text\n",
    "date1 = datetime.date(int(date1[0:4]), int(date1[5:7]), int(date1[8:10]))\n",
    "\n",
    "#title2 = driver.find_element(By.XPATH, '/html/body/section/section/section/div[2]/div[1]/section[1]/ul/li[2]/a/ul/li[2]/dl/dt').text\n",
    "#date2 = driver.find_element(By.XPATH, '/html/body/section/section/section/div[2]/div[1]/section[1]/ul/li[2]/a/ul/li[2]/dl/dd/span[1]').text[6:]\n",
    "#date2 = datetime.date(int(date2[0:4]), int(date2[5:7]), int(date2[8:10]))\n",
    "title2=''\n",
    "date2=''\n",
    "\n",
    "#driver.get(url2)\n",
    "#title3 = driver.find_element(By.XPATH, '/html/body/section/section/section/div[2]/div[1]/section[1]/ul/li[1]/a/ul/li[2]/dl/dt').text\n",
    "#date3 = driver.find_element(By.XPATH, '/html/body/section/section/section/div[2]/div[1]/section[1]/ul/li[1]/a/ul/li[2]/dl/dd/span[1]').text[6:]\n",
    "#date3 = datetime.date(int(date3[0:4]), int(date3[5:7]), int(date3[8:10]))\n",
    "title3=''\n",
    "date3=''\n",
    "\n",
    "#title4 = driver.find_element(By.XPATH, '/html/body/section/section/section/div[2]/div[1]/section[1]/ul/li[2]/a/ul/li[2]/dl/dt').text\n",
    "#date4 = driver.find_element(By.XPATH, '/html/body/section/section/section/div[2]/div[1]/section[1]/ul/li[2]/a/ul/li[2]/dl/dd/span[1]').text[6:]\n",
    "#date4 = datetime.date(int(date4[0:4]), int(date4[5:7]), int(date4[8:10]))\n",
    "title4=''\n",
    "date4=''\n",
    "\n",
    "print([univ_nm, url2, datetime.datetime.now(), title1, date1, title2, date2, title3, date3, title4, date4])\n",
    "excel_sheet2.append([univ_nm, url2, datetime.datetime.now(), title1, date1, title2, date2, title3, date3, title4, date4])"
   ]
  },
  {
   "cell_type": "markdown",
   "id": "d7215c59-f249-4c82-b29b-e5cc518b60b9",
   "metadata": {},
   "source": [
    "### 계명대"
   ]
  },
  {
   "cell_type": "code",
   "execution_count": 200,
   "id": "b6e7842b-32fc-47c8-8a08-b3d5990b2f44",
   "metadata": {},
   "outputs": [
    {
     "name": "stdout",
     "output_type": "stream",
     "text": [
      "['계명대', 'https://www.gokmu.ac.kr/service/board.htm?mode=list&bbsid=notice&etc1=jungsi', datetime.datetime(2024, 3, 4, 17, 36, 21, 747313), '2024학년도 추가모집 등록 및 수강신청 안내', datetime.date(2024, 2, 27), '2024학년도 신입생 공통교양교재 배부 안내', datetime.date(2024, 2, 7), '2024학년도 추가모집 등록 및 수강신청 안내', datetime.date(2024, 2, 27), '2024학년도 신입생 공통교양교재 배부 안내', datetime.date(2024, 2, 7)]\n"
     ]
    }
   ],
   "source": [
    "univ_nm = '계명대'\n",
    "url1 = 'https://www.gokmu.ac.kr/service/board.htm?bbsid=notice'\n",
    "url2 = 'https://www.gokmu.ac.kr/service/board.htm?mode=list&bbsid=notice&etc1=jungsi'\n",
    "\n",
    "driver.get(url1)\n",
    "soup1 = BeautifulSoup(driver.page_source, 'html.parser')\n",
    "title1 = soup1.find('td', 'ta_l').find('a').get_text().strip()\n",
    "date1 = soup1.find('td', 'ta_l').find('span', 'date').get_text().strip()[6:]\n",
    "date1 = datetime.date(int(date1[0:4]), int(date1[5:7]), int(date1[8:10]))\n",
    "\n",
    "title2 = soup1.find_all('td', 'ta_l')[1].find('a').get_text().strip()\n",
    "date2 = soup1.find_all('td', 'ta_l')[1].find('span', 'date').get_text().strip()[6:]\n",
    "date2 = datetime.date(int(date2[0:4]), int(date2[5:7]), int(date2[8:10]))\n",
    "\n",
    "driver.get(url2)\n",
    "soup2 = BeautifulSoup(driver.page_source, 'html.parser')\n",
    "title3 = soup2.find('td', 'ta_l').find('a').get_text().strip()\n",
    "date3 =  soup2.find('td', 'ta_l').find('span', 'date').get_text().strip()[6:]\n",
    "date3 = datetime.date(int(date3[0:4]), int(date3[5:7]), int(date3[8:10]))\n",
    "\n",
    "title4 = soup2.find_all('td', 'ta_l')[1].find('a').get_text().strip()\n",
    "date4 = soup2.find_all('td', 'ta_l')[1].find('span', 'date').get_text().strip()[6:]\n",
    "date4 = datetime.date(int(date4[0:4]), int(date4[5:7]), int(date4[8:10]))\n",
    "\n",
    "print([univ_nm, url2, datetime.datetime.now(), title1, date1, title2, date2, title3, date3, title4, date4])\n",
    "excel_sheet2.append([univ_nm, url2, datetime.datetime.now(), title1, date1, title2, date2, title3, date3, title4, date4])"
   ]
  },
  {
   "cell_type": "markdown",
   "id": "df95fed6-c438-4e74-a146-4888879b2878",
   "metadata": {},
   "source": [
    "### 대구가톨릭대"
   ]
  },
  {
   "cell_type": "code",
   "execution_count": 201,
   "id": "a3e8a2ff-43ec-4d40-883e-b924a31d527e",
   "metadata": {},
   "outputs": [
    {
     "name": "stdout",
     "output_type": "stream",
     "text": [
      "['대구가톨릭대', 'https://ibsi.cu.ac.kr/kor/bbs/BBSMSTR_000000000090/lst.do', datetime.datetime(2024, 3, 4, 17, 36, 23, 245277), '2024학년도 추가모집(3차 및 4차) 합격자 발표 및 합격자 안내', datetime.date(2024, 2, 29), '2024학년도 학생부 종합전형 합격수기 공모전 결과 발표', datetime.date(2024, 2, 29), '2024학년도 추가모집(3차 및 4차) 합격자 발표 및 합격자 안내', datetime.date(2024, 2, 29), '★ 2024학년도 정시모집 예비신입생 안내 (등록금 영수증 출력)', datetime.date(2024, 2, 29)]\n"
     ]
    }
   ],
   "source": [
    "# @@ 동적 페이지 XPATH\n",
    "\n",
    "univ_nm = '대구가톨릭대'\n",
    "url1 = 'https://ibsi.cu.ac.kr/kor/bbs/BBSMSTR_000000000090/lst.do'\n",
    "url2 = 'https://ibsi.cu.ac.kr/kor/bbs/BBSMSTR_000000000090/lst.do'\n",
    "\n",
    "driver.get(url1)\n",
    "title1 = driver.find_element(By.XPATH, '/html/body/div[2]/div[5]/div[2]/div/div[3]/ul/li[2]/div/a/strong').text\n",
    "date1 = driver.find_element(By.XPATH, '/html/body/div[2]/div[5]/div[2]/div/div[3]/ul/li[2]/p[4]').text\n",
    "date1 = datetime.date(int(date1[0:4]), int(date1[5:7]), int(date1[8:10]))\n",
    "\n",
    "title2 = driver.find_element(By.XPATH, '/html/body/div[2]/div[5]/div[2]/div/div[3]/ul/li[3]/div/a/strong').text\n",
    "date2 = driver.find_element(By.XPATH, '/html/body/div[2]/div[5]/div[2]/div/div[3]/ul/li[2]/p[4]').text\n",
    "date2 = datetime.date(int(date2[0:4]), int(date2[5:7]), int(date2[8:10]))\n",
    "\n",
    "driver.get(url2)\n",
    "driver.find_element(By.XPATH, '/html/body/div[2]/div[5]/div[2]/div/div[1]/ul/li[4]/a').click()\n",
    "title3 = driver.find_element(By.XPATH, '/html/body/div[2]/div[5]/div[2]/div/div[3]/ul/li[2]/div/a/strong').text\n",
    "date3 = driver.find_element(By.XPATH, '/html/body/div[2]/div[5]/div[2]/div/div[3]/ul/li[2]/p[4]').text\n",
    "date3 = datetime.date(int(date3[0:4]), int(date3[5:7]), int(date3[8:10]))\n",
    "\n",
    "title4 = driver.find_element(By.XPATH, '/html/body/div[2]/div[5]/div[2]/div/div[3]/ul/li[3]/div/a/strong').text\n",
    "date4 = driver.find_element(By.XPATH, '/html/body/div[2]/div[5]/div[2]/div/div[3]/ul/li[2]/p[4]').text\n",
    "date4 = datetime.date(int(date4[0:4]), int(date4[5:7]), int(date4[8:10]))\n",
    "\n",
    "print([univ_nm, url2, datetime.datetime.now(), title1, date1, title2, date2, title3, date3, title4, date4])\n",
    "excel_sheet2.append([univ_nm, url2, datetime.datetime.now(), title1, date1, title2, date2, title3, date3, title4, date4])"
   ]
  },
  {
   "cell_type": "markdown",
   "id": "82ad72f7-9c0f-4a51-bf1e-d6581b418d71",
   "metadata": {},
   "source": [
    "### 대전대"
   ]
  },
  {
   "cell_type": "code",
   "execution_count": 202,
   "id": "cee34819-2bc1-4b65-ac95-b5a456711f9e",
   "metadata": {},
   "outputs": [
    {
     "name": "stdout",
     "output_type": "stream",
     "text": [
      "['대전대', 'https://ipsi.dju.ac.kr/admission/html/counsel/notice.asp', datetime.datetime(2024, 3, 4, 17, 36, 24, 786193), '2024학년도 편입학 제출서류 양식(포트폴리오, 농어촌, 특성화고, 기...', datetime.date(2023, 12, 8), '[등록금 납부영수증] 2024학년도 신입학 수시 및 정시(추가) 등록금...', datetime.date(2024, 2, 26), '2024학년도 편입학 제출서류 양식(포트폴리오, 농어촌, 특성화고, 기...', datetime.date(2023, 12, 8), '[모집요강] 2024학년도 신입학 정시모집 모집요강 (수시이월인원 반영)', datetime.date(2024, 1, 2)]\n"
     ]
    }
   ],
   "source": [
    "univ_nm = '대전대'\n",
    "url1 = 'https://ipsi.dju.ac.kr/admission/html/counsel/notice.asp'\n",
    "url2 = 'https://ipsi.dju.ac.kr/admission/html/counsel/notice.asp'\n",
    "\n",
    "driver.get(url1)\n",
    "soup1 = BeautifulSoup(driver.page_source, 'html.parser')\n",
    "title1 = soup1.find('td', 'subject').find('a').get_text().strip()\n",
    "date1 = driver.find_element(By.XPATH, '/html/body/div[2]/div[3]/div[2]/table/tbody/tr[1]/td[5]').text\n",
    "date1 = datetime.date(int(date1[0:4]), int(date1[5:7]), int(date1[8:10]))\n",
    "\n",
    "title2 = soup1.find_all('td', 'subject')[1].find('a').get_text().strip()\n",
    "date2 = driver.find_element(By.XPATH, '/html/body/div[2]/div[3]/div[2]/table/tbody/tr[2]/td[5]').text\n",
    "date2 = datetime.date(int(date2[0:4]), int(date2[5:7]), int(date2[8:10]))\n",
    "\n",
    "driver.get(url2)\n",
    "WebDriverWait(driver, 5).until(\n",
    "    EC.visibility_of_element_located((By.XPATH, '/html/body/div[2]/div[3]/div[2]/ul/li[3]/a'))).send_keys(Keys.ENTER)\n",
    "soup2 = BeautifulSoup(driver.page_source, 'html.parser')\n",
    "title3 = soup2.find('td', 'subject').find('a').get_text().strip()\n",
    "date3 = driver.find_element(By.XPATH, '/html/body/div[2]/div[3]/div[2]/table/tbody/tr[1]/td[5]').text\n",
    "date3 = datetime.date(int(date3[0:4]), int(date3[5:7]), int(date3[8:10]))\n",
    "\n",
    "title4 = soup2.find_all('td', 'subject')[1].find('a').get_text().strip()\n",
    "date4 = driver.find_element(By.XPATH, '/html/body/div[2]/div[3]/div[2]/table/tbody/tr[2]/td[5]').text\n",
    "date4 = datetime.date(int(date4[0:4]), int(date4[5:7]), int(date4[8:10]))\n",
    "\n",
    "print([univ_nm, url2, datetime.datetime.now(), title1, date1, title2, date2, title3, date3, title4, date4])\n",
    "excel_sheet2.append([univ_nm, url2, datetime.datetime.now(), title1, date1, title2, date2, title3, date3, title4, date4])"
   ]
  },
  {
   "cell_type": "markdown",
   "id": "d721cdd6-b9e0-444e-9c17-b7f8794edb38",
   "metadata": {},
   "source": [
    "### 대구한의대"
   ]
  },
  {
   "cell_type": "code",
   "execution_count": 204,
   "id": "4b200ac8-d478-4de1-b4d3-e2c0c890e48f",
   "metadata": {},
   "outputs": [
    {
     "name": "stdout",
     "output_type": "stream",
     "text": [
      "['대구한의대', 'https://www.dhu.ac.kr/admission/sub.htm?nav_code=ibs1636526816', datetime.datetime(2024, 3, 4, 17, 38, 48, 731223), '2024학년도 5차 추가모집 모집요강 공지', datetime.date(2024, 2, 27), '2024학년도 7차 추가모집 모집요강 공지', datetime.date(2024, 2, 29), '2024학년도 6차 추가모집 모집요강 공지', datetime.date(2024, 2, 28), '2024학년도 4차 추가모집 모집요강 공지', datetime.date(2024, 2, 26)]\n"
     ]
    }
   ],
   "source": [
    "# @@ notice 여부에 따라 tr[n]/td[2]\"/b\" 유무 갈리는 듯\n",
    "\n",
    "univ_nm = '대구한의대'\n",
    "url1 = 'https://www.dhu.ac.kr/admission/sub.htm?nav_code=ibs1636526816'\n",
    "url2 = 'https://www.dhu.ac.kr/admission/sub.htm?nav_code=ibs1636526816'\n",
    "\n",
    "driver.get(url1)\n",
    "title1 = driver.find_element(By.XPATH, '/html/body/div[2]/section/div/div[2]/div[2]/div/table/tbody/tr[1]/td[2]/b/a').text\n",
    "date1 = driver.find_element(By.XPATH, '/html/body/div[2]/section/div/div[2]/div[2]/div/table/tbody/tr[1]/td[5]').text\n",
    "date1 = datetime.date(int(date1[0:4]), int(date1[5:7]), int(date1[8:10]))\n",
    "\n",
    "title2 = driver.find_element(By.XPATH, '/html/body/div[2]/section/div/div[2]/div[2]/div/table/tbody/tr[2]/td[2]/a').text\n",
    "date2 = driver.find_element(By.XPATH, '/html/body/div[2]/section/div/div[2]/div[2]/div/table/tbody/tr[2]/td[5]').text\n",
    "date2 = datetime.date(int(date2[0:4]), int(date2[5:7]), int(date2[8:10]))\n",
    "\n",
    "driver.get(url2)\n",
    "title3 = driver.find_element(By.XPATH, '/html/body/div[2]/section/div/div[2]/div[2]/div/table/tbody/tr[3]/td[2]/a').text\n",
    "date3 = driver.find_element(By.XPATH, '/html/body/div[2]/section/div/div[2]/div[2]/div/table/tbody/tr[3]/td[5]').text\n",
    "date3 = datetime.date(int(date3[0:4]), int(date3[5:7]), int(date3[8:10]))\n",
    "\n",
    "title4 = driver.find_element(By.XPATH, '/html/body/div[2]/section/div/div[2]/div[2]/div/table/tbody/tr[4]/td[2]/a').text\n",
    "date4 = driver.find_element(By.XPATH, '/html/body/div[2]/section/div/div[2]/div[2]/div/table/tbody/tr[4]/td[5]').text\n",
    "date4 = datetime.date(int(date4[0:4]), int(date4[5:7]), int(date4[8:10]))\n",
    "\n",
    "print([univ_nm, url2, datetime.datetime.now(), title1, date1, title2, date2, title3, date3, title4, date4])\n",
    "excel_sheet2.append([univ_nm, url2, datetime.datetime.now(), title1, date1, title2, date2, title3, date3, title4, date4])"
   ]
  },
  {
   "cell_type": "markdown",
   "id": "cf8a07d2-3c0a-4ed1-8723-aeaf9f8bfe18",
   "metadata": {},
   "source": [
    "### 상지대"
   ]
  },
  {
   "cell_type": "code",
   "execution_count": 205,
   "id": "f5882d02-6f59-474d-858a-c66bfacf8eb9",
   "metadata": {},
   "outputs": [
    {
     "name": "stdout",
     "output_type": "stream",
     "text": [
      "['상지대', 'https://www.sangji.ac.kr/prog/bbsArticle/BBSMSTR_000000000199/list.do?kind=notice2&cmsNoStr=1201', datetime.datetime(2024, 3, 4, 17, 38, 55, 340362), '2024학년도 신입학전형 추가모집(3차) 합격자 발표 안내', datetime.date(2024, 2, 29), '2024학년도 신입학전형 추가모집(4차) 원서접수 기간 변경 안내', datetime.date(2024, 2, 28), '2024학년도 신입학전형 추가모집(3차) 합격자 발표 안내', datetime.date(2024, 2, 29), '2024학년도 신입학전형 추가모집(4차) 원서접수 기간 변경 안내', datetime.date(2024, 2, 28)]\n"
     ]
    }
   ],
   "source": [
    "univ_nm = '상지대'\n",
    "url1 = 'https://www.sangji.ac.kr/prog/bbsArticle/BBSMSTR_000000000199/list.do?cmsNoStr=1201'\n",
    "url2 = 'https://www.sangji.ac.kr/prog/bbsArticle/BBSMSTR_000000000199/list.do?kind=notice2&cmsNoStr=1201'\n",
    "\n",
    "driver.get(url1)\n",
    "title1 = driver.find_element(By.XPATH, '/html/body/div[5]/div/div/div[2]/div/div[2]/table/tbody/tr[1]/td[3]/a').text\n",
    "date1 = driver.find_element(By.XPATH, '/html/body/div[5]/div/div/div[2]/div/div[2]/table/tbody/tr[1]/td[6]').text\n",
    "date1 = datetime.date(int(date1[0:4]), int(date1[5:7]), int(date1[8:10]))\n",
    "\n",
    "title2 = driver.find_element(By.XPATH, '/html/body/div[5]/div/div/div[2]/div/div[2]/table/tbody/tr[2]/td[3]/a').text\n",
    "date2 = driver.find_element(By.XPATH, '/html/body/div[5]/div/div/div[2]/div/div[2]/table/tbody/tr[2]/td[6]').text\n",
    "date2 = datetime.date(int(date2[0:4]), int(date2[5:7]), int(date2[8:10]))\n",
    "\n",
    "driver.get(url2)\n",
    "title3 = driver.find_element(By.XPATH, '/html/body/div[5]/div/div/div[2]/div/div[2]/table/tbody/tr[1]/td[3]/a').text\n",
    "date3 = driver.find_element(By.XPATH, '/html/body/div[5]/div/div/div[2]/div/div[2]/table/tbody/tr[1]/td[6]').text\n",
    "date3 = datetime.date(int(date3[0:4]), int(date3[5:7]), int(date3[8:10]))\n",
    "\n",
    "title4 = driver.find_element(By.XPATH, '/html/body/div[5]/div/div/div[2]/div/div[2]/table/tbody/tr[2]/td[3]/a').text\n",
    "date4 = driver.find_element(By.XPATH, '/html/body/div[5]/div/div/div[2]/div/div[2]/table/tbody/tr[2]/td[6]').text\n",
    "date4 = datetime.date(int(date4[0:4]), int(date4[5:7]), int(date4[8:10]))\n",
    "\n",
    "print([univ_nm, url2, datetime.datetime.now(), title1, date1, title2, date2, title3, date3, title4, date4])\n",
    "excel_sheet2.append([univ_nm, url2, datetime.datetime.now(), title1, date1, title2, date2, title3, date3, title4, date4])"
   ]
  },
  {
   "cell_type": "markdown",
   "id": "df4bbab6-e3fa-427f-8f1e-068cf97f1212",
   "metadata": {},
   "source": [
    "### 인제대(김해)"
   ]
  },
  {
   "cell_type": "code",
   "execution_count": 206,
   "id": "aec15796-02c1-4237-851f-0e00edf29cf6",
   "metadata": {},
   "outputs": [
    {
     "name": "stdout",
     "output_type": "stream",
     "text": [
      "['인제대(김해)', 'https://iphak.inje.ac.kr/board/list.asp?m=6&m2=1&part=2', datetime.datetime(2024, 3, 4, 17, 38, 56, 662842), '2024 편입학 합격자 발표 및 등록금 납부 확인서 조회', datetime.date(2024, 2, 26), '2024학년도 신입생 합격증 및 등록금 납부 확인서 조회', datetime.date(2024, 2, 24), '정시 합격자(충원 포함) 발표 및 등록금 납부 안내', datetime.date(2024, 1, 29), '정시 음악공연예술학과 실기고사 유의사항 안내', datetime.date(2024, 1, 9)]\n"
     ]
    }
   ],
   "source": [
    "univ_nm = '인제대(김해)'\n",
    "url1 = 'https://iphak.inje.ac.kr/board/list.asp?m=6&m2=1'\n",
    "url2 = 'https://iphak.inje.ac.kr/board/list.asp?m=6&m2=1&part=2'\n",
    "\n",
    "driver.get(url1)\n",
    "soup1 = BeautifulSoup(driver.page_source, 'html.parser')\n",
    "title1 = soup1.find('a', 'title').get_text().strip()\n",
    "date1 = driver.find_element(By.XPATH, '/html/body/div[2]/div[5]/div[1]/div/div[2]/div[2]/dl[1]/dd/ul/li[2]').text\n",
    "date1 = datetime.date(int(date1[0:4]), int(date1[5:7]), int(date1[8:10]))\n",
    "\n",
    "title2 = soup1.find_all('a', 'title')[1].get_text().strip()\n",
    "date2 = driver.find_element(By.XPATH, '/html/body/div[2]/div[5]/div[1]/div/div[2]/div[2]/dl[2]/dd/ul/li[2]').text\n",
    "date2 = datetime.date(int(date2[0:4]), int(date2[5:7]), int(date2[8:10]))\n",
    "\n",
    "driver.get(url2)\n",
    "\n",
    "soup2 = BeautifulSoup(driver.page_source, 'html.parser')\n",
    "title3 = soup2.find('a', 'title').get_text().strip()\n",
    "date3 = driver.find_element(By.XPATH, '/html/body/div[2]/div[5]/div[1]/div/div[2]/div[2]/dl[1]/dd/ul/li[2]').text\n",
    "date3 = datetime.date(int(date3[0:4]), int(date3[5:7]), int(date3[8:10]))\n",
    "\n",
    "title4 = soup2.find_all('a', 'title')[1].get_text().strip()\n",
    "date4 = driver.find_element(By.XPATH, '/html/body/div[2]/div[5]/div[1]/div/div[2]/div[2]/dl[2]/dd/ul/li[2]').text\n",
    "date4 = datetime.date(int(date4[0:4]), int(date4[5:7]), int(date4[8:10]))\n",
    "\n",
    "print([univ_nm, url2, datetime.datetime.now(), title1, date1, title2, date2, title3, date3, title4, date4])\n",
    "excel_sheet2.append([univ_nm, url2, datetime.datetime.now(), title1, date1, title2, date2, title3, date3, title4, date4])"
   ]
  },
  {
   "cell_type": "markdown",
   "id": "9c184456-2932-4f6b-aab4-8ef2ea41dfb8",
   "metadata": {},
   "source": [
    "### 동의대"
   ]
  },
  {
   "cell_type": "code",
   "execution_count": 207,
   "id": "457ec8be-f6a8-4d37-b7f8-36f9a5b3c194",
   "metadata": {},
   "outputs": [
    {
     "name": "stdout",
     "output_type": "stream",
     "text": [
      "['동의대', 'https://ipsi.deu.ac.kr/submenu.do?menuUrl=JETkhzlXXhAnzp6D4CXG7g%3D%3D&categoryid=176', datetime.datetime(2024, 3, 4, 17, 38, 57, 689074), '2025학년도 대학입학전형 시행계획', datetime.date(2023, 4, 27), '2024학년도 등록금 납부 확인서 및 합격증서 출력', datetime.date(2024, 3, 4), '', '', '', '']\n"
     ]
    }
   ],
   "source": [
    "# @@ 2.22 기준 정시 공지사항 글 없으므로 주석처리 \n",
    "\n",
    "univ_nm = '동의대'\n",
    "url1 = 'https://ipsi.deu.ac.kr/submenu.do?menuUrl=JETkhzlXXhAnzp6D4CXG7g%3d%3d&'\n",
    "url2 = 'https://ipsi.deu.ac.kr/submenu.do?menuUrl=JETkhzlXXhAnzp6D4CXG7g%3D%3D&categoryid=176'\n",
    "\n",
    "driver.get(url1)\n",
    "soup1 = BeautifulSoup(driver.page_source, 'html.parser')\n",
    "title1 = soup1.find('span', 'title-wrapper').get_text().strip()\n",
    "date1 = soup1.find('td', 'date').get_text().strip()\n",
    "date1 = datetime.date(int(date1[0:4]), int(date1[5:7]), int(date1[8:10]))\n",
    "\n",
    "title2 = soup1.find_all('span', 'title-wrapper')[1].get_text().strip()\n",
    "date2 = soup1.find_all('td', 'date')[1].get_text().strip()\n",
    "date2 = datetime.date(int(date2[0:4]), int(date2[5:7]), int(date2[8:10]))\n",
    "\n",
    "driver.get(url2)\n",
    "soup2 = BeautifulSoup(driver.page_source, 'html.parser')\n",
    "#title3 = soup2.find('span', 'title-wrapper').get_text().strip()\n",
    "#date3 = soup2.find('td', 'date').get_text().strip()\n",
    "#date3 = datetime.date(int(date3[0:4]), int(date3[5:7]), int(date3[8:10]))\n",
    "\n",
    "#title4 = soup2.find_all('span', 'title-wrapper')[1].find('a').get_text().strip()\n",
    "#date4 = soup2.find_all('td', 'date')[1].get_text().strip()\n",
    "#date4 = datetime.date(int(date4[0:4]), int(date4[5:7]), int(date4[8:10]))\n",
    "\n",
    "title3 = ''\n",
    "date3 = ''\n",
    "title4 = ''\n",
    "date4 = ''\n",
    "\n",
    "print([univ_nm, url2, datetime.datetime.now(), title1, date1, title2, date2, title3, date3, title4, date4])\n",
    "excel_sheet2.append([univ_nm, url2, datetime.datetime.now(), title1, date1, title2, date2, title3, date3, title4, date4])"
   ]
  },
  {
   "cell_type": "markdown",
   "id": "85444a2f-1b0f-42fe-aa80-de34945a386e",
   "metadata": {},
   "source": [
    "### 가톨릭관동대"
   ]
  },
  {
   "cell_type": "code",
   "execution_count": 208,
   "id": "d2d629dc-b446-4969-934b-4da1452cc0e2",
   "metadata": {},
   "outputs": [
    {
     "name": "stdout",
     "output_type": "stream",
     "text": [
      "['가톨릭관동대', 'https://www.cku.ac.kr/iphak/5105/subview.do?enc=Zm5jdDF8QEB8JTJGYmJzJTJGaXBoYWslMkYxMDU5JTJGYXJ0Y2xMaXN0LmRvJTNGYmJzQ2xTZXElM0QlMjZiYnNPcGVuV3JkU2VxJTNENDAlMjZpc1ZpZXdNaW5lJTNEZmFsc2UlMjZzcmNoQ29sdW1uJTNEc2olMjZzcmNoV3JkJTNEJTI2', datetime.datetime(2024, 3, 4, 17, 38, 59, 88184), '2024학년도 신/편입생 합격통지서, 납부영수증 출력', datetime.date(2024, 3, 4), '2024학년도 신/편입생 합격통지서, 납부영수증 출력', datetime.date(2024, 3, 4), '2024학년도 신/편입생 합격통지서, 납부영수증 출력', datetime.date(2024, 3, 4), '2024학년도 정시모집 의학과(의예과) 영상 업로드 면접 안내  <문제공개>', datetime.date(2024, 1, 22)]\n"
     ]
    }
   ],
   "source": [
    "univ_nm = '가톨릭관동대'\n",
    "url1 = 'https://www.cku.ac.kr/iphak/5105/subview.do'\n",
    "url2 = 'https://www.cku.ac.kr/iphak/5105/subview.do?enc=Zm5jdDF8QEB8JTJGYmJzJTJGaXBoYWslMkYxMDU5JTJGYXJ0Y2xMaXN0LmRvJTNGYmJzQ2xTZXElM0QlMjZiYnNPcGVuV3JkU2VxJTNENDAlMjZpc1ZpZXdNaW5lJTNEZmFsc2UlMjZzcmNoQ29sdW1uJTNEc2olMjZzcmNoV3JkJTNEJTI2'\n",
    "\n",
    "driver.get(url1)\n",
    "soup1 = BeautifulSoup(driver.page_source, 'html.parser')\n",
    "title1 = soup1.find('td', 'td-subject').find('strong').get_text().strip()\n",
    "date1 = soup1.find('td', 'td-date').get_text().strip()\n",
    "date1 = datetime.date(int(date1[0:4]), int(date1[5:7]), int(date1[8:10]))\n",
    "\n",
    "title2 = soup1.find_all('td', 'td-subject')[1].find('strong').get_text().strip()\n",
    "date2 = soup1.find_all('td', 'td-date')[1].get_text().strip()\n",
    "date2 = datetime.date(int(date2[0:4]), int(date2[5:7]), int(date2[8:10]))\n",
    "\n",
    "driver.get(url2)\n",
    "soup2 = BeautifulSoup(driver.page_source, 'html.parser')\n",
    "title3 = soup2.find('td', 'td-subject').find('strong').get_text().strip()\n",
    "date3 = soup2.find('td', 'td-date').get_text().strip()\n",
    "date3 = datetime.date(int(date3[0:4]), int(date3[5:7]), int(date3[8:10]))\n",
    "\n",
    "title4 = soup2.find_all('td', 'td-subject')[1].find('strong').get_text().strip()\n",
    "date4 = soup2.find_all('td', 'td-date')[1].get_text().strip()\n",
    "date4 = datetime.date(int(date4[0:4]), int(date4[5:7]), int(date4[8:10]))\n",
    "\n",
    "print([univ_nm, url2, datetime.datetime.now(), title1, date1, title2, date2, title3, date3, title4, date4])\n",
    "excel_sheet2.append([univ_nm, url2, datetime.datetime.now(), title1, date1, title2, date2, title3, date3, title4, date4])"
   ]
  },
  {
   "cell_type": "markdown",
   "id": "3bd3a625-43f3-48d7-ac26-64a422ee03f0",
   "metadata": {},
   "source": [
    "### 고신대\n",
    "\n",
    "- 크롤링 불가능"
   ]
  },
  {
   "cell_type": "code",
   "execution_count": 209,
   "id": "7a4a6189-f39c-49f0-bf16-eb99a8c73c39",
   "metadata": {},
   "outputs": [],
   "source": [
    "# @@ 크롤링 불가능 / 재확인 필요\n",
    "\n",
    "univ_nm = '고신대'\n",
    "url1 = 'https://home.kosin.ac.kr/enter/bbs/board.php?bo_table=notice&me_code=5010'\n",
    "url2 = 'https://home.kosin.ac.kr/enter/bbs/board.php?bo_table=notice&sca=%EC%A0%95%EC%8B%9C'\n",
    "\n",
    "excel_sheet2.append([univ_nm, url2, datetime.datetime.now()])"
   ]
  },
  {
   "cell_type": "markdown",
   "id": "753e8945-81a3-48ca-bccc-88f3641aeddf",
   "metadata": {},
   "source": [
    "### 우석대"
   ]
  },
  {
   "cell_type": "code",
   "execution_count": 210,
   "id": "ef73bc17-11a1-46d8-b620-a240957770c1",
   "metadata": {},
   "outputs": [
    {
     "name": "stdout",
     "output_type": "stream",
     "text": [
      "['우석대', 'https://enter.woosuk.ac.kr/main/?menu=42', datetime.datetime(2024, 3, 4, 17, 39, 0, 843229), '2024학년도 정시모집 충원합격 발표 일정', datetime.date(2024, 1, 31), '2024학년도 신입학 등록금 및 생활관 등 관련 사항 안내', datetime.date(2024, 1, 30), '2025학년도 대학입학전형시행계획', datetime.date(2023, 4, 30), '합격자 조회 및 고지서 출력하기', datetime.date(2024, 2, 29)]\n"
     ]
    }
   ],
   "source": [
    "univ_nm = '우석대'\n",
    "url1 = 'https://enter.woosuk.ac.kr/main/?menu=42'\n",
    "url2 = 'https://enter.woosuk.ac.kr/main/?menu=42'\n",
    "\n",
    "driver.get(url1)\n",
    "title1 = driver.find_element(By.XPATH, '/html/body/section[2]/div/div/div[2]/table/tbody/tr[1]/td[1]/a').text\n",
    "date1 = driver.find_element(By.XPATH, '/html/body/section[2]/div/div/div[2]/table/tbody/tr[1]/td[3]').text\n",
    "date1 = datetime.date(int(date1[0:4]), int(date1[5:7]), int(date1[8:10]))\n",
    "\n",
    "title2 = driver.find_element(By.XPATH, '/html/body/section[2]/div/div/div[2]/table/tbody/tr[2]/td[1]/a').text\n",
    "date2 = driver.find_element(By.XPATH, '/html/body/section[2]/div/div/div[2]/table/tbody/tr[2]/td[3]').text\n",
    "date2 = datetime.date(int(date2[0:4]), int(date2[5:7]), int(date2[8:10]))\n",
    "\n",
    "driver.get(url2)\n",
    "title3 = driver.find_element(By.XPATH, '/html/body/section[2]/div/div/div[2]/table/tbody/tr[3]/td[1]/a').text\n",
    "date3 = driver.find_element(By.XPATH, '/html/body/section[2]/div/div/div[2]/table/tbody/tr[3]/td[3]').text\n",
    "date3 = datetime.date(int(date3[0:4]), int(date3[5:7]), int(date3[8:10]))\n",
    "\n",
    "title4 = driver.find_element(By.XPATH, '/html/body/section[2]/div/div/div[2]/table/tbody/tr[4]/td[1]/a').text\n",
    "date4 = driver.find_element(By.XPATH, '/html/body/section[2]/div/div/div[2]/table/tbody/tr[4]/td[3]').text\n",
    "date4 = datetime.date(int(date4[0:4]), int(date4[5:7]), int(date4[8:10]))\n",
    "\n",
    "print([univ_nm, url2, datetime.datetime.now(), title1, date1, title2, date2, title3, date3, title4, date4])\n",
    "excel_sheet2.append([univ_nm, url2, datetime.datetime.now(), title1, date1, title2, date2, title3, date3, title4, date4])"
   ]
  },
  {
   "cell_type": "markdown",
   "id": "544297c3-16fb-403f-9d9b-5980237032ed",
   "metadata": {},
   "source": [
    "### 세명대"
   ]
  },
  {
   "cell_type": "code",
   "execution_count": 213,
   "id": "6573347e-7afb-431a-9a50-7db669902644",
   "metadata": {},
   "outputs": [
    {
     "name": "stdout",
     "output_type": "stream",
     "text": [
      "['세명대', 'https://ipsi.semyung.ac.kr/cop/bbs/BBSMSTR_000000000350/selectBoardList.do', datetime.datetime(2024, 3, 4, 17, 40, 43, 445979), '2025학년도 대학입학전형 시행계획', datetime.date(2023, 4, 27), '2024 신/편입생 장학금 지급 안내  ', datetime.date(2024, 3, 4), '2024 신입생 추가모집 합격자 발표마감 안내  ', datetime.date(2024, 2, 29), '2024 신입생 추가모집 합격자 발표 및 등록안내  ', datetime.date(2024, 2, 23)]\n"
     ]
    }
   ],
   "source": [
    "# @@ Selenium - dropbox / 공지 여부에 따라 경로 변경되므로 주의 (div, span)\n",
    "\n",
    "univ_nm = '세명대'\n",
    "url1 = 'https://ipsi.semyung.ac.kr/cop/bbs/BBSMSTR_000000000350/selectBoardList.do'\n",
    "url2 = 'https://ipsi.semyung.ac.kr/cop/bbs/BBSMSTR_000000000350/selectBoardList.do'\n",
    "\n",
    "driver.get(url1)\n",
    "title1 = driver.find_element(By.XPATH, '/html/body/div[2]/div[4]/div/article/div[1]/div/table/tbody/tr[1]/td[3]/div/span/a/b').text\n",
    "date1 = driver.find_element(By.XPATH, '/html/body/div[2]/div[4]/div/article/div[1]/div/table/tbody/tr[1]/td[5]/b').text\n",
    "date1 = datetime.date(int(date1[0:4]), int(date1[5:7]), int(date1[8:10]))\n",
    "\n",
    "title2 = driver.find_element(By.XPATH, '/html/body/div[2]/div[4]/div/article/div[1]/div/table/tbody/tr[2]/td[3]/div/div/a').text\n",
    "date2 = driver.find_element(By.XPATH, '/html/body/div[2]/div[4]/div/article/div[1]/div/table/tbody/tr[2]/td[5]').text\n",
    "date2 = datetime.date(int(date2[0:4]), int(date2[5:7]), int(date2[8:10]))\n",
    "\n",
    "driver.get(url2)\n",
    "select_box = Select(driver.find_element(By.XPATH, '/html/body/div[2]/div[4]/div/article/div[1]/div/div/div/form/fieldset/div/div[1]/select[1]'))\n",
    "select_box.select_by_value('정시')\n",
    "driver.find_element(By.XPATH, '/html/body/div[2]/div[4]/div/article/div[1]/div/div/div/form/fieldset/div/div[2]/input[2]').click()\n",
    "\n",
    "title3 = driver.find_element(By.XPATH, '/html/body/div[2]/div[4]/div/article/div[1]/div/table/tbody/tr[1]/td[3]/div/div/a').text\n",
    "date3 = driver.find_element(By.XPATH, '/html/body/div[2]/div[4]/div/article/div[1]/div/table/tbody/tr[1]/td[5]').text\n",
    "date3 = datetime.date(int(date3[0:4]), int(date3[5:7]), int(date3[8:10]))\n",
    "\n",
    "title4 = driver.find_element(By.XPATH, '/html/body/div[2]/div[4]/div/article/div[1]/div/table/tbody/tr[2]/td[3]/div/div/a').text\n",
    "date4 = driver.find_element(By.XPATH, '/html/body/div[2]/div[4]/div/article/div[1]/div/table/tbody/tr[2]/td[5]').text\n",
    "date4 = datetime.date(int(date4[0:4]), int(date4[5:7]), int(date4[8:10]))\n",
    "\n",
    "print([univ_nm, url2, datetime.datetime.now(), title1, date1, title2, date2, title3, date3, title4, date4])\n",
    "excel_sheet2.append([univ_nm, url2, datetime.datetime.now(), title1, date1, title2, date2, title3, date3, title4, date4])"
   ]
  },
  {
   "cell_type": "markdown",
   "id": "118b1cce-8fa4-4e4e-abf5-cf4cfcd80ec2",
   "metadata": {},
   "source": [
    "### 동신대"
   ]
  },
  {
   "cell_type": "code",
   "execution_count": 214,
   "id": "e16af792-dcf2-48ad-9edc-fc9ba2f8e20e",
   "metadata": {},
   "outputs": [
    {
     "name": "stdout",
     "output_type": "stream",
     "text": [
      "['동신대', 'https://ipsi.dsu.ac.kr/ipsi/index.php?pCode=notice&CgCode=J', datetime.datetime(2024, 3, 4, 17, 40, 48, 589226), '2024학년도 추가모집 1차 합격자 조회 및 등록금 납부 URL', datetime.date(2024, 2, 26), '2024학년도 신입학 추가모집 모집요강 안내', datetime.date(2024, 2, 21), '2024학년도 정시모집 충원합격 발표일정 안내', datetime.date(2024, 2, 7), '2024학년도 신입생(수시, 정시) 등록금 납부 안내', datetime.date(2024, 1, 29)]\n"
     ]
    }
   ],
   "source": [
    "univ_nm = '동신대'\n",
    "url1 = 'https://ipsi.dsu.ac.kr/ipsi/?pCode=notice&CgCode=N'\n",
    "url2 = 'https://ipsi.dsu.ac.kr/ipsi/index.php?pCode=notice&CgCode=J'\n",
    "\n",
    "driver.get(url1)\n",
    "soup1 = BeautifulSoup(driver.page_source, 'html.parser')\n",
    "title1 = soup1.find('td', 'f-tit subject').get_text().strip()\n",
    "date1 = soup1.find('td', 'f-date date').get_text().strip()\n",
    "date1 = datetime.date(int(date1[0:4]), int(date1[5:7]), int(date1[8:10]))\n",
    "\n",
    "title2 = soup1.find_all('td', 'f-tit subject')[1].get_text().strip()\n",
    "date2 = soup1.find_all('td', 'f-date date')[1].get_text().strip()\n",
    "date2 = datetime.date(int(date2[0:4]), int(date2[5:7]), int(date2[8:10]))\n",
    "\n",
    "driver.get(url2)\n",
    "soup2 = BeautifulSoup(driver.page_source, 'html.parser')\n",
    "title3 = soup2.find('td', 'f-tit subject').get_text().strip()\n",
    "date3 = soup2.find('td', 'f-date date').get_text().strip()\n",
    "date3 = datetime.date(int(date3[0:4]), int(date3[5:7]), int(date3[8:10]))\n",
    "\n",
    "title4 = soup2.find_all('td', 'f-tit subject')[1].get_text().strip()\n",
    "date4 = soup2.find_all('td', 'f-date date')[1].get_text().strip()\n",
    "date4 = datetime.date(int(date4[0:4]), int(date4[5:7]), int(date4[8:10]))\n",
    "\n",
    "print([univ_nm, url2, datetime.datetime.now(), title1, date1, title2, date2, title3, date3, title4, date4])\n",
    "excel_sheet2.append([univ_nm, url2, datetime.datetime.now(), title1, date1, title2, date2, title3, date3, title4, date4])"
   ]
  },
  {
   "cell_type": "markdown",
   "id": "7854b52c-138b-4721-86ac-57bd670d8d3d",
   "metadata": {},
   "source": [
    "### 인천대"
   ]
  },
  {
   "cell_type": "code",
   "execution_count": 215,
   "id": "119fcfa2-a11d-410b-9e38-84881947cef2",
   "metadata": {},
   "outputs": [
    {
     "name": "stdout",
     "output_type": "stream",
     "text": [
      "['인천대', 'https://admission.inu.ac.kr/submenu.do?menuurl=a28u1Dp%2fiMtKhNH8HevAkw%3d%3d&', datetime.datetime(2024, 3, 4, 17, 40, 49, 130155), '2025학년도 대학입학전형시행계획 안내 (2023.08.25. 개정 공표)', datetime.date(2023, 4, 28), '2024학년도 계약학과 신·편입학전형 합격자 발표 및 등록 안내', datetime.date(2024, 2, 7), '2024학년도 추가모집 등록금 납부증명서 및 합격증 조회', datetime.date(2024, 3, 4), '2024학년도 정시모집 등록금 납부증명서 및 합격증 조회', datetime.date(2024, 2, 22)]\n"
     ]
    }
   ],
   "source": [
    "univ_nm = '인천대'\n",
    "url1 = 'https://admission.inu.ac.kr/submenu.do?menuurl=qbbQ7Q9VDvDLfHUEghb13w%3d%3d&'\n",
    "url2 = 'https://admission.inu.ac.kr/submenu.do?menuurl=a28u1Dp%2fiMtKhNH8HevAkw%3d%3d&'\n",
    "\n",
    "driver.get(url1)\n",
    "title1 = driver.find_element(By.XPATH, '/html/body/div/div[3]/div/div[2]/div/div[2]/div[2]/div[2]/div[1]/a/span').text\n",
    "date1 = driver.find_element(By.XPATH, '/html/body/div/div[3]/div/div[2]/div/div[2]/div[2]/div[2]/div[1]/div[4]/span').text\n",
    "date1 = datetime.date(int(date1[0:4]), int(date1[5:7]), int(date1[8:10]))\n",
    "\n",
    "title2 =  driver.find_element(By.XPATH, '/html/body/div/div[3]/div/div[2]/div/div[2]/div[2]/div[2]/div[2]/a/span').text\n",
    "date2 = driver.find_element(By.XPATH, '/html/body/div/div[3]/div/div[2]/div/div[2]/div[2]/div[2]/div[2]/div[4]/span').text\n",
    "date2 = datetime.date(int(date2[0:4]), int(date2[5:7]), int(date2[8:10]))\n",
    "\n",
    "driver.get(url2)\n",
    "title3 =driver.find_element(By.XPATH, '/html/body/div/div[3]/div/div[2]/div/div[2]/div[2]/div[2]/div[1]/a/span').text\n",
    "date3 = driver.find_element(By.XPATH, '/html/body/div/div[3]/div/div[2]/div/div[2]/div[2]/div[2]/div[1]/div[4]/span').text\n",
    "date3 = datetime.date(int(date3[0:4]), int(date3[5:7]), int(date3[8:10]))\n",
    "\n",
    "title4 = driver.find_element(By.XPATH, '/html/body/div/div[3]/div/div[2]/div/div[2]/div[2]/div[2]/div[2]/a/span').text\n",
    "date4 = driver.find_element(By.XPATH, '/html/body/div/div[3]/div/div[2]/div/div[2]/div[2]/div[2]/div[2]/div[4]/span').text\n",
    "date4 = datetime.date(int(date4[0:4]), int(date4[5:7]), int(date4[8:10]))\n",
    "\n",
    "print([univ_nm, url2, datetime.datetime.now(), title1, date1, title2, date2, title3, date3, title4, date4])\n",
    "excel_sheet2.append([univ_nm, url2, datetime.datetime.now(), title1, date1, title2, date2, title3, date3, title4, date4])"
   ]
  },
  {
   "cell_type": "markdown",
   "id": "f16433c6-b06a-4ccc-b3bb-be52b3597014",
   "metadata": {},
   "source": [
    "### 경기대"
   ]
  },
  {
   "cell_type": "code",
   "execution_count": 216,
   "id": "1d17d279-5667-45c5-837f-5d56456a2aa3",
   "metadata": {},
   "outputs": [
    {
     "name": "stdout",
     "output_type": "stream",
     "text": [
      "['경기대', 'https://enter.kyonggi.ac.kr/cms/FR_CON/index.do?MENU_ID=210&CONTENTS_NO=6', datetime.datetime(2024, 3, 4, 17, 40, 50, 789587), '2025학년도 대학입학전형계획', datetime.date(2024, 1, 22), '2024학년도 신편입생 학번조회 및 수강신청 바로가기', datetime.date(2024, 2, 22), '2023학년도 정시모집 모집요강(수시 이월 인원 반영. 23.01.02기준)', datetime.date(2022, 12, 28), '2023학년도 정시모집 실기고사 수험생 유의사항 안내', datetime.date(2022, 12, 27)]\n"
     ]
    }
   ],
   "source": [
    "univ_nm = '경기대'\n",
    "url1 = 'https://enter.kyonggi.ac.kr/cms/FR_CON/index.do?MENU_ID=210'\n",
    "url2 = 'https://enter.kyonggi.ac.kr/cms/FR_CON/index.do?MENU_ID=210&CONTENTS_NO=6'\n",
    "\n",
    "driver.get(url1)\n",
    "title1 = WebDriverWait(driver, 5).until(\n",
    "    EC.visibility_of_element_located((By.XPATH, '/html/body/div[5]/div[2]/article/div[2]/div[2]/ul/li[1]/div[1]/a'))).text\n",
    "date1 = WebDriverWait(driver, 5).until(\n",
    "    EC.visibility_of_element_located((By.XPATH, '/html/body/div[5]/div[2]/article/div[2]/div[2]/ul/li[1]/div[3]/span[2]'))).text\n",
    "date1 = datetime.date(int(date1[0:4]), int(date1[5:7]), int(date1[8:10]))\n",
    "\n",
    "title2 =  driver.find_element(By.XPATH, '/html/body/div[5]/div[2]/article/div[2]/div[2]/ul/li[2]/div[1]/a').text\n",
    "date2 = driver.find_element(By.XPATH, '/html/body/div[5]/div[2]/article/div[2]/div[2]/ul/li[2]/div[3]/span[2]').text\n",
    "date2 = datetime.date(int(date2[0:4]), int(date2[5:7]), int(date2[8:10]))\n",
    "\n",
    "driver.get(url2)\n",
    "title3 = WebDriverWait(driver, 5).until(\n",
    "    EC.visibility_of_element_located((By.XPATH, '/html/body/div[5]/div[2]/article/div[2]/div[2]/ul/li[1]/div[1]/a'))).text\n",
    "date3 = WebDriverWait(driver, 5).until(\n",
    "    EC.visibility_of_element_located((By.XPATH, '/html/body/div[5]/div[2]/article/div[2]/div[2]/ul/li[1]/div[3]/span[2]'))).text\n",
    "date3 = datetime.date(int(date3[0:4]), int(date3[5:7]), int(date3[8:10]))\n",
    "\n",
    "title4 = driver.find_element(By.XPATH, '/html/body/div[5]/div[2]/article/div[2]/div[2]/ul/li[2]/div[1]/a').text\n",
    "date4 = driver.find_element(By.XPATH, '/html/body/div[5]/div[2]/article/div[2]/div[2]/ul/li[2]/div[3]/span[2]').text\n",
    "date4 = datetime.date(int(date4[0:4]), int(date4[5:7]), int(date4[8:10]))\n",
    "\n",
    "print([univ_nm, url2, datetime.datetime.now(), title1, date1, title2, date2, title3, date3, title4, date4])\n",
    "excel_sheet2.append([univ_nm, url2, datetime.datetime.now(), title1, date1, title2, date2, title3, date3, title4, date4])"
   ]
  },
  {
   "cell_type": "markdown",
   "id": "016c035c-cad6-416b-b97a-05a474da24c8",
   "metadata": {},
   "source": [
    "### 국립한국교통대"
   ]
  },
  {
   "cell_type": "code",
   "execution_count": 217,
   "id": "69799899-ca46-4c2e-bf1f-129638758c3e",
   "metadata": {},
   "outputs": [
    {
     "name": "stdout",
     "output_type": "stream",
     "text": [
      "['국립한국교통대', 'https://www.ut.ac.kr/cop/bbs/BBSMSTR_000000000661/selectBoardList.do?kind=%EC%A0%95%EC%8B%9C&mno=sub05_01_01_03', datetime.datetime(2024, 3, 4, 17, 40, 51, 915152), '2024학년도 신입생 추가모집 8차(최종) 충원합격자 공고', datetime.date(2024, 2, 29), '2024학년도 신입생 추가모집 7차 충원합격자 공고', datetime.date(2024, 2, 29), '2024학년도 신입생 추가모집 7차 충원합격자 공고', datetime.date(2024, 2, 29), '2024학년도 신입생 추가모집 7차 충원합격자 공고', datetime.date(2024, 2, 29)]\n"
     ]
    }
   ],
   "source": [
    "# @@ title 값이 'value'에 작성되어 있어 해당 값 가져오게 설정\n",
    "\n",
    "univ_nm = '국립한국교통대'\n",
    "url1 = 'https://www.ut.ac.kr/cop/bbs/BBSMSTR_000000000661/selectBoardList.do'\n",
    "url2 = 'https://www.ut.ac.kr/cop/bbs/BBSMSTR_000000000661/selectBoardList.do?kind=%EC%A0%95%EC%8B%9C&mno=sub05_01_01_03'\n",
    "\n",
    "driver.get(url1)\n",
    "title1 = driver.find_element(By.XPATH, '/html/body/div[2]/div[3]/div/article/div[2]/div/table/tbody/tr[1]/td[3]/div/div/form/input[8]').get_attribute('value')\n",
    "date1 = driver.find_element(By.XPATH, '/html/body/div[2]/div[3]/div/article/div[2]/div/table/tbody/tr[1]/td[5]').text\n",
    "date1 = datetime.date(int(date1[0:4]), int(date1[5:7]), int(date1[8:10]))\n",
    "\n",
    "title2 = driver.find_element(By.XPATH, '/html/body/div[2]/div[3]/div/article/div[2]/div/table/tbody/tr[2]/td[3]/div/div/form/input[8]').get_attribute('value')\n",
    "date2 = driver.find_element(By.XPATH, '/html/body/div[2]/div[3]/div/article/div[2]/div/table/tbody/tr[2]/td[5]').text\n",
    "date2 = datetime.date(int(date2[0:4]), int(date2[5:7]), int(date2[8:10]))\n",
    "\n",
    "driver.get(url2)\n",
    "title3 = driver.find_element(By.XPATH, '/html/body/div[2]/div[3]/div/article/div[2]/div/table/tbody/tr[2]/td[3]/div/div/form/input[8]').get_attribute('value')\n",
    "date3 = driver.find_element(By.XPATH, '/html/body/div[2]/div[3]/div/article/div[2]/div/table/tbody/tr[1]/td[5]').text\n",
    "date3 = datetime.date(int(date3[0:4]), int(date3[5:7]), int(date3[8:10]))\n",
    "\n",
    "title4 = driver.find_element(By.XPATH, '/html/body/div[2]/div[3]/div/article/div[2]/div/table/tbody/tr[2]/td[3]/div/div/form/input[8]').get_attribute('value')\n",
    "date4 = driver.find_element(By.XPATH, '/html/body/div[2]/div[3]/div/article/div[2]/div/table/tbody/tr[2]/td[5]').text\n",
    "date4 = datetime.date(int(date4[0:4]), int(date4[5:7]), int(date4[8:10]))\n",
    "\n",
    "print([univ_nm, url2, datetime.datetime.now(), title1, date1, title2, date2, title3, date3, title4, date4])\n",
    "excel_sheet2.append([univ_nm, url2, datetime.datetime.now(), title1, date1, title2, date2, title3, date3, title4, date4])"
   ]
  },
  {
   "cell_type": "markdown",
   "id": "14bab43f-a426-4577-8397-4ba29cf9c1b6",
   "metadata": {},
   "source": [
    "### 국립창원대"
   ]
  },
  {
   "cell_type": "code",
   "execution_count": 218,
   "id": "1568a1e0-5424-4958-a486-d36b13f695f8",
   "metadata": {},
   "outputs": [
    {
     "name": "stdout",
     "output_type": "stream",
     "text": [
      "['국립창원대', 'https://www.changwon.ac.kr/ipsi/na/ntt/selectNttList.do?mi=4252&bbsId=1624', datetime.datetime(2024, 3, 4, 17, 40, 54, 478923), '2024학년도 추가모집 합격자 등록금영수증 및 합격증 출력', datetime.date(2024, 2, 29), '2024학년도 수시모집 합격자 등록금영수증 및 합격증 출력', datetime.date(2024, 2, 23), '2024학년도 정시모집 합격자 등록금영수증 및 합격증 출력', datetime.date(2024, 2, 23), '2024학년도 정시모집 4차 충원합격자 조회', datetime.date(2024, 2, 19)]\n"
     ]
    }
   ],
   "source": [
    "# @@ 동적페이지(정시 공지사항) 이용으로 XPATH 사용\n",
    "# <yyyy.m.d> 형식이라 확인 필요\n",
    "\n",
    "univ_nm = '국립창원대'\n",
    "url1 = 'https://www.changwon.ac.kr/ipsi/na/ntt/selectNttList.do?mi=4252&bbsId=1624'\n",
    "url2 = 'https://www.changwon.ac.kr/ipsi/na/ntt/selectNttList.do?mi=4252&bbsId=1624'\n",
    "\n",
    "driver.get(url1)\n",
    "soup1 = BeautifulSoup(driver.page_source, 'html.parser')\n",
    "title1 = driver.find_element(By.XPATH, '/html/body/div[2]/div[4]/div/div/div[2]/div/div[4]/table/tbody/tr[1]/td[3]/a').text\n",
    "date1 = driver.find_element(By.XPATH, '/html/body/div[2]/div[4]/div/div/div[2]/div/div[4]/table/tbody/tr[1]/td[5]').text\n",
    "date1 = datetime.date(int(date1[0:4]), int(date1[5:7]), int(date1[8:]))\n",
    "\n",
    "title2 = driver.find_element(By.XPATH, '/html/body/div[2]/div[4]/div/div/div[2]/div/div[4]/table/tbody/tr[2]/td[3]/a').text\n",
    "date2 = driver.find_element(By.XPATH, '/html/body/div[2]/div[4]/div/div/div[2]/div/div[4]/table/tbody/tr[2]/td[5]').text\n",
    "date2 = datetime.date(int(date2[0:4]), int(date2[5:7]), int(date2[8:]))\n",
    "\n",
    "driver.get(url2)\n",
    "driver.find_element(By.XPATH, '/html/body/div[2]/div[4]/div/div/div[2]/div/div[2]/ul/li[3]/a').click()\n",
    "title3 = driver.find_element(By.XPATH, '/html/body/div[2]/div[4]/div/div/div[2]/div/div[4]/table/tbody/tr[1]/td[3]/a').text\n",
    "date3 = driver.find_element(By.XPATH, '/html/body/div[2]/div[4]/div/div/div[2]/div/div[4]/table/tbody/tr[1]/td[5]').text\n",
    "date3 = datetime.date(int(date3[0:4]), int(date3[5:7]), int(date3[8:]))\n",
    "\n",
    "title4 = driver.find_element(By.XPATH, '/html/body/div[2]/div[4]/div/div/div[2]/div/div[4]/table/tbody/tr[2]/td[3]/a').text\n",
    "date4 = driver.find_element(By.XPATH, '/html/body/div[2]/div[4]/div/div/div[2]/div/div[4]/table/tbody/tr[2]/td[5]').text\n",
    "date4 = datetime.date(int(date4[0:4]), int(date4[5:7]), int(date4[8:]))\n",
    "\n",
    "print([univ_nm, url2, datetime.datetime.now(), title1, date1, title2, date2, title3, date3, title4, date4])\n",
    "excel_sheet2.append([univ_nm, url2, datetime.datetime.now(), title1, date1, title2, date2, title3, date3, title4, date4])"
   ]
  },
  {
   "cell_type": "markdown",
   "id": "fbee6b25-63f3-4ad8-b511-bd50ffe7532e",
   "metadata": {},
   "source": [
    "### 국립한밭대"
   ]
  },
  {
   "cell_type": "code",
   "execution_count": 219,
   "id": "695c9d2b-1ec9-4e59-bb15-3996fc6c3410",
   "metadata": {},
   "outputs": [
    {
     "name": "stdout",
     "output_type": "stream",
     "text": [
      "['국립창원대', 'https://www.hanbat.ac.kr/bbs/BBSMSTR_000000000138/list.do?mno=sub02_03&kind=notice2', datetime.datetime(2024, 3, 4, 17, 40, 56, 333219), '2024학년도 편입학 전형 1차 충원합격자 안내', datetime.date(2024, 2, 13), '2024학년도 추가모집 2차 충원합격자 등록 안내(2024. 2. 29.(목) 개별안내 시점까지)', datetime.date(2024, 2, 29), '2024학년도 2차 추가모집 합격자 등록 안내(2024. 2. 29.(목) 11시 ~15시)', datetime.date(2024, 2, 29), '2024학년도 추가모집 1차 충원합격자 등록 안내(2024. 2. 28.(수) 18시까지)', datetime.date(2024, 2, 28)]\n"
     ]
    }
   ],
   "source": [
    "univ_nm = '국립창원대'\n",
    "url1 = 'https://www.hanbat.ac.kr/bbs/BBSMSTR_000000000138/list.do?mno=sub05_02'\n",
    "url2 = 'https://www.hanbat.ac.kr/bbs/BBSMSTR_000000000138/list.do?mno=sub02_03&kind=notice2'\n",
    "\n",
    "driver.get(url1)\n",
    "soup1 = BeautifulSoup(driver.page_source, 'html.parser')\n",
    "title1 = driver.find_element(By.XPATH, '/html/body/div[3]/div/div/div[2]/div/div[1]/table/tbody/tr[1]/td[3]/a').text\n",
    "date1 = driver.find_element(By.XPATH, '/html/body/div[3]/div/div/div[2]/div/div[1]/table/tbody/tr[1]/td[6]').text\n",
    "date1 = datetime.date(int(date1[0:4]), int(date1[5:7]), int(date1[8:]))\n",
    "\n",
    "title2 = driver.find_element(By.XPATH, '/html/body/div[3]/div/div/div[2]/div/div[1]/table/tbody/tr[2]/td[3]/a').text\n",
    "date2 = driver.find_element(By.XPATH, '/html/body/div[3]/div/div/div[2]/div/div[1]/table/tbody/tr[2]/td[6]').text\n",
    "date2 = datetime.date(int(date2[0:4]), int(date2[5:7]), int(date2[8:]))\n",
    "\n",
    "driver.get(url2)\n",
    "title3 = driver.find_element(By.XPATH, '/html/body/div[3]/div/div/div[2]/div/div[1]/table/tbody/tr[3]/td[3]/a').text\n",
    "date3 = driver.find_element(By.XPATH, '/html/body/div[3]/div/div/div[2]/div/div[1]/table/tbody/tr[3]/td[6]').text\n",
    "date3 = datetime.date(int(date3[0:4]), int(date3[5:7]), int(date3[8:]))\n",
    "\n",
    "title4 = driver.find_element(By.XPATH, '/html/body/div[3]/div/div/div[2]/div/div[1]/table/tbody/tr[4]/td[3]/a').text\n",
    "date4 = driver.find_element(By.XPATH, '/html/body/div[3]/div/div/div[2]/div/div[1]/table/tbody/tr[4]/td[6]').text\n",
    "date4 = datetime.date(int(date4[0:4]), int(date4[5:7]), int(date4[8:]))\n",
    "\n",
    "print([univ_nm, url2, datetime.datetime.now(), title1, date1, title2, date2, title3, date3, title4, date4])\n",
    "excel_sheet2.append([univ_nm, url2, datetime.datetime.now(), title1, date1, title2, date2, title3, date3, title4, date4])"
   ]
  },
  {
   "cell_type": "markdown",
   "id": "1128478e-36d2-474e-a939-1482e07c77bb",
   "metadata": {},
   "source": [
    "### 한경국립대"
   ]
  },
  {
   "cell_type": "code",
   "execution_count": 220,
   "id": "a469ea06-700a-425a-818d-c7ee18747f2b",
   "metadata": {},
   "outputs": [
    {
     "name": "stdout",
     "output_type": "stream",
     "text": [
      "['한경국립대', 'https://ipsi.hknu.ac.kr/help/notice_list.php?m_type=JEONGSI', datetime.datetime(2024, 3, 4, 17, 41, 8, 402319), '2024학년도 신입학 6차 추가모집 합격자 발표 종료', datetime.date(2024, 2, 29), '2024학년도 신입학 5차 추가모집 합격자 발표 종료', datetime.date(2024, 2, 28), '2024학년도 정시모집 추가합격자 발표 예비순위(최종)', datetime.date(2024, 2, 20), '2024학년도 대학입학전형 정시 모집요강 수정사항(평택캠퍼스 실기/실적위주(음악특기자) 전형)', datetime.date(2023, 11, 17)]\n"
     ]
    }
   ],
   "source": [
    "univ_nm = '한경국립대'\n",
    "url1 = 'https://ipsi.hknu.ac.kr/help/notice_list.php'\n",
    "url2 = 'https://ipsi.hknu.ac.kr/help/notice_list.php?m_type=JEONGSI'\n",
    "\n",
    "driver.get(url1)\n",
    "soup1 = BeautifulSoup(driver.page_source, 'html.parser')\n",
    "title1 = soup1.find('span', 'ellipsis').get_text().strip()\n",
    "date1 = soup1.find('div', 'item__date').get_text().strip()\n",
    "date1 = datetime.date(int(date1[0:4]), int(date1[5:7]), int(date1[8:]))\n",
    "\n",
    "title2 = soup1.find_all('span', 'ellipsis')[1].get_text().strip()\n",
    "date2 = soup1.find_all('div', 'item__date')[1].get_text().strip()\n",
    "date2 = datetime.date(int(date2[0:4]), int(date2[5:7]), int(date2[8:]))\n",
    "\n",
    "driver.get(url2)\n",
    "soup2 = BeautifulSoup(driver.page_source, 'html.parser')\n",
    "title3 = soup2.find('span', 'ellipsis').get_text().strip()\n",
    "date3 = soup2.find('div', 'item__date').get_text().strip()\n",
    "date3 = datetime.date(int(date3[0:4]), int(date3[5:7]), int(date3[8:]))\n",
    "\n",
    "title4 = soup2.find_all('span', 'ellipsis')[1].get_text().strip()\n",
    "date4 = soup2.find_all('div', 'item__date')[1].get_text().strip()\n",
    "date4 = datetime.date(int(date4[0:4]), int(date4[5:7]), int(date4[8:]))\n",
    "\n",
    "print([univ_nm, url2, datetime.datetime.now(), title1, date1, title2, date2, title3, date3, title4, date4])\n",
    "excel_sheet2.append([univ_nm, url2, datetime.datetime.now(), title1, date1, title2, date2, title3, date3, title4, date4])"
   ]
  },
  {
   "cell_type": "markdown",
   "id": "49443485-b735-4d38-9d97-820e65a36721",
   "metadata": {},
   "source": [
    "### 국립목포해양대"
   ]
  },
  {
   "cell_type": "code",
   "execution_count": 221,
   "id": "dcd3b1a6-a0d9-446b-9bd0-3436af8fa00d",
   "metadata": {},
   "outputs": [
    {
     "name": "stdout",
     "output_type": "stream",
     "text": [
      "['국립목포해양대', 'https://www.mmu.ac.kr/admission/board/245', datetime.datetime(2024, 3, 4, 17, 41, 10, 549787), '2024학년도 2차 추가모집요강 공고(2차 수정)', datetime.date(2024, 2, 28), '2024학년도 추가모집 합격자 발표 및 등록 일정 안내', datetime.date(2024, 2, 27), '신입생 수강 신청 및 공대기숙사 신청 방법 안내', datetime.date(2024, 2, 22), '2024학년도 추가모집요강 공고(4차 수정)', datetime.date(2024, 2, 22)]\n"
     ]
    }
   ],
   "source": [
    "univ_nm = '국립목포해양대'\n",
    "url1 = 'https://www.mmu.ac.kr/admission/board/245'\n",
    "url2 = 'https://www.mmu.ac.kr/admission/board/245'\n",
    "\n",
    "driver.get(url1)\n",
    "soup1 = BeautifulSoup(driver.page_source, 'html.parser')\n",
    "title1 = soup1.find_all('td', 'title tal')[1].get_text().strip()\n",
    "date1 = soup1.find_all('td', 'date')[1].get_text().strip()\n",
    "date1 = datetime.date(int(date1[0:4]), int(date1[5:7]), int(date1[8:]))\n",
    "\n",
    "title2 = soup1.find_all('td', 'title tal')[2].get_text().strip()\n",
    "date2 = soup1.find_all('td', 'date')[2].get_text().strip()\n",
    "date2 = datetime.date(int(date2[0:4]), int(date2[5:7]), int(date2[8:]))\n",
    "\n",
    "driver.get(url2)\n",
    "soup2 = BeautifulSoup(driver.page_source, 'html.parser')\n",
    "title3 = soup2.find_all('td', 'title tal')[3].get_text().strip()\n",
    "date3 = soup2.find_all('td', 'date')[3].get_text().strip()\n",
    "date3 = datetime.date(int(date3[0:4]), int(date3[5:7]), int(date3[8:]))\n",
    "\n",
    "title4 = soup2.find_all('td', 'title tal')[4].get_text().strip()\n",
    "date4 = soup2.find_all('td', 'date')[4].get_text().strip()\n",
    "date4 = datetime.date(int(date4[0:4]), int(date4[5:7]), int(date4[8:]))\n",
    "\n",
    "print([univ_nm, url2, datetime.datetime.now(), title1, date1, title2, date2, title3, date3, title4, date4])\n",
    "excel_sheet2.append([univ_nm, url2, datetime.datetime.now(), title1, date1, title2, date2, title3, date3, title4, date4])"
   ]
  },
  {
   "cell_type": "markdown",
   "id": "24743836-8045-4c6e-ba80-eb7c0ec9037e",
   "metadata": {},
   "source": [
    "### 국립안동대"
   ]
  },
  {
   "cell_type": "code",
   "execution_count": 222,
   "id": "a8c5929e-dc94-4878-9e52-d732ea104301",
   "metadata": {},
   "outputs": [
    {
     "name": "stdout",
     "output_type": "stream",
     "text": [
      "['국립안동대', 'https://ipsi.andong.ac.kr/new/admission/sub.htm?view_cate=%EC%A0%95%EC%8B%9C%EB%AA%A8%EC%A7%91&nav_code=and1537179706', datetime.datetime(2024, 3, 4, 17, 41, 12, 8038), '2024학년도 신입생 추가모집 요강 안내', datetime.date(2024, 2, 22), '2024 정시 생활관 합격자조회 및 생활관비 납부방법 안내', datetime.date(2024, 2, 19), '2024 정시 생활관 합격자조회 및 생활관비 납부방법 안내', datetime.date(2024, 2, 19), '2024학년도 신입생 장학 안내', datetime.date(2024, 2, 1)]\n"
     ]
    }
   ],
   "source": [
    "univ_nm = '국립안동대'\n",
    "url1 = 'https://ipsi.andong.ac.kr/new/admission/sub.htm?nav_code=and1537179706'\n",
    "url2 = 'https://ipsi.andong.ac.kr/new/admission/sub.htm?view_cate=%EC%A0%95%EC%8B%9C%EB%AA%A8%EC%A7%91&nav_code=and1537179706'\n",
    "\n",
    "driver.get(url1)\n",
    "title1 = driver.find_element(By.XPATH, '/html/body/div[1]/div[3]/div/div[2]/div[2]/div[4]/table/tbody/tr[1]/td[2]/a').text\n",
    "date1 = driver.find_element(By.XPATH, '/html/body/div[1]/div[3]/div/div[2]/div[2]/div[4]/table/tbody/tr[1]/td[5]').text\n",
    "date1 = datetime.date(int(date1[0:4]), int(date1[5:7]), int(date1[8:]))\n",
    "\n",
    "title2 = driver.find_element(By.XPATH, '/html/body/div[1]/div[3]/div/div[2]/div[2]/div[4]/table/tbody/tr[2]/td[2]/a').text\n",
    "date2 = driver.find_element(By.XPATH, '/html/body/div[1]/div[3]/div/div[2]/div[2]/div[4]/table/tbody/tr[2]/td[5]').text\n",
    "date2 = datetime.date(int(date2[0:4]), int(date2[5:7]), int(date2[8:]))\n",
    "\n",
    "driver.get(url2)\n",
    "title3 = driver.find_element(By.XPATH, '/html/body/div[1]/div[3]/div/div[2]/div[2]/div[4]/table/tbody/tr[1]/td[2]/a').text\n",
    "date3 = driver.find_element(By.XPATH, '/html/body/div[1]/div[3]/div/div[2]/div[2]/div[4]/table/tbody/tr[1]/td[5]').text\n",
    "date3 = datetime.date(int(date3[0:4]), int(date3[5:7]), int(date3[8:]))\n",
    "\n",
    "title4 = driver.find_element(By.XPATH, '/html/body/div[1]/div[3]/div/div[2]/div[2]/div[4]/table/tbody/tr[2]/td[2]/a').text\n",
    "date4 = driver.find_element(By.XPATH, '/html/body/div[1]/div[3]/div/div[2]/div[2]/div[4]/table/tbody/tr[2]/td[5]').text\n",
    "date4 = datetime.date(int(date4[0:4]), int(date4[5:7]), int(date4[8:]))\n",
    "\n",
    "print([univ_nm, url2, datetime.datetime.now(), title1, date1, title2, date2, title3, date3, title4, date4])\n",
    "excel_sheet2.append([univ_nm, url2, datetime.datetime.now(), title1, date1, title2, date2, title3, date3, title4, date4])"
   ]
  },
  {
   "cell_type": "markdown",
   "id": "a8318729-594d-47fe-a374-737630346f44",
   "metadata": {},
   "source": [
    "### 한국항공대"
   ]
  },
  {
   "cell_type": "code",
   "execution_count": 223,
   "id": "dfcc2d7f-8001-4b59-8ad6-24c8cbd056fb",
   "metadata": {},
   "outputs": [
    {
     "name": "stdout",
     "output_type": "stream",
     "text": [
      "['한국항공대', 'http://ibhak.kau.ac.kr/admission/html/guide/notice.asp?s_board_category=BBS0402', datetime.datetime(2024, 3, 4, 17, 41, 12, 963371), '2024학년도 수시/정시/편입학 장학생(등록금 전액면제) 등록 및 환불방법 안내', datetime.date(2024, 2, 7), '2024학년도 항공운항학과 신체검사 안내', datetime.date(2023, 3, 17), '2024학년도 추가모집 최종 등록 확인', datetime.date(2024, 2, 29), '2024학년도 추가모집 합격자 발표', datetime.date(2024, 2, 27)]\n"
     ]
    }
   ],
   "source": [
    "univ_nm = '한국항공대'\n",
    "url1 = 'http://ibhak.kau.ac.kr/admission/html/guide/notice.asp'\n",
    "url2 = 'http://ibhak.kau.ac.kr/admission/html/guide/notice.asp?s_board_category=BBS0402'\n",
    "\n",
    "driver.get(url1)\n",
    "title1 = driver.find_element(By.XPATH, '/html/body/section/main/div/div/section[1]/div[2]/table/tbody/tr[1]/td[2]/a/span[2]').text\n",
    "date1 = driver.find_element(By.XPATH, '/html/body/section/main/div/div/section[1]/div[2]/table/tbody/tr[1]/td[3]').text\n",
    "date1 = datetime.date(int(date1[0:4]), int(date1[5:7]), int(date1[8:]))\n",
    "\n",
    "title2 = driver.find_element(By.XPATH, '/html/body/section/main/div/div/section[1]/div[2]/table/tbody/tr[2]/td[2]/a/span[2]').text\n",
    "date2 = driver.find_element(By.XPATH, '/html/body/section/main/div/div/section[1]/div[2]/table/tbody/tr[2]/td[3]').text\n",
    "date2 = datetime.date(int(date2[0:4]), int(date2[5:7]), int(date2[8:]))\n",
    "\n",
    "driver.get(url2)\n",
    "title3 = driver.find_element(By.XPATH, '/html/body/section/main/div/div/section[1]/div[2]/table/tbody/tr[1]/td[2]/a/span[2]').text\n",
    "date3 = driver.find_element(By.XPATH, '/html/body/section/main/div/div/section[1]/div[2]/table/tbody/tr[1]/td[3]').text\n",
    "date3 = datetime.date(int(date3[0:4]), int(date3[5:7]), int(date3[8:]))\n",
    "\n",
    "title4 = driver.find_element(By.XPATH, '/html/body/section/main/div/div/section[1]/div[2]/table/tbody/tr[2]/td[2]/a/span[2]').text\n",
    "date4 = driver.find_element(By.XPATH, '/html/body/section/main/div/div/section[1]/div[2]/table/tbody/tr[2]/td[3]').text\n",
    "date4 = datetime.date(int(date4[0:4]), int(date4[5:7]), int(date4[8:]))\n",
    "\n",
    "print([univ_nm, url2, datetime.datetime.now(), title1, date1, title2, date2, title3, date3, title4, date4])\n",
    "excel_sheet2.append([univ_nm, url2, datetime.datetime.now(), title1, date1, title2, date2, title3, date3, title4, date4])"
   ]
  },
  {
   "cell_type": "markdown",
   "id": "ad2c864c-a433-40fc-ae59-344abb7b04a7",
   "metadata": {},
   "source": [
    "### 인천가톨릭대"
   ]
  },
  {
   "cell_type": "code",
   "execution_count": 224,
   "id": "e101b553-b9b9-43e7-bcaa-0b7c1a39fe2c",
   "metadata": {},
   "outputs": [
    {
     "name": "stdout",
     "output_type": "stream",
     "text": [
      "['인천가톨릭대', 'https://admission.iccu.ac.kr/bbs/board.php?bo_table=notice&sca=%EC%A0%95%EC%8B%9C%EB%AA%A8%EC%A7%91', datetime.datetime(2024, 3, 4, 17, 41, 14, 218497), '[신입학 추가모집] 2024학년도 신입학 3차 추가모집 …', datetime.date(2024, 2, 29), '[신입학 2차 추가모집] 2024학년도 신입학 2차 추가모…', datetime.date(2024, 2, 23), '[신입학 추가모집] 2024학년도 신입학 추가모집 안내', datetime.date(2024, 2, 22), '2024학년도 정시 모집인원 변경 안내', datetime.date(2024, 1, 2)]\n"
     ]
    }
   ],
   "source": [
    "univ_nm = '인천가톨릭대'\n",
    "url1 = 'https://admission.iccu.ac.kr/bbs/board.php?bo_table=notice'\n",
    "url2 = 'https://admission.iccu.ac.kr/bbs/board.php?bo_table=notice&sca=%EC%A0%95%EC%8B%9C%EB%AA%A8%EC%A7%91'\n",
    "\n",
    "driver.get(url1)\n",
    "title1 = driver.find_element(By.XPATH, '/html/body/div[1]/div/div[3]/div[2]/div/div[1]/div[3]/table/tbody/tr/td/form[1]/table/tbody/tr[4]/td[3]/nobr/a/span').text\n",
    "date1 = driver.find_element(By.XPATH, '/html/body/div[1]/div/div[3]/div[2]/div/div[1]/div[3]/table/tbody/tr/td/form[1]/table/tbody/tr[4]/td[5]/span').text\n",
    "date1 = datetime.date(int(date1[0:4]), int(date1[5:7]), int(date1[8:]))\n",
    "\n",
    "title2 = driver.find_element(By.XPATH, '/html/body/div[1]/div/div[3]/div[2]/div/div[1]/div[3]/table/tbody/tr/td/form[1]/table/tbody/tr[6]/td[3]/nobr/a/span').text\n",
    "date2 = driver.find_element(By.XPATH, '/html/body/div[1]/div/div[3]/div[2]/div/div[1]/div[3]/table/tbody/tr/td/form[1]/table/tbody/tr[6]/td[5]/span').text\n",
    "date2 = datetime.date(int(date2[0:4]), int(date2[5:7]), int(date2[8:]))\n",
    "\n",
    "driver.get(url2)\n",
    "title3 = driver.find_element(By.XPATH, '/html/body/div[1]/div/div[3]/div[2]/div/div[1]/div[3]/table/tbody/tr/td/form[1]/table/tbody/tr[4]/td[3]/nobr/a/span').text\n",
    "date3 = driver.find_element(By.XPATH, '/html/body/div[1]/div/div[3]/div[2]/div/div[1]/div[3]/table/tbody/tr/td/form[1]/table/tbody/tr[4]/td[5]/span').text\n",
    "date3 = datetime.date(int(date3[0:4]), int(date3[5:7]), int(date3[8:]))\n",
    "\n",
    "title4 = driver.find_element(By.XPATH, '/html/body/div[1]/div/div[3]/div[2]/div/div[1]/div[3]/table/tbody/tr/td/form[1]/table/tbody/tr[6]/td[3]/nobr/a/span').text\n",
    "date4 = driver.find_element(By.XPATH, '/html/body/div[1]/div/div[3]/div[2]/div/div[1]/div[3]/table/tbody/tr/td/form[1]/table/tbody/tr[6]/td[5]/span').text\n",
    "date4 = datetime.date(int(date4[0:4]), int(date4[5:7]), int(date4[8:]))\n",
    "\n",
    "print([univ_nm, url2, datetime.datetime.now(), title1, date1, title2, date2, title3, date3, title4, date4])\n",
    "excel_sheet2.append([univ_nm, url2, datetime.datetime.now(), title1, date1, title2, date2, title3, date3, title4, date4])"
   ]
  },
  {
   "cell_type": "markdown",
   "id": "214b5a7a-b256-4ea3-a0e6-cb7c686df45f",
   "metadata": {},
   "source": [
    "### 총신대"
   ]
  },
  {
   "cell_type": "code",
   "execution_count": 225,
   "id": "44f5f960-b80c-4ece-978f-b121055702be",
   "metadata": {},
   "outputs": [
    {
     "name": "stdout",
     "output_type": "stream",
     "text": [
      "['총신대', 'https://admission.csu.ac.kr/?m1=page&menu_id=552', datetime.datetime(2024, 3, 4, 17, 41, 16, 416028), '2024학년도 대학 입학식 및 개강예배 안내', datetime.date(2024, 2, 29), '2024학년도 대학 신(편)입생 학번 조회 방법 안내', datetime.date(2024, 2, 22), '2024학년도 1학기 대학 수강편람 안내', datetime.date(2024, 2, 28), '2024학년도 1학기 수강신청 일정 안내', datetime.date(2024, 2, 28)]\n"
     ]
    }
   ],
   "source": [
    "univ_nm = '총신대'\n",
    "url1 = 'https://admission.csu.ac.kr/?m1=page&menu_id=552'\n",
    "url2 = 'https://admission.csu.ac.kr/?m1=page&menu_id=552'\n",
    "\n",
    "driver.get(url1)\n",
    "driver.get(url1)\n",
    "title1 = WebDriverWait(driver, 5).until(\n",
    "    EC.visibility_of_element_located((By.XPATH, '/html/body/div[2]/div[3]/div/div/div[3]/div[4]/div/table/tbody/tr[1]/td[2]'))).text\n",
    "date1 = WebDriverWait(driver, 5).until(\n",
    "    EC.visibility_of_element_located((By.XPATH, '/html/body/div[2]/div[3]/div/div/div[3]/div[4]/div/table/tbody/tr[1]/td[4]'))).text\n",
    "date1 = datetime.date(int(date1[0:4]), int(date1[5:7]), int(date1[8:]))\n",
    "\n",
    "title2 = WebDriverWait(driver, 5).until(\n",
    "    EC.visibility_of_element_located((By.XPATH, '/html/body/div[2]/div[3]/div/div/div[3]/div[4]/div/table/tbody/tr[2]/td[2]'))).text\n",
    "date2 = WebDriverWait(driver, 5).until(\n",
    "    EC.visibility_of_element_located((By.XPATH, '/html/body/div[2]/div[3]/div/div/div[3]/div[4]/div/table/tbody/tr[2]/td[4]'))).text\n",
    "date2 = datetime.date(int(date2[0:4]), int(date2[5:7]), int(date2[8:]))\n",
    "\n",
    "driver.get(url2)\n",
    "title3 = WebDriverWait(driver, 5).until(\n",
    "    EC.visibility_of_element_located((By.XPATH, '/html/body/div[2]/div[3]/div/div/div[3]/div[4]/div/table/tbody/tr[3]/td[2]'))).text\n",
    "date3 = WebDriverWait(driver, 5).until(\n",
    "    EC.visibility_of_element_located((By.XPATH, '/html/body/div[2]/div[3]/div/div/div[3]/div[4]/div/table/tbody/tr[3]/td[4]'))).text\n",
    "date3 = datetime.date(int(date3[0:4]), int(date3[5:7]), int(date3[8:]))\n",
    "\n",
    "title4 = WebDriverWait(driver, 5).until(\n",
    "    EC.visibility_of_element_located((By.XPATH, '/html/body/div[2]/div[3]/div/div/div[3]/div[4]/div/table/tbody/tr[4]/td[2]'))).text\n",
    "date4 = WebDriverWait(driver, 5).until(\n",
    "    EC.visibility_of_element_located((By.XPATH, '/html/body/div[2]/div[3]/div/div/div[3]/div[4]/div/table/tbody/tr[4]/td[4]'))).text\n",
    "date4 = datetime.date(int(date4[0:4]), int(date4[5:7]), int(date4[8:]))\n",
    "\n",
    "print([univ_nm, url2, datetime.datetime.now(), title1, date1, title2, date2, title3, date3, title4, date4])\n",
    "excel_sheet2.append([univ_nm, url2, datetime.datetime.now(), title1, date1, title2, date2, title3, date3, title4, date4])"
   ]
  },
  {
   "cell_type": "markdown",
   "id": "0644eab6-9830-4176-9fe1-6d009213c38b",
   "metadata": {},
   "source": [
    "### 신한대"
   ]
  },
  {
   "cell_type": "code",
   "execution_count": 227,
   "id": "5a8504b9-cf2b-4893-8bf0-c65dba0cf915",
   "metadata": {},
   "outputs": [
    {
     "name": "stdout",
     "output_type": "stream",
     "text": [
      "['신한대', 'https://ipsi.shinhan.ac.kr/sub/bbs/testnote.do?bbsId=BBSMSTR_000000000000&cateId=2&relateImagePath=svis_2', datetime.datetime(2024, 3, 4, 17, 41, 53, 662325), '[한국장학재단] 2024학년도 1학기 신·편입생군 학자금대출 신청 안내사항', datetime.date(2024, 1, 10), '2024학년도 추가모집(3차) 원서접수 안내', datetime.date(2024, 2, 29), '[한국장학재단] 2024학년도 1학기 신·편입생군 학자금대출 신청 안내사항', datetime.date(2024, 1, 10), '', '']\n"
     ]
    }
   ],
   "source": [
    "# @@ title4, date4 주석처리\n",
    "\n",
    "univ_nm = '신한대'\n",
    "url1 = 'https://ipsi.shinhan.ac.kr/sub/bbs/testnote.do?bbsId=BBSMSTR_000000000000&cateId=0&relateImagePath=svis_5'\n",
    "url2 = 'https://ipsi.shinhan.ac.kr/sub/bbs/testnote.do?bbsId=BBSMSTR_000000000000&cateId=2&relateImagePath=svis_2'\n",
    "\n",
    "driver.get(url1)\n",
    "soup1 = BeautifulSoup(driver.page_source, 'html.parser')\n",
    "title1 = soup1.find('span', 'link').get_text().strip()\n",
    "date1 = soup1.find('ul', 'tb_list').get_text().strip()[8:18]\n",
    "date1 = datetime.date(int(date1[0:4]), int(date1[5:7]), int(date1[8:]))\n",
    "\n",
    "title2 = soup1.find_all('span', 'link')[1].get_text().strip()\n",
    "date2 = soup1.find_all('ul', 'tb_list')[1].get_text().strip()[8:18]\n",
    "date2 = datetime.date(int(date2[0:4]), int(date2[5:7]), int(date2[8:]))\n",
    "\n",
    "driver.get(url2)\n",
    "soup2 = BeautifulSoup(driver.page_source, 'html.parser')\n",
    "title3 = soup2.find('span', 'link').get_text().strip()\n",
    "date3 = soup2.find('ul', 'tb_list').get_text().strip()[8:18]\n",
    "date3 = datetime.date(int(date3[0:4]), int(date3[5:7]), int(date3[8:]))\n",
    "\n",
    "#title4 = soup2.find_all('span', 'link')[1].get_text().strip()\n",
    "#date4 = soup2.find_all('ul', 'tb_list')[1].get_text().strip()[8:18]\n",
    "#date4 = datetime.date(int(date4[0:4]), int(date4[5:7]), int(date4[8:]))\n",
    "title4 = ''\n",
    "date4 = ''\n",
    "\n",
    "print([univ_nm, url2, datetime.datetime.now(), title1, date1, title2, date2, title3, date3, title4, date4])\n",
    "excel_sheet2.append([univ_nm, url2, datetime.datetime.now(), title1, date1, title2, date2, title3, date3, title4, date4])"
   ]
  },
  {
   "cell_type": "markdown",
   "id": "ada95e2c-a983-41f0-a7f4-fa0dcf331fdf",
   "metadata": {},
   "source": [
    "### 한국기술교대"
   ]
  },
  {
   "cell_type": "code",
   "execution_count": 228,
   "id": "a0758e00-db94-414c-bcff-8c5ac38f4345",
   "metadata": {},
   "outputs": [
    {
     "name": "stdout",
     "output_type": "stream",
     "text": [
      "['한국기술교대', 'https://ipsi.koreatech.ac.kr/board.es?mid=a40601000000&bid=0036&cg_code=0300000000', datetime.datetime(2024, 3, 4, 17, 41, 59, 162631), '2024학년도 추가모집요강 공지(공학 1명)', datetime.date(2024, 2, 22), '2024학년도 편입학 예정자(최종등록생) 안내자료 공지', datetime.date(2024, 2, 20), '2024학년도 추가모집요강 공지(공학 1명)', datetime.date(2024, 2, 22), '2024학년도 편입학 예정자(최종등록생) 안내자료 공지', datetime.date(2024, 2, 20)]\n"
     ]
    }
   ],
   "source": [
    "univ_nm = '한국기술교대'\n",
    "url1 = 'https://ipsi.koreatech.ac.kr/board.es?mid=a40601000000&bid=0036'\n",
    "url2 = 'https://ipsi.koreatech.ac.kr/board.es?mid=a40601000000&bid=0036&cg_code=0300000000'\n",
    "\n",
    "driver.get(url1)\n",
    "title1 = driver.find_element(By.XPATH, '/html/body/div[3]/main/div/div/section[2]/div[2]/div[3]/table/tbody/tr[1]/td[3]/strong/a').text\n",
    "date1 = driver.find_element(By.XPATH, '/html/body/div[3]/main/div/div/section[2]/div[2]/div[3]/table/tbody/tr[1]/td[5]').text\n",
    "date1 = datetime.date(int(date1[0:4]), int(date1[5:7]), int(date1[8:]))\n",
    "\n",
    "title2 = driver.find_element(By.XPATH, '/html/body/div[3]/main/div/div/section[2]/div[2]/div[3]/table/tbody/tr[2]/td[3]/strong/a').text\n",
    "date2 = driver.find_element(By.XPATH, '/html/body/div[3]/main/div/div/section[2]/div[2]/div[3]/table/tbody/tr[2]/td[5]').text\n",
    "date2 = datetime.date(int(date2[0:4]), int(date2[5:7]), int(date2[8:]))\n",
    "\n",
    "driver.get(url2)\n",
    "title3 = driver.find_element(By.XPATH, '/html/body/div[3]/main/div/div/section[2]/div[2]/div[3]/table/tbody/tr[1]/td[3]/strong/a').text\n",
    "date3 = driver.find_element(By.XPATH, '/html/body/div[3]/main/div/div/section[2]/div[2]/div[3]/table/tbody/tr[1]/td[5]').text\n",
    "date3 = datetime.date(int(date3[0:4]), int(date3[5:7]), int(date3[8:]))\n",
    "\n",
    "title4 = driver.find_element(By.XPATH, '/html/body/div[3]/main/div/div/section[2]/div[2]/div[3]/table/tbody/tr[2]/td[3]/strong/a').text\n",
    "date4 = driver.find_element(By.XPATH, '/html/body/div[3]/main/div/div/section[2]/div[2]/div[3]/table/tbody/tr[2]/td[5]').text\n",
    "date4 = datetime.date(int(date4[0:4]), int(date4[5:7]), int(date4[8:]))\n",
    "\n",
    "print([univ_nm, url2, datetime.datetime.now(), title1, date1, title2, date2, title3, date3, title4, date4])\n",
    "excel_sheet2.append([univ_nm, url2, datetime.datetime.now(), title1, date1, title2, date2, title3, date3, title4, date4])"
   ]
  },
  {
   "cell_type": "markdown",
   "id": "45c50f13-0bc2-4595-845f-b5024ac5c941",
   "metadata": {},
   "source": [
    "### 대진대"
   ]
  },
  {
   "cell_type": "code",
   "execution_count": 229,
   "id": "74d0f32c-209f-44d0-97a0-c8f4c14ca79b",
   "metadata": {},
   "outputs": [
    {
     "name": "stdout",
     "output_type": "stream",
     "text": [
      "['대진대', 'https://admission.daejin.ac.kr/submenu.do?menuurl=V1eFtRP%2FhAdfBbp9t3CXcw%3D%3D&categoryid=106', datetime.datetime(2024, 3, 4, 17, 42, 0, 490544), \"'24 등록 취소(환불) 관련 공지사항\", datetime.date(2024, 2, 29), \"'24 추가모집 3차 모집단위 및 모집인원 현황\", datetime.date(2024, 2, 28), \"'24 정시 3차(이후) 충원합격자 유의사항 안내\", datetime.date(2024, 2, 16), \"'24 정시 충원합격자 통보 일정 안내\", datetime.date(2024, 2, 5)]\n"
     ]
    }
   ],
   "source": [
    "univ_nm = '대진대'\n",
    "url1 = 'https://admission.daejin.ac.kr/submenu.do?menuurl=V1eFtRP%2fhAdfBbp9t3CXcw%3d%3d&'\n",
    "url2 = 'https://admission.daejin.ac.kr/submenu.do?menuurl=V1eFtRP%2FhAdfBbp9t3CXcw%3D%3D&categoryid=106'\n",
    "\n",
    "driver.get(url1)\n",
    "soup1 = BeautifulSoup(driver.page_source, 'html.parser')\n",
    "title1 = soup1.find('td', 'tit').find('a').get_text().strip()\n",
    "date1 = soup1.find('td', 'date').get_text().strip()\n",
    "date1 = datetime.date(int(date1[0:4]), int(date1[5:7]), int(date1[8:]))\n",
    "\n",
    "title2 = soup1.find_all('td', 'tit')[1].find('a').get_text().strip()\n",
    "date2 = soup1.find_all('td', 'date')[1].get_text().strip()\n",
    "date2 = datetime.date(int(date2[0:4]), int(date2[5:7]), int(date2[8:]))\n",
    "\n",
    "driver.get(url2)\n",
    "soup2 = BeautifulSoup(driver.page_source, 'html.parser')\n",
    "title3 = soup2.find('td', 'tit').find('a').get_text().strip()\n",
    "date3 = soup2.find('td', 'date').get_text().strip()\n",
    "date3 = datetime.date(int(date3[0:4]), int(date3[5:7]), int(date3[8:]))\n",
    "\n",
    "title4 = soup2.find_all('td', 'tit')[1].find('a').get_text().strip()\n",
    "date4 = soup2.find_all('td', 'date')[1].get_text().strip()\n",
    "date4 = datetime.date(int(date4[0:4]), int(date4[5:7]), int(date4[8:]))\n",
    "\n",
    "print([univ_nm, url2, datetime.datetime.now(), title1, date1, title2, date2, title3, date3, title4, date4])\n",
    "excel_sheet2.append([univ_nm, url2, datetime.datetime.now(), title1, date1, title2, date2, title3, date3, title4, date4])"
   ]
  },
  {
   "cell_type": "markdown",
   "id": "58f22390-ce96-4460-bf71-d71011a15173",
   "metadata": {},
   "source": [
    "### 전주대"
   ]
  },
  {
   "cell_type": "code",
   "execution_count": 230,
   "id": "2bfa8fbc-116c-48c1-9c6b-d953287e4f4d",
   "metadata": {},
   "outputs": [
    {
     "name": "stdout",
     "output_type": "stream",
     "text": [
      "['전주대', 'https://www.jj.ac.kr/iphak/information/notice.jsp?board_no=3015&search%3Asearch_category%3Acategory=546', datetime.datetime(2024, 3, 4, 17, 42, 1, 466212), '기타 2024학년도 신입학 추가모집 최종 모집요강 공지(2월 29일 오후 12시 기준)', datetime.date(2024, 2, 28), '기타 2024학년도 신입학 추가모집 3차 공지(2월 27일 오후 2시 기준)', datetime.date(2024, 2, 26), '정시 2024학년도 신입학 정시모집 충원합격 발표 일정 안내', datetime.date(2024, 2, 13), '정시 2024학년도 정시모집 면접/실기고사 안내', datetime.date(2024, 1, 18)]\n"
     ]
    }
   ],
   "source": [
    "univ_nm = '전주대'\n",
    "url1 = 'https://www.jj.ac.kr/iphak/information/notice.jsp?board_no=3015'\n",
    "url2 = 'https://www.jj.ac.kr/iphak/information/notice.jsp?board_no=3015&search%3Asearch_category%3Acategory=546'\n",
    "\n",
    "driver.get(url1)\n",
    "title1 = driver.find_element(By.XPATH, '/html/body/div/section/article/div/table/tbody/tr[1]/td[2]/a').text\n",
    "date1 = driver.find_element(By.XPATH, '/html/body/div/section/article/div/table/tbody/tr[1]/td[2]/span[1]').text[6:16]\n",
    "date1 = datetime.date(int(date1[0:4]), int(date1[5:7]), int(date1[8:]))\n",
    "\n",
    "title2 = driver.find_element(By.XPATH, '/html/body/div/section/article/div/table/tbody/tr[2]/td[2]/a').text\n",
    "date2 = driver.find_element(By.XPATH, '/html/body/div/section/article/div/table/tbody/tr[2]/td[2]/span[1]').text[6:16]\n",
    "date2 = datetime.date(int(date2[0:4]), int(date2[5:7]), int(date2[8:]))\n",
    "\n",
    "driver.get(url2)\n",
    "title3 = driver.find_element(By.XPATH, '/html/body/div/section/article/div/table/tbody/tr[1]/td[2]/a').text\n",
    "date3 = driver.find_element(By.XPATH, '/html/body/div/section/article/div/table/tbody/tr[1]/td[2]/span[1]').text[6:16]\n",
    "date3 = datetime.date(int(date3[0:4]), int(date3[5:7]), int(date3[8:]))\n",
    "\n",
    "title4 = driver.find_element(By.XPATH, '/html/body/div/section/article/div/table/tbody/tr[2]/td[2]/a').text\n",
    "date4 = driver.find_element(By.XPATH, '/html/body/div/section/article/div/table/tbody/tr[2]/td[2]/span[1]').text[6:16]\n",
    "date4 = datetime.date(int(date4[0:4]), int(date4[5:7]), int(date4[8:]))\n",
    "\n",
    "print([univ_nm, url2, datetime.datetime.now(), title1, date1, title2, date2, title3, date3, title4, date4])\n",
    "excel_sheet2.append([univ_nm, url2, datetime.datetime.now(), title1, date1, title2, date2, title3, date3, title4, date4])"
   ]
  },
  {
   "cell_type": "markdown",
   "id": "7fcb0afe-eaae-470c-80dc-08adfe09859a",
   "metadata": {},
   "source": [
    "### 한남대"
   ]
  },
  {
   "cell_type": "code",
   "execution_count": 231,
   "id": "bc8133fb-c7ef-4e87-9b88-65c7917a0603",
   "metadata": {},
   "outputs": [
    {
     "name": "stdout",
     "output_type": "stream",
     "text": [
      "['한남대', 'https://ibsi.hannam.ac.kr/adms5/intoschool/5_1.asp?p_board_id=BBS0004&p_site_type=MAM0001&s_board_category=BBS0404&p_board_idx=&p_mode=&page=1&s_search_type=board_title&s_search_text=', datetime.datetime(2024, 3, 4, 17, 42, 5, 799160), '[공통] 2024학년도 1~3차 추가모집 최종 합격자 조회', datetime.date(2024, 2, 29), '[공통] 2024학년도 3차 추가모집 모집요강(2024. 02. 28. 22시 ...', datetime.date(2024, 2, 28), '[정시모집] 2024학년도 정시모집 체육 실기고사 수험생 유의사항', datetime.date(2024, 1, 12), '[정시모집] 2024학년도 정시모집 미술 실기고사 수험생 유의사항', datetime.date(2024, 1, 10)]\n"
     ]
    }
   ],
   "source": [
    "univ_nm = '한남대'\n",
    "url1 = 'https://ibsi.hannam.ac.kr/adms5/intoschool/5_1.asp'\n",
    "url2 = 'https://ibsi.hannam.ac.kr/adms5/intoschool/5_1.asp?p_board_id=BBS0004&p_site_type=MAM0001&s_board_category=BBS0404&p_board_idx=&p_mode=&page=1&s_search_type=board_title&s_search_text='\n",
    "\n",
    "driver.get(url1)\n",
    "title1 = driver.find_element(By.XPATH, '/html/body/div[6]/div[3]/div/div[2]/div[3]/div[3]/table/tbody/tr[1]/td[2]/a').text\n",
    "date1 = driver.find_element(By.XPATH, '/html/body/div[6]/div[3]/div/div[2]/div[3]/div[3]/table/tbody/tr[1]/td[4]').text\n",
    "date1 = datetime.date(int(date1[0:4]), int(date1[5:7]), int(date1[8:]))\n",
    "\n",
    "title2 = driver.find_element(By.XPATH, '/html/body/div[6]/div[3]/div/div[2]/div[3]/div[3]/table/tbody/tr[2]/td[2]/a').text\n",
    "date2 = driver.find_element(By.XPATH, '/html/body/div[6]/div[3]/div/div[2]/div[3]/div[3]/table/tbody/tr[2]/td[4]').text\n",
    "date2 = datetime.date(int(date2[0:4]), int(date2[5:7]), int(date2[8:]))\n",
    "\n",
    "driver.get(url2)\n",
    "title3 = driver.find_element(By.XPATH, '/html/body/div[6]/div[3]/div/div[2]/div[3]/div[3]/table/tbody/tr[1]/td[2]/a').text\n",
    "date3 = driver.find_element(By.XPATH, '/html/body/div[6]/div[3]/div/div[2]/div[3]/div[3]/table/tbody/tr[1]/td[4]').text\n",
    "date3 = datetime.date(int(date3[0:4]), int(date3[5:7]), int(date3[8:]))\n",
    "\n",
    "title4 = driver.find_element(By.XPATH, '/html/body/div[6]/div[3]/div/div[2]/div[3]/div[3]/table/tbody/tr[2]/td[2]/a').text\n",
    "date4 = driver.find_element(By.XPATH, '/html/body/div[6]/div[3]/div/div[2]/div[3]/div[3]/table/tbody/tr[2]/td[4]').text\n",
    "date4 = datetime.date(int(date4[0:4]), int(date4[5:7]), int(date4[8:]))\n",
    "\n",
    "print([univ_nm, url2, datetime.datetime.now(), title1, date1, title2, date2, title3, date3, title4, date4])\n",
    "excel_sheet2.append([univ_nm, url2, datetime.datetime.now(), title1, date1, title2, date2, title3, date3, title4, date4])"
   ]
  },
  {
   "cell_type": "markdown",
   "id": "1cd703b0-822d-4b41-b315-33111e50d687",
   "metadata": {},
   "source": [
    "### 나사렛대"
   ]
  },
  {
   "cell_type": "code",
   "execution_count": 232,
   "id": "0b29598c-2b55-4fe5-ba74-a14d8ae22d3a",
   "metadata": {},
   "outputs": [
    {
     "name": "stdout",
     "output_type": "stream",
     "text": [
      "['나사렛대', 'https://ipsi.kornu.ac.kr/ipsi/3158/subview.do', datetime.datetime(2024, 3, 4, 17, 42, 8, 274590), '2024학년도 신·편입생 주요 안내(학번생성/세움학기/수강신청)', datetime.date(2024, 2, 14), '2025학년도 대학입학전형계획 안내(수정)', datetime.date(2023, 4, 28), '[추가모집] 2024학년도 추가모집 4차 합격자 조회 및 등록금 납부 안내\\n새글', datetime.date(2024, 2, 29), '[추가모집] 2024학년도 추가모집 4차 원서접수 및 서류제출 안내\\n새글', datetime.date(2024, 2, 29)]\n"
     ]
    }
   ],
   "source": [
    "univ_nm = '나사렛대'\n",
    "url1 = 'https://ipsi.kornu.ac.kr/ipsi/3158/subview.do'\n",
    "url2 = 'https://ipsi.kornu.ac.kr/ipsi/3158/subview.do'\n",
    "\n",
    "driver.get(url1)\n",
    "soup1 = BeautifulSoup(driver.page_source, 'html.parser')\n",
    "title1 = soup1.find('td', 'td-subject').find('a').get_text().strip()\n",
    "date1 = soup1.find('td', 'td-date').get_text().strip()\n",
    "date1 = datetime.date(int(date1[0:4]), int(date1[5:7]), int(date1[8:]))\n",
    "\n",
    "title2 = soup1.find_all('td', 'td-subject')[1].find('a').get_text().strip()\n",
    "date2 = soup1.find_all('td', 'td-date')[1].get_text().strip()\n",
    "date2 = datetime.date(int(date2[0:4]), int(date2[5:7]), int(date2[8:]))\n",
    "\n",
    "driver.get(url2)\n",
    "soup2 = BeautifulSoup(driver.page_source, 'html.parser')\n",
    "title3 = soup2.find_all('td', 'td-subject')[2].find('a').get_text().strip()\n",
    "date3 = soup2.find_all('td', 'td-date')[2].get_text().strip()\n",
    "date3 = datetime.date(int(date3[0:4]), int(date3[5:7]), int(date3[8:]))\n",
    "\n",
    "title4 = soup2.find_all('td', 'td-subject')[3].find('a').get_text().strip()\n",
    "date4 = soup2.find_all('td', 'td-date')[3].get_text().strip()\n",
    "date4 = datetime.date(int(date4[0:4]), int(date4[5:7]), int(date4[8:]))\n",
    "\n",
    "print([univ_nm, url2, datetime.datetime.now(), title1, date1, title2, date2, title3, date3, title4, date4])\n",
    "excel_sheet2.append([univ_nm, url2, datetime.datetime.now(), title1, date1, title2, date2, title3, date3, title4, date4])"
   ]
  },
  {
   "cell_type": "markdown",
   "id": "02b09006-67a2-4616-bd60-6ab62816899a",
   "metadata": {},
   "source": [
    "### 국립한국해양대"
   ]
  },
  {
   "cell_type": "code",
   "execution_count": 233,
   "id": "b44e05c3-6b78-403c-8d7b-3c48a681d047",
   "metadata": {},
   "outputs": [
    {
     "name": "stdout",
     "output_type": "stream",
     "text": [
      "['국립한국해양대', 'https://www.kmou.ac.kr/ipsi/na/ntt/selectNttList.do?bbsId=10319&mi=3326&currPage=1&srch_aditCol1=%EC%A0%95%EC%8B%9C', datetime.datetime(2024, 3, 4, 17, 42, 8, 882556), '2024학년도 추가모집 합격통지서 및 납부영수증 출력', datetime.date(2024, 2, 29), '2024학년도 신입생 추가모집 안내', datetime.date(2024, 2, 22), '2024학년도 정시모집 합격통지서 및 납부영수증 출력', datetime.date(2024, 2, 21), '2024학년도 신입생(정시) 충원5차 합격자 안내문 공지', datetime.date(2024, 2, 20)]\n"
     ]
    }
   ],
   "source": [
    "univ_nm = '국립한국해양대'\n",
    "url1 = 'https://www.kmou.ac.kr/ipsi/na/ntt/selectNttList.do?mi=3298&bbsId=10319'\n",
    "url2 = 'https://www.kmou.ac.kr/ipsi/na/ntt/selectNttList.do?bbsId=10319&mi=3326&currPage=1&srch_aditCol1=%EC%A0%95%EC%8B%9C'\n",
    "\n",
    "driver.get(url1)\n",
    "title1 = driver.find_element(By.XPATH, '/html/body/div[2]/div[3]/div/div[2]/section/div/div[3]/table/tbody/tr[1]/td[3]/a').text\n",
    "date1 = driver.find_element(By.XPATH, '/html/body/div[2]/div[3]/div/div[2]/section/div/div[3]/table/tbody/tr[1]/td[4]').text\n",
    "date1 = datetime.date(int(date1[0:4]), int(date1[5:7]), int(date1[8:]))\n",
    "\n",
    "title2 = driver.find_element(By.XPATH, '/html/body/div[2]/div[3]/div/div[2]/section/div/div[3]/table/tbody/tr[2]/td[3]/a').text\n",
    "date2 = driver.find_element(By.XPATH, '/html/body/div[2]/div[3]/div/div[2]/section/div/div[3]/table/tbody/tr[2]/td[4]').text\n",
    "date2 = datetime.date(int(date2[0:4]), int(date2[5:7]), int(date2[8:]))\n",
    "\n",
    "driver.get(url2)\n",
    "title3 = driver.find_element(By.XPATH, '/html/body/div[2]/div[3]/div/div[2]/section/div/div[3]/table/tbody/tr[1]/td[3]/a').text\n",
    "date3 = driver.find_element(By.XPATH, '/html/body/div[2]/div[3]/div/div[2]/section/div/div[3]/table/tbody/tr[1]/td[4]').text\n",
    "date3 = datetime.date(int(date3[0:4]), int(date3[5:7]), int(date3[8:]))\n",
    "\n",
    "title4 = driver.find_element(By.XPATH, '/html/body/div[2]/div[3]/div/div[2]/section/div/div[3]/table/tbody/tr[2]/td[3]/a').text\n",
    "date4 = driver.find_element(By.XPATH, '/html/body/div[2]/div[3]/div/div[2]/section/div/div[3]/table/tbody/tr[2]/td[4]').text\n",
    "date4 = datetime.date(int(date4[0:4]), int(date4[5:7]), int(date4[8:]))\n",
    "\n",
    "print([univ_nm, url2, datetime.datetime.now(), title1, date1, title2, date2, title3, date3, title4, date4])\n",
    "excel_sheet2.append([univ_nm, url2, datetime.datetime.now(), title1, date1, title2, date2, title3, date3, title4, date4])"
   ]
  },
  {
   "cell_type": "markdown",
   "id": "7d85a142-5b9c-4efe-a2a2-ce6b359ffc25",
   "metadata": {},
   "source": [
    "### 국립부경대"
   ]
  },
  {
   "cell_type": "code",
   "execution_count": 234,
   "id": "3ff588d7-8b6d-4916-96f4-ebb91adb2c78",
   "metadata": {},
   "outputs": [
    {
     "name": "stdout",
     "output_type": "stream",
     "text": [
      "['국립부경대', 'https://iphak.pknu.ac.kr/pknu/board/board.htm?code=iphak_help&ctg_cd=ra', datetime.datetime(2024, 3, 4, 17, 42, 9, 490522), '2024학년도 추가 신입생모집 2차 추가합격자 공고', datetime.date(2024, 2, 27), '2024학년도 추가 신입생 모집요강 공고 및 이월현황(2024. 2. 29.)', datetime.date(2024, 2, 22), '2024학년도 정시 신입생모집 4차 추가합격자 공고', datetime.date(2024, 2, 2), '2024학년도 정시모집인원 이월현황(2024. 2. 19.)', datetime.date(2024, 1, 2)]\n"
     ]
    }
   ],
   "source": [
    "univ_nm = '국립부경대'\n",
    "url1 = 'https://iphak.pknu.ac.kr/pknu/board/board.htm?code=iphak_help&ctg_cd=all'\n",
    "url2 = 'https://iphak.pknu.ac.kr/pknu/board/board.htm?code=iphak_help&ctg_cd=ra'\n",
    "\n",
    "driver.get(url1)\n",
    "soup1 = BeautifulSoup(driver.page_source, 'html.parser')\n",
    "title1 = soup1.find('p', 'bbsTitle').find('b').get_text().strip()\n",
    "date1 = soup1.find('span', 'date').get_text().strip()\n",
    "date1 = datetime.date(int(date1[0:4]), int(date1[5:7]), int(date1[8:]))\n",
    "\n",
    "title2 = soup1.find_all('p', 'bbsTitle')[1].find('b').get_text().strip()\n",
    "date2 = soup1.find_all('span', 'date')[1].get_text().strip()\n",
    "date2 = datetime.date(int(date2[0:4]), int(date2[5:7]), int(date2[8:]))\n",
    "\n",
    "driver.get(url2)\n",
    "soup2 = BeautifulSoup(driver.page_source, 'html.parser')\n",
    "title3 = soup2.find('p', 'bbsTitle').find('b').get_text().strip()\n",
    "date3 = soup2.find('span', 'date').get_text().strip()\n",
    "date3 = datetime.date(int(date3[0:4]), int(date3[5:7]), int(date3[8:]))\n",
    "\n",
    "title4 = soup2.find_all('p', 'bbsTitle')[1].find('b').get_text().strip()\n",
    "date4 = soup2.find_all('span', 'date')[1].get_text().strip()\n",
    "date4 = datetime.date(int(date4[0:4]), int(date4[5:7]), int(date4[8:]))\n",
    "\n",
    "print([univ_nm, url2, datetime.datetime.now(), title1, date1, title2, date2, title3, date3, title4, date4])\n",
    "excel_sheet2.append([univ_nm, url2, datetime.datetime.now(), title1, date1, title2, date2, title3, date3, title4, date4])"
   ]
  },
  {
   "cell_type": "markdown",
   "id": "cd797dc0-caf3-4c3f-bcdc-d085b475e6e4",
   "metadata": {},
   "source": [
    "### 국립금오공대"
   ]
  },
  {
   "cell_type": "code",
   "execution_count": 235,
   "id": "3d56eb16-da4c-4ed0-bc43-11f6322e3509",
   "metadata": {},
   "outputs": [
    {
     "name": "stdout",
     "output_type": "stream",
     "text": [
      "['국립금오공대', 'https://iphak.kumoh.ac.kr/ipsi/sub020201.do', datetime.datetime(2024, 3, 4, 17, 42, 11, 669160), '공지 2025학년도 대입전형 기본계획 공지', datetime.date(2023, 4, 27), '2024학년도 추가모집(2차) 원서접수 최종경쟁률 공지', datetime.date(2024, 2, 28), '2024학년도 추가모집(2차) 원서접수 최종경쟁률 공지', datetime.date(2024, 2, 28), '2024학년도 추가모집 최종경쟁률 공지', datetime.date(2024, 2, 24)]\n"
     ]
    }
   ],
   "source": [
    "univ_nm = '국립금오공대'\n",
    "url1 = 'https://iphak.kumoh.ac.kr/ipsi/sub0601.do'\n",
    "url2 = 'https://iphak.kumoh.ac.kr/ipsi/sub020201.do'\n",
    "\n",
    "driver.get(url1)\n",
    "title1 = driver.find_element(By.XPATH, '/html/body/div[1]/section/div/div[2]/article/div/div[3]/div/div[1]/table/tbody/tr[1]/td[2]/a/span[1]').text\n",
    "date1 = driver.find_element(By.XPATH, '/html/body/div[1]/section/div/div[2]/article/div/div[3]/div/div[1]/table/tbody/tr[1]/td[5]').text\n",
    "date1 = datetime.date(int(date1[0:4]), int(date1[5:7]), int(date1[8:]))\n",
    "\n",
    "title2 = driver.find_element(By.XPATH, '/html/body/div[1]/section/div/div[2]/article/div/div[3]/div/div[1]/table/tbody/tr[2]/td[2]/a/span[1]').text\n",
    "date2 = driver.find_element(By.XPATH, '/html/body/div[1]/section/div/div[2]/article/div/div[3]/div/div[1]/table/tbody/tr[2]/td[5]').text\n",
    "date2 = datetime.date(int(date2[0:4]), int(date2[5:7]), int(date2[8:]))\n",
    "\n",
    "driver.get(url2)\n",
    "title3 = driver.find_element(By.XPATH, '/html/body/div[1]/section/div/div[2]/article/div/div[3]/div/div[1]/table/tbody/tr[1]/td[2]/a/span[1]').text\n",
    "date3 = driver.find_element(By.XPATH, '/html/body/div[1]/section/div/div[2]/article/div/div[3]/div/div[1]/table/tbody/tr[1]/td[5]').text\n",
    "date3 = datetime.date(int(date3[0:4]), int(date3[5:7]), int(date3[8:]))\n",
    "\n",
    "title4 = driver.find_element(By.XPATH, '/html/body/div[1]/section/div/div[2]/article/div/div[3]/div/div[1]/table/tbody/tr[2]/td[2]/a/span[1]').text\n",
    "date4 = driver.find_element(By.XPATH, '/html/body/div[1]/section/div/div[2]/article/div/div[3]/div/div[1]/table/tbody/tr[2]/td[5]').text\n",
    "date4 = datetime.date(int(date4[0:4]), int(date4[5:7]), int(date4[8:]))\n",
    "\n",
    "print([univ_nm, url2, datetime.datetime.now(), title1, date1, title2, date2, title3, date3, title4, date4])\n",
    "excel_sheet2.append([univ_nm, url2, datetime.datetime.now(), title1, date1, title2, date2, title3, date3, title4, date4])"
   ]
  },
  {
   "cell_type": "markdown",
   "id": "92d3bfa6-1e19-4ecc-b8e6-ee023c6c24f9",
   "metadata": {},
   "source": [
    "### 국립공주대"
   ]
  },
  {
   "cell_type": "code",
   "execution_count": 236,
   "id": "85374af2-1e1b-4fb5-b22f-3d69cae85045",
   "metadata": {},
   "outputs": [
    {
     "name": "stdout",
     "output_type": "stream",
     "text": [
      "['국립공주대', 'https://ipsi.kongju.ac.kr/kor/article/ATCL23610cb7d', datetime.datetime(2024, 3, 4, 17, 42, 13, 908242), '2024학년도 신입학 최종등록자 대상 지원자격 사후 검증을 위한 서류 제출 안내', datetime.date(2024, 2, 6), '2024학년도 신입생을 위한 \"대학생활 미리보기\" 수강 안내', datetime.date(2024, 1, 22), '2024학년도 정시 모집 최종등록자 대상 지원자격 사후 검증을 위한 서류 제출 안내', datetime.date(2024, 1, 30), '2024학년도 2차 추가모집 최초합격자 발표 및 등록금 납부 안내(관광경영학과, 기계자동차공학부) new', datetime.date(2024, 2, 28)]\n"
     ]
    }
   ],
   "source": [
    "univ_nm = '국립공주대'\n",
    "url1 = 'https://ipsi.kongju.ac.kr/kor/article/ATCLd9a9a7cc3'\n",
    "url2 = 'https://ipsi.kongju.ac.kr/kor/article/ATCL23610cb7d'\n",
    "\n",
    "driver.get(url1)\n",
    "title1 = WebDriverWait(driver, 5).until(\n",
    "    EC.visibility_of_element_located((By.XPATH, '/html/body/div[6]/div[4]/div/div[2]/div[2]/div/div[2]/ul/li[2]/p[2]/a/strong'))).text\n",
    "date1 = driver.find_element(By.XPATH, '/html/body/div[6]/div[4]/div/div[2]/div[2]/div/div[2]/ul/li[2]/p[3]').text\n",
    "date1 = datetime.date(int(date1[0:4]), int(date1[5:7]), int(date1[8:]))\n",
    "\n",
    "title2 = driver.find_element(By.XPATH, '/html/body/div[6]/div[4]/div/div[2]/div[2]/div/div[2]/ul/li[3]/p[2]/a/strong').text\n",
    "date2 = driver.find_element(By.XPATH, '/html/body/div[6]/div[4]/div/div[2]/div[2]/div/div[2]/ul/li[3]/p[3]').text\n",
    "date2 = datetime.date(int(date2[0:4]), int(date2[5:7]), int(date2[8:]))\n",
    "\n",
    "driver.get(url2)\n",
    "title3 = WebDriverWait(driver, 5).until(\n",
    "    EC.visibility_of_element_located((By.XPATH, '/html/body/div[6]/div[4]/div/div[2]/div[2]/div/div[2]/ul/li[2]/p[2]/a/strong'))).text\n",
    "date3 = driver.find_element(By.XPATH, '/html/body/div[6]/div[4]/div/div[2]/div[2]/div/div[2]/ul/li[2]/p[3]').text\n",
    "date3 = datetime.date(int(date3[0:4]), int(date3[5:7]), int(date3[8:]))\n",
    "\n",
    "title4 = driver.find_element(By.XPATH, '/html/body/div[6]/div[4]/div/div[2]/div[2]/div/div[2]/ul/li[3]/p[2]/a/strong').text\n",
    "date4 = driver.find_element(By.XPATH, '/html/body/div[6]/div[4]/div/div[2]/div[2]/div/div[2]/ul/li[3]/p[3]').text\n",
    "date4 = datetime.date(int(date4[0:4]), int(date4[5:7]), int(date4[8:]))\n",
    "\n",
    "print([univ_nm, url2, datetime.datetime.now(), title1, date1, title2, date2, title3, date3, title4, date4])\n",
    "excel_sheet2.append([univ_nm, url2, datetime.datetime.now(), title1, date1, title2, date2, title3, date3, title4, date4])"
   ]
  },
  {
   "cell_type": "markdown",
   "id": "50a87e23-15e6-4ba2-a859-f34c8abdb10c",
   "metadata": {},
   "source": [
    "### 국립군산대"
   ]
  },
  {
   "cell_type": "code",
   "execution_count": 237,
   "id": "b43262c5-6285-4730-b7c8-ff503e98e241",
   "metadata": {},
   "outputs": [
    {
     "name": "stdout",
     "output_type": "stream",
     "text": [
      "['국립군산대', 'https://www.kunsan.ac.kr/iphak/board/list.kunsan?boardId=BBS_0000041&menuCd=DOM_000001213001000000&contentsSid=5039&cpath=%2Fiphak', datetime.datetime(2024, 3, 4, 17, 42, 16, 88794), '24학년도 수시/정시/추가모집 합격증 및 등록금 납부 ..', datetime.date(2024, 1, 30), '★2차 추가모집 합격자 발표 및 등록 안내', datetime.date(2024, 2, 29), '★2차 추가모집 합격자 발표 및 등록 안내', datetime.date(2024, 2, 29), '★1차 추가모집 충원합격자 발표 일정 안내', datetime.date(2024, 2, 25)]\n"
     ]
    }
   ],
   "source": [
    "univ_nm = '국립군산대'\n",
    "url1 = 'https://www.kunsan.ac.kr/iphak/board/list.kunsan?boardId=BBS_0000041&menuCd=DOM_000001218001000000&contentsSid=5075&cpath=%2Fiphak'\n",
    "url2 = 'https://www.kunsan.ac.kr/iphak/board/list.kunsan?boardId=BBS_0000041&menuCd=DOM_000001213001000000&contentsSid=5039&cpath=%2Fiphak'\n",
    "\n",
    "driver.get(url1)\n",
    "title1 = driver.find_element(By.XPATH, '/html/body/div/section/div/div[2]/div[2]/div[2]/div[2]/table/tbody/tr[1]/td[2]/a').text\n",
    "date1 = driver.find_element(By.XPATH, '/html/body/div/section/div/div[2]/div[2]/div[2]/div[2]/table/tbody/tr[1]/td[4]').text\n",
    "date1 = datetime.date(int(date1[0:4]), int(date1[5:7]), int(date1[8:]))\n",
    "\n",
    "title2 = driver.find_element(By.XPATH, '/html/body/div/section/div/div[2]/div[2]/div[2]/div[2]/table/tbody/tr[2]/td[2]/a').text\n",
    "date2 = driver.find_element(By.XPATH, '/html/body/div/section/div/div[2]/div[2]/div[2]/div[2]/table/tbody/tr[2]/td[4]').text\n",
    "date2 = datetime.date(int(date2[0:4]), int(date2[5:7]), int(date2[8:]))\n",
    "\n",
    "driver.get(url2)\n",
    "title3 = driver.find_element(By.XPATH, '/html/body/div/section/div/div[2]/div[2]/div[2]/div[2]/table/tbody/tr[1]/td[2]/a').text\n",
    "date3 = driver.find_element(By.XPATH, '/html/body/div/section/div/div[2]/div[2]/div[2]/div[2]/table/tbody/tr[1]/td[4]').text\n",
    "date3 = datetime.date(int(date3[0:4]), int(date3[5:7]), int(date3[8:]))\n",
    "\n",
    "title4 = driver.find_element(By.XPATH, '/html/body/div/section/div/div[2]/div[2]/div[2]/div[2]/table/tbody/tr[2]/td[2]/a').text\n",
    "date4 = driver.find_element(By.XPATH, '/html/body/div/section/div/div[2]/div[2]/div[2]/div[2]/table/tbody/tr[2]/td[4]').text\n",
    "date4 = datetime.date(int(date4[0:4]), int(date4[5:7]), int(date4[8:]))\n",
    "\n",
    "print([univ_nm, url2, datetime.datetime.now(), title1, date1, title2, date2, title3, date3, title4, date4])\n",
    "excel_sheet2.append([univ_nm, url2, datetime.datetime.now(), title1, date1, title2, date2, title3, date3, title4, date4])"
   ]
  },
  {
   "cell_type": "markdown",
   "id": "ee51748e-96fa-491d-8d1a-f5e3950fb0bc",
   "metadata": {},
   "source": [
    "### 한국에너지공과대"
   ]
  },
  {
   "cell_type": "code",
   "execution_count": 238,
   "id": "8e1ab6d8-73c8-490f-b8a7-8b9aa1a2ea1d",
   "metadata": {},
   "outputs": [
    {
     "name": "stdout",
     "output_type": "stream",
     "text": [
      "['한국에너지공과대', 'https://admission.kentech.ac.kr/submenu.do?menuurl=x7xcHqeaRzHQf0KIDM1QYg%3d%3d&siteName=ipsi&lang=kor&', datetime.datetime(2024, 3, 4, 17, 42, 17, 663570), '2024학년도 학부 정시모집 2차 충원 합격자 발표', datetime.date(2024, 2, 15), '2024학년도 학부 정시모집 1차 충원 합격자 발표', datetime.date(2024, 2, 13), \"EBS 보도(2024.02.01. A과학고 '비공식 추천' 논란)와 관련된 켄텍의 입장\", datetime.date(2024, 2, 5), '2024학년도 학부 정시모집 합격자 발표', datetime.date(2024, 2, 1)]\n"
     ]
    }
   ],
   "source": [
    "univ_nm = '한국에너지공과대'\n",
    "url1 = 'https://admission.kentech.ac.kr/submenu.do?menuurl=x7xcHqeaRzHQf0KIDM1QYg%3d%3d&siteName=ipsi&lang=kor&'\n",
    "url2 = 'https://admission.kentech.ac.kr/submenu.do?menuurl=x7xcHqeaRzHQf0KIDM1QYg%3d%3d&siteName=ipsi&lang=kor&'\n",
    "\n",
    "driver.get(url1)\n",
    "soup1 = BeautifulSoup(driver.page_source, 'html.parser')\n",
    "title1 = soup1.find('span', 'title-wrapper').get_text().strip()\n",
    "date1 = soup1.find('td', 'date').get_text().strip()\n",
    "date1 = datetime.date(int(date1[0:4]), int(date1[5:7]), int(date1[8:]))\n",
    "\n",
    "title2 = soup1.find_all('span', 'title-wrapper')[1].get_text().strip()\n",
    "date2 = soup1.find_all('td', 'date')[1].get_text().strip()\n",
    "date2 = datetime.date(int(date2[0:4]), int(date2[5:7]), int(date2[8:]))\n",
    "\n",
    "driver.get(url2)\n",
    "soup2 = BeautifulSoup(driver.page_source, 'html.parser')\n",
    "title3 = soup2.find_all('span', 'title-wrapper')[2].get_text().strip()\n",
    "date3 = soup2.find_all('td', 'date')[2].get_text().strip()\n",
    "date3 = datetime.date(int(date3[0:4]), int(date3[5:7]), int(date3[8:]))\n",
    "\n",
    "title4 = soup2.find_all('span', 'title-wrapper')[3].get_text().strip()\n",
    "date4 = soup2.find_all('td', 'date')[3].get_text().strip()\n",
    "date4 = datetime.date(int(date4[0:4]), int(date4[5:7]), int(date4[8:]))\n",
    "\n",
    "print([univ_nm, url2, datetime.datetime.now(), title1, date1, title2, date2, title3, date3, title4, date4])\n",
    "excel_sheet2.append([univ_nm, url2, datetime.datetime.now(), title1, date1, title2, date2, title3, date3, title4, date4])"
   ]
  },
  {
   "cell_type": "markdown",
   "id": "fd709b4a-09cc-4555-8396-a3432b43204a",
   "metadata": {},
   "source": [
    "### 서울여대"
   ]
  },
  {
   "cell_type": "code",
   "execution_count": 239,
   "id": "3a1d5c82-16b0-4ed2-aac4-3c7828466ed0",
   "metadata": {},
   "outputs": [
    {
     "name": "stdout",
     "output_type": "stream",
     "text": [
      "['서울여대', 'https://admission.swu.ac.kr/bbs/board.php?bo_table=notice&sca=%EC%A0%95%EC%8B%9C&sub_ck=1', datetime.datetime(2024, 3, 4, 17, 42, 18, 175804), '2024학년도 추가모집 합격자 조회 안내', datetime.date(2024, 2, 29), '2025학년도 대학입학전형 시행계획', datetime.date(2023, 4, 28), '2024학년도 추가모집 합격자 조회 안내', datetime.date(2024, 2, 29), '2024학년도 신입생 사전교육 및 새내기 새로배움터 안내', datetime.date(2024, 2, 2)]\n"
     ]
    }
   ],
   "source": [
    "univ_nm = '서울여대'\n",
    "url1 = 'https://admission.swu.ac.kr/bbs/board.php?bo_table=notice&sca=%EC%A0%95%EC%8B%9C&sub_ck=1'\n",
    "url2 = 'https://admission.swu.ac.kr/bbs/board.php?bo_table=notice&sca=%EC%A0%95%EC%8B%9C&sub_ck=1'\n",
    "\n",
    "driver.get(url1)\n",
    "soup1 = BeautifulSoup(driver.page_source, 'html.parser')\n",
    "title1 = soup1.find('div', 'bo_tit').get_text().strip()\n",
    "date1 = soup1.find('td', 'td_datetime').get_text().strip()\n",
    "date1 = datetime.date(int(date1[0:4]), int(date1[5:7]), int(date1[8:]))\n",
    "\n",
    "title2 = soup1.find_all('div', 'bo_tit')[1].get_text().strip()\n",
    "date2 = soup1.find_all('td', 'td_datetime')[1].get_text().strip()\n",
    "date2 = datetime.date(int(date2[0:4]), int(date2[5:7]), int(date2[8:]))\n",
    "\n",
    "driver.get(url2)\n",
    "soup2 = BeautifulSoup(driver.page_source, 'html.parser')\n",
    "title3 = soup2.find_all('div', 'bo_tit')[2].get_text().strip()\n",
    "date3 = soup2.find_all('td', 'td_datetime')[2].get_text().strip()\n",
    "date3 = datetime.date(int(date3[0:4]), int(date3[5:7]), int(date3[8:]))\n",
    "\n",
    "title4 = soup2.find_all('div', 'bo_tit')[3].get_text().strip()\n",
    "date4 = soup2.find_all('td', 'td_datetime')[3].get_text().strip()\n",
    "date4 = datetime.date(int(date4[0:4]), int(date4[5:7]), int(date4[8:]))\n",
    "\n",
    "print([univ_nm, url2, datetime.datetime.now(), title1, date1, title2, date2, title3, date3, title4, date4])\n",
    "excel_sheet2.append([univ_nm, url2, datetime.datetime.now(), title1, date1, title2, date2, title3, date3, title4, date4])"
   ]
  },
  {
   "cell_type": "markdown",
   "id": "5442eed3-83ad-4cf7-9251-065fbc8b4a5d",
   "metadata": {},
   "source": [
    "### 서경대\n",
    "\n",
    "- 크롤링 불가능"
   ]
  },
  {
   "cell_type": "code",
   "execution_count": 240,
   "id": "b2bdf1e0-7f9e-48cc-835a-e90c98b569f5",
   "metadata": {},
   "outputs": [],
   "source": [
    "univ_nm = '서경대'\n",
    "url1 = 'https://go.skuniv.ac.kr/#mid=notice'\n",
    "url2 = 'https://go.skuniv.ac.kr/#mid=notice&category=183'\n",
    "\n",
    "excel_sheet2.append([univ_nm, url2, datetime.datetime.now()])"
   ]
  },
  {
   "cell_type": "markdown",
   "id": "a57bd482-4266-4093-98a0-f2429dc9a6cc",
   "metadata": {},
   "source": [
    "### 한국공학대"
   ]
  },
  {
   "cell_type": "code",
   "execution_count": 241,
   "id": "2932d8d0-3237-4f4a-9a96-bca4bfeeb228",
   "metadata": {},
   "outputs": [
    {
     "name": "stdout",
     "output_type": "stream",
     "text": [
      "['한국공학대', 'https://iphak.tukorea.ac.kr/guide/notice.htm?ctg_cd=jungsi', datetime.datetime(2024, 3, 4, 17, 42, 20, 627538), '2024학년도 수시/정시/편입학/추가 최종 합격자 등록금 납부내역 확인', datetime.date(2024, 2, 23), '2024학년도 수시/정시/편입학/추가 수험번호 조회 안내', datetime.date(2024, 2, 6), '2024학년도 신입생 추가모집 2차(최종) 충원 합격자발표 안내', datetime.date(2024, 2, 29), '2024학년도 신입생 추가모집 1차 충원 합격자발표 안내', datetime.date(2024, 2, 28)]\n"
     ]
    }
   ],
   "source": [
    "univ_nm = '한국공학대'\n",
    "url1 = 'https://iphak.tukorea.ac.kr/guide/notice.htm'\n",
    "url2 = 'https://iphak.tukorea.ac.kr/guide/notice.htm?ctg_cd=jungsi'\n",
    "\n",
    "driver.get(url1)\n",
    "soup1 = BeautifulSoup(driver.page_source, 'html.parser')\n",
    "title1 = soup1.find('td', 'al').get_text().strip()\n",
    "date1 = driver.find_element(By.XPATH, '/html/body/section/section/div[2]/article/form[2]/div/table/tbody/tr[1]/td[6]').text\n",
    "date1 = datetime.date(int(date1[0:4]), int(date1[5:7]), int(date1[8:]))\n",
    "\n",
    "title2 = soup1.find_all('td', 'al')[1].get_text().strip()\n",
    "date2 = driver.find_element(By.XPATH, '/html/body/section/section/div[2]/article/form[2]/div/table/tbody/tr[2]/td[6]').text\n",
    "date2 = datetime.date(int(date2[0:4]), int(date2[5:7]), int(date2[8:]))\n",
    "\n",
    "driver.get(url2)\n",
    "soup2 = BeautifulSoup(driver.page_source, 'html.parser')\n",
    "title3 = soup2.find('td', 'al').get_text().strip()\n",
    "date3 = driver.find_element(By.XPATH, '/html/body/section/section/div[2]/article/form[2]/div/table/tbody/tr[1]/td[6]').text\n",
    "date3 = datetime.date(int(date3[0:4]), int(date3[5:7]), int(date3[8:]))\n",
    "\n",
    "title4 = soup2.find_all('td', 'al')[1].get_text().strip()\n",
    "date4 = driver.find_element(By.XPATH, '/html/body/section/section/div[2]/article/form[2]/div/table/tbody/tr[2]/td[6]').text\n",
    "date4 = datetime.date(int(date4[0:4]), int(date4[5:7]), int(date4[8:]))\n",
    "\n",
    "print([univ_nm, url2, datetime.datetime.now(), title1, date1, title2, date2, title3, date3, title4, date4])\n",
    "excel_sheet2.append([univ_nm, url2, datetime.datetime.now(), title1, date1, title2, date2, title3, date3, title4, date4])"
   ]
  },
  {
   "cell_type": "markdown",
   "id": "ed5ad211-c14c-4d8c-aada-1c8173b0f7ac",
   "metadata": {},
   "source": [
    "### 수원대"
   ]
  },
  {
   "cell_type": "code",
   "execution_count": 242,
   "id": "07dd82b9-b03c-47d1-a985-169b69d1f9b4",
   "metadata": {},
   "outputs": [
    {
     "name": "stdout",
     "output_type": "stream",
     "text": [
      "['수원대', 'https://ipsi.suwon.ac.kr/board/notice?cate=%EC%A0%95%EC%8B%9C', datetime.datetime(2024, 3, 4, 17, 42, 21, 829418), '2024학년도 추가 신입생모집 충원절차 종료 안내', datetime.date(2024, 2, 29), '2024학년도 추가모집 2차 원서접수 안내', datetime.date(2024, 2, 27), '2024학년도 정시 신입생모집 충원절차 종료 안내', datetime.date(2024, 2, 20), '2024학년도 정시모집 충원 합격자 발표 및 등록안내', datetime.date(2024, 2, 5)]\n"
     ]
    }
   ],
   "source": [
    "univ_nm = '수원대'\n",
    "url1 = 'https://ipsi.suwon.ac.kr/board/notice'\n",
    "url2 = 'https://ipsi.suwon.ac.kr/board/notice?cate=%EC%A0%95%EC%8B%9C'\n",
    "\n",
    "driver.get(url1)\n",
    "soup1 = BeautifulSoup(driver.page_source, 'html.parser')\n",
    "title1 = soup1.find('span', 'board_tit').get_text().strip()\n",
    "date1 = soup1.find('span', 'board_date').get_text().strip()[6:]\n",
    "date1 = datetime.date(int(date1[0:4]), int(date1[5:7]), int(date1[8:]))\n",
    "\n",
    "title2 = soup1.find_all('span', 'board_tit')[1].get_text().strip()\n",
    "date2 = soup1.find_all('span', 'board_date')[1].get_text().strip()[6:]\n",
    "date2 = datetime.date(int(date2[0:4]), int(date2[5:7]), int(date2[8:]))\n",
    "\n",
    "driver.get(url2)\n",
    "soup2 = BeautifulSoup(driver.page_source, 'html.parser')\n",
    "title3 = soup2.find('span', 'board_tit').get_text().strip()\n",
    "date3 = soup2.find('span', 'board_date').get_text().strip()[6:]\n",
    "date3 = datetime.date(int(date3[0:4]), int(date3[5:7]), int(date3[8:]))\n",
    "\n",
    "title4 = soup2.find_all('span', 'board_tit')[1].get_text().strip()\n",
    "date4 = soup2.find_all('span', 'board_date')[1].get_text().strip()[6:]\n",
    "date4 = datetime.date(int(date4[0:4]), int(date4[5:7]), int(date4[8:]))\n",
    "\n",
    "print([univ_nm, url2, datetime.datetime.now(), title1, date1, title2, date2, title3, date3, title4, date4])\n",
    "excel_sheet2.append([univ_nm, url2, datetime.datetime.now(), title1, date1, title2, date2, title3, date3, title4, date4])"
   ]
  },
  {
   "cell_type": "markdown",
   "id": "d739ecde-8464-4043-8420-51e97e55fb40",
   "metadata": {},
   "source": [
    "### 목포가톨릭대"
   ]
  },
  {
   "cell_type": "code",
   "execution_count": 243,
   "id": "62e721be-083d-4de2-9898-e828d04f5a1a",
   "metadata": {},
   "outputs": [
    {
     "name": "stdout",
     "output_type": "stream",
     "text": [
      "['목포가톨릭대', 'https://www.mcu.ac.kr/ipsi/bb/bbBoard.php?boardID=IPSI_NOTICE&pageID=ipsi0501000000', datetime.datetime(2024, 3, 4, 17, 42, 23, 746078), '제목', datetime.date(2024, 2, 27), '2024학년도 신입생 추가모집 합격자 안내사항', datetime.date(2024, 2, 21), '2024학년도 신입생 추가모집 계획', datetime.date(2024, 2, 5), '2024학년도 신입생 정시모집 합격자 및 추가합격자 유의사항 안내...', datetime.date(2024, 2, 5)]\n"
     ]
    }
   ],
   "source": [
    "# @@ title index 주의\n",
    "\n",
    "univ_nm = '목포가톨릭대'\n",
    "url1 = 'https://www.mcu.ac.kr/ipsi/bb/bbBoard.php?boardID=IPSI_NOTICE&pageID=ipsi0501000000'\n",
    "url2 = 'https://www.mcu.ac.kr/ipsi/bb/bbBoard.php?boardID=IPSI_NOTICE&pageID=ipsi0501000000'\n",
    "\n",
    "driver.get(url1)\n",
    "soup1 = BeautifulSoup(driver.page_source, 'html.parser')\n",
    "title1 = soup1.find_all('span', 'subject')[1].get_text().strip()\n",
    "date1 = soup1.find_all('span', 'date under')[0].get_text().strip()\n",
    "date1 = datetime.date(int(date1[0:4]), int(date1[5:7]), int(date1[8:]))\n",
    "\n",
    "title2 = soup1.find_all('span', 'subject')[2].get_text().strip()\n",
    "date2 = soup1.find_all('span', 'date under')[1].get_text().strip()\n",
    "date2 = datetime.date(int(date2[0:4]), int(date2[5:7]), int(date2[8:]))\n",
    "\n",
    "driver.get(url2)\n",
    "soup2 = BeautifulSoup(driver.page_source, 'html.parser')\n",
    "title3 = soup2.find_all('span', 'subject')[3].get_text().strip()\n",
    "date3 = soup2.find_all('span', 'date under')[2].get_text().strip()\n",
    "date3 = datetime.date(int(date3[0:4]), int(date3[5:7]), int(date3[8:]))\n",
    "\n",
    "title4 = soup2.find_all('span', 'subject')[4].get_text().strip()\n",
    "date4 = soup2.find_all('span', 'date under')[3].get_text().strip()\n",
    "date4 = datetime.date(int(date4[0:4]), int(date4[5:7]), int(date4[8:]))\n",
    "\n",
    "print([univ_nm, url2, datetime.datetime.now(), title1, date1, title2, date2, title3, date3, title4, date4])\n",
    "excel_sheet2.append([univ_nm, url2, datetime.datetime.now(), title1, date1, title2, date2, title3, date3, title4, date4])"
   ]
  },
  {
   "cell_type": "markdown",
   "id": "14eec0c7-1afc-4cc7-abce-3b7b4427ca82",
   "metadata": {},
   "source": [
    "### 용인대"
   ]
  },
  {
   "cell_type": "code",
   "execution_count": 244,
   "id": "e169e9eb-1556-44b9-98ae-0d215eb8ce97",
   "metadata": {},
   "outputs": [
    {
     "name": "stdout",
     "output_type": "stream",
     "text": [
      "['용인대', 'https://ipsi.yongin.ac.kr/guidance/notice_list.do', datetime.datetime(2024, 3, 4, 17, 42, 24, 774340), '★2024학년도 신입생 추가모집(3차) - 최초 합격자 발표 및 등록(등록금 납부) 안내', datetime.date(2024, 2, 29), '★2024학년도 신입생 추가모집(2차) - 충원 2차 합격자 발표 및 등록(등록금 납부) 안내', datetime.date(2024, 2, 29), '2024학년도 신(편)입생 학번조회 및 수강신청 안내', datetime.date(2024, 2, 22), '신입생 및 편입생 등록(등록금납부) 완료 확인 방법 안내', datetime.date(2024, 2, 13)]\n"
     ]
    }
   ],
   "source": [
    "# @@ 동적 페이지 크롤링 XPATH (dropbox)\n",
    "# 3,4 XPATH 경로 변경 확인 필요\n",
    "\n",
    "univ_nm = '용인대'\n",
    "url1 = 'https://ipsi.yongin.ac.kr/guidance/notice_list.do'\n",
    "url2 = 'https://ipsi.yongin.ac.kr/guidance/notice_list.do'\n",
    "\n",
    "driver.get(url1)\n",
    "title1 = driver.find_element(By.XPATH, '/html/body/div/div[2]/div[4]/div/section/div[1]/div[2]/div/table/tbody/tr[1]/td[2]/a').text\n",
    "date1 = driver.find_element(By.XPATH, '/html/body/div/div[2]/div[4]/div/section/div[1]/div[2]/div/table/tbody/tr[1]/td[4]').text\n",
    "date1 = datetime.date(int(date1[0:4]), int(date1[5:7]), int(date1[8:10]))\n",
    "\n",
    "title2 = driver.find_element(By.XPATH, '/html/body/div/div[2]/div[4]/div/section/div[1]/div[2]/div/table/tbody/tr[2]/td[2]/a').text\n",
    "date2 = driver.find_element(By.XPATH, '/html/body/div/div[2]/div[4]/div/section/div[1]/div[2]/div/table/tbody/tr[2]/td[4]').text\n",
    "date2 = datetime.date(int(date2[0:4]), int(date2[5:7]), int(date2[8:10]))\n",
    "\n",
    "driver.get(url2)\n",
    "select_box = Select(driver.find_element(By.XPATH, '/html/body/div/div[2]/div[4]/div/section/div[1]/div[1]/form/div/select[1]'))\n",
    "select_box.select_by_value('notice_jungsi')\n",
    "driver.find_element(By.XPATH, '/html/body/div/div[2]/div[4]/div/section/div[1]/div[1]/form/div/button').click()\n",
    "title3 = driver.find_element(By.XPATH, '/html/body/div/div[2]/div[4]/div/section/div[1]/div[2]/div/table/tbody/tr[7]/td[2]/a').text\n",
    "date3 = driver.find_element(By.XPATH, '/html/body/div/div[2]/div[4]/div/section/div[1]/div[2]/div/table/tbody/tr[7]/td[4]').text\n",
    "date3 = datetime.date(int(date3[0:4]), int(date3[5:7]), int(date3[8:10]))\n",
    "\n",
    "title4 = driver.find_element(By.XPATH, '/html/body/div/div[2]/div[4]/div/section/div[1]/div[2]/div/table/tbody/tr[8]/td[2]/a').text\n",
    "date4 = driver.find_element(By.XPATH, '/html/body/div/div[2]/div[4]/div/section/div[1]/div[2]/div/table/tbody/tr[8]/td[4]').text\n",
    "date4 = datetime.date(int(date4[0:4]), int(date4[5:7]), int(date4[8:10]))\n",
    "\n",
    "print([univ_nm, url2, datetime.datetime.now(), title1, date1, title2, date2, title3, date3, title4, date4])\n",
    "excel_sheet.append([univ_nm, url2, datetime.datetime.now(), title1, date1, title2, date2, title3, date3, title4, date4])"
   ]
  },
  {
   "cell_type": "markdown",
   "id": "3f1b83ab-0df5-42e0-bfb3-d2be0001becb",
   "metadata": {},
   "source": [
    "### 강남대"
   ]
  },
  {
   "cell_type": "code",
   "execution_count": 245,
   "id": "70db68ad-3663-47d7-9587-811f53e1a57a",
   "metadata": {},
   "outputs": [
    {
     "name": "stdout",
     "output_type": "stream",
     "text": [
      "['강남대', 'https://admission.kangnam.ac.kr/doumi/notice.htm?bbsid=notice&ctg_cd=jungsi', datetime.datetime(2024, 3, 4, 17, 42, 25, 609717), '신입생 오리엔테이션 안내(신입생 고고고 3단계_적응하고)', datetime.date(2024, 2, 22), '2024학년도 신입생 추가모집 모집인원 변경(2024.02.23 15시 기준)', datetime.date(2024, 2, 22), '2024학년도 신입생 추가모집 모집인원 변경(2024.02.23 15시 기준)', datetime.date(2024, 2, 22), '2024학년도 신입생 추가모집 모집요강 및 모집인원 안내(2024.02.22. 09시 기준)', datetime.date(2024, 2, 22)]\n"
     ]
    }
   ],
   "source": [
    "univ_nm = '강남대'\n",
    "url1 = 'https://admission.kangnam.ac.kr/doumi/notice.htm'\n",
    "url2 = 'https://admission.kangnam.ac.kr/doumi/notice.htm?bbsid=notice&ctg_cd=jungsi'\n",
    "\n",
    "driver.get(url1)\n",
    "soup1 = BeautifulSoup(driver.page_source, 'html.parser')\n",
    "title1 = soup1.find('td', 'ta_l').find('a').get_text().strip()\n",
    "date1 = soup1.find('span', 'date').get_text().strip()[6:]\n",
    "date1 = datetime.date(int(date1[0:4]), int(date1[5:7]), int(date1[8:]))\n",
    "\n",
    "title2 = soup1.find_all('td', 'ta_l')[1].find('a').get_text().strip()\n",
    "date2 = soup1.find_all('span', 'date')[1].get_text().strip()[6:]\n",
    "date2 = datetime.date(int(date2[0:4]), int(date2[5:7]), int(date2[8:]))\n",
    "\n",
    "driver.get(url2)\n",
    "soup2 = BeautifulSoup(driver.page_source, 'html.parser')\n",
    "title3 = soup2.find('td', 'ta_l').find('a').get_text().strip()\n",
    "date3 = soup2.find('span', 'date').get_text().strip()[6:]\n",
    "date3 = datetime.date(int(date3[0:4]), int(date3[5:7]), int(date3[8:]))\n",
    "\n",
    "title4 = soup2.find_all('td', 'ta_l')[1].find('a').get_text().strip()\n",
    "date4 = soup2.find_all('span', 'date')[1].get_text().strip()[6:]\n",
    "date4 = datetime.date(int(date4[0:4]), int(date4[5:7]), int(date4[8:]))\n",
    "\n",
    "print([univ_nm, url2, datetime.datetime.now(), title1, date1, title2, date2, title3, date3, title4, date4])\n",
    "excel_sheet2.append([univ_nm, url2, datetime.datetime.now(), title1, date1, title2, date2, title3, date3, title4, date4])"
   ]
  },
  {
   "cell_type": "markdown",
   "id": "4708172a-2a13-4135-9272-399ab78e9870",
   "metadata": {},
   "source": [
    "### 협성대"
   ]
  },
  {
   "cell_type": "code",
   "execution_count": 246,
   "id": "e8e5e536-950a-41c0-9168-d7eea34958d1",
   "metadata": {},
   "outputs": [
    {
     "name": "stdout",
     "output_type": "stream",
     "text": [
      "['협성대', 'https://iphak.uhs.ac.kr/ipsi/board/notice/list.do?ci=2', datetime.datetime(2024, 3, 4, 17, 42, 26, 397127), '2024학년도 신(편)입생 등록금 안내', datetime.date(2024, 2, 2), '2025학년도 협성대학교 입학전형 시행계획', datetime.date(2023, 4, 30), '2024학년도 신(편)입생 등록금 안내', datetime.date(2024, 2, 2), '2025학년도 협성대학교 입학전형 시행계획', datetime.date(2023, 4, 30)]\n"
     ]
    }
   ],
   "source": [
    "univ_nm = '협성대'\n",
    "url1 = 'https://iphak.uhs.ac.kr/ipsi/board/notice/list.do'\n",
    "url2 = 'https://iphak.uhs.ac.kr/ipsi/board/notice/list.do?ci=2'\n",
    "\n",
    "driver.get(url1)\n",
    "soup1 = BeautifulSoup(driver.page_source, 'html.parser')\n",
    "title1 = soup1.find('td', 'ta-l').get_text().strip()\n",
    "date1 = driver.find_element(By.XPATH, '/html/body/section/div[3]/div[4]/table/tbody/tr[1]/td[4]').text\n",
    "date1 = datetime.date(int(date1[0:4]), int(date1[5:7]), int(date1[8:]))\n",
    "\n",
    "title2 = soup1.find_all('td', 'ta-l')[1].find('a').get_text().strip()\n",
    "date2 = driver.find_element(By.XPATH, '/html/body/section/div[3]/div[4]/table/tbody/tr[2]/td[4]').text\n",
    "date2 = datetime.date(int(date2[0:4]), int(date2[5:7]), int(date2[8:]))\n",
    "\n",
    "driver.get(url2)\n",
    "soup2 = BeautifulSoup(driver.page_source, 'html.parser')\n",
    "title3 = soup2.find('td', 'ta-l').get_text().strip()\n",
    "date3 = driver.find_element(By.XPATH, '/html/body/section/div[3]/div[4]/table/tbody/tr[1]/td[4]').text\n",
    "date3 = datetime.date(int(date3[0:4]), int(date3[5:7]), int(date3[8:]))\n",
    "\n",
    "title4 = soup2.find_all('td', 'ta-l')[1].get_text().strip()\n",
    "date4 = driver.find_element(By.XPATH, '/html/body/section/div[3]/div[4]/table/tbody/tr[2]/td[4]').text\n",
    "date4 = datetime.date(int(date4[0:4]), int(date4[5:7]), int(date4[8:]))\n",
    "\n",
    "print([univ_nm, url2, datetime.datetime.now(), title1, date1, title2, date2, title3, date3, title4, date4])\n",
    "excel_sheet2.append([univ_nm, url2, datetime.datetime.now(), title1, date1, title2, date2, title3, date3, title4, date4])"
   ]
  },
  {
   "cell_type": "markdown",
   "id": "39c9cb32-3a11-4c55-b12f-f8bbda979741",
   "metadata": {},
   "source": [
    "### 추계예대"
   ]
  },
  {
   "cell_type": "code",
   "execution_count": 248,
   "id": "c5879f16-b157-4177-8763-f2224914c933",
   "metadata": {},
   "outputs": [
    {
     "name": "stdout",
     "output_type": "stream",
     "text": [
      "['추계예대', 'https://enter.chugye.ac.kr/ArticleList.do?menuSeq=114&dataSeq=218&categorySeq=236', datetime.datetime(2024, 3, 4, 17, 44, 27, 244875), '[공통]2024학년도 신편입학(수시/정시/편입) 등록포기(환불) 신청 안내', datetime.date(2024, 2, 1), '[수시]2024학년도 후기 외국인 특별전형 신편입생 모집요강', datetime.date(2024, 3, 4), '[정시]2024학년도 신입학전형 정시모집 합격자(충원) 발표 및 등록 안내', datetime.date(2024, 2, 1), '[정시]2024학년도 신입학전형 정시모집 합격자(충원) 발표 및 등록 안내', datetime.date(2024, 2, 1)]\n"
     ]
    }
   ],
   "source": [
    "univ_nm = '추계예대'\n",
    "url1 = 'https://enter.chugye.ac.kr/ArticleList.do?menuSeq=114&dataSeq=218'\n",
    "url2 = 'https://enter.chugye.ac.kr/ArticleList.do?menuSeq=114&dataSeq=218&categorySeq=236'\n",
    "\n",
    "driver.get(url1)\n",
    "title1 = driver.find_element(By.XPATH, '/html/body/div[2]/div/section/article[2]/div[3]/div[2]/ul[1]/li[1]/div[1]/a').text\n",
    "date1 = driver.find_element(By.XPATH, '/html/body/div[2]/div/section/article[2]/div[3]/div[2]/ul[1]/li/div[2]/ul/li[2]/span').text\n",
    "date1 = datetime.date(int(date1[0:4]), int(date1[5:7]), int(date1[8:]))\n",
    "\n",
    "title2 = driver.find_element(By.XPATH, '/html/body/div[2]/div/section/article[2]/div[3]/div[2]/ul[2]/li[1]/div[1]/a').text\n",
    "date2 = driver.find_element(By.XPATH, '/html/body/div[2]/div/section/article[2]/div[3]/div[2]/ul[2]/li[1]/div[2]/ul/li[2]/span').text\n",
    "date2 = datetime.date(int(date2[0:4]), int(date2[5:7]), int(date2[8:]))\n",
    "\n",
    "driver.get(url2)\n",
    "title3 = driver.find_element(By.XPATH, '/html/body/div[2]/div/section/article[2]/div[3]/div[2]/ul[1]/li[1]/div[1]/a').text\n",
    "date3 = driver.find_element(By.XPATH, '/html/body/div[2]/div/section/article[2]/div[3]/div[2]/ul[1]/li/div[2]/ul/li[2]/span').text\n",
    "date3 = datetime.date(int(date3[0:4]), int(date3[5:7]), int(date3[8:]))\n",
    "\n",
    "title4 = driver.find_element(By.XPATH, '/html/body/div[2]/div/section/article[2]/div[3]/div[2]/ul[2]/li[1]/div[1]/a').text\n",
    "date4 = driver.find_element(By.XPATH, '/html/body/div[2]/div/section/article[2]/div[3]/div[2]/ul[2]/li[1]/div[2]/ul/li[2]/span').text\n",
    "date4 = datetime.date(int(date4[0:4]), int(date4[5:7]), int(date4[8:]))\n",
    "\n",
    "print([univ_nm, url2, datetime.datetime.now(), title1, date1, title2, date2, title3, date3, title4, date4])\n",
    "excel_sheet2.append([univ_nm, url2, datetime.datetime.now(), title1, date1, title2, date2, title3, date3, title4, date4])"
   ]
  },
  {
   "cell_type": "markdown",
   "id": "c0c948cd-84bc-46a6-acd3-cff3e59b5813",
   "metadata": {},
   "source": [
    "### 성결대"
   ]
  },
  {
   "cell_type": "code",
   "execution_count": 249,
   "id": "d1f0868c-33c9-4916-91af-5af370e21bf8",
   "metadata": {},
   "outputs": [
    {
     "name": "stdout",
     "output_type": "stream",
     "text": [
      "['성결대', 'https://www.sungkyul.ac.kr/ipsi/109/subview.do?enc=Zm5jdDF8QEB8JTJGYmJzJTJGaXBzaSUyRjIzJTJGYXJ0Y2xMaXN0LmRvJTNGaXNWaWV3TWluZSUzRGZhbHNlJTI2YmJzQ2xTZXElM0QxNjAlMjZzcmNoV3JkJTNEJTI2YmJzT3BlbldyZFNlcSUzRCUyNnNyY2hDb2x1bW4lM0RzaiUyNg%3D%3D', datetime.datetime(2024, 3, 4, 17, 44, 32, 277810), '신입학 3차 추가모집 안내(모집요강 포함)', datetime.date(2024, 2, 29), '신입학 2차 추가모집 안내(모집요강 포함)', datetime.date(2024, 2, 28), '정시모집(가, 나, 다) 실기고사 시간 및 장소 안내(재공지)', datetime.date(2024, 1, 8), '2024학년도 정시모집 실기 파일(MR, 악보) 업로드 안내(연기예술학과, 실용음악과)', datetime.date(2023, 12, 31)]\n"
     ]
    }
   ],
   "source": [
    "univ_nm = '성결대'\n",
    "url1 = 'https://www.sungkyul.ac.kr/ipsi/109/subview.do'\n",
    "url2 = 'https://www.sungkyul.ac.kr/ipsi/109/subview.do?enc=Zm5jdDF8QEB8JTJGYmJzJTJGaXBzaSUyRjIzJTJGYXJ0Y2xMaXN0LmRvJTNGaXNWaWV3TWluZSUzRGZhbHNlJTI2YmJzQ2xTZXElM0QxNjAlMjZzcmNoV3JkJTNEJTI2YmJzT3BlbldyZFNlcSUzRCUyNnNyY2hDb2x1bW4lM0RzaiUyNg%3D%3D'\n",
    "\n",
    "driver.get(url1)\n",
    "title1 = driver.find_element(By.XPATH, '/html/body/div[4]/div/div[3]/div/article/div/div[2]/form[2]/div/table/tbody/tr[1]/td[2]/a/strong').text\n",
    "date1 = driver.find_element(By.XPATH, '/html/body/div[4]/div/div[3]/div/article/div/div[2]/form[2]/div/table/tbody/tr[1]/td[4]').text\n",
    "date1 = datetime.date(int(date1[0:4]), int(date1[5:7]), int(date1[8:10]))\n",
    "\n",
    "title2 = driver.find_element(By.XPATH, '/html/body/div[4]/div/div[3]/div/article/div/div[2]/form[2]/div/table/tbody/tr[2]/td[2]/a/strong').text\n",
    "date2 = driver.find_element(By.XPATH, '/html/body/div[4]/div/div[3]/div/article/div/div[2]/form[2]/div/table/tbody/tr[2]/td[4]').text\n",
    "date2 = datetime.date(int(date2[0:4]), int(date2[5:7]), int(date2[8:10]))\n",
    "\n",
    "driver.get(url2)\n",
    "title3 = driver.find_element(By.XPATH, '/html/body/div[4]/div/div[3]/div/article/div/div[2]/form[2]/div/table/tbody/tr[1]/td[2]/a/strong').text\n",
    "date3 = driver.find_element(By.XPATH, '/html/body/div[4]/div/div[3]/div/article/div/div[2]/form[2]/div/table/tbody/tr[1]/td[4]').text\n",
    "date3 = datetime.date(int(date3[0:4]), int(date3[5:7]), int(date3[8:10]))\n",
    "\n",
    "title4 = driver.find_element(By.XPATH, '/html/body/div[4]/div/div[3]/div/article/div/div[2]/form[2]/div/table/tbody/tr[2]/td[2]/a/strong').text\n",
    "date4 = driver.find_element(By.XPATH, '/html/body/div[4]/div/div[3]/div/article/div/div[2]/form[2]/div/table/tbody/tr[2]/td[4]').text\n",
    "date4 = datetime.date(int(date4[0:4]), int(date4[5:7]), int(date4[8:10]))\n",
    "\n",
    "print([univ_nm, url2, datetime.datetime.now(), title1, date1, title2, date2, title3, date3, title4, date4])\n",
    "excel_sheet.append([univ_nm, url2, datetime.datetime.now(), title1, date1, title2, date2, title3, date3, title4, date4])"
   ]
  },
  {
   "cell_type": "markdown",
   "id": "919c7c12-0b02-4e44-bd35-b70c95dde516",
   "metadata": {},
   "source": [
    "### 한서대"
   ]
  },
  {
   "cell_type": "code",
   "execution_count": 250,
   "id": "bd236472-9dc6-49bc-a895-88cd0bff9ee6",
   "metadata": {},
   "outputs": [
    {
     "name": "stdout",
     "output_type": "stream",
     "text": [
      "['한서대', 'https://helper.hanseo.ac.kr/_prog/_board/index.php?code=notice&site_dvs_cd=kr&menu_dvs_cd=0602&GotoPage=1&gubun01=jungsi', datetime.datetime(2024, 3, 4, 17, 44, 33, 459140), '2024학년도 수시 모집요강 안내', datetime.date(2023, 5, 31), '2025학년도 대학입학전형시행계획 주요사항', datetime.date(2023, 4, 27), '2024학년도 5차 추가모집 신입생 모집요강', datetime.date(2024, 2, 28), '2024학년도 4차 추가모집 신입생 모집요강', datetime.date(2024, 2, 27)]\n"
     ]
    }
   ],
   "source": [
    "univ_nm = '한서대'\n",
    "url1 = 'https://helper.hanseo.ac.kr/_prog/_board/index.php?code=notice&site_dvs_cd=kr&menu_dvs_cd=0602&GotoPage=1&gubun01=susi'\n",
    "url2 = 'https://helper.hanseo.ac.kr/_prog/_board/index.php?code=notice&site_dvs_cd=kr&menu_dvs_cd=0602&GotoPage=1&gubun01=jungsi'\n",
    "\n",
    "driver.get(url1)\n",
    "soup1 = BeautifulSoup(driver.page_source, 'html.parser')\n",
    "title1 = soup1.find('td', 'title').find('a').get_text().strip()\n",
    "date1 = soup1.find('td', 'date').get_text().strip()\n",
    "date1 = datetime.date(int(date1[0:4]), int(date1[5:7]), int(date1[8:]))\n",
    "\n",
    "title2 = soup1.find_all('td', 'title')[1].find('a').get_text().strip()\n",
    "date2 = soup1.find_all('td', 'date')[1].get_text().strip()\n",
    "date2 = datetime.date(int(date2[0:4]), int(date2[5:7]), int(date2[8:]))\n",
    "\n",
    "driver.get(url2)\n",
    "soup2 = BeautifulSoup(driver.page_source, 'html.parser')\n",
    "title3 = soup2.find('td', 'title').find('a').get_text().strip()\n",
    "date3 = soup2.find('td', 'date').get_text().strip()\n",
    "date3 = datetime.date(int(date3[0:4]), int(date3[5:7]), int(date3[8:]))\n",
    "\n",
    "title4 = soup2.find_all('td', 'title')[1].find('a').get_text().strip()\n",
    "date4 = soup2.find_all('td', 'date')[1].get_text().strip()\n",
    "date4 = datetime.date(int(date4[0:4]), int(date4[5:7]), int(date4[8:]))\n",
    "\n",
    "print([univ_nm, url2, datetime.datetime.now(), title1, date1, title2, date2, title3, date3, title4, date4])\n",
    "excel_sheet2.append([univ_nm, url2, datetime.datetime.now(), title1, date1, title2, date2, title3, date3, title4, date4])"
   ]
  },
  {
   "cell_type": "markdown",
   "id": "834c8a3a-2cb0-40d2-83bd-4b37c855c405",
   "metadata": {},
   "source": [
    "### 한세대"
   ]
  },
  {
   "cell_type": "code",
   "execution_count": 251,
   "id": "885369a6-b71d-4225-a74e-d65fd874e9c7",
   "metadata": {},
   "outputs": [
    {
     "name": "stdout",
     "output_type": "stream",
     "text": [
      "['한세대', 'https://ipsi.hansei.ac.kr/ipsi/1096/subview.do?enc=Zm5jdDF8QEB8JTJGYmJzJTJGaXBzaSUyRjE2MSUyRmFydGNsTGlzdC5kbyUzRmJic0NsU2VxJTNEMjAxJTI2YmJzT3BlbldyZFNlcSUzRCUyNmlzVmlld01pbmUlM0RmYWxzZSUyNnNyY2hDb2x1bW4lM0RzaiUyNnNyY2hXcmQlM0QlMjY%3D', datetime.datetime(2024, 3, 4, 17, 44, 34, 799214), '2024학년도 추가모집(3차) 최종 충원 합격자 발표 안내 새글', datetime.date(2024, 2, 29), '2024학년도 추가모집(음악) 최종 충원 합격자 발표 안내 새글', datetime.date(2024, 2, 29), '2024학년도 정시모집 9차 충원 합격자 발표 및 등록금 납부 안내', datetime.date(2024, 2, 20), '2024학년도 정시모집 8차 충원 합격자 발표 및 등록금 납부 안내', datetime.date(2024, 2, 20)]\n"
     ]
    }
   ],
   "source": [
    "univ_nm = '한세대'\n",
    "url1 = 'https://ipsi.hansei.ac.kr/ipsi/1096/subview.do'\n",
    "url2 = 'https://ipsi.hansei.ac.kr/ipsi/1096/subview.do?enc=Zm5jdDF8QEB8JTJGYmJzJTJGaXBzaSUyRjE2MSUyRmFydGNsTGlzdC5kbyUzRmJic0NsU2VxJTNEMjAxJTI2YmJzT3BlbldyZFNlcSUzRCUyNmlzVmlld01pbmUlM0RmYWxzZSUyNnNyY2hDb2x1bW4lM0RzaiUyNnNyY2hXcmQlM0QlMjY%3D'\n",
    "\n",
    "driver.get(url1)\n",
    "soup1 = BeautifulSoup(driver.page_source, 'html.parser')\n",
    "title1 = driver.find_element(By.XPATH, '/html/body/div[4]/div[2]/div[2]/div/article/div/div[2]/form[2]/table/tbody/tr[1]/td[2]/a').text\n",
    "date1 = soup1.find('td', '_artclTdRdate').get_text().strip()\n",
    "date1 = datetime.date(int(date1[0:4]), int(date1[5:7]), int(date1[8:]))\n",
    "\n",
    "title2 = driver.find_element(By.XPATH, '/html/body/div[4]/div[2]/div[2]/div/article/div/div[2]/form[2]/table/tbody/tr[2]/td[2]/a').text\n",
    "date2 = soup1.find_all('td', '_artclTdRdate')[1].get_text().strip()\n",
    "date2 = datetime.date(int(date2[0:4]), int(date2[5:7]), int(date2[8:]))\n",
    "\n",
    "driver.get(url2)\n",
    "soup2 = BeautifulSoup(driver.page_source, 'html.parser')\n",
    "title3 = driver.find_element(By.XPATH, '/html/body/div[4]/div[2]/div[2]/div/article/div/div[2]/form[2]/table/tbody/tr[1]/td[2]/a').text\n",
    "date3 = soup2.find('td', '_artclTdRdate').get_text().strip()\n",
    "date3 = datetime.date(int(date3[0:4]), int(date3[5:7]), int(date3[8:]))\n",
    "\n",
    "title4 = driver.find_element(By.XPATH, '/html/body/div[4]/div[2]/div[2]/div/article/div/div[2]/form[2]/table/tbody/tr[2]/td[2]/a').text\n",
    "date4 = soup2.find_all('td', '_artclTdRdate')[1].get_text().strip()\n",
    "date4 = datetime.date(int(date4[0:4]), int(date4[5:7]), int(date4[8:]))\n",
    "\n",
    "print([univ_nm, url2, datetime.datetime.now(), title1, date1, title2, date2, title3, date3, title4, date4])\n",
    "excel_sheet2.append([univ_nm, url2, datetime.datetime.now(), title1, date1, title2, date2, title3, date3, title4, date4])"
   ]
  },
  {
   "cell_type": "markdown",
   "id": "e839dae3-4b06-48d2-8209-63dd4145d535",
   "metadata": {},
   "source": [
    "### 가톨릭꽃동네대"
   ]
  },
  {
   "cell_type": "code",
   "execution_count": 252,
   "id": "810d694c-4630-4d61-9f20-ce62584763f6",
   "metadata": {},
   "outputs": [
    {
     "name": "stdout",
     "output_type": "stream",
     "text": [
      "['가톨릭꽃동네대', 'https://www.kkot.ac.kr/ipsi/board/list?boardManagementNo=1143&menuLevel=2&menuNo=120&searchCategory=1062&searchType=&searchWord=', datetime.datetime(2024, 3, 4, 17, 44, 36, 295877), '2025학년도 대학입학전형시행계획 안내', datetime.date(2023, 4, 28), '2023학년도 가톨릭꽃동네대학교 선행학습 영향평가 보고서', datetime.date(2023, 3, 31), '2024학년도 정시모집 합격자 발표 및 등록 안내', datetime.date(2024, 1, 22), '2024학년도 정시 신입생 모집요강 안내', datetime.date(2023, 9, 1)]\n"
     ]
    }
   ],
   "source": [
    "# @@ url2 XPATH 변경 확인\n",
    "\n",
    "univ_nm = '가톨릭꽃동네대'\n",
    "url1 = 'https://www.kkot.ac.kr/ipsi/board/list?boardManagementNo=1143&menuLevel=2&menuNo=120'\n",
    "url2 = 'https://www.kkot.ac.kr/ipsi/board/list?boardManagementNo=1143&menuLevel=2&menuNo=120&searchCategory=1062&searchType=&searchWord='\n",
    "\n",
    "driver.get(url1)\n",
    "title1 = driver.find_element(By.XPATH, '/html/body/main/div[2]/div/section/article/table/tbody/tr[1]/td[3]/a').text\n",
    "date1 = driver.find_element(By.XPATH, '/html/body/main/div[2]/div/section/article/table/tbody/tr[1]/td[5]').text\n",
    "date1 = datetime.date(int(date1[0:4]), int(date1[5:7]), int(date1[8:]))\n",
    "\n",
    "title2 = driver.find_element(By.XPATH, '/html/body/main/div[2]/div/section/article/table/tbody/tr[2]/td[3]/a').text\n",
    "date2 = driver.find_element(By.XPATH, '/html/body/main/div[2]/div/section/article/table/tbody/tr[2]/td[5]').text\n",
    "date2 = datetime.date(int(date2[0:4]), int(date2[5:7]), int(date2[8:]))\n",
    "\n",
    "driver.get(url2)\n",
    "title3 = driver.find_element(By.XPATH, '/html/body/main/div[2]/div/section/article/table/tbody/tr[4]/td[3]/a').text\n",
    "date3 = driver.find_element(By.XPATH, '/html/body/main/div[2]/div/section/article/table/tbody/tr[4]/td[5]').text\n",
    "date3 = datetime.date(int(date3[0:4]), int(date3[5:7]), int(date3[8:]))\n",
    "\n",
    "title4 = driver.find_element(By.XPATH, '/html/body/main/div[2]/div/section/article/table/tbody/tr[5]/td[3]/a').text\n",
    "date4 = driver.find_element(By.XPATH, '/html/body/main/div[2]/div/section/article/table/tbody/tr[5]/td[5]').text\n",
    "date4 = datetime.date(int(date4[0:4]), int(date4[5:7]), int(date4[8:]))\n",
    "\n",
    "print([univ_nm, url2, datetime.datetime.now(), title1, date1, title2, date2, title3, date3, title4, date4])\n",
    "excel_sheet2.append([univ_nm, url2, datetime.datetime.now(), title1, date1, title2, date2, title3, date3, title4, date4])"
   ]
  },
  {
   "cell_type": "markdown",
   "id": "81123a51-be35-4a80-9bd0-6a9fe33b3599",
   "metadata": {},
   "source": [
    "### 상명대(천안)"
   ]
  },
  {
   "cell_type": "code",
   "execution_count": 253,
   "id": "73b8e479-4038-4883-8bad-bc7dc3980b9b",
   "metadata": {},
   "outputs": [
    {
     "name": "stdout",
     "output_type": "stream",
     "text": [
      "['상명대(천안)', 'https://admission.smu.ac.kr:2012/_cheonan/board/bbs.html?bbsid=chunan_notice&ctg_cd=jungsi', datetime.datetime(2024, 3, 4, 17, 44, 36, 773022), '2024학년도 추가모집 최종 추가합격 예비순위현황', datetime.date(2024, 2, 27), '2024학년도 정시모집 최종 추가합격 예비순위현황', datetime.date(2024, 2, 14), '2024학년도 추가모집 최종 추가합격 예비순위현황', datetime.date(2024, 2, 27), '2024학년도 정시모집 최종 추가합격 예비순위현황', datetime.date(2024, 2, 14)]\n"
     ]
    }
   ],
   "source": [
    "univ_nm = '상명대(천안)'\n",
    "url1 = 'https://admission.smu.ac.kr:2012/_cheonan/board/bbs.html?bbsid=chunan_notice&ctg_cd=&PHPSESSID=0a31408279670357b502da56eea20564'\n",
    "url2 = 'https://admission.smu.ac.kr:2012/_cheonan/board/bbs.html?bbsid=chunan_notice&ctg_cd=jungsi'\n",
    "\n",
    "driver.get(url1)\n",
    "soup1 = BeautifulSoup(driver.page_source, 'html.parser')\n",
    "title1 = soup1.find('span', 'td4 con').find('a').get_text().strip()\n",
    "date1 = soup1.find('span', 'date').get_text().strip()\n",
    "date1 = datetime.date(int(date1[0:4]), int(date1[5:7]), int(date1[8:]))\n",
    "\n",
    "title2 = soup1.find_all('span', 'td4 con')[1].find('a').get_text().strip()\n",
    "date2 = soup1.find_all('span', 'date')[1].get_text().strip()\n",
    "date2 = datetime.date(int(date2[0:4]), int(date2[5:7]), int(date2[8:]))\n",
    "\n",
    "driver.get(url2)\n",
    "soup2 = BeautifulSoup(driver.page_source, 'html.parser')\n",
    "title3 = soup2.find('span', 'td4 con').find('a').get_text().strip()\n",
    "date3 = soup2.find('span', 'date').get_text().strip()\n",
    "date3 = datetime.date(int(date3[0:4]), int(date3[5:7]), int(date3[8:]))\n",
    "\n",
    "title4 = soup2.find_all('span', 'td4 con')[1].find('a').get_text().strip()\n",
    "date4 = soup2.find_all('span', 'date')[1].get_text().strip()\n",
    "date4 = datetime.date(int(date4[0:4]), int(date4[5:7]), int(date4[8:]))\n",
    "\n",
    "print([univ_nm, url2, datetime.datetime.now(), title1, date1, title2, date2, title3, date3, title4, date4])\n",
    "excel_sheet2.append([univ_nm, url2, datetime.datetime.now(), title1, date1, title2, date2, title3, date3, title4, date4])"
   ]
  },
  {
   "cell_type": "markdown",
   "id": "09417bf2-d6e5-4204-a0f6-2d0d0bbcf18a",
   "metadata": {},
   "source": [
    "### 세한대\n",
    "\n",
    "- 크롤링 불가능"
   ]
  },
  {
   "cell_type": "code",
   "execution_count": 254,
   "id": "81fa06f4-84bf-4746-ab7e-018d6354e93b",
   "metadata": {},
   "outputs": [],
   "source": [
    "univ_nm = '세한대'\n",
    "url1 = 'https://apply.sehan.ac.kr/apply/'\n",
    "url2 = 'https://apply.sehan.ac.kr/apply/'\n",
    "\n",
    "excel_sheet2.append([univ_nm, url2, datetime.datetime.now()])"
   ]
  },
  {
   "cell_type": "markdown",
   "id": "695a0740-df5c-41fe-8e94-7b8aa2a17898",
   "metadata": {},
   "source": [
    "### 강서대"
   ]
  },
  {
   "cell_type": "code",
   "execution_count": 255,
   "id": "96b90267-7d35-4589-b4df-8501f41b4b7e",
   "metadata": {},
   "outputs": [
    {
     "name": "stdout",
     "output_type": "stream",
     "text": [
      "['강서대', 'https://entrance.gangseo.ac.kr/kcui/boardList?menuCode=MC0801&groupCode=08', datetime.datetime(2024, 3, 4, 17, 44, 38, 579945), '2024학년도 정시추가2차모집 합격자 발표', datetime.date(2024, 2, 28), '2024학년도 정시추가2차모집 [제출서류] 안내', datetime.date(2024, 2, 27), '2024학년도 신입생 정시추가2차모집 인원 안내', datetime.date(2024, 2, 27), '2024학년도 정시추가모집 합격자 발표', datetime.date(2024, 2, 26)]\n"
     ]
    }
   ],
   "source": [
    "univ_nm = '강서대'\n",
    "url1 = 'https://entrance.gangseo.ac.kr/kcui/boardList?menuCode=MC0801&groupCode=08'\n",
    "url2 = 'https://entrance.gangseo.ac.kr/kcui/boardList?menuCode=MC0801&groupCode=08'\n",
    "\n",
    "driver.get(url1)\n",
    "soup1 = BeautifulSoup(driver.page_source, 'html.parser')\n",
    "title1 = soup1.find('td', 'b_sub').get_text().strip()\n",
    "date1 = soup1.find('td', 'b_date').get_text().strip()\n",
    "date1 = datetime.date(int(date1[0:4]), int(date1[5:7]), int(date1[8:]))\n",
    "\n",
    "title2 = soup1.find_all('td', 'b_sub')[1].get_text().strip()\n",
    "date2 = soup1.find_all('td', 'b_date')[1].get_text().strip()\n",
    "date2 = datetime.date(int(date2[0:4]), int(date2[5:7]), int(date2[8:]))\n",
    "\n",
    "driver.get(url2)\n",
    "soup2 = BeautifulSoup(driver.page_source, 'html.parser')\n",
    "title3 = soup2.find_all('td', 'b_sub')[2].get_text().strip()\n",
    "date3 = soup2.find_all('td', 'b_date')[2].get_text().strip()\n",
    "date3 = datetime.date(int(date3[0:4]), int(date3[5:7]), int(date3[8:]))\n",
    "\n",
    "title4 = soup2.find_all('td', 'b_sub')[3].find('a').get_text().strip()\n",
    "date4 = soup2.find_all('td', 'b_date')[3].get_text().strip()\n",
    "date4 = datetime.date(int(date4[0:4]), int(date4[5:7]), int(date4[8:]))\n",
    "\n",
    "print([univ_nm, url2, datetime.datetime.now(), title1, date1, title2, date2, title3, date3, title4, date4])\n",
    "excel_sheet2.append([univ_nm, url2, datetime.datetime.now(), title1, date1, title2, date2, title3, date3, title4, date4])"
   ]
  },
  {
   "cell_type": "markdown",
   "id": "ad85db40-e5af-42a1-94c2-9fe0bdf308b1",
   "metadata": {},
   "source": [
    "### 평택대"
   ]
  },
  {
   "cell_type": "code",
   "execution_count": 256,
   "id": "33a62002-410e-46f3-b0b8-48ff42033adc",
   "metadata": {},
   "outputs": [
    {
     "name": "stdout",
     "output_type": "stream",
     "text": [
      "['평택대', 'https://entrance.ptu.ac.kr/entrance/3687/subview.do', datetime.datetime(2024, 3, 4, 17, 44, 39, 744746), '2024학년도 정시모집 충원발표 및 등록일정', datetime.date(2024, 2, 13), '2024학년도 정시모집인원 변경안내[수시 최종이월인원포함]', datetime.date(2024, 2, 13), '2024학년도 편입학 모집요강 안내(제출서류 양식 포함)', datetime.date(2023, 11, 17), '2024학년도 정시모집 모집요강 안내', datetime.date(2023, 9, 1)]\n"
     ]
    }
   ],
   "source": [
    "univ_nm = '평택대'\n",
    "url1 = 'https://entrance.ptu.ac.kr/entrance/3687/subview.do'\n",
    "url2 = 'https://entrance.ptu.ac.kr/entrance/3687/subview.do'\n",
    "\n",
    "driver.get(url1)\n",
    "soup1 = BeautifulSoup(driver.page_source, 'html.parser')\n",
    "title1 = soup1.find('td', 'td-subject').get_text().strip()\n",
    "date1 = soup1.find('td', 'td-date').get_text().strip()\n",
    "date1 = datetime.date(int(date1[0:4]), int(date1[5:7]), int(date1[8:]))\n",
    "\n",
    "title2 = soup1.find_all('td', 'td-subject')[1].get_text().strip()\n",
    "date2 = soup1.find_all('td', 'td-date')[1].get_text().strip()\n",
    "date2 = datetime.date(int(date2[0:4]), int(date2[5:7]), int(date2[8:]))\n",
    "\n",
    "driver.get(url2)\n",
    "soup2 = BeautifulSoup(driver.page_source, 'html.parser')\n",
    "title3 = soup2.find_all('td', 'td-subject')[2].get_text().strip()\n",
    "date3 = soup2.find_all('td', 'td-date')[2].get_text().strip()\n",
    "date3 = datetime.date(int(date3[0:4]), int(date3[5:7]), int(date3[8:]))\n",
    "\n",
    "title4 = soup2.find_all('td', 'td-subject')[3].find('a').get_text().strip()\n",
    "date4 = soup2.find_all('td', 'td-date')[3].get_text().strip()\n",
    "date4 = datetime.date(int(date4[0:4]), int(date4[5:7]), int(date4[8:]))\n",
    "\n",
    "print([univ_nm, url2, datetime.datetime.now(), title1, date1, title2, date2, title3, date3, title4, date4])\n",
    "excel_sheet2.append([univ_nm, url2, datetime.datetime.now(), title1, date1, title2, date2, title3, date3, title4, date4])"
   ]
  },
  {
   "cell_type": "markdown",
   "id": "29153a8c-b2cb-48bb-9785-05cf6d768308",
   "metadata": {},
   "source": [
    "### 동양대"
   ]
  },
  {
   "cell_type": "code",
   "execution_count": 257,
   "id": "2418d93c-94ee-4fd5-890b-18d87f8deafa",
   "metadata": {},
   "outputs": [
    {
     "name": "stdout",
     "output_type": "stream",
     "text": [
      "['동양대', 'https://ipsi.dyu.ac.kr/information/information_01/', datetime.datetime(2024, 3, 4, 17, 44, 42, 501339), '신(편)입생 입학식 및 주요일정 안내', datetime.date(2024, 2, 21), '정시모집 충원합격자 발표(실시간)', datetime.date(2024, 2, 19), '정시모집 충원합격자 발표(4차)', datetime.date(2024, 2, 16), '정시모집 충원합격자 발표(3차)', datetime.date(2024, 2, 15)]\n"
     ]
    }
   ],
   "source": [
    "univ_nm = '동양대'\n",
    "url1 = 'https://ipsi.dyu.ac.kr/information/information_01/'\n",
    "url2 = 'https://ipsi.dyu.ac.kr/information/information_01/'\n",
    "\n",
    "driver.get(url1)\n",
    "soup1 = BeautifulSoup(driver.page_source, 'html.parser')\n",
    "title1 = soup1.find('div', 'kboard-default-cut-strings').get_text().strip()\n",
    "date1 = soup1.find_all('td', 'kboard-list-date')[1].get_text().strip()\n",
    "date1 = datetime.date(int(date1[0:4]), int(date1[5:7]), int(date1[8:]))\n",
    "\n",
    "title2 = soup1.find_all('div', 'kboard-default-cut-strings')[1].get_text().strip()\n",
    "date2 = soup1.find_all('td', 'kboard-list-date')[2].get_text().strip()\n",
    "date2 = datetime.date(int(date2[0:4]), int(date2[5:7]), int(date2[8:]))\n",
    "\n",
    "driver.get(url2)\n",
    "soup2 = BeautifulSoup(driver.page_source, 'html.parser')\n",
    "title3 = soup2.find_all('div', 'kboard-default-cut-strings')[2].get_text().strip()\n",
    "date3 = soup2.find_all('td', 'kboard-list-date')[3].get_text().strip()\n",
    "date3 = datetime.date(int(date3[0:4]), int(date3[5:7]), int(date3[8:]))\n",
    "\n",
    "title4 = soup2.find_all('div', 'kboard-default-cut-strings')[3].get_text().strip()\n",
    "date4 = soup2.find_all('td', 'kboard-list-date')[4].get_text().strip()\n",
    "date4 = datetime.date(int(date4[0:4]), int(date4[5:7]), int(date4[8:]))\n",
    "\n",
    "print([univ_nm, url2, datetime.datetime.now(), title1, date1, title2, date2, title3, date3, title4, date4])\n",
    "excel_sheet2.append([univ_nm, url2, datetime.datetime.now(), title1, date1, title2, date2, title3, date3, title4, date4])"
   ]
  },
  {
   "cell_type": "markdown",
   "id": "2f25290d-2b40-498d-811f-773718118f7a",
   "metadata": {},
   "source": [
    "## 2차 대학 엑셀 파일 저장"
   ]
  },
  {
   "cell_type": "code",
   "execution_count": 258,
   "id": "8f950e2a-50e3-4b0a-bd0c-40dad9f678db",
   "metadata": {},
   "outputs": [],
   "source": [
    "excel_file2.save('대학공지(2차)_' + datetime.datetime.now().strftime('%Y-%m-%d_%H;%M') + '.xlsx')"
   ]
  }
 ],
 "metadata": {
  "kernelspec": {
   "display_name": "Python 3 (ipykernel)",
   "language": "python",
   "name": "python3"
  },
  "language_info": {
   "codemirror_mode": {
    "name": "ipython",
    "version": 3
   },
   "file_extension": ".py",
   "mimetype": "text/x-python",
   "name": "python",
   "nbconvert_exporter": "python",
   "pygments_lexer": "ipython3",
   "version": "3.9.13"
  }
 },
 "nbformat": 4,
 "nbformat_minor": 5
}
